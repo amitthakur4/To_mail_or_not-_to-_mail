{
 "cells": [
  {
   "cell_type": "code",
   "execution_count": 1,
   "metadata": {},
   "outputs": [],
   "source": [
    "import numpy as np\n",
    "import pandas as pd\n",
    "import seaborn as sns\n",
    "import matplotlib.pyplot as plt\n",
    "%matplotlib inline"
   ]
  },
  {
   "cell_type": "code",
   "execution_count": 2,
   "metadata": {},
   "outputs": [],
   "source": [
    "file1=r'C:\\Users\\Sanjay Thaur\\Desktop\\Python\\PROJECT2\\carvan_train.csv'\n",
    "file2=r'C:\\Users\\Sanjay Thaur\\Desktop\\Python\\PROJECT2\\carvan_test.csv'"
   ]
  },
  {
   "cell_type": "code",
   "execution_count": 3,
   "metadata": {},
   "outputs": [],
   "source": [
    "train=pd.read_csv(file1)"
   ]
  },
  {
   "cell_type": "code",
   "execution_count": 4,
   "metadata": {},
   "outputs": [],
   "source": [
    "test=pd.read_csv(file2)"
   ]
  },
  {
   "cell_type": "code",
   "execution_count": 33,
   "metadata": {},
   "outputs": [
    {
     "data": {
      "text/html": [
       "<div>\n",
       "<style scoped>\n",
       "    .dataframe tbody tr th:only-of-type {\n",
       "        vertical-align: middle;\n",
       "    }\n",
       "\n",
       "    .dataframe tbody tr th {\n",
       "        vertical-align: top;\n",
       "    }\n",
       "\n",
       "    .dataframe thead th {\n",
       "        text-align: right;\n",
       "    }\n",
       "</style>\n",
       "<table border=\"1\" class=\"dataframe\">\n",
       "  <thead>\n",
       "    <tr style=\"text-align: right;\">\n",
       "      <th></th>\n",
       "      <th>V1</th>\n",
       "      <th>V2</th>\n",
       "      <th>V3</th>\n",
       "      <th>V4</th>\n",
       "      <th>V5</th>\n",
       "      <th>V6</th>\n",
       "      <th>V7</th>\n",
       "      <th>V8</th>\n",
       "      <th>V9</th>\n",
       "      <th>V10</th>\n",
       "      <th>V11</th>\n",
       "      <th>V12</th>\n",
       "      <th>V13</th>\n",
       "      <th>V14</th>\n",
       "      <th>V15</th>\n",
       "      <th>V16</th>\n",
       "      <th>V17</th>\n",
       "      <th>V18</th>\n",
       "      <th>V19</th>\n",
       "      <th>V20</th>\n",
       "      <th>V21</th>\n",
       "      <th>V22</th>\n",
       "      <th>V23</th>\n",
       "      <th>V24</th>\n",
       "      <th>V25</th>\n",
       "      <th>V26</th>\n",
       "      <th>V27</th>\n",
       "      <th>V28</th>\n",
       "      <th>V29</th>\n",
       "      <th>V30</th>\n",
       "      <th>V31</th>\n",
       "      <th>V32</th>\n",
       "      <th>V33</th>\n",
       "      <th>V34</th>\n",
       "      <th>V35</th>\n",
       "      <th>V36</th>\n",
       "      <th>V37</th>\n",
       "      <th>V38</th>\n",
       "      <th>V39</th>\n",
       "      <th>V40</th>\n",
       "      <th>V41</th>\n",
       "      <th>V42</th>\n",
       "      <th>V43</th>\n",
       "      <th>V44</th>\n",
       "      <th>V45</th>\n",
       "      <th>V46</th>\n",
       "      <th>V47</th>\n",
       "      <th>V48</th>\n",
       "      <th>V49</th>\n",
       "      <th>V50</th>\n",
       "      <th>V51</th>\n",
       "      <th>V52</th>\n",
       "      <th>V53</th>\n",
       "      <th>V54</th>\n",
       "      <th>V55</th>\n",
       "      <th>V56</th>\n",
       "      <th>V57</th>\n",
       "      <th>V58</th>\n",
       "      <th>V59</th>\n",
       "      <th>V60</th>\n",
       "      <th>V61</th>\n",
       "      <th>V62</th>\n",
       "      <th>V63</th>\n",
       "      <th>V64</th>\n",
       "      <th>V65</th>\n",
       "      <th>V66</th>\n",
       "      <th>V67</th>\n",
       "      <th>V68</th>\n",
       "      <th>V69</th>\n",
       "      <th>V70</th>\n",
       "      <th>V71</th>\n",
       "      <th>V72</th>\n",
       "      <th>V73</th>\n",
       "      <th>V74</th>\n",
       "      <th>V75</th>\n",
       "      <th>V76</th>\n",
       "      <th>V77</th>\n",
       "      <th>V78</th>\n",
       "      <th>V79</th>\n",
       "      <th>V80</th>\n",
       "      <th>V81</th>\n",
       "      <th>V82</th>\n",
       "      <th>V83</th>\n",
       "      <th>V84</th>\n",
       "      <th>V85</th>\n",
       "      <th>V86</th>\n",
       "    </tr>\n",
       "  </thead>\n",
       "  <tbody>\n",
       "    <tr>\n",
       "      <th>0</th>\n",
       "      <td>33</td>\n",
       "      <td>1</td>\n",
       "      <td>3</td>\n",
       "      <td>2</td>\n",
       "      <td>8</td>\n",
       "      <td>0</td>\n",
       "      <td>5</td>\n",
       "      <td>1</td>\n",
       "      <td>3</td>\n",
       "      <td>7</td>\n",
       "      <td>0</td>\n",
       "      <td>2</td>\n",
       "      <td>1</td>\n",
       "      <td>2</td>\n",
       "      <td>6</td>\n",
       "      <td>1</td>\n",
       "      <td>2</td>\n",
       "      <td>7</td>\n",
       "      <td>1</td>\n",
       "      <td>0</td>\n",
       "      <td>1</td>\n",
       "      <td>2</td>\n",
       "      <td>5</td>\n",
       "      <td>2</td>\n",
       "      <td>1</td>\n",
       "      <td>1</td>\n",
       "      <td>2</td>\n",
       "      <td>6</td>\n",
       "      <td>1</td>\n",
       "      <td>1</td>\n",
       "      <td>8</td>\n",
       "      <td>8</td>\n",
       "      <td>0</td>\n",
       "      <td>1</td>\n",
       "      <td>8</td>\n",
       "      <td>1</td>\n",
       "      <td>0</td>\n",
       "      <td>4</td>\n",
       "      <td>5</td>\n",
       "      <td>0</td>\n",
       "      <td>0</td>\n",
       "      <td>4</td>\n",
       "      <td>3</td>\n",
       "      <td>0</td>\n",
       "      <td>0</td>\n",
       "      <td>0</td>\n",
       "      <td>6</td>\n",
       "      <td>0</td>\n",
       "      <td>0</td>\n",
       "      <td>0</td>\n",
       "      <td>0</td>\n",
       "      <td>0</td>\n",
       "      <td>0</td>\n",
       "      <td>0</td>\n",
       "      <td>0</td>\n",
       "      <td>0</td>\n",
       "      <td>0</td>\n",
       "      <td>0</td>\n",
       "      <td>5</td>\n",
       "      <td>0</td>\n",
       "      <td>0</td>\n",
       "      <td>0</td>\n",
       "      <td>0</td>\n",
       "      <td>0</td>\n",
       "      <td>0</td>\n",
       "      <td>0</td>\n",
       "      <td>0</td>\n",
       "      <td>1</td>\n",
       "      <td>0</td>\n",
       "      <td>0</td>\n",
       "      <td>0</td>\n",
       "      <td>0</td>\n",
       "      <td>0</td>\n",
       "      <td>0</td>\n",
       "      <td>0</td>\n",
       "      <td>0</td>\n",
       "      <td>0</td>\n",
       "      <td>0</td>\n",
       "      <td>0</td>\n",
       "      <td>1</td>\n",
       "      <td>0</td>\n",
       "      <td>0</td>\n",
       "      <td>0</td>\n",
       "      <td>0</td>\n",
       "      <td>0</td>\n",
       "      <td>0</td>\n",
       "    </tr>\n",
       "    <tr>\n",
       "      <th>1</th>\n",
       "      <td>37</td>\n",
       "      <td>1</td>\n",
       "      <td>2</td>\n",
       "      <td>2</td>\n",
       "      <td>8</td>\n",
       "      <td>1</td>\n",
       "      <td>4</td>\n",
       "      <td>1</td>\n",
       "      <td>4</td>\n",
       "      <td>6</td>\n",
       "      <td>2</td>\n",
       "      <td>2</td>\n",
       "      <td>0</td>\n",
       "      <td>4</td>\n",
       "      <td>5</td>\n",
       "      <td>0</td>\n",
       "      <td>5</td>\n",
       "      <td>4</td>\n",
       "      <td>0</td>\n",
       "      <td>0</td>\n",
       "      <td>0</td>\n",
       "      <td>5</td>\n",
       "      <td>0</td>\n",
       "      <td>4</td>\n",
       "      <td>0</td>\n",
       "      <td>2</td>\n",
       "      <td>3</td>\n",
       "      <td>5</td>\n",
       "      <td>0</td>\n",
       "      <td>2</td>\n",
       "      <td>7</td>\n",
       "      <td>7</td>\n",
       "      <td>1</td>\n",
       "      <td>2</td>\n",
       "      <td>6</td>\n",
       "      <td>3</td>\n",
       "      <td>2</td>\n",
       "      <td>0</td>\n",
       "      <td>5</td>\n",
       "      <td>2</td>\n",
       "      <td>0</td>\n",
       "      <td>5</td>\n",
       "      <td>4</td>\n",
       "      <td>2</td>\n",
       "      <td>0</td>\n",
       "      <td>0</td>\n",
       "      <td>0</td>\n",
       "      <td>0</td>\n",
       "      <td>0</td>\n",
       "      <td>0</td>\n",
       "      <td>0</td>\n",
       "      <td>0</td>\n",
       "      <td>0</td>\n",
       "      <td>0</td>\n",
       "      <td>0</td>\n",
       "      <td>0</td>\n",
       "      <td>0</td>\n",
       "      <td>0</td>\n",
       "      <td>2</td>\n",
       "      <td>0</td>\n",
       "      <td>0</td>\n",
       "      <td>0</td>\n",
       "      <td>0</td>\n",
       "      <td>0</td>\n",
       "      <td>2</td>\n",
       "      <td>0</td>\n",
       "      <td>0</td>\n",
       "      <td>0</td>\n",
       "      <td>0</td>\n",
       "      <td>0</td>\n",
       "      <td>0</td>\n",
       "      <td>0</td>\n",
       "      <td>0</td>\n",
       "      <td>0</td>\n",
       "      <td>0</td>\n",
       "      <td>0</td>\n",
       "      <td>0</td>\n",
       "      <td>0</td>\n",
       "      <td>0</td>\n",
       "      <td>1</td>\n",
       "      <td>0</td>\n",
       "      <td>0</td>\n",
       "      <td>0</td>\n",
       "      <td>0</td>\n",
       "      <td>0</td>\n",
       "      <td>0</td>\n",
       "    </tr>\n",
       "    <tr>\n",
       "      <th>2</th>\n",
       "      <td>37</td>\n",
       "      <td>1</td>\n",
       "      <td>2</td>\n",
       "      <td>2</td>\n",
       "      <td>8</td>\n",
       "      <td>0</td>\n",
       "      <td>4</td>\n",
       "      <td>2</td>\n",
       "      <td>4</td>\n",
       "      <td>3</td>\n",
       "      <td>2</td>\n",
       "      <td>4</td>\n",
       "      <td>4</td>\n",
       "      <td>4</td>\n",
       "      <td>2</td>\n",
       "      <td>0</td>\n",
       "      <td>5</td>\n",
       "      <td>4</td>\n",
       "      <td>0</td>\n",
       "      <td>0</td>\n",
       "      <td>0</td>\n",
       "      <td>7</td>\n",
       "      <td>0</td>\n",
       "      <td>2</td>\n",
       "      <td>0</td>\n",
       "      <td>5</td>\n",
       "      <td>0</td>\n",
       "      <td>4</td>\n",
       "      <td>0</td>\n",
       "      <td>7</td>\n",
       "      <td>2</td>\n",
       "      <td>7</td>\n",
       "      <td>0</td>\n",
       "      <td>2</td>\n",
       "      <td>9</td>\n",
       "      <td>0</td>\n",
       "      <td>4</td>\n",
       "      <td>5</td>\n",
       "      <td>0</td>\n",
       "      <td>0</td>\n",
       "      <td>0</td>\n",
       "      <td>3</td>\n",
       "      <td>4</td>\n",
       "      <td>2</td>\n",
       "      <td>0</td>\n",
       "      <td>0</td>\n",
       "      <td>6</td>\n",
       "      <td>0</td>\n",
       "      <td>0</td>\n",
       "      <td>0</td>\n",
       "      <td>0</td>\n",
       "      <td>0</td>\n",
       "      <td>0</td>\n",
       "      <td>0</td>\n",
       "      <td>0</td>\n",
       "      <td>0</td>\n",
       "      <td>0</td>\n",
       "      <td>0</td>\n",
       "      <td>2</td>\n",
       "      <td>0</td>\n",
       "      <td>0</td>\n",
       "      <td>0</td>\n",
       "      <td>0</td>\n",
       "      <td>0</td>\n",
       "      <td>1</td>\n",
       "      <td>0</td>\n",
       "      <td>0</td>\n",
       "      <td>1</td>\n",
       "      <td>0</td>\n",
       "      <td>0</td>\n",
       "      <td>0</td>\n",
       "      <td>0</td>\n",
       "      <td>0</td>\n",
       "      <td>0</td>\n",
       "      <td>0</td>\n",
       "      <td>0</td>\n",
       "      <td>0</td>\n",
       "      <td>0</td>\n",
       "      <td>0</td>\n",
       "      <td>1</td>\n",
       "      <td>0</td>\n",
       "      <td>0</td>\n",
       "      <td>0</td>\n",
       "      <td>0</td>\n",
       "      <td>0</td>\n",
       "      <td>0</td>\n",
       "    </tr>\n",
       "  </tbody>\n",
       "</table>\n",
       "</div>"
      ],
      "text/plain": [
       "   V1  V2  V3  V4  V5  V6  V7  V8  V9  V10  V11  V12  V13  V14  V15  V16  V17  \\\n",
       "0  33   1   3   2   8   0   5   1   3    7    0    2    1    2    6    1    2   \n",
       "1  37   1   2   2   8   1   4   1   4    6    2    2    0    4    5    0    5   \n",
       "2  37   1   2   2   8   0   4   2   4    3    2    4    4    4    2    0    5   \n",
       "\n",
       "   V18  V19  V20  V21  V22  V23  V24  V25  V26  V27  V28  V29  V30  V31  V32  \\\n",
       "0    7    1    0    1    2    5    2    1    1    2    6    1    1    8    8   \n",
       "1    4    0    0    0    5    0    4    0    2    3    5    0    2    7    7   \n",
       "2    4    0    0    0    7    0    2    0    5    0    4    0    7    2    7   \n",
       "\n",
       "   V33  V34  V35  V36  V37  V38  V39  V40  V41  V42  V43  V44  V45  V46  V47  \\\n",
       "0    0    1    8    1    0    4    5    0    0    4    3    0    0    0    6   \n",
       "1    1    2    6    3    2    0    5    2    0    5    4    2    0    0    0   \n",
       "2    0    2    9    0    4    5    0    0    0    3    4    2    0    0    6   \n",
       "\n",
       "   V48  V49  V50  V51  V52  V53  V54  V55  V56  V57  V58  V59  V60  V61  V62  \\\n",
       "0    0    0    0    0    0    0    0    0    0    0    0    5    0    0    0   \n",
       "1    0    0    0    0    0    0    0    0    0    0    0    2    0    0    0   \n",
       "2    0    0    0    0    0    0    0    0    0    0    0    2    0    0    0   \n",
       "\n",
       "   V63  V64  V65  V66  V67  V68  V69  V70  V71  V72  V73  V74  V75  V76  V77  \\\n",
       "0    0    0    0    0    0    1    0    0    0    0    0    0    0    0    0   \n",
       "1    0    0    2    0    0    0    0    0    0    0    0    0    0    0    0   \n",
       "2    0    0    1    0    0    1    0    0    0    0    0    0    0    0    0   \n",
       "\n",
       "   V78  V79  V80  V81  V82  V83  V84  V85  V86  \n",
       "0    0    0    1    0    0    0    0    0    0  \n",
       "1    0    0    1    0    0    0    0    0    0  \n",
       "2    0    0    1    0    0    0    0    0    0  "
      ]
     },
     "execution_count": 33,
     "metadata": {},
     "output_type": "execute_result"
    }
   ],
   "source": [
    "pd.set_option('display.max_columns',100)\n",
    "pd.set_option('display.max_rows',100)\n",
    "train.head(3)"
   ]
  },
  {
   "cell_type": "code",
   "execution_count": 34,
   "metadata": {},
   "outputs": [
    {
     "data": {
      "text/plain": [
       "False"
      ]
     },
     "execution_count": 34,
     "metadata": {},
     "output_type": "execute_result"
    }
   ],
   "source": [
    "train.isnull().any().any()"
   ]
  },
  {
   "cell_type": "code",
   "execution_count": 35,
   "metadata": {},
   "outputs": [
    {
     "data": {
      "text/plain": [
       "False"
      ]
     },
     "execution_count": 35,
     "metadata": {},
     "output_type": "execute_result"
    }
   ],
   "source": [
    "test.isnull().any().any()"
   ]
  },
  {
   "cell_type": "code",
   "execution_count": 36,
   "metadata": {},
   "outputs": [
    {
     "data": {
      "text/plain": [
       "[('V1', dtype('int64'), 40),\n",
       " ('V2', dtype('int64'), 9),\n",
       " ('V3', dtype('int64'), 5),\n",
       " ('V4', dtype('int64'), 6),\n",
       " ('V5', dtype('int64'), 10),\n",
       " ('V6', dtype('int64'), 10),\n",
       " ('V7', dtype('int64'), 10),\n",
       " ('V8', dtype('int64'), 6),\n",
       " ('V9', dtype('int64'), 10),\n",
       " ('V10', dtype('int64'), 10),\n",
       " ('V11', dtype('int64'), 8),\n",
       " ('V12', dtype('int64'), 10),\n",
       " ('V13', dtype('int64'), 10),\n",
       " ('V14', dtype('int64'), 10),\n",
       " ('V15', dtype('int64'), 10),\n",
       " ('V16', dtype('int64'), 10),\n",
       " ('V17', dtype('int64'), 10),\n",
       " ('V18', dtype('int64'), 10),\n",
       " ('V19', dtype('int64'), 10),\n",
       " ('V20', dtype('int64'), 6),\n",
       " ('V21', dtype('int64'), 10),\n",
       " ('V22', dtype('int64'), 10),\n",
       " ('V23', dtype('int64'), 10),\n",
       " ('V24', dtype('int64'), 10),\n",
       " ('V25', dtype('int64'), 10),\n",
       " ('V26', dtype('int64'), 10),\n",
       " ('V27', dtype('int64'), 10),\n",
       " ('V28', dtype('int64'), 10),\n",
       " ('V29', dtype('int64'), 9),\n",
       " ('V30', dtype('int64'), 10),\n",
       " ('V31', dtype('int64'), 10),\n",
       " ('V32', dtype('int64'), 10),\n",
       " ('V33', dtype('int64'), 8),\n",
       " ('V34', dtype('int64'), 10),\n",
       " ('V35', dtype('int64'), 10),\n",
       " ('V36', dtype('int64'), 10),\n",
       " ('V37', dtype('int64'), 10),\n",
       " ('V38', dtype('int64'), 10),\n",
       " ('V39', dtype('int64'), 10),\n",
       " ('V40', dtype('int64'), 10),\n",
       " ('V41', dtype('int64'), 8),\n",
       " ('V42', dtype('int64'), 10),\n",
       " ('V43', dtype('int64'), 8),\n",
       " ('V44', dtype('int64'), 4),\n",
       " ('V45', dtype('int64'), 7),\n",
       " ('V46', dtype('int64'), 4),\n",
       " ('V47', dtype('int64'), 6),\n",
       " ('V48', dtype('int64'), 4),\n",
       " ('V49', dtype('int64'), 6),\n",
       " ('V50', dtype('int64'), 4),\n",
       " ('V51', dtype('int64'), 6),\n",
       " ('V52', dtype('int64'), 5),\n",
       " ('V53', dtype('int64'), 5),\n",
       " ('V54', dtype('int64'), 6),\n",
       " ('V55', dtype('int64'), 10),\n",
       " ('V56', dtype('int64'), 7),\n",
       " ('V57', dtype('int64'), 3),\n",
       " ('V58', dtype('int64'), 5),\n",
       " ('V59', dtype('int64'), 9),\n",
       " ('V60', dtype('int64'), 3),\n",
       " ('V61', dtype('int64'), 7),\n",
       " ('V62', dtype('int64'), 2),\n",
       " ('V63', dtype('int64'), 7),\n",
       " ('V64', dtype('int64'), 5),\n",
       " ('V65', dtype('int64'), 3),\n",
       " ('V66', dtype('int64'), 3),\n",
       " ('V67', dtype('int64'), 2),\n",
       " ('V68', dtype('int64'), 7),\n",
       " ('V69', dtype('int64'), 5),\n",
       " ('V70', dtype('int64'), 4),\n",
       " ('V71', dtype('int64'), 4),\n",
       " ('V72', dtype('int64'), 4),\n",
       " ('V73', dtype('int64'), 5),\n",
       " ('V74', dtype('int64'), 5),\n",
       " ('V75', dtype('int64'), 3),\n",
       " ('V76', dtype('int64'), 6),\n",
       " ('V77', dtype('int64'), 2),\n",
       " ('V78', dtype('int64'), 2),\n",
       " ('V79', dtype('int64'), 3),\n",
       " ('V80', dtype('int64'), 7),\n",
       " ('V81', dtype('int64'), 2),\n",
       " ('V82', dtype('int64'), 3),\n",
       " ('V83', dtype('int64'), 4),\n",
       " ('V84', dtype('int64'), 3),\n",
       " ('V85', dtype('int64'), 3),\n",
       " ('V86', dtype('int64'), 2)]"
      ]
     },
     "execution_count": 36,
     "metadata": {},
     "output_type": "execute_result"
    }
   ],
   "source": [
    "list(zip(train.columns,train.dtypes,train.nunique()))"
   ]
  },
  {
   "cell_type": "code",
   "execution_count": 37,
   "metadata": {},
   "outputs": [
    {
     "data": {
      "text/plain": [
       "Text(0.5, 1.0, 'Mean Frequency')"
      ]
     },
     "execution_count": 37,
     "metadata": {},
     "output_type": "execute_result"
    },
    {
     "data": {
      "image/png": "[encoded data removed]",
      "text/plain": [
       "<Figure size 432x288 with 1 Axes>"
      ]
     },
     "metadata": {
      "needs_background": "light"
     },
     "output_type": "display_data"
    }
   ],
   "source": [
    "train[train.columns[:-1]].mean().plot('hist')\n",
    "plt.title('Mean Frequency')"
   ]
  },
  {
   "cell_type": "code",
   "execution_count": 38,
   "metadata": {},
   "outputs": [
    {
     "data": {
      "image/png": "[encoded data removed]",
      "text/plain": [
       "<Figure size 1296x576 with 2 Axes>"
      ]
     },
     "metadata": {
      "needs_background": "light"
     },
     "output_type": "display_data"
    }
   ],
   "source": [
    "f,ax=plt.subplots(1,2,figsize=(18,8))\n",
    "train['V86'].value_counts().plot.pie(explode=[0,0.1],autopct='%1.1f%%',ax=ax[0],shadow=True)\n",
    "ax[0].set_title('V86')\n",
    "ax[0].set_ylabel('')\n",
    "sns.countplot('V86',data=train,ax=ax[1])\n",
    "ax[1].set_title('V86')\n",
    "plt.show()"
   ]
  },
  {
   "cell_type": "code",
   "execution_count": 39,
   "metadata": {},
   "outputs": [
    {
     "data": {
      "text/html": [
       "        <script type=\"text/javascript\">\n",
       "        window.PlotlyConfig = {MathJaxConfig: 'local'};\n",
       "        if (window.MathJax) {MathJax.Hub.Config({SVG: {font: \"STIX-Web\"}});}\n",
       "        if (typeof require !== 'undefined') {\n",
       "        require.undef(\"plotly\");\n",
       "        requirejs.config({\n",
       "            paths: {\n",
       "                'plotly': ['https://cdn.plot.ly/plotly-latest.min']\n",
       "            }\n",
       "        });\n",
       "        require(['plotly'], function(Plotly) {\n",
       "            window._Plotly = Plotly;\n",
       "        });\n",
       "        }\n",
       "        </script>\n",
       "        "
      ]
     },
     "metadata": {},
     "output_type": "display_data"
    }
   ],
   "source": [
    "import plotly.offline as py\n",
    "py.init_notebook_mode(connected=True)\n",
    "import plotly.graph_objs as go\n",
    "import plotly.tools as tls\n",
    "from collections import Counter"
   ]
  },
  {
   "cell_type": "markdown",
   "metadata": {},
   "source": [
    "## by looking at the plot we can see tht it's a clear clase of imbalance of data"
   ]
  },
  {
   "cell_type": "code",
   "execution_count": 40,
   "metadata": {},
   "outputs": [
    {
     "data": {
      "application/vnd.plotly.v1+json": {
       "config": {
        "linkText": "Export to plot.ly",
        "plotlyServerURL": "https://plot.ly",
        "showLink": false
       },
       "data": [
        {
         "text": "DISTRIBUTION OF V86",
         "type": "bar",
         "x": [
          0,
          1
         ],
         "y": [
          5474,
          348
         ]
        }
       ],
       "layout": {
        "template": {
         "data": {
          "bar": [
           {
            "error_x": {
             "color": "#2a3f5f"
            },
            "error_y": {
             "color": "#2a3f5f"
            },
            "marker": {
             "line": {
              "color": "#E5ECF6",
              "width": 0.5
             }
            },
            "type": "bar"
           }
          ],
          "barpolar": [
           {
            "marker": {
             "line": {
              "color": "#E5ECF6",
              "width": 0.5
             }
            },
            "type": "barpolar"
           }
          ],
          "carpet": [
           {
            "aaxis": {
             "endlinecolor": "#2a3f5f",
             "gridcolor": "white",
             "linecolor": "white",
             "minorgridcolor": "white",
             "startlinecolor": "#2a3f5f"
            },
            "baxis": {
             "endlinecolor": "#2a3f5f",
             "gridcolor": "white",
             "linecolor": "white",
             "minorgridcolor": "white",
             "startlinecolor": "#2a3f5f"
            },
            "type": "carpet"
           }
          ],
          "choropleth": [
           {
            "colorbar": {
             "outlinewidth": 0,
             "ticks": ""
            },
            "type": "choropleth"
           }
          ],
          "contour": [
           {
            "colorbar": {
             "outlinewidth": 0,
             "ticks": ""
            },
            "colorscale": [
             [
              0,
              "#0d0887"
             ],
             [
              0.1111111111111111,
              "#46039f"
             ],
             [
              0.2222222222222222,
              "#7201a8"
             ],
             [
              0.3333333333333333,
              "#9c179e"
             ],
             [
              0.4444444444444444,
              "#bd3786"
             ],
             [
              0.5555555555555556,
              "#d8576b"
             ],
             [
              0.6666666666666666,
              "#ed7953"
             ],
             [
              0.7777777777777778,
              "#fb9f3a"
             ],
             [
              0.8888888888888888,
              "#fdca26"
             ],
             [
              1,
              "#f0f921"
             ]
            ],
            "type": "contour"
           }
          ],
          "contourcarpet": [
           {
            "colorbar": {
             "outlinewidth": 0,
             "ticks": ""
            },
            "type": "contourcarpet"
           }
          ],
          "heatmap": [
           {
            "colorbar": {
             "outlinewidth": 0,
             "ticks": ""
            },
            "colorscale": [
             [
              0,
              "#0d0887"
             ],
             [
              0.1111111111111111,
              "#46039f"
             ],
             [
              0.2222222222222222,
              "#7201a8"
             ],
             [
              0.3333333333333333,
              "#9c179e"
             ],
             [
              0.4444444444444444,
              "#bd3786"
             ],
             [
              0.5555555555555556,
              "#d8576b"
             ],
             [
              0.6666666666666666,
              "#ed7953"
             ],
             [
              0.7777777777777778,
              "#fb9f3a"
             ],
             [
              0.8888888888888888,
              "#fdca26"
             ],
             [
              1,
              "#f0f921"
             ]
            ],
            "type": "heatmap"
           }
          ],
          "heatmapgl": [
           {
            "colorbar": {
             "outlinewidth": 0,
             "ticks": ""
            },
            "colorscale": [
             [
              0,
              "#0d0887"
             ],
             [
              0.1111111111111111,
              "#46039f"
             ],
             [
              0.2222222222222222,
              "#7201a8"
             ],
             [
              0.3333333333333333,
              "#9c179e"
             ],
             [
              0.4444444444444444,
              "#bd3786"
             ],
             [
              0.5555555555555556,
              "#d8576b"
             ],
             [
              0.6666666666666666,
              "#ed7953"
             ],
             [
              0.7777777777777778,
              "#fb9f3a"
             ],
             [
              0.8888888888888888,
              "#fdca26"
             ],
             [
              1,
              "#f0f921"
             ]
            ],
            "type": "heatmapgl"
           }
          ],
          "histogram": [
           {
            "marker": {
             "colorbar": {
              "outlinewidth": 0,
              "ticks": ""
             }
            },
            "type": "histogram"
           }
          ],
          "histogram2d": [
           {
            "colorbar": {
             "outlinewidth": 0,
             "ticks": ""
            },
            "colorscale": [
             [
              0,
              "#0d0887"
             ],
             [
              0.1111111111111111,
              "#46039f"
             ],
             [
              0.2222222222222222,
              "#7201a8"
             ],
             [
              0.3333333333333333,
              "#9c179e"
             ],
             [
              0.4444444444444444,
              "#bd3786"
             ],
             [
              0.5555555555555556,
              "#d8576b"
             ],
             [
              0.6666666666666666,
              "#ed7953"
             ],
             [
              0.7777777777777778,
              "#fb9f3a"
             ],
             [
              0.8888888888888888,
              "#fdca26"
             ],
             [
              1,
              "#f0f921"
             ]
            ],
            "type": "histogram2d"
           }
          ],
          "histogram2dcontour": [
           {
            "colorbar": {
             "outlinewidth": 0,
             "ticks": ""
            },
            "colorscale": [
             [
              0,
              "#0d0887"
             ],
             [
              0.1111111111111111,
              "#46039f"
             ],
             [
              0.2222222222222222,
              "#7201a8"
             ],
             [
              0.3333333333333333,
              "#9c179e"
             ],
             [
              0.4444444444444444,
              "#bd3786"
             ],
             [
              0.5555555555555556,
              "#d8576b"
             ],
             [
              0.6666666666666666,
              "#ed7953"
             ],
             [
              0.7777777777777778,
              "#fb9f3a"
             ],
             [
              0.8888888888888888,
              "#fdca26"
             ],
             [
              1,
              "#f0f921"
             ]
            ],
            "type": "histogram2dcontour"
           }
          ],
          "mesh3d": [
           {
            "colorbar": {
             "outlinewidth": 0,
             "ticks": ""
            },
            "type": "mesh3d"
           }
          ],
          "parcoords": [
           {
            "line": {
             "colorbar": {
              "outlinewidth": 0,
              "ticks": ""
             }
            },
            "type": "parcoords"
           }
          ],
          "scatter": [
           {
            "marker": {
             "colorbar": {
              "outlinewidth": 0,
              "ticks": ""
             }
            },
            "type": "scatter"
           }
          ],
          "scatter3d": [
           {
            "line": {
             "colorbar": {
              "outlinewidth": 0,
              "ticks": ""
             }
            },
            "marker": {
             "colorbar": {
              "outlinewidth": 0,
              "ticks": ""
             }
            },
            "type": "scatter3d"
           }
          ],
          "scattercarpet": [
           {
            "marker": {
             "colorbar": {
              "outlinewidth": 0,
              "ticks": ""
             }
            },
            "type": "scattercarpet"
           }
          ],
          "scattergeo": [
           {
            "marker": {
             "colorbar": {
              "outlinewidth": 0,
              "ticks": ""
             }
            },
            "type": "scattergeo"
           }
          ],
          "scattergl": [
           {
            "marker": {
             "colorbar": {
              "outlinewidth": 0,
              "ticks": ""
             }
            },
            "type": "scattergl"
           }
          ],
          "scattermapbox": [
           {
            "marker": {
             "colorbar": {
              "outlinewidth": 0,
              "ticks": ""
             }
            },
            "type": "scattermapbox"
           }
          ],
          "scatterpolar": [
           {
            "marker": {
             "colorbar": {
              "outlinewidth": 0,
              "ticks": ""
             }
            },
            "type": "scatterpolar"
           }
          ],
          "scatterpolargl": [
           {
            "marker": {
             "colorbar": {
              "outlinewidth": 0,
              "ticks": ""
             }
            },
            "type": "scatterpolargl"
           }
          ],
          "scatterternary": [
           {
            "marker": {
             "colorbar": {
              "outlinewidth": 0,
              "ticks": ""
             }
            },
            "type": "scatterternary"
           }
          ],
          "surface": [
           {
            "colorbar": {
             "outlinewidth": 0,
             "ticks": ""
            },
            "colorscale": [
             [
              0,
              "#0d0887"
             ],
             [
              0.1111111111111111,
              "#46039f"
             ],
             [
              0.2222222222222222,
              "#7201a8"
             ],
             [
              0.3333333333333333,
              "#9c179e"
             ],
             [
              0.4444444444444444,
              "#bd3786"
             ],
             [
              0.5555555555555556,
              "#d8576b"
             ],
             [
              0.6666666666666666,
              "#ed7953"
             ],
             [
              0.7777777777777778,
              "#fb9f3a"
             ],
             [
              0.8888888888888888,
              "#fdca26"
             ],
             [
              1,
              "#f0f921"
             ]
            ],
            "type": "surface"
           }
          ],
          "table": [
           {
            "cells": {
             "fill": {
              "color": "#EBF0F8"
             },
             "line": {
              "color": "white"
             }
            },
            "header": {
             "fill": {
              "color": "#C8D4E3"
             },
             "line": {
              "color": "white"
             }
            },
            "type": "table"
           }
          ]
         },
         "layout": {
          "annotationdefaults": {
           "arrowcolor": "#2a3f5f",
           "arrowhead": 0,
           "arrowwidth": 1
          },
          "colorscale": {
           "diverging": [
            [
             0,
             "#8e0152"
            ],
            [
             0.1,
             "#c51b7d"
            ],
            [
             0.2,
             "#de77ae"
            ],
            [
             0.3,
             "#f1b6da"
            ],
            [
             0.4,
             "#fde0ef"
            ],
            [
             0.5,
             "#f7f7f7"
            ],
            [
             0.6,
             "#e6f5d0"
            ],
            [
             0.7,
             "#b8e186"
            ],
            [
             0.8,
             "#7fbc41"
            ],
            [
             0.9,
             "#4d9221"
            ],
            [
             1,
             "#276419"
            ]
           ],
           "sequential": [
            [
             0,
             "#0d0887"
            ],
            [
             0.1111111111111111,
             "#46039f"
            ],
            [
             0.2222222222222222,
             "#7201a8"
            ],
            [
             0.3333333333333333,
             "#9c179e"
            ],
            [
             0.4444444444444444,
             "#bd3786"
            ],
            [
             0.5555555555555556,
             "#d8576b"
            ],
            [
             0.6666666666666666,
             "#ed7953"
            ],
            [
             0.7777777777777778,
             "#fb9f3a"
            ],
            [
             0.8888888888888888,
             "#fdca26"
            ],
            [
             1,
             "#f0f921"
            ]
           ],
           "sequentialminus": [
            [
             0,
             "#0d0887"
            ],
            [
             0.1111111111111111,
             "#46039f"
            ],
            [
             0.2222222222222222,
             "#7201a8"
            ],
            [
             0.3333333333333333,
             "#9c179e"
            ],
            [
             0.4444444444444444,
             "#bd3786"
            ],
            [
             0.5555555555555556,
             "#d8576b"
            ],
            [
             0.6666666666666666,
             "#ed7953"
            ],
            [
             0.7777777777777778,
             "#fb9f3a"
            ],
            [
             0.8888888888888888,
             "#fdca26"
            ],
            [
             1,
             "#f0f921"
            ]
           ]
          },
          "colorway": [
           "#636efa",
           "#EF553B",
           "#00cc96",
           "#ab63fa",
           "#FFA15A",
           "#19d3f3",
           "#FF6692",
           "#B6E880",
           "#FF97FF",
           "#FECB52"
          ],
          "font": {
           "color": "#2a3f5f"
          },
          "geo": {
           "bgcolor": "white",
           "lakecolor": "white",
           "landcolor": "#E5ECF6",
           "showlakes": true,
           "showland": true,
           "subunitcolor": "white"
          },
          "hoverlabel": {
           "align": "left"
          },
          "hovermode": "closest",
          "mapbox": {
           "style": "light"
          },
          "paper_bgcolor": "white",
          "plot_bgcolor": "#E5ECF6",
          "polar": {
           "angularaxis": {
            "gridcolor": "white",
            "linecolor": "white",
            "ticks": ""
           },
           "bgcolor": "#E5ECF6",
           "radialaxis": {
            "gridcolor": "white",
            "linecolor": "white",
            "ticks": ""
           }
          },
          "scene": {
           "xaxis": {
            "backgroundcolor": "#E5ECF6",
            "gridcolor": "white",
            "gridwidth": 2,
            "linecolor": "white",
            "showbackground": true,
            "ticks": "",
            "zerolinecolor": "white"
           },
           "yaxis": {
            "backgroundcolor": "#E5ECF6",
            "gridcolor": "white",
            "gridwidth": 2,
            "linecolor": "white",
            "showbackground": true,
            "ticks": "",
            "zerolinecolor": "white"
           },
           "zaxis": {
            "backgroundcolor": "#E5ECF6",
            "gridcolor": "white",
            "gridwidth": 2,
            "linecolor": "white",
            "showbackground": true,
            "ticks": "",
            "zerolinecolor": "white"
           }
          },
          "shapedefaults": {
           "line": {
            "color": "#2a3f5f"
           }
          },
          "ternary": {
           "aaxis": {
            "gridcolor": "white",
            "linecolor": "white",
            "ticks": ""
           },
           "baxis": {
            "gridcolor": "white",
            "linecolor": "white",
            "ticks": ""
           },
           "bgcolor": "#E5ECF6",
           "caxis": {
            "gridcolor": "white",
            "linecolor": "white",
            "ticks": ""
           }
          },
          "title": {
           "x": 0.05
          },
          "xaxis": {
           "automargin": true,
           "gridcolor": "white",
           "linecolor": "white",
           "ticks": "",
           "zerolinecolor": "white",
           "zerolinewidth": 2
          },
          "yaxis": {
           "automargin": true,
           "gridcolor": "white",
           "linecolor": "white",
           "ticks": "",
           "zerolinecolor": "white",
           "zerolinewidth": 2
          }
         }
        },
        "title": {
         "text": "Target var distribution"
        }
       }
      },
      "text/html": [
       "<div>\n",
       "        \n",
       "        \n",
       "            <div id=\"201650d7-df43-4e2d-9b5d-8744796071e6\" class=\"plotly-graph-div\" style=\"height:525px; width:100%;\"></div>\n",
       "            <script type=\"text/javascript\">\n",
       "                require([\"plotly\"], function(Plotly) {\n",
       "                    window.PLOTLYENV=window.PLOTLYENV || {};\n",
       "                    \n",
       "                if (document.getElementById(\"201650d7-df43-4e2d-9b5d-8744796071e6\")) {\n",
       "                    Plotly.newPlot(\n",
       "                        '201650d7-df43-4e2d-9b5d-8744796071e6',\n",
       "                        [{\"text\": \"DISTRIBUTION OF V86\", \"type\": \"bar\", \"x\": [0, 1], \"y\": [5474, 348]}],\n",
       "                        {\"template\": {\"data\": {\"bar\": [{\"error_x\": {\"color\": \"#2a3f5f\"}, \"error_y\": {\"color\": \"#2a3f5f\"}, \"marker\": {\"line\": {\"color\": \"#E5ECF6\", \"width\": 0.5}}, \"type\": \"bar\"}], \"barpolar\": [{\"marker\": {\"line\": {\"color\": \"#E5ECF6\", \"width\": 0.5}}, \"type\": \"barpolar\"}], \"carpet\": [{\"aaxis\": {\"endlinecolor\": \"#2a3f5f\", \"gridcolor\": \"white\", \"linecolor\": \"white\", \"minorgridcolor\": \"white\", \"startlinecolor\": \"#2a3f5f\"}, \"baxis\": {\"endlinecolor\": \"#2a3f5f\", \"gridcolor\": \"white\", \"linecolor\": \"white\", \"minorgridcolor\": \"white\", \"startlinecolor\": \"#2a3f5f\"}, \"type\": \"carpet\"}], \"choropleth\": [{\"colorbar\": {\"outlinewidth\": 0, \"ticks\": \"\"}, \"type\": \"choropleth\"}], \"contour\": [{\"colorbar\": {\"outlinewidth\": 0, \"ticks\": \"\"}, \"colorscale\": [[0.0, \"#0d0887\"], [0.1111111111111111, \"#46039f\"], [0.2222222222222222, \"#7201a8\"], [0.3333333333333333, \"#9c179e\"], [0.4444444444444444, \"#bd3786\"], [0.5555555555555556, \"#d8576b\"], [0.6666666666666666, \"#ed7953\"], [0.7777777777777778, \"#fb9f3a\"], [0.8888888888888888, \"#fdca26\"], [1.0, \"#f0f921\"]], \"type\": \"contour\"}], \"contourcarpet\": [{\"colorbar\": {\"outlinewidth\": 0, \"ticks\": \"\"}, \"type\": \"contourcarpet\"}], \"heatmap\": [{\"colorbar\": {\"outlinewidth\": 0, \"ticks\": \"\"}, \"colorscale\": [[0.0, \"#0d0887\"], [0.1111111111111111, \"#46039f\"], [0.2222222222222222, \"#7201a8\"], [0.3333333333333333, \"#9c179e\"], [0.4444444444444444, \"#bd3786\"], [0.5555555555555556, \"#d8576b\"], [0.6666666666666666, \"#ed7953\"], [0.7777777777777778, \"#fb9f3a\"], [0.8888888888888888, \"#fdca26\"], [1.0, \"#f0f921\"]], \"type\": \"heatmap\"}], \"heatmapgl\": [{\"colorbar\": {\"outlinewidth\": 0, \"ticks\": \"\"}, \"colorscale\": [[0.0, \"#0d0887\"], [0.1111111111111111, \"#46039f\"], [0.2222222222222222, \"#7201a8\"], [0.3333333333333333, \"#9c179e\"], [0.4444444444444444, \"#bd3786\"], [0.5555555555555556, \"#d8576b\"], [0.6666666666666666, \"#ed7953\"], [0.7777777777777778, \"#fb9f3a\"], [0.8888888888888888, \"#fdca26\"], [1.0, \"#f0f921\"]], \"type\": \"heatmapgl\"}], \"histogram\": [{\"marker\": {\"colorbar\": {\"outlinewidth\": 0, \"ticks\": \"\"}}, \"type\": \"histogram\"}], \"histogram2d\": [{\"colorbar\": {\"outlinewidth\": 0, \"ticks\": \"\"}, \"colorscale\": [[0.0, \"#0d0887\"], [0.1111111111111111, \"#46039f\"], [0.2222222222222222, \"#7201a8\"], [0.3333333333333333, \"#9c179e\"], [0.4444444444444444, \"#bd3786\"], [0.5555555555555556, \"#d8576b\"], [0.6666666666666666, \"#ed7953\"], [0.7777777777777778, \"#fb9f3a\"], [0.8888888888888888, \"#fdca26\"], [1.0, \"#f0f921\"]], \"type\": \"histogram2d\"}], \"histogram2dcontour\": [{\"colorbar\": {\"outlinewidth\": 0, \"ticks\": \"\"}, \"colorscale\": [[0.0, \"#0d0887\"], [0.1111111111111111, \"#46039f\"], [0.2222222222222222, \"#7201a8\"], [0.3333333333333333, \"#9c179e\"], [0.4444444444444444, \"#bd3786\"], [0.5555555555555556, \"#d8576b\"], [0.6666666666666666, \"#ed7953\"], [0.7777777777777778, \"#fb9f3a\"], [0.8888888888888888, \"#fdca26\"], [1.0, \"#f0f921\"]], \"type\": \"histogram2dcontour\"}], \"mesh3d\": [{\"colorbar\": {\"outlinewidth\": 0, \"ticks\": \"\"}, \"type\": \"mesh3d\"}], \"parcoords\": [{\"line\": {\"colorbar\": {\"outlinewidth\": 0, \"ticks\": \"\"}}, \"type\": \"parcoords\"}], \"scatter\": [{\"marker\": {\"colorbar\": {\"outlinewidth\": 0, \"ticks\": \"\"}}, \"type\": \"scatter\"}], \"scatter3d\": [{\"line\": {\"colorbar\": {\"outlinewidth\": 0, \"ticks\": \"\"}}, \"marker\": {\"colorbar\": {\"outlinewidth\": 0, \"ticks\": \"\"}}, \"type\": \"scatter3d\"}], \"scattercarpet\": [{\"marker\": {\"colorbar\": {\"outlinewidth\": 0, \"ticks\": \"\"}}, \"type\": \"scattercarpet\"}], \"scattergeo\": [{\"marker\": {\"colorbar\": {\"outlinewidth\": 0, \"ticks\": \"\"}}, \"type\": \"scattergeo\"}], \"scattergl\": [{\"marker\": {\"colorbar\": {\"outlinewidth\": 0, \"ticks\": \"\"}}, \"type\": \"scattergl\"}], \"scattermapbox\": [{\"marker\": {\"colorbar\": {\"outlinewidth\": 0, \"ticks\": \"\"}}, \"type\": \"scattermapbox\"}], \"scatterpolar\": [{\"marker\": {\"colorbar\": {\"outlinewidth\": 0, \"ticks\": \"\"}}, \"type\": \"scatterpolar\"}], \"scatterpolargl\": [{\"marker\": {\"colorbar\": {\"outlinewidth\": 0, \"ticks\": \"\"}}, \"type\": \"scatterpolargl\"}], \"scatterternary\": [{\"marker\": {\"colorbar\": {\"outlinewidth\": 0, \"ticks\": \"\"}}, \"type\": \"scatterternary\"}], \"surface\": [{\"colorbar\": {\"outlinewidth\": 0, \"ticks\": \"\"}, \"colorscale\": [[0.0, \"#0d0887\"], [0.1111111111111111, \"#46039f\"], [0.2222222222222222, \"#7201a8\"], [0.3333333333333333, \"#9c179e\"], [0.4444444444444444, \"#bd3786\"], [0.5555555555555556, \"#d8576b\"], [0.6666666666666666, \"#ed7953\"], [0.7777777777777778, \"#fb9f3a\"], [0.8888888888888888, \"#fdca26\"], [1.0, \"#f0f921\"]], \"type\": \"surface\"}], \"table\": [{\"cells\": {\"fill\": {\"color\": \"#EBF0F8\"}, \"line\": {\"color\": \"white\"}}, \"header\": {\"fill\": {\"color\": \"#C8D4E3\"}, \"line\": {\"color\": \"white\"}}, \"type\": \"table\"}]}, \"layout\": {\"annotationdefaults\": {\"arrowcolor\": \"#2a3f5f\", \"arrowhead\": 0, \"arrowwidth\": 1}, \"colorscale\": {\"diverging\": [[0, \"#8e0152\"], [0.1, \"#c51b7d\"], [0.2, \"#de77ae\"], [0.3, \"#f1b6da\"], [0.4, \"#fde0ef\"], [0.5, \"#f7f7f7\"], [0.6, \"#e6f5d0\"], [0.7, \"#b8e186\"], [0.8, \"#7fbc41\"], [0.9, \"#4d9221\"], [1, \"#276419\"]], \"sequential\": [[0.0, \"#0d0887\"], [0.1111111111111111, \"#46039f\"], [0.2222222222222222, \"#7201a8\"], [0.3333333333333333, \"#9c179e\"], [0.4444444444444444, \"#bd3786\"], [0.5555555555555556, \"#d8576b\"], [0.6666666666666666, \"#ed7953\"], [0.7777777777777778, \"#fb9f3a\"], [0.8888888888888888, \"#fdca26\"], [1.0, \"#f0f921\"]], \"sequentialminus\": [[0.0, \"#0d0887\"], [0.1111111111111111, \"#46039f\"], [0.2222222222222222, \"#7201a8\"], [0.3333333333333333, \"#9c179e\"], [0.4444444444444444, \"#bd3786\"], [0.5555555555555556, \"#d8576b\"], [0.6666666666666666, \"#ed7953\"], [0.7777777777777778, \"#fb9f3a\"], [0.8888888888888888, \"#fdca26\"], [1.0, \"#f0f921\"]]}, \"colorway\": [\"#636efa\", \"#EF553B\", \"#00cc96\", \"#ab63fa\", \"#FFA15A\", \"#19d3f3\", \"#FF6692\", \"#B6E880\", \"#FF97FF\", \"#FECB52\"], \"font\": {\"color\": \"#2a3f5f\"}, \"geo\": {\"bgcolor\": \"white\", \"lakecolor\": \"white\", \"landcolor\": \"#E5ECF6\", \"showlakes\": true, \"showland\": true, \"subunitcolor\": \"white\"}, \"hoverlabel\": {\"align\": \"left\"}, \"hovermode\": \"closest\", \"mapbox\": {\"style\": \"light\"}, \"paper_bgcolor\": \"white\", \"plot_bgcolor\": \"#E5ECF6\", \"polar\": {\"angularaxis\": {\"gridcolor\": \"white\", \"linecolor\": \"white\", \"ticks\": \"\"}, \"bgcolor\": \"#E5ECF6\", \"radialaxis\": {\"gridcolor\": \"white\", \"linecolor\": \"white\", \"ticks\": \"\"}}, \"scene\": {\"xaxis\": {\"backgroundcolor\": \"#E5ECF6\", \"gridcolor\": \"white\", \"gridwidth\": 2, \"linecolor\": \"white\", \"showbackground\": true, \"ticks\": \"\", \"zerolinecolor\": \"white\"}, \"yaxis\": {\"backgroundcolor\": \"#E5ECF6\", \"gridcolor\": \"white\", \"gridwidth\": 2, \"linecolor\": \"white\", \"showbackground\": true, \"ticks\": \"\", \"zerolinecolor\": \"white\"}, \"zaxis\": {\"backgroundcolor\": \"#E5ECF6\", \"gridcolor\": \"white\", \"gridwidth\": 2, \"linecolor\": \"white\", \"showbackground\": true, \"ticks\": \"\", \"zerolinecolor\": \"white\"}}, \"shapedefaults\": {\"line\": {\"color\": \"#2a3f5f\"}}, \"ternary\": {\"aaxis\": {\"gridcolor\": \"white\", \"linecolor\": \"white\", \"ticks\": \"\"}, \"baxis\": {\"gridcolor\": \"white\", \"linecolor\": \"white\", \"ticks\": \"\"}, \"bgcolor\": \"#E5ECF6\", \"caxis\": {\"gridcolor\": \"white\", \"linecolor\": \"white\", \"ticks\": \"\"}}, \"title\": {\"x\": 0.05}, \"xaxis\": {\"automargin\": true, \"gridcolor\": \"white\", \"linecolor\": \"white\", \"ticks\": \"\", \"zerolinecolor\": \"white\", \"zerolinewidth\": 2}, \"yaxis\": {\"automargin\": true, \"gridcolor\": \"white\", \"linecolor\": \"white\", \"ticks\": \"\", \"zerolinecolor\": \"white\", \"zerolinewidth\": 2}}}, \"title\": {\"text\": \"Target var distribution\"}},\n",
       "                        {\"responsive\": true}\n",
       "                    ).then(function(){\n",
       "                            \n",
       "var gd = document.getElementById('201650d7-df43-4e2d-9b5d-8744796071e6');\n",
       "var x = new MutationObserver(function (mutations, observer) {{\n",
       "        var display = window.getComputedStyle(gd).display;\n",
       "        if (!display || display === 'none') {{\n",
       "            console.log([gd, 'removed!']);\n",
       "            Plotly.purge(gd);\n",
       "            observer.disconnect();\n",
       "        }}\n",
       "}});\n",
       "\n",
       "// Listen for the removal of the full notebook cells\n",
       "var notebookContainer = gd.closest('#notebook-container');\n",
       "if (notebookContainer) {{\n",
       "    x.observe(notebookContainer, {childList: true});\n",
       "}}\n",
       "\n",
       "// Listen for the clearing of the current output cell\n",
       "var outputEl = gd.closest('.output');\n",
       "if (outputEl) {{\n",
       "    x.observe(outputEl, {childList: true});\n",
       "}}\n",
       "\n",
       "                        })\n",
       "                };\n",
       "                });\n",
       "            </script>\n",
       "        </div>"
      ]
     },
     "metadata": {},
     "output_type": "display_data"
    }
   ],
   "source": [
    "data=[go.Bar(\n",
    "    x=train['V86'].value_counts().index.values,\n",
    "    y=train['V86'].value_counts().values,\n",
    "    text='DISTRIBUTION OF V86'\n",
    ")]\n",
    "\n",
    "layout = go.Layout(\n",
    "    title='Target var distribution'\n",
    ")\n",
    "\n",
    "fig=go.Figure(data=data,layout=layout)\n",
    "py.iplot(fig,filename='basic bar')"
   ]
  },
  {
   "cell_type": "code",
   "execution_count": 5,
   "metadata": {},
   "outputs": [
    {
     "name": "stdout",
     "output_type": "stream",
     "text": [
      "Intersetd candidates (1) is  5.98 % of the dataset\n",
      "Not-Intersetd candidates (0) is  94.02 % of the dataset\n"
     ]
    }
   ],
   "source": [
    "print('Intersetd candidates (1) is ', round(train['V86'].value_counts()[1]/len(train)*100,2),'% of the dataset')\n",
    "print('Not-Intersetd candidates (0) is ', round(train['V86'].value_counts()[0]/len(train)*100,2),'% of the dataset')"
   ]
  },
  {
   "cell_type": "code",
   "execution_count": 42,
   "metadata": {},
   "outputs": [
    {
     "data": {
      "image/png": "[encoded data removed]",
      "text/plain": [
       "<Figure size 648x504 with 1 Axes>"
      ]
     },
     "metadata": {},
     "output_type": "display_data"
    }
   ],
   "source": [
    "sns.set(rc={'figure.figsize':(9,7)})\n",
    "sns.distplot(train['V86']);"
   ]
  },
  {
   "cell_type": "code",
   "execution_count": 43,
   "metadata": {},
   "outputs": [
    {
     "data": {
      "text/plain": [
       "V86    1.000000\n",
       "V47    0.150910\n",
       "V68    0.144210\n",
       "V82    0.105700\n",
       "V44    0.096463\n",
       "V43    0.095938\n",
       "V59    0.094446\n",
       "V61    0.091361\n",
       "V42    0.090185\n",
       "V65    0.089387\n",
       "V16    0.084635\n",
       "V31    0.078429\n",
       "V10    0.070264\n",
       "V32    0.069974\n",
       "V85    0.066658\n",
       "V19    0.065082\n",
       "V25    0.063498\n",
       "V64    0.062789\n",
       "V80    0.061381\n",
       "V40    0.057921\n",
       "V39    0.057692\n",
       "V36    0.057518\n",
       "V22    0.047716\n",
       "V17    0.043517\n",
       "V57    0.040208\n",
       "V76    0.037118\n",
       "V3     0.035573\n",
       "V83    0.034144\n",
       "V78    0.033548\n",
       "V7     0.032866\n",
       "V15    0.032346\n",
       "V58    0.030529\n",
       "V26    0.028763\n",
       "V62    0.028695\n",
       "V81    0.026201\n",
       "V79    0.022337\n",
       "V20    0.021974\n",
       "V55    0.021152\n",
       "V84    0.018026\n",
       "V51    0.012628\n",
       "V60    0.011689\n",
       "V72    0.009428\n",
       "V70    0.008589\n",
       "V14    0.007981\n",
       "V33    0.007768\n",
       "V6     0.006225\n",
       "V49    0.005630\n",
       "V63    0.005528\n",
       "V4     0.004491\n",
       "V27    0.004040\n",
       "V8     0.004039\n",
       "V66   -0.000759\n",
       "V38   -0.000982\n",
       "V45   -0.001852\n",
       "V41   -0.002013\n",
       "V48   -0.006541\n",
       "V77   -0.008492\n",
       "V71   -0.008963\n",
       "V69   -0.009176\n",
       "V56   -0.009633\n",
       "V50   -0.009736\n",
       "V2    -0.009809\n",
       "V52   -0.012277\n",
       "V74   -0.012555\n",
       "V53   -0.014380\n",
       "V73   -0.017202\n",
       "V67   -0.021279\n",
       "V46   -0.021631\n",
       "V11   -0.033362\n",
       "V9    -0.041707\n",
       "V28   -0.042309\n",
       "V23   -0.042496\n",
       "V54   -0.044410\n",
       "V75   -0.045116\n",
       "V13   -0.053102\n",
       "V21   -0.054003\n",
       "V24   -0.054632\n",
       "V35   -0.058378\n",
       "V12   -0.062285\n",
       "V29   -0.063070\n",
       "V5    -0.069300\n",
       "V1    -0.069385\n",
       "V34   -0.076501\n",
       "V30   -0.079143\n",
       "V37   -0.079765\n",
       "V18   -0.090561\n",
       "Name: V86, dtype: float64"
      ]
     },
     "execution_count": 43,
     "metadata": {},
     "output_type": "execute_result"
    }
   ],
   "source": [
    "train[train.columns[:]].corr()['V86'][:].sort_values(ascending=False)"
   ]
  },
  {
   "cell_type": "code",
   "execution_count": 44,
   "metadata": {},
   "outputs": [
    {
     "data": {
      "text/plain": [
       "Counter({dtype('int64'): 86})"
      ]
     },
     "execution_count": 44,
     "metadata": {},
     "output_type": "execute_result"
    }
   ],
   "source": [
    "Counter(train.dtypes.values)"
   ]
  },
  {
   "cell_type": "code",
   "execution_count": 45,
   "metadata": {
    "scrolled": true
   },
   "outputs": [
    {
     "data": {
      "application/vnd.plotly.v1+json": {
       "config": {
        "linkText": "Export to plot.ly",
        "plotlyServerURL": "https://plot.ly",
        "showLink": false
       },
       "data": [
        {
         "colorscale": [
          [
           0,
           "#440154"
          ],
          [
           0.1111111111111111,
           "#482878"
          ],
          [
           0.2222222222222222,
           "#3e4989"
          ],
          [
           0.3333333333333333,
           "#31688e"
          ],
          [
           0.4444444444444444,
           "#26828e"
          ],
          [
           0.5555555555555556,
           "#1f9e89"
          ],
          [
           0.6666666666666666,
           "#35b779"
          ],
          [
           0.7777777777777778,
           "#6ece58"
          ],
          [
           0.8888888888888888,
           "#b5de2b"
          ],
          [
           1,
           "#fde725"
          ]
         ],
         "opacity": 1,
         "reversescale": false,
         "text": [
          true
         ],
         "type": "heatmap",
         "x": [
          "V1",
          "V2",
          "V3",
          "V4",
          "V5",
          "V6",
          "V7",
          "V8",
          "V9",
          "V10",
          "V11",
          "V12",
          "V13",
          "V14",
          "V15",
          "V16",
          "V17",
          "V18",
          "V19",
          "V20",
          "V21",
          "V22",
          "V23",
          "V24",
          "V25",
          "V26",
          "V27",
          "V28",
          "V29",
          "V30",
          "V31",
          "V32",
          "V33",
          "V34",
          "V35",
          "V36",
          "V37",
          "V38",
          "V39",
          "V40",
          "V41",
          "V42",
          "V43",
          "V44",
          "V45",
          "V46",
          "V47",
          "V48",
          "V49",
          "V50",
          "V51",
          "V52",
          "V53",
          "V54",
          "V55",
          "V56",
          "V57",
          "V58",
          "V59",
          "V60",
          "V61",
          "V62",
          "V63",
          "V64",
          "V65",
          "V66",
          "V67",
          "V68",
          "V69",
          "V70",
          "V71",
          "V72",
          "V73",
          "V74",
          "V75",
          "V76",
          "V77",
          "V78",
          "V79",
          "V80",
          "V81",
          "V82",
          "V83",
          "V84",
          "V85",
          "V86"
         ],
         "y": [
          "V1",
          "V2",
          "V3",
          "V4",
          "V5",
          "V6",
          "V7",
          "V8",
          "V9",
          "V10",
          "V11",
          "V12",
          "V13",
          "V14",
          "V15",
          "V16",
          "V17",
          "V18",
          "V19",
          "V20",
          "V21",
          "V22",
          "V23",
          "V24",
          "V25",
          "V26",
          "V27",
          "V28",
          "V29",
          "V30",
          "V31",
          "V32",
          "V33",
          "V34",
          "V35",
          "V36",
          "V37",
          "V38",
          "V39",
          "V40",
          "V41",
          "V42",
          "V43",
          "V44",
          "V45",
          "V46",
          "V47",
          "V48",
          "V49",
          "V50",
          "V51",
          "V52",
          "V53",
          "V54",
          "V55",
          "V56",
          "V57",
          "V58",
          "V59",
          "V60",
          "V61",
          "V62",
          "V63",
          "V64",
          "V65",
          "V66",
          "V67",
          "V68",
          "V69",
          "V70",
          "V71",
          "V72",
          "V73",
          "V74",
          "V75",
          "V76",
          "V77",
          "V78",
          "V79",
          "V80",
          "V81",
          "V82",
          "V83",
          "V84",
          "V85",
          "V86"
         ],
         "z": [
          [
           1,
           -0.03872125764987911,
           -0.021996965841772197,
           0.009454421550027408,
           0.9926718735871268,
           -0.19361301019537358,
           0.0903990846868671,
           -0.025642336161400305,
           -0.019504734262194533,
           -0.06559577422122716,
           -0.016270103937589923,
           0.08693944093482492,
           0.029239934222065698,
           -0.06625032559999189,
           0.02340776648664954,
           -0.4736063385109129,
           -0.278429385753619,
           0.525678035285132,
           -0.4186149546245725,
           -0.11773558518883745,
           0.24859754006478768,
           -0.2061975109491016,
           0.3047492224965602,
           0.2730507650314764,
           -0.3929312988883008,
           -0.1885184626632357,
           -0.03807770822073846,
           0.38610445877656413,
           0.20463017040643675,
           0.14899845321349706,
           -0.1499882488061688,
           -0.17783022508757343,
           0.03779549266385713,
           0.15549736045678655,
           0.35178433346378635,
           -0.3521636617242072,
           0.20153096374327564,
           0.16105468801520556,
           -0.2554826848639466,
           -0.1885902830688955,
           -0.13574590832558225,
           -0.3003413198537398,
           -0.5678070801455662,
           -0.040447498391755383,
           -0.009882599443387059,
           0.0763959070531533,
           -0.008458529104857991,
           -0.02794027016051845,
           -0.003587006084582119,
           0.018421920556896856,
           0.031749408895525334,
           0.09666515855928014,
           0.032407656564213405,
           0.024878965048420885,
           -0.04313990772698723,
           0.02841988538000271,
           -0.0151147364108942,
           0.0013644575759618784,
           -0.009754828021833629,
           0.014378840976356645,
           -0.018115528817815068,
           -0.012123635316950147,
           -0.01732711986220833,
           -0.059084119380878555,
           -0.032936542477559345,
           -0.00406637569077688,
           0.07967435813820813,
           -0.008274479956728073,
           -0.027822243522244616,
           -0.012530104129569666,
           0.01888317321775835,
           0.03046131827147868,
           0.09205521672328446,
           0.02012275348697667,
           0.032137073660412116,
           -0.02882935912313973,
           0.021707386686580496,
           -0.012059778740005496,
           -0.0029094232399663206,
           -0.011512112995664046,
           0.007800943407248207,
           -0.01816163786882871,
           -0.01577355776788413,
           -0.02108741957434861,
           -0.053717566866348945,
           -0.06938523732223258
          ],
          [
           -0.03872125764987911,
           1,
           0.010102242859723123,
           0.05697460417742677,
           -0.04581677429161885,
           -0.0061363597445342494,
           -0.02436017837331572,
           0.012056026825837566,
           0.020540166301511942,
           0.02302457840938818,
           -0.03856562955443462,
           -0.012544221684652345,
           0.03253454164872311,
           -0.08291917702115165,
           0.04214328036225523,
           0.003419199664195389,
           -0.05317078281480031,
           0.03652912487317052,
           -0.005746748236494643,
           0.04243783039549762,
           -0.018174589641875995,
           0.005761900445763099,
           0.02480171978549036,
           -0.05234493540424916,
           -0.014437378459010889,
           0.009924237692118188,
           -0.025302576309858882,
           -0.0073450679380996815,
           0.02067119241564986,
           -0.04912699168895344,
           0.04836078625193433,
           -0.011175207749819034,
           0.023660760238217053,
           -0.011085721290908757,
           -0.016134966215265598,
           0.015281881540403962,
           0.014720584294801222,
           -0.024334276235966675,
           0.01537113639064718,
           0.0019292869327444048,
           -0.028799321702156676,
           -0.009372625200465843,
           -0.023663660845182576,
           0.040773962946998844,
           -0.0032367905569931437,
           -0.028045768592639776,
           -0.02622888053281954,
           -0.01998220359800292,
           -0.01648318902819225,
           -0.010525223011358071,
           -0.01093376147410155,
           -0.03061776383713885,
           -0.008149019217533169,
           -0.013789971809249376,
           0.019118222745797723,
           0.008396362469900833,
           0.011337875643704906,
           -0.017093489253363656,
           -0.0013634520970272207,
           -0.005386618931121272,
           0.0043912374609947616,
           -0.016890408083344688,
           0.008140752829124565,
           -0.003767431243409118,
           0.04253108858191893,
           0.0046930448347063305,
           -0.027626968090108273,
           -0.0294270484318858,
           -0.018715983275157246,
           -0.019294521953105097,
           -0.009689725446093105,
           -0.010348557185313615,
           -0.027569640644481485,
           -0.006756071642570942,
           -0.013335568730327265,
           0.020926377571557717,
           0.0033205607199042076,
           0.009443517392751094,
           -0.016332993909193877,
           0.0006545494820878527,
           -0.006189140711226131,
           0.000666217346578543,
           -0.020993273496664036,
           0.01830379323194435,
           -0.004166222424192786,
           -0.009809027562017026
          ],
          [
           -0.021996965841772197,
           0.010102242859723123,
           1,
           -0.3282572490191389,
           0.016115371478403907,
           0.013105188915160418,
           0.049356462986279964,
           -0.10864961688598727,
           -0.00552739403213841,
           0.5347977852086078,
           -0.17558614702802863,
           -0.5007347491800259,
           -0.6595527877326718,
           -0.31595958313022476,
           0.7940142458532231,
           0.008052834550536576,
           0.039626806400905656,
           -0.038847106220072154,
           0.02379648396174767,
           0.03569805917438447,
           0.10695982197097563,
           -0.004949426233726757,
           0.037589774240243984,
           -0.16124599738250958,
           0.06309678687345999,
           0.011569922580656663,
           0.058551505469457046,
           -0.019022276335713326,
           -0.18661249612965072,
           -0.3394294613287282,
           0.3383893518328436,
           0.2519165790993115,
           0.20006987703904872,
           -0.40174671221165476,
           -0.07341940978548668,
           0.07387547602453334,
           -0.36953058592036275,
           0.04418461307856896,
           0.2566450281156345,
           0.10469777256456227,
           0.08754864833310952,
           0.28205833304765493,
           0.31707022949349667,
           -0.04216380162916189,
           0.026890215718529058,
           0.034340193612055044,
           0.021131314621021472,
           -0.0031699907254923165,
           0.021560868887896812,
           -0.000297130014433124,
           0.012458824182111097,
           0.05883195218420688,
           0.03174659335139146,
           0.023040553038776276,
           0.02597053480141323,
           0.00384121734833236,
           0.016483482188253122,
           0.01738975177549486,
           0.05599833282043915,
           0.008036980797128206,
           0.0018573555605239783,
           0.03079783835100907,
           0.013002586949026325,
           0.03454984139036277,
           -0.04391983535569442,
           0.03506246088235528,
           0.036038537815838156,
           0.020598054752423003,
           -0.009047246342738124,
           0.01307614177061801,
           0.0006077907499911928,
           0.01460789753519575,
           0.05868127010641364,
           0.02725686606488243,
           0.018615440931442274,
           0.017427718383942806,
           -0.00012832502517974944,
           0.016759727715637242,
           0.01874922897104193,
           -0.009268968873458568,
           0.009234364948197897,
           0.0006443738859241205,
           0.0303300563258727,
           0.02590668574513656,
           0.028383761575863635,
           0.03557315743510017
          ],
          [
           0.009454421550027408,
           0.05697460417742677,
           -0.3282572490191389,
           1,
           0.003872334282903298,
           -0.03751873716020478,
           0.09365402037970187,
           0.05773716146599759,
           -0.11996633808231917,
           -0.04038380838089899,
           -0.3074008147012462,
           0.1997738209683725,
           0.23659382562786269,
           0.20422508785199306,
           -0.35575427282420896,
           -0.025792265566993145,
           -0.221675887887036,
           0.17896523301624295,
           0.14138948355059527,
           0.058309154682559046,
           0.09071640156259506,
           -0.16268646614133653,
           -0.048102802623022904,
           0.03433760738200567,
           0.047819524329306695,
           -0.1558015664066144,
           -0.0403596449944957,
           -0.0635554975892655,
           0.24459650955397141,
           0.025263825319750115,
           -0.023181931716493076,
           -0.13254774609868109,
           -0.08850073700008715,
           0.19760764113306437,
           -0.12202415416524152,
           0.12419969192313435,
           0.17572890719726997,
           -0.053955267193181645,
           -0.14896954078463506,
           0.027676318455818274,
           0.01848203992414077,
           -0.07569642170593945,
           -0.14509780824483773,
           -0.017966721909826133,
           -0.004628030180295327,
           0.007867869130888697,
           -0.015416760608542388,
           0.0188376991972426,
           -0.01717200111932695,
           -0.009927923953650294,
           0.012955422373011047,
           -0.0004470621974908863,
           0.00337730381016214,
           -0.00389885733277414,
           -0.029133535051616238,
           0.019854587660189788,
           -0.006815769894724682,
           -0.0015734652483835514,
           0.019325832836088335,
           0.00021252948074376675,
           -0.004662685001116622,
           0.01920523557371358,
           -0.013611681695100802,
           -0.01937336416665556,
           -0.014319569085137186,
           -0.008249166862519926,
           0.00749700706259168,
           -0.01580706377405757,
           0.021957811677567822,
           -0.015571460913693548,
           -0.013046363034214225,
           0.0061024935828146885,
           -0.005503775418863138,
           0.0056300126162458245,
           0.0004705705656461443,
           -0.025187047632680936,
           0.021070196920151312,
           -0.0017470283016728261,
           0.0006444195809836028,
           0.024416897906355876,
           0.00024419304176267413,
           -0.0017913964419534634,
           0.020611609481397015,
           -0.020042036100543725,
           -0.014539744269948914,
           0.004490697281818009
          ],
          [
           0.9926718735871268,
           -0.04581677429161885,
           0.016115371478403907,
           0.003872334282903298,
           1,
           -0.19918619931332138,
           0.09849256084428279,
           -0.03456581149255717,
           -0.021465786673740068,
           -0.026618553401239482,
           -0.037508857607814305,
           0.05267061178408172,
           -0.0034430197949273807,
           -0.07500025312366362,
           0.05861878349462304,
           -0.4716200983072243,
           -0.27949739001392043,
           0.5240617183032865,
           -0.4126556592684563,
           -0.11533009231616587,
           0.2768818584900594,
           -0.21940516505978003,
           0.3052819332382049,
           0.25888830217266234,
           -0.3820172344339658,
           -0.19261633937656047,
           -0.029730825870333683,
           0.37943739405134513,
           0.19213639012695533,
           0.1181598824004475,
           -0.11922308411742107,
           -0.16620832959347717,
           0.06318048275718827,
           0.12523788988390744,
           0.33990488558103754,
           -0.3402959622551852,
           0.1792761402693816,
           0.16349471710972915,
           -0.2412304517624218,
           -0.17933137583174816,
           -0.13245467016414056,
           -0.28288773342795653,
           -0.5363374179077371,
           -0.04927765980137636,
           -0.006342621524100109,
           0.08640591811038746,
           -0.005722607805348084,
           -0.027092586482324543,
           -0.003476071458271106,
           0.021247534390591558,
           0.03550896276142488,
           0.10988702662630899,
           0.03657017363165768,
           0.029835707784863174,
           -0.04032774806468821,
           0.03078041352851703,
           -0.013076121419103783,
           0.0014445014914813363,
           -0.0003219674986899808,
           0.015402305447762308,
           -0.020505091086859436,
           -0.014841469091403194,
           -0.01716783298977857,
           -0.05723522698770743,
           -0.041614258085721445,
           -0.0006864249811245651,
           0.08979144707543663,
           -0.005573294455194048,
           -0.028770103375399536,
           -0.011790621666604948,
           0.02196279017476501,
           0.03371961757228279,
           0.10524914182497114,
           0.02234670889343945,
           0.03625110360467457,
           -0.027240348408372164,
           0.02397570416417558,
           -0.010004146240562088,
           -0.002243462831979831,
           -0.012372003844809918,
           0.007098645352750387,
           -0.020683044950195153,
           -0.017990254439541872,
           -0.020997007172641018,
           -0.05172314089468612,
           -0.0692998303587404
          ],
          [
           -0.19361301019537358,
           -0.0061363597445342494,
           0.013105188915160418,
           -0.03751873716020478,
           -0.19918619931332138,
           1,
           -0.37276739189105496,
           0.021125102082033356,
           -0.06390441476311204,
           -0.02859444010870841,
           0.11757577567055866,
           -0.0034567612170167852,
           0.016316632064003724,
           -0.010359144297515326,
           -0.007469799244534806,
           0.2410468725317401,
           0.14669696322714929,
           -0.2514350753889322,
           0.21753811912175314,
           0.056606777889369596,
           -0.1059651155798838,
           0.08763907740302603,
           -0.17981314088627298,
           -0.07207726456089718,
           0.1696458903608802,
           0.13721542932051994,
           0.07970384865071925,
           -0.21572516889315146,
           -0.07516462761531645,
           -0.09636218866571956,
           0.09635520157136118,
           -0.01959363675041129,
           0.036872219397393914,
           0.004856865150585797,
           -0.22496085747425512,
           0.22266218548715827,
           -0.09269864118056004,
           -0.11476444659272705,
           0.10626726209208835,
           0.1897797598781856,
           0.21736578907613563,
           0.1776468165649852,
           0.1545566769262925,
           0.052647865983565384,
           -0.018547604149962038,
           -0.05392122009095077,
           -0.0002464019768634617,
           0.005570344409868602,
           0.012763817069726614,
           -0.005813917368575843,
           -0.009636976908621357,
           -0.04895469272381334,
           -0.005186907957167548,
           -0.019798244818647108,
           0.0013677462520104962,
           -0.007953635159675175,
           0.008017684391897246,
           -0.01388065705006474,
           -0.0038647412109669927,
           0.009918828526836695,
           0.012785371600818633,
           0.0017627380915607531,
           -0.001993266511037588,
           0.0004482129963338893,
           0.045542545551251305,
           -0.026679806890602533,
           -0.054928878130231375,
           -0.0027271508612805445,
           0.007263304112705504,
           0.009376133760355121,
           -0.011052007474591908,
           -0.0038722846125229396,
           -0.0437516060255018,
           -0.004238374438043051,
           -0.024262456935313398,
           0.0037927415134567126,
           -0.008449647408503992,
           0.005386295082572025,
           -0.01284324989696409,
           0.0019283957132634336,
           -0.0006751742504361993,
           0.01179455600643213,
           -0.0015029143399821437,
           -0.011430911432275051,
           -0.004008778363611013,
           0.0062254235066489865
          ],
          [
           0.0903990846868671,
           -0.02436017837331572,
           0.049356462986279964,
           0.09365402037970187,
           0.09849256084428279,
           -0.37276739189105496,
           1,
           -0.31754857103673906,
           -0.7418945105389576,
           0.14725629450128605,
           -0.21103139711553198,
           -0.0840505033283153,
           -0.11592167566337598,
           0.06645693038360069,
           0.023971825003572207,
           -0.09418136819787126,
           -0.015809470028667824,
           0.05648093388974319,
           -0.010964812612371042,
           0.042937875167969645,
           0.11116369957390641,
           -0.03185735699198595,
           0.017152674427050353,
           -0.03509865234776607,
           -0.010560977944816972,
           -0.04100292119478091,
           0.028599349920727497,
           0.05849484688339625,
           -0.06989526329014258,
           -0.22020374268436727,
           0.2224873953258843,
           -0.01833288893434901,
           0.10545694599011526,
           -0.08242954317098522,
           -0.04221263736898709,
           0.045683249702264235,
           -0.06301435338773165,
           0.05926158366986805,
           0.03711014142255388,
           -0.06051459613676814,
           -0.09526025143440428,
           -0.010879873947256237,
           0.017425881022852557,
           -0.013987576298730243,
           0.02399634078863551,
           0.03716023509150933,
           0.019499654995179378,
           0.007317068483568724,
           -0.004362932770258336,
           0.027219395556785944,
           0.020479134541541197,
           0.04417443934534462,
           0.010651806006434755,
           0.014292999202269521,
           -0.011810423905795646,
           -0.019690487802956087,
           0.0006257971446831455,
           0.006432476636515947,
           0.07676068162793079,
           0.008904298886728262,
           0.018349034429586394,
           0.00564179254353413,
           0.0014434546961211805,
           0.018931584979481605,
           -0.014182560292831253,
           0.025441177891328527,
           0.04000001551203257,
           0.02798680051791532,
           0.00982574527391283,
           -0.002989468723851673,
           0.025261553463059135,
           0.01610684738585532,
           0.04330017444905612,
           0.007602773497376097,
           0.01584553768736789,
           -0.018459128723079435,
           -0.014354584285363401,
           0.003949231406401618,
           0.003974716319645853,
           0.04635221244202263,
           0.01376000866817906,
           0.018467803733743387,
           0.0019064706322450167,
           0.002391834327097584,
           0.016657867239544412,
           0.03286633024069372
          ],
          [
           -0.025642336161400305,
           0.012056026825837566,
           -0.10864961688598727,
           0.05773716146599759,
           -0.03456581149255717,
           0.021125102082033356,
           -0.31754857103673906,
           1,
           -0.13930635498052008,
           -0.12570346662340756,
           0.11176214418755273,
           0.10534004043129994,
           0.12219757550762325,
           0.022851115286394403,
           -0.1054299779020364,
           0.0024310629909562727,
           0.012658995348386489,
           -0.006024369480709428,
           -0.052415155519125206,
           0.006322591899321078,
           -0.04689866572657841,
           0.07755980781867529,
           -0.06550040571109576,
           0.10854081184004094,
           -0.03289206736632466,
           0.0540537944860493,
           -0.02643203141403819,
           0.0016765042141927112,
           0.06848385678933365,
           0.14578973747139626,
           -0.1467204687848494,
           -0.00907119332388433,
           -0.10030924418384521,
           0.11319339432931443,
           0.114104212977108,
           -0.11600156696112926,
           0.008701215580068453,
           0.029398865750447808,
           -0.008466197170750886,
           -0.015103173348781425,
           -0.047903184303516824,
           -0.03949564208997515,
           -0.06831968776528441,
           0.018513551736779123,
           -0.0033929303585433423,
           -0.01862388884517699,
           -0.02300601473663245,
           0.009010212660470559,
           -0.0013878633059614526,
           -0.0067934089470272335,
           -0.016292325542959698,
           -0.03322558468233747,
           0.0012443366216743908,
           -0.030839082296228594,
           -0.01885099081384628,
           -0.0004781091560061577,
           -0.004580545889916172,
           0.006038904438482075,
           -0.020293488093251107,
           -0.02078118337471166,
           0.005138917459932276,
           0.026605566690752067,
           -0.011853554418935175,
           0.009756509907764551,
           0.017135413148826512,
           -0.010084934635900633,
           -0.017097170907232753,
           -0.02479265909647544,
           0.006150845662893824,
           0.0016901599401345974,
           -0.0051302097817129836,
           -0.016247003176928676,
           -0.029244699242244276,
           0.0006571039662353726,
           -0.02462185421287626,
           0.0030502932000853735,
           0.006571607673736126,
           -0.005569313481972392,
           0.017695582670263745,
           0.006301537857971166,
           -0.02387725393173584,
           0.009417361497994832,
           0.025661055388168406,
           -0.009734439057548488,
           0.010127307273294582,
           0.004039403668707039
          ],
          [
           -0.019504734262194533,
           0.020540166301511942,
           -0.00552739403213841,
           -0.11996633808231917,
           -0.021465786673740068,
           -0.06390441476311204,
           -0.7418945105389576,
           -0.13930635498052008,
           1,
           -0.10789957700202493,
           0.1595530813347161,
           0.07183783425509518,
           0.0646424860504246,
           -0.08673086688709046,
           0.032341690016225076,
           -0.0031020103196802676,
           -0.036979584572424375,
           0.04287842137628755,
           -0.05692676616362608,
           -0.06713968992910947,
           -0.05240504238069274,
           -0.024490369914597344,
           0.08300598581958832,
           0.023618472751178746,
           -0.05275206261601247,
           -0.023215146005097043,
           -0.04217076402450148,
           0.03128761677762628,
           0.08314495975343943,
           0.22462516319083792,
           -0.22667166972453778,
           0.013174541208175928,
           -0.06329392476156863,
           0.05505118915544118,
           0.09961350297625791,
           -0.10119052209355187,
           0.1143579111340105,
           -0.02620355823782362,
           -0.08075193888633105,
           0.0011875270316833203,
           0.04892696800778274,
           -0.051617031771691406,
           -0.05719928831578893,
           -0.02093919844626584,
           -0.014299625135878777,
           -0.013935213194904345,
           -0.01846472599450201,
           -0.015104642598036023,
           -0.0026283054593082165,
           -0.022508715945542424,
           -0.007853288241842598,
           -0.012540278316177355,
           -0.011577489156350762,
           0.011022819340287102,
           0.012075620417653593,
           0.016607486676508892,
           0.0061416419545463055,
           -0.0012649823245952957,
           -0.07448112406518359,
           -0.010619898552468693,
           -0.023801542977981593,
           -0.01781908799087033,
           0.006032586512663071,
           -0.0319692769368132,
           -0.017995797725395942,
           -0.00900350329727285,
           -0.01666383526309421,
           -0.024372533330823523,
           -0.018834163012534447,
           -0.003654511445304002,
           -0.017734246357490737,
           -0.005018962553662453,
           -0.014143149978741637,
           -0.008057564494354767,
           0.008523187137973651,
           0.010169287524272663,
           0.008844370545863529,
           0.004241859396222393,
           -0.004139204650579207,
           -0.05260464737977478,
           -0.00841190003520961,
           -0.026407349117461135,
           -0.011121965548116996,
           0.007261279623020789,
           -0.027291255427590727,
           -0.04170688574721857
          ],
          [
           -0.06559577422122716,
           0.02302457840938818,
           0.5347977852086078,
           -0.04038380838089899,
           -0.026618553401239482,
           -0.02859444010870841,
           0.14725629450128605,
           -0.12570346662340756,
           -0.10789957700202493,
           1,
           -0.4783406483143161,
           -0.88436188763352,
           -0.6842332777601957,
           0.07536333616178356,
           0.5003536874492067,
           0.07503787712752984,
           0.027069264889856223,
           -0.08195356532972539,
           0.17680567696548002,
           0.08833008008025929,
           0.01976129986936121,
           -0.0071955615307325894,
           0.02683137541106944,
           -0.2980562660402642,
           0.18282188184913087,
           -0.02921484886128681,
           0.016749791509945676,
           -0.03603526772421396,
           -0.24314314885761457,
           -0.3909956954602839,
           0.39249527149029617,
           0.41680720328952886,
           0.2251749664427102,
           -0.6100175190779609,
           -0.2293390786145646,
           0.23226146749098472,
           -0.4352702243163861,
           0.08642286767746767,
           0.246226903548131,
           0.17885902406197876,
           0.06419232289058069,
           0.35311794255695234,
           0.32620754093627746,
           -0.03900964324451075,
           0.014699756077561358,
           0.0080082852307343,
           0.026107829175383807,
           -0.009066631769546907,
           0.021027944419842366,
           0.007321203945789322,
           0.015486770462557897,
           0.016130202046317148,
           0.014565206092688649,
           0.01408825953859409,
           0.031552985906921585,
           0.016906925719667024,
           0.020882036408939306,
           0.012914339277187334,
           0.05845287775332852,
           0.012591479051147577,
           -0.010603456001583312,
           0.017795815928628358,
           -0.0086613148800092,
           0.03611465942281155,
           -0.04298224488386185,
           0.018260063823144653,
           0.010122386243261781,
           0.027907272231343826,
           -0.011205219206162362,
           0.01342101066198524,
           0.009474193730361274,
           0.015456849852366516,
           0.02056991834677276,
           0.014775725339252425,
           0.014860004935414428,
           0.015055760851040084,
           0.011512438592102464,
           0.022375836412024022,
           0.011678010793188897,
           -0.007978509719849954,
           0.009710577295070558,
           -0.0015655294112937668,
           0.020921354522152175,
           -0.0034195097997615337,
           0.0365688457165783,
           0.07026382787805115
          ],
          [
           -0.016270103937589923,
           -0.03856562955443462,
           -0.17558614702802863,
           -0.3074008147012462,
           -0.037508857607814305,
           0.11757577567055866,
           -0.21103139711553198,
           0.11176214418755273,
           0.1595530813347161,
           -0.4783406483143161,
           1,
           0.08475539168481554,
           0.09790554197787436,
           0.1747994666302641,
           -0.21254447472101304,
           -0.015170378944043904,
           0.1352435950204396,
           -0.07892684381804047,
           -0.09347485598719851,
           -0.011054298922709432,
           -0.08966619874247395,
           0.14709484009002868,
           -0.025785102450977496,
           0.05607705281607581,
           -0.09168146674960151,
           0.1668618707130202,
           0.07690600992845961,
           -0.010531925933461889,
           -0.04781437226124463,
           0.16290069552328743,
           -0.16386120031289425,
           -0.09273260292283805,
           0.031120037494935467,
           0.10689909210125122,
           0.15000309833831246,
           -0.15109882447489903,
           0.06683715967039303,
           0.01950360809368211,
           -0.03765439757115349,
           0.017706494767915863,
           0.031412485856271356,
           -0.050496621819497885,
           -0.061650688143636605,
           0.012594108132635755,
           -0.0058189059661731286,
           -0.0019345200622845088,
           0.0033473500849976897,
           -0.010134049857829973,
           0.016234747162169685,
           0.006109528296498981,
           -0.010694744735442015,
           -0.008325525513410476,
           -0.02420209480207888,
           0.0019250929378016124,
           0.002190186871925539,
           -0.026078303234000892,
           -0.003359393024371924,
           -0.009974102952323335,
           -0.039445533013352976,
           -0.01807779923104272,
           0.020721289226129713,
           -0.036139879797833965,
           0.018777635436512438,
           -0.01075855268919106,
           0.014153298809148463,
           -0.002631836272642346,
           -0.0012834896039771735,
           -0.00024801655626365254,
           -0.008067211968830618,
           0.019288483591379302,
           0.009948546622611177,
           -0.007775573034150703,
           -0.006038996852877271,
           -0.025502390042180453,
           0.0018424922649418164,
           0.0037395603938957652,
           -0.020501877272872872,
           -0.00789460000373501,
           -0.011157224975711434,
           -0.00047035208208833716,
           -0.02077110792890577,
           0.019773855708207767,
           -0.03747448482209516,
           0.018395907167560073,
           -0.013834784509075512,
           -0.03336229340153441
          ],
          [
           0.08693944093482492,
           -0.012544221684652345,
           -0.5007347491800259,
           0.1997738209683725,
           0.05267061178408172,
           -0.0034567612170167852,
           -0.0840505033283153,
           0.10534004043129994,
           0.07183783425509518,
           -0.88436188763352,
           0.08475539168481554,
           1,
           0.7456422688913907,
           -0.1896352889679839,
           -0.45099969567279236,
           -0.08231169675825052,
           -0.08584701852397751,
           0.1296158160467393,
           -0.15386136265542158,
           -0.0741081494119581,
           0.038755254733195854,
           -0.0562798614034093,
           -0.017214545608014945,
           0.30732455255067154,
           -0.16627969047039529,
           -0.02264514657658013,
           -0.04580556789758361,
           0.037152065904219586,
           0.3057286776906057,
           0.36853449607545696,
           -0.3698107943681498,
           -0.4325590117974314,
           -0.27777329087150443,
           0.661457628762058,
           0.18317970494991764,
           -0.18596006049595293,
           0.47096812468078486,
           -0.11497257349187184,
           -0.26573321362506774,
           -0.1808047714126801,
           -0.07046621974134264,
           -0.3713070714097232,
           -0.33982957394897834,
           0.036189911484380714,
           -0.009809465749080568,
           -0.008201297038805382,
           -0.033224324212246685,
           0.01808971577692529,
           -0.026403455691432074,
           -0.0061034565636014495,
           -0.008641766749393605,
           -0.009847709766949502,
           -0.005695935503701665,
           -0.01872073984174862,
           -0.03390852174482932,
           -0.009643720351805232,
           -0.023756427919793405,
           -0.0063224061941194116,
           -0.041533288179969194,
           -0.007921293970408454,
           0.0025752510208166277,
           -0.00489185534990911,
           0.00369001404056823,
           -0.04082847226733861,
           0.04060928611936889,
           -0.01708425736828351,
           -0.010425113482511216,
           -0.03275605023534752,
           0.02016330576208147,
           -0.018038715804634547,
           -0.010756712223189548,
           -0.009675492240737858,
           -0.014053766928304732,
           -0.005987417227210983,
           -0.018839956698627546,
           -0.015726203439607518,
           -0.006856412203090566,
           -0.02357416975450985,
           -0.0036618178282896248,
           0.012951702727430799,
           -0.0038286828779750858,
           -0.006310754328702678,
           -0.00790922902653852,
           -0.002602413065240239,
           -0.039980804772926655,
           -0.06228535926955097
          ],
          [
           0.029239934222065698,
           0.03253454164872311,
           -0.6595527877326718,
           0.23659382562786269,
           -0.0034430197949273807,
           0.016316632064003724,
           -0.11592167566337598,
           0.12219757550762325,
           0.0646424860504246,
           -0.6842332777601957,
           0.09790554197787436,
           0.7456422688913907,
           1,
           -0.21335921412746825,
           -0.6273473583757592,
           -0.004851641081484509,
           -0.03594777388306123,
           0.04524417002077308,
           -0.06027244179137814,
           -0.057965877340944744,
           -0.012136443449175504,
           -0.002129783608034767,
           -0.034641626200752576,
           0.15935451763096226,
           -0.09617204862663409,
           0.054789685861048924,
           -0.025872393760338577,
           -0.05378915221588109,
           0.25751200678535807,
           0.350994171421032,
           -0.3524278962075681,
           -0.3256200790614137,
           -0.24403583525231623,
           0.5161735709274159,
           0.11973144267533159,
           -0.122429813583264,
           0.4761521553906015,
           -0.11844732003150658,
           -0.26813457054237744,
           -0.16861776838295192,
           -0.07777422035838273,
           -0.36257027170364614,
           -0.3028305639069316,
           0.044342821162773036,
           -0.015217762355482603,
           -0.029046088793979127,
           -0.04484568513659041,
           0.01249576880368273,
           -0.022371963081369114,
           0.0012397960772121005,
           -0.010451365740609776,
           -0.031882225788099086,
           -0.006864237102863491,
           -0.033729610143790216,
           -0.02865276424679481,
           -0.002286612817620094,
           -0.03372144457615338,
           -0.006513515809017608,
           -0.051582911386157254,
           -0.009746636718316846,
           -0.011760898808267632,
           -0.008812974673642759,
           -0.002695785223448394,
           -0.036842094244348034,
           0.04698887588739952,
           -0.0215882894108609,
           -0.03124773223731226,
           -0.043610988660455256,
           0.018247406988113456,
           -0.010901226960825324,
           -0.0023393003634990606,
           -0.01047183470035603,
           -0.034086638673445586,
           -0.004577404794130533,
           -0.03130076947625401,
           -0.014130576887080065,
           0.0019438515498816263,
           -0.03286604288934388,
           -0.004891643832080757,
           0.012028003774383646,
           -0.011198732801078673,
           -0.01878711175596422,
           -0.010050987552629185,
           -0.013539232172736844,
           -0.03394442444745983,
           -0.05310215736951005
          ],
          [
           -0.06625032559999189,
           -0.08291917702115165,
           -0.31595958313022476,
           0.20422508785199306,
           -0.07500025312366362,
           -0.010359144297515326,
           0.06645693038360069,
           0.022851115286394403,
           -0.08673086688709046,
           0.07536333616178356,
           0.1747994666302641,
           -0.1896352889679839,
           -0.21335921412746825,
           1,
           -0.5913215477814421,
           0.04997174891064384,
           0.10772716285159334,
           -0.12872963061817339,
           0.13024788564042197,
           0.11223653910136118,
           0.002162877405186204,
           0.027233061264864952,
           -0.08882881055856691,
           -0.10360745492019538,
           0.14215796222194002,
           0.01731217178130682,
           0.014384115939899885,
           -0.062095821634889324,
           -0.1321768828686496,
           -0.04825087325073532,
           0.05333859929482222,
           0.10728029795254657,
           -0.011747558818312681,
           -0.10524577667992986,
           -0.0827245741112362,
           0.08783069861111999,
           -0.1041252242825188,
           0.03605717882330886,
           0.07422259645840942,
           0.039433917344519384,
           0.010614427429621185,
           0.10872463982650389,
           -0.027153502170667993,
           -0.01429210982239146,
           0.0009743680829421463,
           0.007413142768995637,
           0.0007485905925458041,
           -0.0021402220491434157,
           0.0018709822676356905,
           0.007511812169260229,
           0.016898222539185485,
           -0.005829095250744568,
           -0.0030137474328265287,
           0.008036637852190644,
           -0.00262108632322385,
           -0.004777114168276374,
           0.008540250686722525,
           -0.002135097252020207,
           0.011512842011588005,
           0.004509852067096708,
           0.014628730895045034,
           -0.005987862255235726,
           -0.010866074730284623,
           -0.000208013516510775,
           -0.018160118274648734,
           -0.0006393267255495567,
           0.009970850403019692,
           0.0019497854305953802,
           0.0007747411555544233,
           -0.0004861264314979833,
           0.013514541641443216,
           0.01448993145173379,
           -6.400560843746906e-05,
           0.0014584744875850736,
           0.012225478495650192,
           -0.02042693479024565,
           -0.0045755905446582595,
           0.0095433770354129,
           -0.005780253167469786,
           0.009909953811548525,
           0.010788690057482644,
           0.022004251551653004,
           -0.0033231604634056796,
           -0.010075943578460905,
           0.001663515280790472,
           0.00798142966782857
          ],
          [
           0.02340776648664954,
           0.04214328036225523,
           0.7940142458532231,
           -0.35575427282420896,
           0.05861878349462304,
           -0.007469799244534806,
           0.023971825003572207,
           -0.1054299779020364,
           0.032341690016225076,
           0.5003536874492067,
           -0.21254447472101304,
           -0.45099969567279236,
           -0.6273473583757592,
           -0.5913215477814421,
           1,
           -0.03604452046830823,
           -0.04854913504693249,
           0.06297372130910726,
           -0.043806260026089026,
           -0.03500043227404401,
           0.028366861076323333,
           -0.03313105069329086,
           0.11367700797403857,
           -0.05883708404071247,
           -0.014821354376430602,
           -0.05786247470820416,
           -0.0038083099661693196,
           0.09541886755212771,
           -0.09812838781297376,
           -0.242813966491467,
           0.2396384952915124,
           0.18357856757336377,
           0.21134526745627338,
           -0.33948052889168334,
           -0.0339135776962615,
           0.03163200628517,
           -0.3014227884968821,
           0.06374968727290112,
           0.17192132034819269,
           0.0994874862497213,
           0.05214448426608206,
           0.2069151704626424,
           0.26526424129532566,
           -0.03441354541221423,
           0.014183146004564214,
           0.019499137836916803,
           0.03278285583628699,
           -0.008604513119883452,
           0.015989081049776845,
           -0.007532546111478405,
           -0.004683134983338061,
           0.0355378155092317,
           0.008301665259487175,
           0.020344396430954446,
           0.025710162767673177,
           0.006133012444707206,
           0.015702639113113565,
           0.006133351928752141,
           0.03250935655089002,
           0.008867687052904714,
           -0.011618013430470727,
           0.008116610068244861,
           0.009078797204325785,
           0.023214350651259996,
           -0.03293085073356461,
           0.019275252905646544,
           0.018673020470348824,
           0.02922570351384058,
           -0.016683474963148155,
           0.013185853347454769,
           -0.009414159951382955,
           -0.001987241671528904,
           0.031012272044962444,
           0.004960802847639196,
           0.016771644780796964,
           0.02497978173814555,
           0.0008151776222885948,
           0.014457813772233956,
           0.00984334607612595,
           -0.02080521089833774,
           0.004149392553017047,
           -0.009978747755223354,
           0.008305851698914412,
           0.017225135835452012,
           0.020047390081220768,
           0.03234608662804777
          ],
          [
           -0.4736063385109129,
           0.003419199664195389,
           0.008052834550536576,
           -0.025792265566993145,
           -0.4716200983072243,
           0.2410468725317401,
           -0.09418136819787126,
           0.0024310629909562727,
           -0.0031020103196802676,
           0.07503787712752984,
           -0.015170378944043904,
           -0.08231169675825052,
           -0.004851641081484509,
           0.04997174891064384,
           -0.03604452046830823,
           1,
           0.0075273986125983005,
           -0.6385935954849703,
           0.56021700284339,
           0.2680617926220246,
           -0.1253800585468892,
           0.041373762406708016,
           -0.3393577456194648,
           -0.3105426707119071,
           0.6936907435576604,
           0.18059190578640608,
           -0.019070615560336904,
           -0.5251746381076707,
           -0.2635520637895755,
           -0.23068728712688524,
           0.2288641908216263,
           0.13794798145240053,
           0.010190209306897019,
           -0.1568323116431453,
           -0.5209193424105917,
           0.5184641022846009,
           -0.25780268076153007,
           -0.28847463386561295,
           0.35421985285394564,
           0.31288434798576176,
           0.29170770606208424,
           0.4254447759100718,
           0.3980379085440998,
           0.04936460565265325,
           -0.004207202669469624,
           -0.06081165219249844,
           -0.0008229176470605183,
           -0.010268127057578137,
           -0.020373366809743793,
           -0.009671359518873598,
           -0.03445282913579339,
           -0.06520205969500836,
           -0.036085694515414296,
           -0.034781002102247965,
           0.028076085460630017,
           -0.015620479717344139,
           0.009332801180969099,
           -0.012173311356974744,
           0.026945336155992736,
           0.0114343328401947,
           0.007865825673746519,
           0.03456394240343046,
           0.021758001479556355,
           0.03656745751813496,
           0.04414900427179236,
           0.00501354859880496,
           -0.06355946051665547,
           0.006496011681293026,
           -0.015570573785604154,
           -0.017188288846451422,
           -0.010098465224042763,
           -0.032530376395706065,
           -0.05775295548541427,
           -0.03033985288947967,
           -0.04073076737012576,
           0.01412655925816298,
           -0.012058490964659633,
           0.004576180088381495,
           -0.01018433480363219,
           0.015990413968363485,
           0.01686893303685301,
           0.007604593337167084,
           0.040493383174917366,
           0.01613975870987991,
           0.04034464207334949,
           0.08463533763036499
          ],
          [
           -0.278429385753619,
           -0.05317078281480031,
           0.039626806400905656,
           -0.221675887887036,
           -0.27949739001392043,
           0.14669696322714929,
           -0.015809470028667824,
           0.012658995348386489,
           -0.036979584572424375,
           0.027069264889856223,
           0.1352435950204396,
           -0.08584701852397751,
           -0.03594777388306123,
           0.10772716285159334,
           -0.04854913504693249,
           0.0075273986125983005,
           1,
           -0.7475815676819955,
           0.16000313967201202,
           0.03664348371531841,
           -0.05908486283695169,
           0.3944892093807379,
           -0.30674697067020895,
           -0.24448346281257996,
           0.17799080819995428,
           0.3862707252834728,
           0.27963412377630087,
           -0.3562446417174851,
           -0.372610775753596,
           -0.13648748381467618,
           0.13606721226258142,
           0.11417701070652861,
           0.02424352482059282,
           -0.1439193183304233,
           -0.2234111107664075,
           0.2274638092247697,
           -0.17807939510560278,
           -0.0007390597977267567,
           0.16341760020072363,
           0.09504310539465495,
           0.04802221359079415,
           0.1812774878301733,
           0.2324941296607448,
           0.014029838384930373,
           0.026670668266012266,
           -0.01960318324221174,
           0.007662509381255789,
           0.00794908169722797,
           0.008846951128253662,
           0.009840186018751475,
           -0.0017667746005766405,
           -0.013316637937217235,
           -0.004984076228038418,
           -0.03200407571296282,
           0.04297814964295137,
           -0.00657312953311039,
           0.002908414051820767,
           0.00022828902231996246,
           -0.004759591729050053,
           -0.008430906106234648,
           0.019423139947184042,
           0.008310261856406641,
           0.0209999007335385,
           0.03594268584731325,
           0.005140286586225432,
           0.016576006184704763,
           -0.018639669642150643,
           0.010056605503497414,
           0.009435709896102302,
           0.00769006257779542,
           0.014649454389152565,
           -0.0012731652716885145,
           -0.0011530640084164944,
           -0.007576246245420353,
           -0.03054582975326102,
           0.030058375290149385,
           -0.003872001602053155,
           0.0007902090643495812,
           0.004431392043341289,
           -0.009339525933709713,
           -0.004529213031979142,
           0.019963971727035238,
           0.010180192150991038,
           0.01816188429744144,
           0.030766840839491227,
           0.04351706742571611
          ],
          [
           0.525678035285132,
           0.03652912487317052,
           -0.038847106220072154,
           0.17896523301624295,
           0.5240617183032865,
           -0.2514350753889322,
           0.05648093388974319,
           -0.006024369480709428,
           0.04287842137628755,
           -0.08195356532972539,
           -0.07892684381804047,
           0.1296158160467393,
           0.04524417002077308,
           -0.12872963061817339,
           0.06297372130910726,
           -0.6385935954849703,
           -0.7475815676819955,
           1,
           -0.4928832076414857,
           -0.19987988266258702,
           0.12490900169817497,
           -0.3141148269819488,
           0.4648945807381148,
           0.3955560410378783,
           -0.592075406543134,
           -0.40619425728197184,
           -0.19610431547013385,
           0.6312685537189654,
           0.4578987646053284,
           0.2651439061312162,
           -0.2637824407016675,
           -0.18397170028490564,
           -0.029297625227367154,
           0.22509848125266113,
           0.5120453126306883,
           -0.5139310599495122,
           0.30942204564313286,
           0.19917703152952387,
           -0.35941520253127224,
           -0.2697714822274596,
           -0.20784067606091464,
           -0.41708230526056334,
           -0.4478787813661999,
           -0.04448358133991186,
           -0.011004100302305298,
           0.05311779492502113,
           -0.003571270057831274,
           -0.0008255335090081883,
           0.006956405177617622,
           -0.0016762616531460549,
           0.02430075972672381,
           0.048890922934514185,
           0.02432636167871884,
           0.04461006990035474,
           -0.05045654567235102,
           0.015075365576530804,
           -0.010855790740012418,
           0.007284532206303821,
           -0.016937113512052272,
           0.0019565839888036523,
           -0.01888435841363707,
           -0.03151993688071195,
           -0.030000664278379507,
           -0.05511725661914448,
           -0.03490786663003937,
           -0.007375145233067556,
           0.05434604255721496,
           -0.00936182735970258,
           0.0029204607490300235,
           0.005281108636661249,
           -0.005286211202088938,
           0.022708893436246033,
           0.03471117574679319,
           0.024914122039094374,
           0.04744991310724503,
           -0.03015858114735244,
           0.010530698424967986,
           -0.006269647820505378,
           0.004387415690364075,
           -0.003999716660116647,
           -0.0056567001945084525,
           -0.019264255846282465,
           -0.03539831039919295,
           -0.02341364649813826,
           -0.05265041842326168,
           -0.0905613304412727
          ],
          [
           -0.4186149546245725,
           -0.005746748236494643,
           0.02379648396174767,
           0.14138948355059527,
           -0.4126556592684563,
           0.21753811912175314,
           -0.010964812612371042,
           -0.052415155519125206,
           -0.05692676616362608,
           0.17680567696548002,
           -0.09347485598719851,
           -0.15386136265542158,
           -0.06027244179137814,
           0.13024788564042197,
           -0.043806260026089026,
           0.56021700284339,
           0.16000313967201202,
           -0.4928832076414857,
           1,
           0.06250848086052904,
           -0.09958999202659866,
           -0.17352522853708222,
           -0.3901910753641654,
           -0.3773420164637682,
           0.6926061341462939,
           0.051385955847726365,
           0.07188055791850145,
           -0.5356170951489201,
           -0.20876180024127908,
           -0.33332239780246653,
           0.3356219945513295,
           0.12664991528527444,
           0.1357265155928384,
           -0.23258103494035773,
           -0.6127469834912089,
           0.6137608282853789,
           -0.26855267607697714,
           -0.2208507856277427,
           0.3321105124020365,
           0.2736841428916132,
           0.22183925670840526,
           0.35856751389064534,
           0.3941479770455476,
           0.03749027809567673,
           0.00433357184591054,
           -0.015139509379118458,
           0.007161369186404297,
           0.0015263950537258474,
           0.006723771024241085,
           0.0030344606824218206,
           -0.008171051579798944,
           -0.010048085753419991,
           -0.019624489840008672,
           -0.0364908656068868,
           0.034357849147361445,
           -0.00027584938621252056,
           0.007117489736110224,
           0.007987437046553844,
           0.061646503502465186,
           -0.0010446223651262856,
           0.012086558795037946,
           0.03313936603897062,
           0.02173883877769976,
           0.020803052278081987,
           0.028739339746927908,
           -0.0006940907112557522,
           -0.015063908657469555,
           0.009871030869219448,
           -0.00043964689189622763,
           0.006292402258651645,
           0.008157515761564262,
           -0.008612131607628292,
           -0.006122637814706245,
           -0.020939635671849685,
           -0.03854556412839684,
           0.015890635130972768,
           0.00820776822423253,
           0.007103038649268494,
           0.003497123118689543,
           0.0411850992274181,
           0.013952364703327036,
           0.004298464777249857,
           0.03595717856563268,
           0.014601888362205294,
           0.02206044095586896,
           0.06508160601876974
          ],
          [
           -0.11773558518883745,
           0.04243783039549762,
           0.03569805917438447,
           0.058309154682559046,
           -0.11533009231616587,
           0.056606777889369596,
           0.042937875167969645,
           0.006322591899321078,
           -0.06713968992910947,
           0.08833008008025929,
           -0.011054298922709432,
           -0.0741081494119581,
           -0.057965877340944744,
           0.11223653910136118,
           -0.03500043227404401,
           0.2680617926220246,
           0.03664348371531841,
           -0.19987988266258702,
           0.06250848086052904,
           1,
           0.07963947932009624,
           -0.12132342668963803,
           -0.09635074960473257,
           -0.19953709109552958,
           0.363010219895105,
           -0.04381392742656421,
           -0.02945152794897635,
           -0.1733538595291715,
           -0.1625988127424805,
           -0.11191024485396991,
           0.11089384966745101,
           -0.025054182824785956,
           0.15713871378431268,
           -0.08549835839306416,
           -0.2134973601706634,
           0.21159296871288077,
           -0.11966086487745889,
           -0.12739308950975595,
           0.2122973851398612,
           0.09309243420816349,
           0.11428414612586965,
           0.19131572551296733,
           0.08242236232486648,
           0.004878662724328767,
           0.008722251096335535,
           0.0035665046145569833,
           -0.012639168645356703,
           0.009247801877713901,
           -0.03071412049972656,
           -0.00895779291998453,
           -0.013078355062443573,
           -0.0005540665147774998,
           -0.01282586453480824,
           -0.014245834682728893,
           -0.009205828079493864,
           -0.0061833881998444844,
           -0.013150612466206009,
           0.010322729403209533,
           0.044247711004172734,
           0.030650053102793156,
           0.02372340268824051,
           0.014830547209784026,
           0.0062675979000677675,
           0.005289714086589485,
           0.0010595065703829485,
           0.0029319188044249584,
           0.0019392637765384922,
           -0.004239026445692119,
           0.004644043460915001,
           -0.02237584579174458,
           -0.011197683974106474,
           -0.012427390907199144,
           0.0073625092097329555,
           -0.013076858457005756,
           -0.01686220490030051,
           -0.014380008547760734,
           -0.010162846241623242,
           -0.014099756390461118,
           0.012183559920382125,
           0.021344799387777662,
           0.027403752670310602,
           0.019198975464987996,
           0.023505482819182105,
           0.011499012793261943,
           0.01102397942544709,
           0.021974498491923962
          ],
          [
           0.24859754006478768,
           -0.018174589641875995,
           0.10695982197097563,
           0.09071640156259506,
           0.2768818584900594,
           -0.1059651155798838,
           0.11116369957390641,
           -0.04689866572657841,
           -0.05240504238069274,
           0.01976129986936121,
           -0.08966619874247395,
           0.038755254733195854,
           -0.012136443449175504,
           0.002162877405186204,
           0.028366861076323333,
           -0.1253800585468892,
           -0.05908486283695169,
           0.12490900169817497,
           -0.09958999202659866,
           0.07963947932009624,
           1,
           -0.2842171410805508,
           -0.06776199623809617,
           -0.06690693457442483,
           0.09927566151545465,
           -0.10643913787809739,
           0.1877125475915482,
           -0.13957693189683906,
           0.02360390769631787,
           -0.19031850043479762,
           0.18906949668759787,
           -0.16044011922252724,
           0.17034770057543686,
           0.03416670635050718,
           -0.04719392300987222,
           0.045782019788295505,
           0.03751005090883186,
           -0.03662235009972506,
           0.0320335420632658,
           -0.029632493006449278,
           -0.043127562650614334,
           -0.03965187627883259,
           -0.10792407398626795,
           -0.06973067919044248,
           0.0400195969969491,
           0.17431028965368567,
           -0.039910863890927545,
           0.0015984896035226388,
           -0.006756837513553255,
           0.03140294931938858,
           0.07661418575581687,
           0.2119654765577952,
           0.06696170217075363,
           0.04978197030243972,
           -0.005849524737734571,
           0.030458503090420242,
           0.005499892636169674,
           0.026611330455971315,
           0.08699956635131413,
           0.03511029636542739,
           -0.00562947088882375,
           -0.03603382240000942,
           -0.02028718616709428,
           -0.026897412070326053,
           -0.06875445331267897,
           0.0376615804352681,
           0.18224689076791686,
           -0.030795715113186784,
           -0.0010779295589800702,
           -0.004853062746342183,
           0.03159167492102456,
           0.06573920028572654,
           0.20295789012494145,
           0.049991099594155715,
           0.04466093355552384,
           -0.00428713382230329,
           0.01743667261975047,
           0.006360675845793091,
           0.03758233987546194,
           0.015728724001401344,
           0.017424175848165736,
           -0.006533919998255629,
           -0.02899007304683487,
           -0.01981295462720372,
           -0.028923878215939277,
           -0.05400256625314131
          ],
          [
           -0.2061975109491016,
           0.005761900445763099,
           -0.004949426233726757,
           -0.16268646614133653,
           -0.21940516505978003,
           0.08763907740302603,
           -0.03185735699198595,
           0.07755980781867529,
           -0.024490369914597344,
           -0.0071955615307325894,
           0.14709484009002868,
           -0.0562798614034093,
           -0.002129783608034767,
           0.027233061264864952,
           -0.03313105069329086,
           0.041373762406708016,
           0.3944892093807379,
           -0.3141148269819488,
           -0.17352522853708222,
           -0.12132342668963803,
           -0.2842171410805508,
           1,
           -0.35250504740056887,
           -0.28352593702730167,
           -0.16970267617283555,
           0.5230844978992449,
           0.15650369620511512,
           -0.15249778618455873,
           -0.2154302043226357,
           0.01775176835008654,
           -0.018381852856660757,
           0.17576615708851137,
           -0.11782333784238536,
           -0.09117046002722047,
           -0.001986541887422196,
           0.004458622224444052,
           -0.1423340275084836,
           0.1320977808753945,
           0.02175204694679118,
           0.009244568995300788,
           0.02576413287141021,
           0.11446088022266951,
           0.1383623989706131,
           0.024106898419876458,
           -0.003725141195160652,
           -0.04685789974882752,
           0.01079489125561488,
           0.005163383714562314,
           0.017601473112317766,
           -0.0032231555731531054,
           -0.009515789548107273,
           -0.06403703312592643,
           -0.014818412239846469,
           -0.029692633764522875,
           0.008997088294386722,
           -0.015136807867488864,
           -0.0019461892195478624,
           -0.0020313735988878876,
           -0.011741667654740514,
           -0.011806406936149146,
           -0.008513077617938174,
           0.0005037941438797298,
           0.007391045223477065,
           0.037208667009603846,
           0.021597584175803992,
           -0.006484502839781644,
           -0.04658203688478112,
           0.013520166263525256,
           0.005144090781849638,
           0.013922433461472225,
           -0.001021311492686568,
           -0.0034355147551216997,
           -0.05787209210032554,
           -0.0032815187783256706,
           -0.027682609296008808,
           0.0059467129681084405,
           -0.011379389916272678,
           -0.0025071182016852592,
           -0.0015359163194069336,
           -0.0007964099122148374,
           -0.0152111550607797,
           0.007475484025252545,
           -0.0019101153740975242,
           0.012021544411718963,
           0.03376068127811344,
           0.047716187168018495
          ],
          [
           0.3047492224965602,
           0.02480171978549036,
           0.037589774240243984,
           -0.048102802623022904,
           0.3052819332382049,
           -0.17981314088627298,
           0.017152674427050353,
           -0.06550040571109576,
           0.08300598581958832,
           0.02683137541106944,
           -0.025785102450977496,
           -0.017214545608014945,
           -0.034641626200752576,
           -0.08882881055856691,
           0.11367700797403857,
           -0.3393577456194648,
           -0.30674697067020895,
           0.4648945807381148,
           -0.3901910753641654,
           -0.09635074960473257,
           -0.06776199623809617,
           -0.35250504740056887,
           1,
           -0.10613555676100268,
           -0.35951200807277806,
           -0.2896866824521052,
           -0.212822158262849,
           0.6123650876392971,
           0.08871565483920317,
           0.1284423945832102,
           -0.1295441971225419,
           -0.016597606369946557,
           -0.047187862768947084,
           0.06551190709220094,
           0.3949909084808901,
           -0.39633754167699714,
           0.1819725652341244,
           0.11407689772716234,
           -0.1913846492416507,
           -0.1412654121991649,
           -0.12478357143555828,
           -0.2441133673802321,
           -0.22447900246841412,
           -0.007677532328709027,
           0.006506049461729035,
           -0.02316268653007909,
           -0.0028268795693846753,
           -0.015089287039101059,
           0.003266401293631193,
           -0.007339108730242182,
           -0.020912007821290206,
           -0.02312368152137759,
           -0.003776233656317006,
           0.0193763505215827,
           -0.011970578464032258,
           0.01062993471759652,
           0.004348647076748139,
           -0.008759717950720197,
           -0.03599215898446723,
           -0.00022671928408524896,
           -0.0026116371750855606,
           -0.006527812784299386,
           -0.0033997717988807547,
           -0.047780494465375405,
           -0.0029781268655080795,
           0.014867623521690299,
           -0.02401685076151156,
           -0.011256518685352487,
           -0.013294189748764977,
           0.0006304762898803486,
           -0.01083577679862012,
           -0.017399982050300494,
           -0.029308247796744697,
           -0.0031287518211128365,
           0.020912685211652307,
           0.004191366446599383,
           0.009797555947656262,
           0.004492929238326292,
           -0.007611848644958908,
           -0.02078476197136714,
           0.0014887683462086268,
           -0.0020608373704924924,
           -0.010195720408180956,
           -0.0012215494521409273,
           -0.048179271554154794,
           -0.042495837828919095
          ],
          [
           0.2730507650314764,
           -0.05234493540424916,
           -0.16124599738250958,
           0.03433760738200567,
           0.25888830217266234,
           -0.07207726456089718,
           -0.03509865234776607,
           0.10854081184004094,
           0.023618472751178746,
           -0.2980562660402642,
           0.05607705281607581,
           0.30732455255067154,
           0.15935451763096226,
           -0.10360745492019538,
           -0.05883708404071247,
           -0.3105426707119071,
           -0.24448346281257996,
           0.3955560410378783,
           -0.3773420164637682,
           -0.19953709109552958,
           -0.06690693457442483,
           -0.28352593702730167,
           -0.10613555676100268,
           1,
           -0.37770417058421824,
           -0.18971303899537797,
           -0.07168389909240819,
           0.2562514249729252,
           0.4504819271040457,
           0.336555039803743,
           -0.3357190293933846,
           -0.23723466258203402,
           -0.13170956154920221,
           0.35406255569155454,
           0.34181756958599024,
           -0.3420165786192216,
           0.2660736591938363,
           0.0603527859192733,
           -0.2515661823447764,
           -0.12944682934361385,
           -0.11970049478575011,
           -0.2987518719990862,
           -0.3518277801720792,
           -0.016815389104069496,
           -0.026692909920450123,
           0.0036983751490998864,
           -0.002650940469095895,
           0.011821230304357937,
           -0.010050468470526475,
           0.002549390143974611,
           0.015081745629835925,
           -0.007767890697188615,
           0.010068858075709588,
           0.028499605317100597,
           -0.02446179734457518,
           -0.007038555051068001,
           -0.012797381081961566,
           -0.012974714574155754,
           -0.059381218529961165,
           -0.015252010724178358,
           -0.005466281969195346,
           -0.03495658916203221,
           -0.020778775501066868,
           -0.005924733604996123,
           -0.009449257657179567,
           -0.027503215890442106,
           0.0023062270163137118,
           -0.01173364287544483,
           0.015073490218247103,
           -0.0036498956145243856,
           -0.0015888174128719094,
           0.010191320521039849,
           -0.01140575678721642,
           0.00978023837063593,
           0.03191137987330298,
           -0.015230156763522221,
           -0.00906189402765397,
           -0.013412940292081923,
           -0.016091453150921527,
           -0.020406265632808736,
           -0.01752432123157524,
           -0.013332685294386146,
           -0.03688609443117018,
           -0.02142127969209821,
           -0.004594874259625886,
           -0.05463238645302968
          ],
          [
           -0.3929312988883008,
           -0.014437378459010889,
           0.06309678687345999,
           0.047819524329306695,
           -0.3820172344339658,
           0.1696458903608802,
           -0.010560977944816972,
           -0.03289206736632466,
           -0.05275206261601247,
           0.18282188184913087,
           -0.09168146674960151,
           -0.16627969047039529,
           -0.09617204862663409,
           0.14215796222194002,
           -0.014821354376430602,
           0.6936907435576604,
           0.17799080819995428,
           -0.592075406543134,
           0.6926061341462939,
           0.363010219895105,
           0.09927566151545465,
           -0.16970267617283555,
           -0.35951200807277806,
           -0.37770417058421824,
           1,
           -0.05905585120200073,
           -0.09557452814332648,
           -0.558214559881121,
           -0.2530590637100739,
           -0.32386281662659855,
           0.32403138950725163,
           0.11572203453154287,
           0.17144603713404513,
           -0.25315773973830935,
           -0.583264891658197,
           0.5835391696553958,
           -0.29411687839742545,
           -0.26833139476555123,
           0.42299759701701084,
           0.2371680187793352,
           0.24758442727985722,
           0.39543540935291693,
           0.3722321087680022,
           0.010800731539977002,
           0.009723065062355745,
           2.9459172599293538e-05,
           0.004703436858044919,
           -0.0051475630657854725,
           -0.016535024216111638,
           0.008093001403834031,
           -0.008310821584352904,
           0.005855699036997532,
           -0.010095913953874911,
           -0.022094584205539558,
           0.04397389509970239,
           0.008738994551096627,
           0.0009083430255064115,
           -0.0016055415062450307,
           0.05638029092561443,
           0.011233059923787748,
           0.017792049176069177,
           0.023991423812053932,
           0.02462181914799976,
           0.01878421661674064,
           0.003182467853001979,
           0.01532521695813153,
           -0.0017472433843393096,
           0.011588983770658846,
           -0.00910179541446641,
           -0.00973673457792421,
           0.011000329085049495,
           -0.010555582969971382,
           0.01877537219433405,
           -0.01633659637819298,
           -0.02990351280323896,
           0.02275019471303475,
           0.009256868632572303,
           -0.0007286028607766082,
           0.0003088893966422608,
           0.020531858100737817,
           0.026965363623499335,
           0.011327789423848931,
           0.031267916340137494,
           0.018126912473335376,
           0.022832992352568787,
           0.06349759823898685
          ],
          [
           -0.1885184626632357,
           0.009924237692118188,
           0.011569922580656663,
           -0.1558015664066144,
           -0.19261633937656047,
           0.13721542932051994,
           -0.04100292119478091,
           0.0540537944860493,
           -0.023215146005097043,
           -0.02921484886128681,
           0.1668618707130202,
           -0.02264514657658013,
           0.054789685861048924,
           0.01731217178130682,
           -0.05786247470820416,
           0.18059190578640608,
           0.3862707252834728,
           -0.40619425728197184,
           0.051385955847726365,
           -0.04381392742656421,
           -0.10643913787809739,
           0.5230844978992449,
           -0.2896866824521052,
           -0.18971303899537797,
           -0.05905585120200073,
           1,
           -0.09644440263381858,
           -0.31525036325190586,
           -0.2704423594736424,
           -0.07149568709968525,
           0.06871134669883652,
           0.09572876609224554,
           -0.048696674760048075,
           -0.05195575758612244,
           -0.1390949930089703,
           0.14002611337309134,
           -0.13558394994632977,
           0.0031588463023189254,
           0.11057506183581982,
           0.09895758306140515,
           0.04867069803866028,
           0.13838945248488424,
           0.17488891522976163,
           0.0288615724659215,
           -0.004767411125124068,
           -0.004919170141040301,
           -0.014305158821066682,
           0.007162583023627371,
           0.007686709411090054,
           0.008243966839677496,
           -0.0012343603766261171,
           -0.00472773700977275,
           0.02305648037468585,
           -0.029651967064029224,
           0.005009392291996568,
           -0.006506864784460691,
           0.010726553362232192,
           0.014057892588929623,
           0.0054035065242224725,
           0.008809798632402867,
           0.002481550129248709,
           0.012174325061598278,
           0.002384327520219643,
           0.010386603480080627,
           0.02420515746425013,
           -0.014618270373247241,
           -0.004379677115049809,
           -0.01391312870091151,
           0.005942105314235214,
           0.012385193006070185,
           0.008448982201109158,
           0.002772411020868875,
           -0.0058664041817288945,
           0.023030296083945478,
           -0.027661376128166347,
           -0.0022734650373592005,
           -0.0032140336157629435,
           0.011125938906625247,
           0.012701972958311691,
           0.003195263766963724,
           0.0010210058637781605,
           0.007529207596561341,
           0.006568949851945113,
           -0.0013050541830119838,
           0.010363609598525017,
           0.028762971321023817
          ],
          [
           -0.03807770822073846,
           -0.025302576309858882,
           0.058551505469457046,
           -0.0403596449944957,
           -0.029730825870333683,
           0.07970384865071925,
           0.028599349920727497,
           -0.02643203141403819,
           -0.04217076402450148,
           0.016749791509945676,
           0.07690600992845961,
           -0.04580556789758361,
           -0.025872393760338577,
           0.014384115939899885,
           -0.0038083099661693196,
           -0.019070615560336904,
           0.27963412377630087,
           -0.19610431547013385,
           0.07188055791850145,
           -0.02945152794897635,
           0.1877125475915482,
           0.15650369620511512,
           -0.212822158262849,
           -0.07168389909240819,
           -0.09557452814332648,
           -0.09644440263381858,
           1,
           -0.3991398384367566,
           -0.21104785853485042,
           -0.16189165786520845,
           0.1639313062749676,
           0.02057476973900559,
           0.06152979098178865,
           -0.07409693447868732,
           -0.08439899183268705,
           0.08493714079848164,
           -0.0504757991797678,
           0.016347138013831974,
           0.0182227929891078,
           0.05316777937408667,
           0.05092427111046773,
           0.10656674032082598,
           0.06001513814499831,
           -0.0024912299109616028,
           0.02596009795313135,
           0.029107421823598947,
           -0.00373721745491939,
           0.011224912388092902,
           0.007917602351428242,
           -0.00098153670090089,
           0.023916671122995108,
           0.0526849096987591,
           0.010113775596110722,
           0.011253531933716041,
           0.015679267797226597,
           0.0025763389520498813,
           0.001737362875387859,
           0.020132118419435675,
           0.024514134444483856,
           0.010305953371259644,
           -0.008753555634098147,
           -0.024893467826983675,
           -0.01396369051818858,
           0.03512792128528811,
           -0.005263537986868344,
           0.029800756180030884,
           0.03217507943490515,
           0.005608039460789325,
           0.005744068364825321,
           0.0017664453502446726,
           0.0006569799872592642,
           0.023414855713452674,
           0.0454025661644831,
           0.010591715760694613,
           0.011428381534505077,
           0.017756109540839223,
           0.005744979284177296,
           -0.0009698436075970524,
           0.016736439724165813,
           0.004172421441270264,
           -0.007956311639069388,
           -0.004249038446985474,
           -0.019414000977202427,
           -0.016534301675354354,
           0.025455215621013237,
           0.004040260696156452
          ],
          [
           0.38610445877656413,
           -0.0073450679380996815,
           -0.019022276335713326,
           -0.0635554975892655,
           0.37943739405134513,
           -0.21572516889315146,
           0.05849484688339625,
           0.0016765042141927112,
           0.03128761677762628,
           -0.03603526772421396,
           -0.010531925933461889,
           0.037152065904219586,
           -0.05378915221588109,
           -0.062095821634889324,
           0.09541886755212771,
           -0.5251746381076707,
           -0.3562446417174851,
           0.6312685537189654,
           -0.5356170951489201,
           -0.1733538595291715,
           -0.13957693189683906,
           -0.15249778618455873,
           0.6123650876392971,
           0.2562514249729252,
           -0.558214559881121,
           -0.31525036325190586,
           -0.3991398384367566,
           1,
           0.016114076263298416,
           0.2822935856540888,
           -0.28244384290772956,
           -0.04660041648937032,
           -0.10184307392683711,
           0.12489243466187935,
           0.502846113851674,
           -0.5038458222665184,
           0.22166598319633912,
           0.18683853752339655,
           -0.25826459864821266,
           -0.20726234642534216,
           -0.20729960175570786,
           -0.32772530112773274,
           -0.32669092105981956,
           -0.03031698814034117,
           -0.010956393212407135,
           -0.0048581344463375295,
           0.017032599440529102,
           -0.023917781602479548,
           -0.005698529778346867,
           -0.00026374217636584556,
           -0.005239348851122941,
           -0.030894902351984818,
           -0.011499976218869222,
           0.02653926424132403,
           -0.04074936845572163,
           -0.00156673164884036,
           -0.0007018416139126345,
           -0.01961554513661139,
           -0.04647477158782085,
           -0.013872873219711689,
           -0.01282565669816442,
           -0.015570973151254228,
           -0.006959216085117062,
           -0.035620597105375316,
           -0.02303405833916864,
           -0.010749873799039971,
           -0.005022594643704952,
           0.003941957763193271,
           -0.01589454000343125,
           -0.008265297143488375,
           -0.0026318454088660455,
           -0.0030930751399592424,
           -0.03269966298763452,
           -0.00665525158457875,
           0.0314507676402871,
           -0.024298854904087338,
           -0.0030717159004487477,
           0.0012898903587807789,
           -0.016608537302684533,
           -0.01942922567925349,
           -0.01281122948511133,
           -0.008212748158820256,
           -0.023286030049738074,
           -0.0008820314496304533,
           -0.033262100867787685,
           -0.04230936651553825
          ],
          [
           0.20463017040643675,
           0.02067119241564986,
           -0.18661249612965072,
           0.24459650955397141,
           0.19213639012695533,
           -0.07516462761531645,
           -0.06989526329014258,
           0.06848385678933365,
           0.08314495975343943,
           -0.24314314885761457,
           -0.04781437226124463,
           0.3057286776906057,
           0.25751200678535807,
           -0.1321768828686496,
           -0.09812838781297376,
           -0.2635520637895755,
           -0.372610775753596,
           0.4578987646053284,
           -0.20876180024127908,
           -0.1625988127424805,
           0.02360390769631787,
           -0.2154302043226357,
           0.08871565483920317,
           0.4504819271040457,
           -0.2530590637100739,
           -0.2704423594736424,
           -0.21104785853485042,
           0.016114076263298416,
           1,
           0.29533678571394584,
           -0.2961545361536896,
           -0.2301363904435332,
           -0.138394613021899,
           0.37699696668534105,
           0.26285462741470017,
           -0.264380516727006,
           0.31419967440787194,
           0.03367034729948332,
           -0.28377074440029226,
           -0.1353681257575923,
           -0.06870237669552512,
           -0.319564477646991,
           -0.3233093931838344,
           0.0011942733114493956,
           -0.026420391597362786,
           -0.02164054986467387,
           -0.03161368981115441,
           0.026318154417093547,
           0.006943038534088509,
           -0.0030727509259609134,
           -0.005709784965963372,
           -0.025857143858338993,
           -0.02137555139516094,
           0.010327368293533024,
           -0.021335330035097504,
           0.014245617101783932,
           -0.021227068385417793,
           -0.024316966760771178,
           -0.056781255869259806,
           -0.0161866075774077,
           0.007046207375039794,
           -0.019239038861725535,
           -0.009748446968684321,
           -0.04178625588720984,
           0.009377042363951964,
           -0.027312352294625277,
           -0.02233990108048194,
           -0.03168818607449961,
           0.026258294561644337,
           0.008582851034023686,
           -0.006033813869990498,
           -0.0114402190805626,
           -0.036793714643689114,
           -0.015310797936819604,
           0.011632704189345243,
           -0.009786306653257332,
           0.0070869331171223016,
           -0.02055742561540223,
           -0.023533451313674226,
           -0.011368419778773951,
           -0.018598158365198174,
           0.0010390496847081804,
           -0.019654089955099367,
           -0.010342280228976283,
           -0.04019546806515102,
           -0.0630702655218511
          ],
          [
           0.14899845321349706,
           -0.04912699168895344,
           -0.3394294613287282,
           0.025263825319750115,
           0.1181598824004475,
           -0.09636218866571956,
           -0.22020374268436727,
           0.14578973747139626,
           0.22462516319083792,
           -0.3909956954602839,
           0.16290069552328743,
           0.36853449607545696,
           0.350994171421032,
           -0.04825087325073532,
           -0.242813966491467,
           -0.23068728712688524,
           -0.13648748381467618,
           0.2651439061312162,
           -0.33332239780246653,
           -0.11191024485396991,
           -0.19031850043479762,
           0.01775176835008654,
           0.1284423945832102,
           0.336555039803743,
           -0.32386281662659855,
           -0.07149568709968525,
           -0.16189165786520845,
           0.2822935856540888,
           0.29533678571394584,
           1,
           -0.9995539474452645,
           -0.18757035507632192,
           -0.2551600904112636,
           0.3947491987472235,
           0.3671486737697851,
           -0.36622402231697354,
           0.4958923964426778,
           0.012575788203628691,
           -0.3502708130854139,
           -0.24134943126513417,
           -0.17346220629900347,
           -0.4255198566189443,
           -0.42751756487271997,
           -0.01598156663992252,
           -0.0325342113203115,
           -0.05391703332320021,
           -0.008610888680184099,
           -0.010314659770019143,
           -0.02707439982756782,
           -0.01637000808204998,
           -0.02872650308283166,
           -0.06220999086601547,
           -0.02672289176737581,
           -0.017955216756073207,
           -0.038488244453859885,
           0.001873775146067576,
           -0.020247634862968784,
           -0.03014745116643276,
           -0.18273234777084774,
           -0.02070729038487228,
           -0.022415245234096888,
           -0.027227070260064032,
           -0.008306043305196324,
           -0.041685791502533355,
           -0.007187580992385017,
           -0.035392498982243704,
           -0.05378149691187833,
           -0.020895134402771656,
           -0.00917542195167681,
           -0.021762614944451735,
           -0.014233613262042278,
           -0.02577194323578471,
           -0.059458968615747225,
           -0.015012452546751737,
           -0.01176990411242241,
           -0.025721019503913253,
           0.005086507871073011,
           -0.022096849107746806,
           -0.028302754306292956,
           -0.08213186950694096,
           -0.02379235204475461,
           -0.02608373985559147,
           -0.030262408171328182,
           -0.012230017718589567,
           -0.03737924230910951,
           -0.07914349838801933
          ],
          [
           -0.1499882488061688,
           0.04836078625193433,
           0.3383893518328436,
           -0.023181931716493076,
           -0.11922308411742107,
           0.09635520157136118,
           0.2224873953258843,
           -0.1467204687848494,
           -0.22667166972453778,
           0.39249527149029617,
           -0.16386120031289425,
           -0.3698107943681498,
           -0.3524278962075681,
           0.05333859929482222,
           0.2396384952915124,
           0.2288641908216263,
           0.13606721226258142,
           -0.2637824407016675,
           0.3356219945513295,
           0.11089384966745101,
           0.18906949668759787,
           -0.018381852856660757,
           -0.1295441971225419,
           -0.3357190293933846,
           0.32403138950725163,
           0.06871134669883652,
           0.1639313062749676,
           -0.28244384290772956,
           -0.2961545361536896,
           -0.9995539474452645,
           1,
           0.1896497360697005,
           0.2539226616748056,
           -0.39613960415912247,
           -0.36649083650907216,
           0.36603578671690484,
           -0.4946520186362783,
           -0.01168184035721613,
           0.3498764776491772,
           0.23997811419879883,
           0.1725114129858549,
           0.42476170379680583,
           0.42764245526727207,
           0.015888282762630265,
           0.03222181535171895,
           0.053843055507245226,
           0.008332934220905404,
           0.010060354090921314,
           0.028013575233350917,
           0.016259837774733197,
           0.028447696637973124,
           0.062233415827390295,
           0.026559727882265943,
           0.01783228874821663,
           0.03967397803344589,
           -0.0020559946177121048,
           0.021756547805521755,
           0.029967911934358202,
           0.18283718812069108,
           0.02064877091714312,
           0.02221898558198104,
           0.026774974010014434,
           0.008092188672997347,
           0.041627062494270825,
           0.007056802839587137,
           0.03508022166138741,
           0.05376021514697974,
           0.020789567990473733,
           0.008949762984534865,
           0.022474536635626433,
           0.014132333344091513,
           0.025490341994272414,
           0.05998368308367895,
           0.014871436597345217,
           0.011658574853968179,
           0.02633057226473915,
           -0.005289004366660653,
           0.023938888323106824,
           0.02813129006547943,
           0.0822656284097605,
           0.023725114093686713,
           0.025874493960512588,
           0.02983848342843372,
           0.011985097287907419,
           0.03750583083217962,
           0.07842891648503215
          ],
          [
           -0.17783022508757343,
           -0.011175207749819034,
           0.2519165790993115,
           -0.13254774609868109,
           -0.16620832959347717,
           -0.01959363675041129,
           -0.01833288893434901,
           -0.00907119332388433,
           0.013174541208175928,
           0.41680720328952886,
           -0.09273260292283805,
           -0.4325590117974314,
           -0.3256200790614137,
           0.10728029795254657,
           0.18357856757336377,
           0.13794798145240053,
           0.11417701070652861,
           -0.18397170028490564,
           0.12664991528527444,
           -0.025054182824785956,
           -0.16044011922252724,
           0.17576615708851137,
           -0.016597606369946557,
           -0.23723466258203402,
           0.11572203453154287,
           0.09572876609224554,
           0.02057476973900559,
           -0.04660041648937032,
           -0.2301363904435332,
           -0.18757035507632192,
           0.1896497360697005,
           1,
           -0.39251421544004184,
           -0.7345637186024246,
           -0.10288587181778906,
           0.10654752054649531,
           -0.31771523717498307,
           0.09631659991540786,
           0.22325594441002786,
           0.05726697681326628,
           -0.08256634759444194,
           0.22631208528874405,
           0.2701671047724969,
           0.024208744061614235,
           0.005977399390186735,
           -0.008592560431886657,
           0.04738513133941249,
           -0.009857318655849224,
           0.013660942882054718,
           0.0008048407171693701,
           -0.015042042968213999,
           -0.026188486053088898,
           -0.012598898421077151,
           -0.012046051240281696,
           0.031070920531839796,
           -0.009637541548420307,
           0.04334477727318648,
           -0.0084108178432492,
           0.020397547551095185,
           -0.00560474967456053,
           -0.019223184896914564,
           0.02684249995562367,
           0.03154537905987028,
           0.029704641383930273,
           0.015564485950063094,
           0.011158519501830694,
           -0.008442966193099189,
           0.04717699799834434,
           -0.019117327219592157,
           0.010800325004895198,
           -0.0009241344455098612,
           -0.013147223042453516,
           -0.021557103099235416,
           -0.01643886673238866,
           -0.008992697217020182,
           0.03369605425467018,
           -0.012542556352489347,
           0.04597501847283597,
           -0.005845686155315849,
           -0.0086546234252329,
           0.00915888378393194,
           -0.010046326253688254,
           0.029119401290883487,
           0.03441834013014561,
           0.03286830366834776,
           0.06997386877110595
          ],
          [
           0.03779549266385713,
           0.023660760238217053,
           0.20006987703904872,
           -0.08850073700008715,
           0.06318048275718827,
           0.036872219397393914,
           0.10545694599011526,
           -0.10030924418384521,
           -0.06329392476156863,
           0.2251749664427102,
           0.031120037494935467,
           -0.27777329087150443,
           -0.24403583525231623,
           -0.011747558818312681,
           0.21134526745627338,
           0.010190209306897019,
           0.02424352482059282,
           -0.029297625227367154,
           0.1357265155928384,
           0.15713871378431268,
           0.17034770057543686,
           -0.11782333784238536,
           -0.047187862768947084,
           -0.13170956154920221,
           0.17144603713404513,
           -0.048696674760048075,
           0.06152979098178865,
           -0.10184307392683711,
           -0.138394613021899,
           -0.2551600904112636,
           0.2539226616748056,
           -0.39251421544004184,
           1,
           -0.2769215169439137,
           -0.23196730621165673,
           0.23079285087930243,
           -0.1858926446548132,
           0.02059698459374124,
           0.07413477918104387,
           0.12163855738317907,
           0.15861441229429601,
           0.18075054020804618,
           0.15705851146818356,
           -0.03598424740474834,
           0.027277702970560286,
           0.038860731175049616,
           -0.0001751071326023214,
           0.001369366364824852,
           0.007157006188932923,
           0.013772396351989388,
           0.035172595069369636,
           0.06522435545460846,
           0.01369558304536389,
           0.030711458497504424,
           0.008620464168370928,
           0.007293995372999418,
           -0.013471689573643779,
           0.02840673347764748,
           0.06939802157483234,
           0.034228285491590835,
           0.010040354896393868,
           -0.00956434926916131,
           -0.0005522585964680567,
           0.009203065961433415,
           -0.03862156321770745,
           0.026391560411437663,
           0.03922659978309373,
           0.004360613741391558,
           0.005163419297972346,
           0.0039810607762014736,
           0.017927945906020787,
           0.033950200200229104,
           0.06286282750340061,
           0.016798833792554677,
           0.028159836806331332,
           -0.006848405124992153,
           0.006262603627923919,
           -0.01599833616616522,
           0.022981966523535048,
           0.020556806037033738,
           0.01919465972855925,
           0.0033699049890300536,
           -0.009158019478891163,
           0.005439821151859584,
           0.002070529139315801,
           0.0077680756021926214
          ],
          [
           0.15549736045678655,
           -0.011085721290908757,
           -0.40174671221165476,
           0.19760764113306437,
           0.12523788988390744,
           0.004856865150585797,
           -0.08242954317098522,
           0.11319339432931443,
           0.05505118915544118,
           -0.6100175190779609,
           0.10689909210125122,
           0.661457628762058,
           0.5161735709274159,
           -0.10524577667992986,
           -0.33948052889168334,
           -0.1568323116431453,
           -0.1439193183304233,
           0.22509848125266113,
           -0.23258103494035773,
           -0.08549835839306416,
           0.03416670635050718,
           -0.09117046002722047,
           0.06551190709220094,
           0.35406255569155454,
           -0.25315773973830935,
           -0.05195575758612244,
           -0.07409693447868732,
           0.12489243466187935,
           0.37699696668534105,
           0.3947491987472235,
           -0.39613960415912247,
           -0.7345637186024246,
           -0.2769215169439137,
           1,
           0.29369326220416875,
           -0.2964448467825395,
           0.4689883200363423,
           -0.0930620704933473,
           -0.2981118578115978,
           -0.13567512396465334,
           -0.04228287598412812,
           -0.38129169720385014,
           -0.3991461104269031,
           -0.0034720601990342465,
           -0.018522496839767075,
           -0.028587377926931154,
           -0.05316644808039698,
           0.013418030243211346,
           -0.014914989064630275,
           -0.012188598117135865,
           -0.008609088459488056,
           -0.03368194843987024,
           0.0028527183802112867,
           -0.003994938886685611,
           -0.041376339837738224,
           0.004230111987946713,
           -0.033695842977031806,
           -0.006709508958226697,
           -0.07832406058530814,
           -0.0242077600385218,
           0.009227025552721597,
           -0.019193328617254955,
           -0.0269372089668393,
           -0.04404916157436969,
           0.006342932241931645,
           -0.021227451294358553,
           -0.02882188315663207,
           -0.05741330028682803,
           0.021869846400139916,
           -0.008119323033082418,
           -0.012775152096153061,
           -0.009426898405645328,
           -0.037938919419088224,
           0.008179636299791574,
           -0.005825018356087471,
           -0.031263956250371996,
           0.004805111299446326,
           -0.035283598520486494,
           -0.006805955092762525,
           -0.00887709224071149,
           -0.027814336803438287,
           0.0031819502564822267,
           -0.02366835918993756,
           -0.03339957919430017,
           -0.043525829876288204,
           -0.07650078387929793
          ],
          [
           0.35178433346378635,
           -0.016134966215265598,
           -0.07341940978548668,
           -0.12202415416524152,
           0.33990488558103754,
           -0.22496085747425512,
           -0.04221263736898709,
           0.114104212977108,
           0.09961350297625791,
           -0.2293390786145646,
           0.15000309833831246,
           0.18317970494991764,
           0.11973144267533159,
           -0.0827245741112362,
           -0.0339135776962615,
           -0.5209193424105917,
           -0.2234111107664075,
           0.5120453126306883,
           -0.6127469834912089,
           -0.2134973601706634,
           -0.04719392300987222,
           -0.001986541887422196,
           0.3949909084808901,
           0.34181756958599024,
           -0.583264891658197,
           -0.1390949930089703,
           -0.08439899183268705,
           0.502846113851674,
           0.26285462741470017,
           0.3671486737697851,
           -0.36649083650907216,
           -0.10288587181778906,
           -0.23196730621165673,
           0.29369326220416875,
           1,
           -0.9992392987669023,
           0.2980197689704542,
           0.23557807984737952,
           -0.33727622561053,
           -0.31681025086090664,
           -0.24145743903713512,
           -0.42194479680458924,
           -0.39290545221929046,
           -0.020284399953024276,
           -0.006595948164228091,
           -0.013115964966537424,
           -0.010087639992156639,
           0.0013314151064756686,
           0.01317285004517072,
           -0.0039876989595772645,
           -0.01134577715195934,
           -0.033447518061181646,
           0.0018752110312447085,
           0.0152826085792638,
           -0.04467990462705074,
           -0.017078941320917192,
           -0.005258654852561023,
           -0.005311034339180067,
           -0.07152168294906501,
           -0.03872459491659951,
           -0.013507110553347374,
           -0.02143048671196348,
           -0.014520572860674224,
           -0.03581907931815305,
           -0.013564428548758799,
           -0.007007785777467481,
           -0.012982014053954171,
           -0.019351168797845555,
           0.002070371973341362,
           0.016981248165718377,
           -0.004977858873236414,
           -0.0056775419387173655,
           -0.03328631536542503,
           0.0028146775739521625,
           0.015525785022318802,
           -0.029103575314341493,
           -0.019788629778803666,
           -0.0027254204272781036,
           0.0017044913592308203,
           -0.02572519475064055,
           -0.04143362412589162,
           -0.010313340546087915,
           -0.024383612831859577,
           -0.005513185530780059,
           -0.03472647239020328,
           -0.05837784808648581
          ],
          [
           -0.3521636617242072,
           0.015281881540403962,
           0.07387547602453334,
           0.12419969192313435,
           -0.3402959622551852,
           0.22266218548715827,
           0.045683249702264235,
           -0.11600156696112926,
           -0.10119052209355187,
           0.23226146749098472,
           -0.15109882447489903,
           -0.18596006049595293,
           -0.122429813583264,
           0.08783069861111999,
           0.03163200628517,
           0.5184641022846009,
           0.2274638092247697,
           -0.5139310599495122,
           0.6137608282853789,
           0.21159296871288077,
           0.045782019788295505,
           0.004458622224444052,
           -0.39633754167699714,
           -0.3420165786192216,
           0.5835391696553958,
           0.14002611337309134,
           0.08493714079848164,
           -0.5038458222665184,
           -0.264380516727006,
           -0.36622402231697354,
           0.36603578671690484,
           0.10654752054649531,
           0.23079285087930243,
           -0.2964448467825395,
           -0.9992392987669023,
           1,
           -0.2987026398022565,
           -0.23233008110100697,
           0.3366118273582368,
           0.31451698540717943,
           0.2421507713837982,
           0.4222164536473787,
           0.3929899542630051,
           0.01925750750696958,
           0.006250466093653916,
           0.013700268379241147,
           0.009033528659939338,
           -0.0016048327910557895,
           -0.012778347735833619,
           0.0038640886482954016,
           0.011843426083427089,
           0.034077330784618054,
           -0.0020451779915798413,
           -0.015313934665971439,
           0.04462500242926149,
           0.016851997783997274,
           0.005909872310123524,
           0.005112176767643393,
           0.07145305727800401,
           0.03860177476452091,
           0.013275236603218332,
           0.022012415491823523,
           0.015960155058964087,
           0.0358318694613938,
           0.012468483783387592,
           0.006662305021297583,
           0.013740923386386102,
           0.018362853681253066,
           -0.002311542502778307,
           -0.016361906890660593,
           0.004861939284608786,
           0.00605505089540979,
           0.034608231201003245,
           -0.002961163030106212,
           -0.015652544284724103,
           0.028670359211908934,
           0.019534550583010925,
           0.0035514556264851383,
           -0.0018834951286353968,
           0.0258449327876337,
           0.041297474351509475,
           0.010073173393114804,
           0.024708781427108847,
           0.006197448093645491,
           0.035032017689651425,
           0.057518193009803514
          ],
          [
           0.20153096374327564,
           0.014720584294801222,
           -0.36953058592036275,
           0.17572890719726997,
           0.1792761402693816,
           -0.09269864118056004,
           -0.06301435338773165,
           0.008701215580068453,
           0.1143579111340105,
           -0.4352702243163861,
           0.06683715967039303,
           0.47096812468078486,
           0.4761521553906015,
           -0.1041252242825188,
           -0.3014227884968821,
           -0.25780268076153007,
           -0.17807939510560278,
           0.30942204564313286,
           -0.26855267607697714,
           -0.11966086487745889,
           0.03751005090883186,
           -0.1423340275084836,
           0.1819725652341244,
           0.2660736591938363,
           -0.29411687839742545,
           -0.13558394994632977,
           -0.0504757991797678,
           0.22166598319633912,
           0.31419967440787194,
           0.4958923964426778,
           -0.4946520186362783,
           -0.31771523717498307,
           -0.1858926446548132,
           0.4689883200363423,
           0.2980197689704542,
           -0.2987026398022565,
           1,
           -0.31828584285498784,
           -0.5508061353799614,
           -0.26798259067132285,
           -0.10973224724867943,
           -0.6456049790926269,
           -0.4011534270688417,
           -0.004282394395826832,
           0.003935242485158542,
           -0.02013178830050494,
           -0.041795430697344274,
           0.02461072090574305,
           -0.00025088496549552884,
           -0.013312312382155907,
           -0.012383190899849239,
           -0.006174404289401231,
           0.020290311548262975,
           0.009291559042280424,
           -0.0314108282309703,
           0.00043490013009976093,
           -0.021845719747440824,
           0.007330443324477108,
           -0.08253927731421502,
           0.004038817564362115,
           -0.012398241049775896,
           -0.022744054790696012,
           -0.009341940253560502,
           -0.05192740150495143,
           0.00453562769387866,
           -0.001434794363136921,
           -0.020193201469492203,
           -0.03685753838876922,
           0.026610779577631704,
           0.006433821615546617,
           -0.017642267879927377,
           -0.01628946537752021,
           -0.011439074009484414,
           0.019460361917693517,
           0.009874394661265848,
           -0.01392921189048367,
           -0.005413274569607337,
           -0.019224533537142083,
           0.006926650667743484,
           -0.02506366626426348,
           -0.009873140489971828,
           -0.012185405253520187,
           -0.024641293177304104,
           -0.017650781660855538,
           -0.054638766099330854,
           -0.07976511689963449
          ],
          [
           0.16105468801520556,
           -0.024334276235966675,
           0.04418461307856896,
           -0.053955267193181645,
           0.16349471710972915,
           -0.11476444659272705,
           0.05926158366986805,
           0.029398865750447808,
           -0.02620355823782362,
           0.08642286767746767,
           0.01950360809368211,
           -0.11497257349187184,
           -0.11844732003150658,
           0.03605717882330886,
           0.06374968727290112,
           -0.28847463386561295,
           -0.0007390597977267567,
           0.19917703152952387,
           -0.2208507856277427,
           -0.12739308950975595,
           -0.03662235009972506,
           0.1320977808753945,
           0.11407689772716234,
           0.0603527859192733,
           -0.26833139476555123,
           0.0031588463023189254,
           0.016347138013831974,
           0.18683853752339655,
           0.03367034729948332,
           0.012575788203628691,
           -0.01168184035721613,
           0.09631659991540786,
           0.02059698459374124,
           -0.0930620704933473,
           0.23557807984737952,
           -0.23233008110100697,
           -0.31828584285498784,
           1,
           -0.4191326955227594,
           -0.2706256045029202,
           -0.20573508751121974,
           -0.22665442442926928,
           -0.12023106867834707,
           -0.006754051265204409,
           -0.0004791259337193268,
           0.02216704312011592,
           0.024906831521967113,
           -0.018312857703641737,
           0.025188893516244544,
           0.019585459982212252,
           0.010551441358429052,
           0.0001601173890950332,
           -0.015044984047854898,
           0.005817505163243204,
           -0.0009046196040276456,
           0.020980682268362257,
           -0.022145121331174134,
           0.022019690349928414,
           -0.0041913850310354075,
           -0.009826456390349257,
           0.0013476476201463193,
           -0.004537820961694095,
           -0.00882449566326681,
           -0.002340585576722988,
           -0.011599139198982887,
           -0.006192035154646428,
           0.020981294039473367,
           0.016513140499289872,
           -0.02014674969777609,
           0.01668955498634978,
           0.02328645925791451,
           0.014413391861297415,
           -0.004195597414539666,
           -0.006832200168266568,
           0.011431063315198026,
           -0.007754738329943024,
           0.020538605011236017,
           -0.017416179126144984,
           0.023019189843137847,
           0.004185915582483272,
           0.0015751956383212532,
           0.004736822081839034,
           -0.007859668553430335,
           -0.00570843188100095,
           0.0003849219708556189,
           -0.0009823603206065797
          ],
          [
           -0.2554826848639466,
           0.01537113639064718,
           0.2566450281156345,
           -0.14896954078463506,
           -0.2412304517624218,
           0.10626726209208835,
           0.03711014142255388,
           -0.008466197170750886,
           -0.08075193888633105,
           0.246226903548131,
           -0.03765439757115349,
           -0.26573321362506774,
           -0.26813457054237744,
           0.07422259645840942,
           0.17192132034819269,
           0.35421985285394564,
           0.16341760020072363,
           -0.35941520253127224,
           0.3321105124020365,
           0.2122973851398612,
           0.0320335420632658,
           0.02175204694679118,
           -0.1913846492416507,
           -0.2515661823447764,
           0.42299759701701084,
           0.11057506183581982,
           0.0182227929891078,
           -0.25826459864821266,
           -0.28377074440029226,
           -0.3502708130854139,
           0.3498764776491772,
           0.22325594441002786,
           0.07413477918104387,
           -0.2981118578115978,
           -0.33727622561053,
           0.3366118273582368,
           -0.5508061353799614,
           -0.4191326955227594,
           1,
           0.036489076118380016,
           0.04556155329287149,
           0.5248320635562753,
           0.3592618828034297,
           -0.001935792094251193,
           -0.007471629535451823,
           0.004103285122451633,
           0.026752837673129262,
           -0.00444671314410271,
           -0.017850759364230712,
           0.003924468804830087,
           -0.010567308413958565,
           0.01711086640432091,
           -0.0021737802765385175,
           -0.011580676132913427,
           0.0323116216506963,
           -0.012140907929119737,
           0.039776426636182166,
           -0.021893818916651743,
           0.06375878607817631,
           -0.011598821377541714,
           0.013561830574838972,
           0.019590017354646227,
           0.016313180686604728,
           0.03625758242816274,
           -0.00592972647615948,
           0.002061389426692351,
           0.005792754877531413,
           0.02626556258482757,
           -0.003162593840986238,
           -0.015099244491856479,
           0.003535563666981803,
           -0.008069865135258108,
           0.028743266716932798,
           -0.009564677904005899,
           -0.014070665915358216,
           0.023794070467334803,
           -0.0008231523647580077,
           0.035640962846241596,
           -0.02043233359301052,
           0.008340429324461636,
           -0.0007620977435601458,
           0.011355951922784215,
           0.026059761160359785,
           0.023009383463695788,
           0.037353231823568415,
           0.05769182689884636
          ],
          [
           -0.1885902830688955,
           0.0019292869327444048,
           0.10469777256456227,
           0.027676318455818274,
           -0.17933137583174816,
           0.1897797598781856,
           -0.06051459613676814,
           -0.015103173348781425,
           0.0011875270316833203,
           0.17885902406197876,
           0.017706494767915863,
           -0.1808047714126801,
           -0.16861776838295192,
           0.039433917344519384,
           0.0994874862497213,
           0.31288434798576176,
           0.09504310539465495,
           -0.2697714822274596,
           0.2736841428916132,
           0.09309243420816349,
           -0.029632493006449278,
           0.009244568995300788,
           -0.1412654121991649,
           -0.12944682934361385,
           0.2371680187793352,
           0.09895758306140515,
           0.05316777937408667,
           -0.20726234642534216,
           -0.1353681257575923,
           -0.24134943126513417,
           0.23997811419879883,
           0.05726697681326628,
           0.12163855738317907,
           -0.13567512396465334,
           -0.31681025086090664,
           0.31451698540717943,
           -0.26798259067132285,
           -0.2706256045029202,
           0.036489076118380016,
           1,
           0.21202688564077998,
           0.6165047032911883,
           0.2661950430340102,
           0.025957120483874014,
           0.001020182985821079,
           -0.003540276149455733,
           -0.007742613914114323,
           -0.009094496741404357,
           0.0006855340396367699,
           -0.0028901080745472214,
           0.023523538885797415,
           -0.014724640522471574,
           -0.020333349973886573,
           -0.021755236655292498,
           0.0066131660546653185,
           -0.009664643638356289,
           0.028511963995752582,
           -0.013018112648768326,
           0.03800974846549464,
           0.027259386011590565,
           -0.004097769087463143,
           0.0037388584993984825,
           0.0047328532908155144,
           0.02870633268121098,
           0.02648250166192062,
           0.0038922163558003904,
           -0.0036745645272863534,
           -0.008719728748328649,
           -0.013141726604444237,
           0.0024051853739685057,
           -0.0008220302161851563,
           0.0210058864299901,
           -0.015978599121270445,
           -0.015060666116574415,
           -0.024189706506934278,
           0.0007556807339740528,
           -0.013558707843166594,
           0.023385182289824363,
           -0.014305800695155678,
           0.02225899480030379,
           0.01049073862665617,
           -0.0033736906506138006,
           0.004704164639727356,
           0.0006182362854857687,
           0.028221236695691924,
           0.057920569860857855
          ],
          [
           -0.13574590832558225,
           -0.028799321702156676,
           0.08754864833310952,
           0.01848203992414077,
           -0.13245467016414056,
           0.21736578907613563,
           -0.09526025143440428,
           -0.047903184303516824,
           0.04892696800778274,
           0.06419232289058069,
           0.031412485856271356,
           -0.07046621974134264,
           -0.07777422035838273,
           0.010614427429621185,
           0.05214448426608206,
           0.29170770606208424,
           0.04802221359079415,
           -0.20784067606091464,
           0.22183925670840526,
           0.11428414612586965,
           -0.043127562650614334,
           0.02576413287141021,
           -0.12478357143555828,
           -0.11970049478575011,
           0.24758442727985722,
           0.04867069803866028,
           0.05092427111046773,
           -0.20729960175570786,
           -0.06870237669552512,
           -0.17346220629900347,
           0.1725114129858549,
           -0.08256634759444194,
           0.15861441229429601,
           -0.04228287598412812,
           -0.24145743903713512,
           0.2421507713837982,
           -0.10973224724867943,
           -0.20573508751121974,
           0.04556155329287149,
           0.21202688564077998,
           1,
           0.29694970555472366,
           0.17164506832987828,
           0.010062183700967677,
           0.003242524542147619,
           -0.01651921430406902,
           -0.029128179329792014,
           -0.005248068568513355,
           -0.0020605740577713813,
           -0.014190374743271643,
           -0.003992415311216281,
           -0.03163043913240596,
           -0.020959379087846047,
           -0.0018212740420890286,
           0.00352405855954206,
           -0.004784311528571995,
           -0.009771780092824915,
           -0.008106401555008852,
           0.03004594642563248,
           -0.007262377352892637,
           0.007649274476440147,
           0.002394383347145816,
           0.01911828409518926,
           0.018167746812462925,
           0.01044095703374811,
           0.0036446404724560697,
           -0.013856873459965278,
           -0.02336641769727204,
           -0.005662987532892604,
           -0.00604015708111504,
           -0.013063935566125695,
           -0.0019702131794147324,
           -0.028106087459133768,
           -0.01829950589842204,
           -0.004815221348022974,
           0.000499036333710635,
           -0.009770283412417695,
           -0.010449541634489554,
           -0.005924677961219376,
           0.02289031638197098,
           -0.008344357733451895,
           0.007273199113013318,
           0.0007444623491140119,
           0.019545179655174796,
           0.01343921442681515,
           -0.0020132358665458858
          ],
          [
           -0.3003413198537398,
           -0.009372625200465843,
           0.28205833304765493,
           -0.07569642170593945,
           -0.28288773342795653,
           0.1776468165649852,
           -0.010879873947256237,
           -0.03949564208997515,
           -0.051617031771691406,
           0.35311794255695234,
           -0.050496621819497885,
           -0.3713070714097232,
           -0.36257027170364614,
           0.10872463982650389,
           0.2069151704626424,
           0.4254447759100718,
           0.1812774878301733,
           -0.41708230526056334,
           0.35856751389064534,
           0.19131572551296733,
           -0.03965187627883259,
           0.11446088022266951,
           -0.2441133673802321,
           -0.2987518719990862,
           0.39543540935291693,
           0.13838945248488424,
           0.10656674032082598,
           -0.32772530112773274,
           -0.319564477646991,
           -0.4255198566189443,
           0.42476170379680583,
           0.22631208528874405,
           0.18075054020804618,
           -0.38129169720385014,
           -0.42194479680458924,
           0.4222164536473787,
           -0.6456049790926269,
           -0.22665442442926928,
           0.5248320635562753,
           0.6165047032911883,
           0.29694970555472366,
           1,
           0.45222107496914343,
           0.020381246268289886,
           0.010505153537706662,
           0.006228850010585736,
           0.02409951443733395,
           -0.014580276512360033,
           -0.00216661189103513,
           -0.008068853086395374,
           0.015502748889243186,
           -0.004715061878266847,
           -0.015728350241520233,
           -0.01220329956478511,
           0.03199911179291784,
           -0.01417587484693501,
           0.02789536825172815,
           -0.012668412645823222,
           0.07969039012073945,
           0.012231297587915885,
           0.009889380717035406,
           0.025498474907293765,
           0.013775778339070593,
           0.050266492254771124,
           0.015006478129659372,
           0.017045511372190923,
           0.007218057879801518,
           0.027491218144020807,
           -0.01689915693090714,
           -0.006536477186725897,
           -0.004560743895978834,
           0.015273664575789615,
           0.00230134343366668,
           -0.014947792685645766,
           -0.01456495894093054,
           0.01800267104425897,
           -0.013107013191113882,
           0.02297264211505345,
           -0.013776727304808386,
           0.02074691701066668,
           0.00945843111293378,
           0.012048673948651886,
           0.032672930434682196,
           0.015730558806809947,
           0.0487704976602368,
           0.09018538195800123
          ],
          [
           -0.5678070801455662,
           -0.023663660845182576,
           0.31707022949349667,
           -0.14509780824483773,
           -0.5363374179077371,
           0.1545566769262925,
           0.017425881022852557,
           -0.06831968776528441,
           -0.05719928831578893,
           0.32620754093627746,
           -0.061650688143636605,
           -0.33982957394897834,
           -0.3028305639069316,
           -0.027153502170667993,
           0.26526424129532566,
           0.3980379085440998,
           0.2324941296607448,
           -0.4478787813661999,
           0.3941479770455476,
           0.08242236232486648,
           -0.10792407398626795,
           0.1383623989706131,
           -0.22447900246841412,
           -0.3518277801720792,
           0.3722321087680022,
           0.17488891522976163,
           0.06001513814499831,
           -0.32669092105981956,
           -0.3233093931838344,
           -0.42751756487271997,
           0.42764245526727207,
           0.2701671047724969,
           0.15705851146818356,
           -0.3991461104269031,
           -0.39290545221929046,
           0.3929899542630051,
           -0.4011534270688417,
           -0.12023106867834707,
           0.3592618828034297,
           0.2661950430340102,
           0.17164506832987828,
           0.45222107496914343,
           1,
           0.012215096695691974,
           0.026651067340721046,
           -0.015673138685704587,
           0.022554549109692307,
           0.00863186807091326,
           0.011704106935613807,
           -0.005946407522008799,
           -0.01602626413757249,
           -0.012260653248886508,
           0.0030053997983622914,
           0.0011679775749038807,
           0.0666140201834721,
           -0.015504648705193443,
           0.032446924188166325,
           0.01770318647212087,
           0.10006204677657732,
           -0.004296448548695234,
           0.01912317956266472,
           0.03723615859717194,
           0.0018797569017682384,
           0.07063131311295118,
           0.003220256918379803,
           0.028506544814698515,
           -0.015878936365459246,
           0.03374575419394833,
           0.006968146669366412,
           0.01738667999100896,
           -0.004186211474732111,
           -0.015823767254080547,
           -0.015046320660156843,
           0.00033879359591201526,
           -0.007716419263954884,
           0.053858493515937446,
           -0.00979201862778685,
           0.03190407163741449,
           0.016164932098429792,
           0.023994867718038892,
           -0.006445007703735214,
           0.019636017430103063,
           0.04108440168244383,
           0.013367061224009314,
           0.0644680386204502,
           0.09593826270941734
          ],
          [
           -0.040447498391755383,
           0.040773962946998844,
           -0.04216380162916189,
           -0.017966721909826133,
           -0.04927765980137636,
           0.052647865983565384,
           -0.013987576298730243,
           0.018513551736779123,
           -0.02093919844626584,
           -0.03900964324451075,
           0.012594108132635755,
           0.036189911484380714,
           0.044342821162773036,
           -0.01429210982239146,
           -0.03441354541221423,
           0.04936460565265325,
           0.014029838384930373,
           -0.04448358133991186,
           0.03749027809567673,
           0.004878662724328767,
           -0.06973067919044248,
           0.024106898419876458,
           -0.007677532328709027,
           -0.016815389104069496,
           0.010800731539977002,
           0.0288615724659215,
           -0.0024912299109616028,
           -0.03031698814034117,
           0.0011942733114493956,
           -0.01598156663992252,
           0.015888282762630265,
           0.024208744061614235,
           -0.03598424740474834,
           -0.0034720601990342465,
           -0.020284399953024276,
           0.01925750750696958,
           -0.004282394395826832,
           -0.006754051265204409,
           -0.001935792094251193,
           0.025957120483874014,
           0.010062183700967677,
           0.020381246268289886,
           0.012215096695691974,
           1,
           -0.03838931836678334,
           -0.10989251159610232,
           0.15453959773585546,
           -0.041049294093322246,
           0.019292801051393374,
           -0.022277998820913917,
           -0.026187954697237212,
           -0.07478898706857282,
           -0.02709733042351581,
           -0.1524128442195511,
           0.1273952779556197,
           -0.018580941810974277,
           0.05713329180221301,
           -0.0017459328856436723,
           0.48485427981260804,
           0.017086570527222036,
           0.002078462365392078,
           -0.01070056471396636,
           0.04014083453275479,
           0.04441613954633934,
           0.9813691759338583,
           -0.04452248436433542,
           -0.11041272349033528,
           0.1439602765143994,
           -0.03866176394858981,
           0.016968049551156463,
           -0.022895495945486576,
           -0.024647261355590103,
           -0.07380845776117,
           -0.025633161250200275,
           -0.14749372216844414,
           0.1338650523471265,
           -0.009621460710009262,
           0.0571760120785982,
           -0.0019048504316985274,
           0.5166315503643533,
           0.013315438127618807,
           -0.002178718267243153,
           -0.0022715279256106335,
           0.04462034417880935,
           0.04628075777846232,
           0.09646268767716294
          ],
          [
           -0.009882599443387059,
           -0.0032367905569931437,
           0.026890215718529058,
           -0.004628030180295327,
           -0.006342621524100109,
           -0.018547604149962038,
           0.02399634078863551,
           -0.0033929303585433423,
           -0.014299625135878777,
           0.014699756077561358,
           -0.0058189059661731286,
           -0.009809465749080568,
           -0.015217762355482603,
           0.0009743680829421463,
           0.014183146004564214,
           -0.004207202669469624,
           0.026670668266012266,
           -0.011004100302305298,
           0.00433357184591054,
           0.008722251096335535,
           0.0400195969969491,
           -0.003725141195160652,
           0.006506049461729035,
           -0.026692909920450123,
           0.009723065062355745,
           -0.004767411125124068,
           0.02596009795313135,
           -0.010956393212407135,
           -0.026420391597362786,
           -0.0325342113203115,
           0.03222181535171895,
           0.005977399390186735,
           0.027277702970560286,
           -0.018522496839767075,
           -0.006595948164228091,
           0.006250466093653916,
           0.003935242485158542,
           -0.0004791259337193268,
           -0.007471629535451823,
           0.001020182985821079,
           0.003242524542147619,
           0.010505153537706662,
           0.026651067340721046,
           -0.03838931836678334,
           1,
           0.022084872716902754,
           -0.008776592037217739,
           0.2948536412347406,
           -0.008901505197831843,
           0.15448461751731682,
           0.13162849854687303,
           0.06552749233242289,
           0.19649690184071428,
           -0.029188060293903396,
           0.035134755866043574,
           -0.007247127216273285,
           -0.008765714228527472,
           0.2026056584708115,
           0.11043295140117934,
           -0.0021808202749569717,
           -0.007637451099857311,
           -0.01776123928622501,
           0.02861617383489095,
           0.0010588207425067007,
           -0.04027641200582869,
           0.8954072351109922,
           0.023993458953553704,
           -0.008605737577446511,
           0.3081236550054867,
           -0.011512054660061425,
           0.1318022406903322,
           0.13587277295165734,
           0.061297857322664025,
           0.22335196260775078,
           -0.029316785093005105,
           0.01775265789345485,
           -0.008074238903052183,
           -0.0089448937655909,
           0.20757290212274332,
           0.06082246450107247,
           -0.0025057283093891025,
           -0.008127778756186588,
           -0.016621931486398133,
           0.021777192610185493,
           -0.0012699245847210036,
           -0.0018523901864641971
          ],
          [
           0.0763959070531533,
           -0.028045768592639776,
           0.034340193612055044,
           0.007867869130888697,
           0.08640591811038746,
           -0.05392122009095077,
           0.03716023509150933,
           -0.01862388884517699,
           -0.013935213194904345,
           0.0080082852307343,
           -0.0019345200622845088,
           -0.008201297038805382,
           -0.029046088793979127,
           0.007413142768995637,
           0.019499137836916803,
           -0.06081165219249844,
           -0.01960318324221174,
           0.05311779492502113,
           -0.015139509379118458,
           0.0035665046145569833,
           0.17431028965368567,
           -0.04685789974882752,
           -0.02316268653007909,
           0.0036983751490998864,
           2.9459172599293538e-05,
           -0.004919170141040301,
           0.029107421823598947,
           -0.0048581344463375295,
           -0.02164054986467387,
           -0.05391703332320021,
           0.053843055507245226,
           -0.008592560431886657,
           0.038860731175049616,
           -0.028587377926931154,
           -0.013115964966537424,
           0.013700268379241147,
           -0.02013178830050494,
           0.02216704312011592,
           0.004103285122451633,
           -0.003540276149455733,
           -0.01651921430406902,
           0.006228850010585736,
           -0.015673138685704587,
           -0.10989251159610232,
           0.022084872716902754,
           1,
           0.07391764573723975,
           0.023844348649099175,
           -0.00809149590794081,
           -0.005532049958749859,
           0.08763930532892178,
           0.5716756503531363,
           0.12392088879510446,
           -0.009581264860419918,
           0.007949072397627611,
           0.056270068396557786,
           0.013612768868001867,
           0.05693816118868918,
           0.2312552718526108,
           -0.0028312031966976183,
           -0.006139745512050579,
           -0.016488161585411353,
           -0.004229238508674132,
           0.003494565713578241,
           -0.1109207716875535,
           0.027768579506703778,
           0.9875786173283088,
           0.09122860514899536,
           0.014883807573154046,
           -0.006179980579757894,
           -0.005092913014433361,
           0.0758669423923558,
           0.5451233724917716,
           0.10076811188350555,
           -0.005658784324626916,
           0.0027804053605933817,
           0.046168906752464475,
           0.01825347504189488,
           0.06244066919587632,
           0.13221453729836605,
           -0.003253008091065982,
           0.0020756404725802086,
           -0.01669346172499706,
           0.002678707719121825,
           0.00015787603685763618,
           -0.021630691664241128
          ],
          [
           -0.008458529104857991,
           -0.02622888053281954,
           0.021131314621021472,
           -0.015416760608542388,
           -0.005722607805348084,
           -0.0002464019768634617,
           0.019499654995179378,
           -0.02300601473663245,
           -0.01846472599450201,
           0.026107829175383807,
           0.0033473500849976897,
           -0.033224324212246685,
           -0.04484568513659041,
           0.0007485905925458041,
           0.03278285583628699,
           -0.0008229176470605183,
           0.007662509381255789,
           -0.003571270057831274,
           0.007161369186404297,
           -0.012639168645356703,
           -0.039910863890927545,
           0.01079489125561488,
           -0.0028268795693846753,
           -0.002650940469095895,
           0.004703436858044919,
           -0.014305158821066682,
           -0.00373721745491939,
           0.017032599440529102,
           -0.03161368981115441,
           -0.008610888680184099,
           0.008332934220905404,
           0.04738513133941249,
           -0.0001751071326023214,
           -0.05316644808039698,
           -0.010087639992156639,
           0.009033528659939338,
           -0.041795430697344274,
           0.024906831521967113,
           0.026752837673129262,
           -0.007742613914114323,
           -0.029128179329792014,
           0.02409951443733395,
           0.022554549109692307,
           0.15453959773585546,
           -0.008776592037217739,
           0.07391764573723975,
           1,
           0.014313512360661773,
           0.05671766331976361,
           0.007602535169113852,
           0.02836877079649592,
           0.07753069892095214,
           0.02087668023958247,
           -0.18655706700396057,
           0.07115836192628591,
           0.0001021590375858813,
           0.048477279891516616,
           -0.007359203273116457,
           0.09143502049928998,
           0.00425993316615274,
           0.024613219200095557,
           -0.04036047716989439,
           0.01457501258957066,
           0.07796964888849407,
           0.14295671584096303,
           -0.02212713575223112,
           0.07515111721705628,
           0.9161544881588952,
           0.018914988717524804,
           0.053960953344496736,
           0.005977590588173175,
           0.030938457788147727,
           0.07104367949689946,
           0.025132267786586546,
           -0.18323596502716616,
           0.07698483270186504,
           0.007205422128251872,
           0.04610352852858564,
           -0.004713227239305275,
           0.018423993628187297,
           -0.0075451461925632604,
           0.03172849612189911,
           -0.03165156121045766,
           0.012587261364622867,
           0.08453215482959045,
           0.15090971482447038
          ],
          [
           -0.02794027016051845,
           -0.01998220359800292,
           -0.0031699907254923165,
           0.0188376991972426,
           -0.027092586482324543,
           0.005570344409868602,
           0.007317068483568724,
           0.009010212660470559,
           -0.015104642598036023,
           -0.009066631769546907,
           -0.010134049857829973,
           0.01808971577692529,
           0.01249576880368273,
           -0.0021402220491434157,
           -0.008604513119883452,
           -0.010268127057578137,
           0.00794908169722797,
           -0.0008255335090081883,
           0.0015263950537258474,
           0.009247801877713901,
           0.0015984896035226388,
           0.005163383714562314,
           -0.015089287039101059,
           0.011821230304357937,
           -0.0051475630657854725,
           0.007162583023627371,
           0.011224912388092902,
           -0.023917781602479548,
           0.026318154417093547,
           -0.010314659770019143,
           0.010060354090921314,
           -0.009857318655849224,
           0.001369366364824852,
           0.013418030243211346,
           0.0013314151064756686,
           -0.0016048327910557895,
           0.02461072090574305,
           -0.018312857703641737,
           -0.00444671314410271,
           -0.009094496741404357,
           -0.005248068568513355,
           -0.014580276512360033,
           0.00863186807091326,
           -0.041049294093322246,
           0.2948536412347406,
           0.023844348649099175,
           0.014313512360661773,
           1,
           0.03197070619046526,
           0.21848738668791917,
           0.13846932047773933,
           0.05467506631869362,
           0.2123336613384914,
           -0.024027098555562006,
           0.025656066613774245,
           -0.005965707831104771,
           -0.007215781986126229,
           0.05633413118522574,
           0.034478644587386365,
           -0.0017952129449761965,
           -0.006287015596164069,
           -0.002256450936657303,
           -0.006941929705010595,
           0.017888699800331666,
           -0.04149802818322073,
           0.19005786209319833,
           0.02550293800296734,
           0.03904143973785721,
           0.9029955844716638,
           0.02607230557472861,
           0.18205395460178264,
           0.14774782361522387,
           0.04907029156251042,
           0.2349887304070066,
           -0.024133062549172305,
           0.048358660517070905,
           -0.006646571643724316,
           -0.007363279433807654,
           0.044681024008637854,
           0.0033408343073234163,
           -0.0020626715320216007,
           -0.006690644710414211,
           -0.004488490669335756,
           -0.007934968408132239,
           0.021538802806340553,
           -0.006540680224170837
          ],
          [
           -0.003587006084582119,
           -0.01648318902819225,
           0.021560868887896812,
           -0.01717200111932695,
           -0.003476071458271106,
           0.012763817069726614,
           -0.004362932770258336,
           -0.0013878633059614526,
           -0.0026283054593082165,
           0.021027944419842366,
           0.016234747162169685,
           -0.026403455691432074,
           -0.022371963081369114,
           0.0018709822676356905,
           0.015989081049776845,
           -0.020373366809743793,
           0.008846951128253662,
           0.006956405177617622,
           0.006723771024241085,
           -0.03071412049972656,
           -0.006756837513553255,
           0.017601473112317766,
           0.003266401293631193,
           -0.010050468470526475,
           -0.016535024216111638,
           0.007686709411090054,
           0.007917602351428242,
           -0.005698529778346867,
           0.006943038534088509,
           -0.02707439982756782,
           0.028013575233350917,
           0.013660942882054718,
           0.007157006188932923,
           -0.014914989064630275,
           0.01317285004517072,
           -0.012778347735833619,
           -0.00025088496549552884,
           0.025188893516244544,
           -0.017850759364230712,
           0.0006855340396367699,
           -0.0020605740577713813,
           -0.00216661189103513,
           0.011704106935613807,
           0.019292801051393374,
           -0.008901505197831843,
           -0.00809149590794081,
           0.05671766331976361,
           0.03197070619046526,
           1,
           -0.007547937751906229,
           0.005944657730104829,
           -0.007151169292001747,
           -0.011148408096032675,
           -0.041811103380416735,
           0.03925593343221871,
           0.0182727426668296,
           -0.007568329577813883,
           0.006109527852582967,
           0.0037590738004357523,
           -0.0038628981392099643,
           0.003302624267302049,
           -0.013154845244977944,
           0.007526861822439154,
           0.02079537490000216,
           0.013830296977509468,
           -0.012963922229569384,
           -0.006797282361029045,
           0.07345693893134977,
           0.01812101488524765,
           0.9048551710056816,
           -0.006948778607469056,
           0.009435438522939234,
           -0.008249092218694918,
           -0.009733607033697547,
           -0.04181782627140562,
           0.031839312444161674,
           0.027790074885131508,
           -0.006333897432670721,
           0.0031292917009594383,
           -0.018412907741795752,
           -0.004438409407164582,
           -0.00032350948060612937,
           -0.011292388586540842,
           0.01255759271321954,
           0.024643677758742044,
           0.005630160845881229
          ],
          [
           0.018421920556896856,
           -0.010525223011358071,
           -0.000297130014433124,
           -0.009927923953650294,
           0.021247534390591558,
           -0.005813917368575843,
           0.027219395556785944,
           -0.0067934089470272335,
           -0.022508715945542424,
           0.007321203945789322,
           0.006109528296498981,
           -0.0061034565636014495,
           0.0012397960772121005,
           0.007511812169260229,
           -0.007532546111478405,
           -0.009671359518873598,
           0.009840186018751475,
           -0.0016762616531460549,
           0.0030344606824218206,
           -0.00895779291998453,
           0.03140294931938858,
           -0.0032231555731531054,
           -0.007339108730242182,
           0.002549390143974611,
           0.008093001403834031,
           0.008243966839677496,
           -0.00098153670090089,
           -0.00026374217636584556,
           -0.0030727509259609134,
           -0.01637000808204998,
           0.016259837774733197,
           0.0008048407171693701,
           0.013772396351989388,
           -0.012188598117135865,
           -0.0039876989595772645,
           0.0038640886482954016,
           -0.013312312382155907,
           0.019585459982212252,
           0.003924468804830087,
           -0.0028901080745472214,
           -0.014190374743271643,
           -0.008068853086395374,
           -0.005946407522008799,
           -0.022277998820913917,
           0.15448461751731682,
           -0.005532049958749859,
           0.007602535169113852,
           0.21848738668791917,
           -0.007547937751906229,
           1,
           0.13481316065711138,
           0.06392587082124877,
           0.10822033525774816,
           -0.01021280647909898,
           -0.008375118217739601,
           -0.002535746022310021,
           -0.0030670946327238,
           0.06493290876550332,
           0.014748344548340153,
           -0.0007630618550724088,
           -0.0026723190678321724,
           0.02063615930095995,
           -0.0029506927149290365,
           -0.004492018461181429,
           -0.023035559520824363,
           0.1109065070226974,
           -0.005601629947918124,
           0.027956587686785987,
           0.2129400827156652,
           -0.0069233283150136075,
           0.9486633329648928,
           0.13012668637650784,
           0.06459213847697039,
           0.0659208093833707,
           -0.01025784686373102,
           -0.007835029105002812,
           -0.0028251496862951183,
           -0.00312978896453643,
           0.05211227194699751,
           -0.004190237516914302,
           -0.0008767461097213306,
           -0.002843883105147596,
           0.014150929083702773,
           -0.0033727874625656606,
           -0.004587900967107575,
           -0.009735866815019948
          ],
          [
           0.031749408895525334,
           -0.01093376147410155,
           0.012458824182111097,
           0.012955422373011047,
           0.03550896276142488,
           -0.009636976908621357,
           0.020479134541541197,
           -0.016292325542959698,
           -0.007853288241842598,
           0.015486770462557897,
           -0.010694744735442015,
           -0.008641766749393605,
           -0.010451365740609776,
           0.016898222539185485,
           -0.004683134983338061,
           -0.03445282913579339,
           -0.0017667746005766405,
           0.02430075972672381,
           -0.008171051579798944,
           -0.013078355062443573,
           0.07661418575581687,
           -0.009515789548107273,
           -0.020912007821290206,
           0.015081745629835925,
           -0.008310821584352904,
           -0.0012343603766261171,
           0.023916671122995108,
           -0.005239348851122941,
           -0.005709784965963372,
           -0.02872650308283166,
           0.028447696637973124,
           -0.015042042968213999,
           0.035172595069369636,
           -0.008609088459488056,
           -0.01134577715195934,
           0.011843426083427089,
           -0.012383190899849239,
           0.010551441358429052,
           -0.010567308413958565,
           0.023523538885797415,
           -0.003992415311216281,
           0.015502748889243186,
           -0.01602626413757249,
           -0.026187954697237212,
           0.13162849854687303,
           0.08763930532892178,
           0.02836877079649592,
           0.13846932047773933,
           0.005944657730104829,
           0.13481316065711138,
           1,
           0.08262429987685124,
           0.12490936588324578,
           -0.007185777442255752,
           -0.006980084117238105,
           0.008966689381692412,
           0.0005664250874174593,
           0.05837743969193115,
           0.057157553173210654,
           0.03521319926160339,
           0.06416663263067879,
           -0.005560696713927635,
           0.016158066807048607,
           -0.011459987082107284,
           -0.02812963469715823,
           0.09751678151414857,
           0.09368878999888752,
           0.04595239103433514,
           0.17221288562270912,
           0.003497651787065309,
           0.08648200931667727,
           0.9660805072786662,
           0.0767859935507134,
           0.1771615445473678,
           -0.010939794207318406,
           -0.0007398573397278227,
           0.01498288940499938,
           0.0020426733003351904,
           0.04626123730656001,
           0.03369192445901726,
           0.06892351980582957,
           0.03231404347079302,
           -0.007182796932575341,
           0.027101785332377486,
           -0.011704601455090459,
           0.012628457818055334
          ],
          [
           0.09666515855928014,
           -0.03061776383713885,
           0.05883195218420688,
           -0.0004470621974908863,
           0.10988702662630899,
           -0.04895469272381334,
           0.04417443934534462,
           -0.03322558468233747,
           -0.012540278316177355,
           0.016130202046317148,
           -0.008325525513410476,
           -0.009847709766949502,
           -0.031882225788099086,
           -0.005829095250744568,
           0.0355378155092317,
           -0.06520205969500836,
           -0.013316637937217235,
           0.048890922934514185,
           -0.010048085753419991,
           -0.0005540665147774998,
           0.2119654765577952,
           -0.06403703312592643,
           -0.02312368152137759,
           -0.007767890697188615,
           0.005855699036997532,
           -0.00472773700977275,
           0.0526849096987591,
           -0.030894902351984818,
           -0.025857143858338993,
           -0.06220999086601547,
           0.062233415827390295,
           -0.026188486053088898,
           0.06522435545460846,
           -0.03368194843987024,
           -0.033447518061181646,
           0.034077330784618054,
           -0.006174404289401231,
           0.0001601173890950332,
           0.01711086640432091,
           -0.014724640522471574,
           -0.03163043913240596,
           -0.004715061878266847,
           -0.012260653248886508,
           -0.07478898706857282,
           0.06552749233242289,
           0.5716756503531363,
           0.07753069892095214,
           0.05467506631869362,
           -0.007151169292001747,
           0.06392587082124877,
           0.08262429987685124,
           1,
           0.22395424245521633,
           -0.002420731810893709,
           0.0003217564080764535,
           0.0634264204814819,
           0.024805580991177755,
           0.08601517812385807,
           0.20506373175998668,
           -0.003033921783527451,
           -0.0012350847663581868,
           -0.010184224298011415,
           -0.007554258526232705,
           0.029498394441946924,
           -0.07586085346206346,
           0.07653442338002113,
           0.5711354011283425,
           0.09796629479767759,
           0.05774868705974474,
           -0.005133768648040582,
           0.06256153586707698,
           0.06622742144489284,
           0.929817837170291,
           0.17585513072621997,
           -0.0010290843904238645,
           -0.010027187284719394,
           0.055303261233295764,
           0.022928001920918706,
           0.07912596105794767,
           0.10730661340622706,
           -0.0034859285695182925,
           -0.0008385274463657096,
           -0.012323068872237287,
           -0.003963441704108294,
           0.022115026947272742,
           -0.01227667105368676
          ],
          [
           0.032407656564213405,
           -0.008149019217533169,
           0.03174659335139146,
           0.00337730381016214,
           0.03657017363165768,
           -0.005186907957167548,
           0.010651806006434755,
           0.0012443366216743908,
           -0.011577489156350762,
           0.014565206092688649,
           -0.02420209480207888,
           -0.005695935503701665,
           -0.006864237102863491,
           -0.0030137474328265287,
           0.008301665259487175,
           -0.036085694515414296,
           -0.004984076228038418,
           0.02432636167871884,
           -0.019624489840008672,
           -0.01282586453480824,
           0.06696170217075363,
           -0.014818412239846469,
           -0.003776233656317006,
           0.010068858075709588,
           -0.010095913953874911,
           0.02305648037468585,
           0.010113775596110722,
           -0.011499976218869222,
           -0.02137555139516094,
           -0.02672289176737581,
           0.026559727882265943,
           -0.012598898421077151,
           0.01369558304536389,
           0.0028527183802112867,
           0.0018752110312447085,
           -0.0020451779915798413,
           0.020290311548262975,
           -0.015044984047854898,
           -0.0021737802765385175,
           -0.020333349973886573,
           -0.020959379087846047,
           -0.015728350241520233,
           0.0030053997983622914,
           -0.02709733042351581,
           0.19649690184071428,
           0.12392088879510446,
           0.02087668023958247,
           0.2123336613384914,
           -0.011148408096032675,
           0.10822033525774816,
           0.12490936588324578,
           0.22395424245521633,
           1,
           0.0015288642704056829,
           0.014370427508018022,
           0.09667391373043407,
           -0.004530141047615693,
           0.09241615894186346,
           0.06313421062908098,
           -0.0011270528775512803,
           -0.003947052096910317,
           -0.009179048854364729,
           -0.004358213810615917,
           -0.0066347731825845795,
           -0.028373276237919052,
           0.128001652444663,
           0.12905133638159505,
           0.036328428782029555,
           0.2840737599596787,
           -0.010225851348483044,
           0.0696539235575401,
           0.13155322731088195,
           0.2538728653394973,
           0.9096706503355444,
           0.0018340661459946,
           -0.003621681230040955,
           0.05769636886104036,
           -0.004622741439845481,
           0.07414991488475936,
           0.02760507255275698,
           -0.0012949660886267176,
           -0.004200454544765077,
           -0.008590251992486487,
           -0.0049816535707882395,
           -0.006776392965427925,
           -0.014380009479420818
          ],
          [
           0.024878965048420885,
           -0.013789971809249376,
           0.023040553038776276,
           -0.00389885733277414,
           0.029835707784863174,
           -0.019798244818647108,
           0.014292999202269521,
           -0.030839082296228594,
           0.011022819340287102,
           0.01408825953859409,
           0.0019250929378016124,
           -0.01872073984174862,
           -0.033729610143790216,
           0.008036637852190644,
           0.020344396430954446,
           -0.034781002102247965,
           -0.03200407571296282,
           0.04461006990035474,
           -0.0364908656068868,
           -0.014245834682728893,
           0.04978197030243972,
           -0.029692633764522875,
           0.0193763505215827,
           0.028499605317100597,
           -0.022094584205539558,
           -0.029651967064029224,
           0.011253531933716041,
           0.02653926424132403,
           0.010327368293533024,
           -0.017955216756073207,
           0.01783228874821663,
           -0.012046051240281696,
           0.030711458497504424,
           -0.003994938886685611,
           0.0152826085792638,
           -0.015313934665971439,
           0.009291559042280424,
           0.005817505163243204,
           -0.011580676132913427,
           -0.021755236655292498,
           -0.0018212740420890286,
           -0.01220329956478511,
           0.0011679775749038807,
           -0.1524128442195511,
           -0.029188060293903396,
           -0.009581264860419918,
           -0.18655706700396057,
           -0.024027098555562006,
           -0.041811103380416735,
           -0.01021280647909898,
           -0.007185777442255752,
           -0.002420731810893709,
           0.0015288642704056829,
           1,
           -0.04113513963615652,
           -0.017369049705623796,
           -0.0045434331834160275,
           -0.016586109159755853,
           -0.17012742948742143,
           -0.005226729795733338,
           -0.01830453141209119,
           -0.02506240565965465,
           -0.020211301913014745,
           -0.017338974828072843,
           -0.1537471035881862,
           -0.02912964798170947,
           -0.010118952076999694,
           -0.16553523296517764,
           -0.021320149807881338,
           -0.03911838759854498,
           -0.009402108697342189,
           -0.007892133595020149,
           0.006011933986535022,
           -0.002962932290211726,
           0.9697075839648649,
           -0.0419167587476412,
           -0.01935137229649715,
           -0.005697468355047608,
           -0.015848187334265636,
           -0.1874704250328083,
           -0.006005430601086097,
           -0.01947969022752786,
           -0.02681985484937791,
           -0.02310251601240161,
           -0.01734041980035294,
           -0.04440971071182613
          ],
          [
           -0.04313990772698723,
           0.019118222745797723,
           0.02597053480141323,
           -0.029133535051616238,
           -0.04032774806468821,
           0.0013677462520104962,
           -0.011810423905795646,
           -0.01885099081384628,
           0.012075620417653593,
           0.031552985906921585,
           0.002190186871925539,
           -0.03390852174482932,
           -0.02865276424679481,
           -0.00262108632322385,
           0.025710162767673177,
           0.028076085460630017,
           0.04297814964295137,
           -0.05045654567235102,
           0.034357849147361445,
           -0.009205828079493864,
           -0.005849524737734571,
           0.008997088294386722,
           -0.011970578464032258,
           -0.02446179734457518,
           0.04397389509970239,
           0.005009392291996568,
           0.015679267797226597,
           -0.04074936845572163,
           -0.021335330035097504,
           -0.038488244453859885,
           0.03967397803344589,
           0.031070920531839796,
           0.008620464168370928,
           -0.041376339837738224,
           -0.04467990462705074,
           0.04462500242926149,
           -0.0314108282309703,
           -0.0009046196040276456,
           0.0323116216506963,
           0.0066131660546653185,
           0.00352405855954206,
           0.03199911179291784,
           0.0666140201834721,
           0.1273952779556197,
           0.035134755866043574,
           0.007949072397627611,
           0.07115836192628591,
           0.025656066613774245,
           0.03925593343221871,
           -0.008375118217739601,
           -0.006980084117238105,
           0.0003217564080764535,
           0.014370427508018022,
           -0.04113513963615652,
           1,
           0.035117429093624725,
           0.1258833036424717,
           -0.0013684083607565342,
           0.12380754350725612,
           -0.0042862341532694265,
           0.01861803952605261,
           -0.001990239402035464,
           0.021764596571249906,
           0.040241081251075,
           0.12155415347266345,
           0.020320193876052908,
           0.004882101231489325,
           0.07290244663670044,
           0.013418055074703965,
           0.0446502014385245,
           -0.007710297066474421,
           -0.0018536353798879132,
           0.0006542276058021781,
           0.013843790734167461,
           -0.04102494904511396,
           0.8501711175783312,
           0.0393224804990924,
           0.13205936406730073,
           -0.0031113767024384354,
           0.08526230223136803,
           -0.004924815851103807,
           0.00745799709875948,
           -0.005470548479535493,
           0.027573407327320474,
           0.03958651376322143,
           0.021152195435315848
          ],
          [
           0.02841988538000271,
           0.008396362469900833,
           0.00384121734833236,
           0.019854587660189788,
           0.03078041352851703,
           -0.007953635159675175,
           -0.019690487802956087,
           -0.0004781091560061577,
           0.016607486676508892,
           0.016906925719667024,
           -0.026078303234000892,
           -0.009643720351805232,
           -0.002286612817620094,
           -0.004777114168276374,
           0.006133012444707206,
           -0.015620479717344139,
           -0.00657312953311039,
           0.015075365576530804,
           -0.00027584938621252056,
           -0.0061833881998444844,
           0.030458503090420242,
           -0.015136807867488864,
           0.01062993471759652,
           -0.007038555051068001,
           0.008738994551096627,
           -0.006506864784460691,
           0.0025763389520498813,
           -0.00156673164884036,
           0.014245617101783932,
           0.001873775146067576,
           -0.0020559946177121048,
           -0.009637541548420307,
           0.007293995372999418,
           0.004230111987946713,
           -0.017078941320917192,
           0.016851997783997274,
           0.00043490013009976093,
           0.020980682268362257,
           -0.012140907929119737,
           -0.009664643638356289,
           -0.004784311528571995,
           -0.01417587484693501,
           -0.015504648705193443,
           -0.018580941810974277,
           -0.007247127216273285,
           0.056270068396557786,
           0.0001021590375858813,
           -0.005965707831104771,
           0.0182727426668296,
           -0.002535746022310021,
           0.008966689381692412,
           0.0634264204814819,
           0.09667391373043407,
           -0.017369049705623796,
           0.035117429093624725,
           1,
           -0.005216246801175842,
           -0.004118178525514244,
           0.014320561035424409,
           -0.0012977489895988894,
           0.001468811911450014,
           -0.01056924800379401,
           -0.005018280581005637,
           -0.007639632856112568,
           -0.020391348231732116,
           -0.007232623975798575,
           0.048249086155123105,
           0.004107358359853503,
           -0.005293597326163853,
           0.00973744012307574,
           -0.0023344572110911787,
           0.006506927705396348,
           0.05901424689696798,
           0.12893895556532897,
           -0.017445650459884395,
           0.012766433977604782,
           0.8975616529669205,
           -0.00532287184765394,
           -0.003934959315633196,
           0.007878065779106063,
           -0.001491093245536884,
           0.015276835393355455,
           -0.00989127579166345,
           -0.005736142479904832,
           -0.007802701451872823,
           -0.009632613096028015
          ],
          [
           -0.0151147364108942,
           0.011337875643704906,
           0.016483482188253122,
           -0.006815769894724682,
           -0.013076121419103783,
           0.008017684391897246,
           0.0006257971446831455,
           -0.004580545889916172,
           0.0061416419545463055,
           0.020882036408939306,
           -0.003359393024371924,
           -0.023756427919793405,
           -0.03372144457615338,
           0.008540250686722525,
           0.015702639113113565,
           0.009332801180969099,
           0.002908414051820767,
           -0.010855790740012418,
           0.007117489736110224,
           -0.013150612466206009,
           0.005499892636169674,
           -0.0019461892195478624,
           0.004348647076748139,
           -0.012797381081961566,
           0.0009083430255064115,
           0.010726553362232192,
           0.001737362875387859,
           -0.0007018416139126345,
           -0.021227068385417793,
           -0.020247634862968784,
           0.021756547805521755,
           0.04334477727318648,
           -0.013471689573643779,
           -0.033695842977031806,
           -0.005258654852561023,
           0.005909872310123524,
           -0.021845719747440824,
           -0.022145121331174134,
           0.039776426636182166,
           0.028511963995752582,
           -0.009771780092824915,
           0.02789536825172815,
           0.032446924188166325,
           0.05713329180221301,
           -0.008765714228527472,
           0.013612768868001867,
           0.048477279891516616,
           -0.007215781986126229,
           -0.007568329577813883,
           -0.0030670946327238,
           0.0005664250874174593,
           0.024805580991177755,
           -0.004530141047615693,
           -0.0045434331834160275,
           0.1258833036424717,
           -0.005216246801175842,
           1,
           -0.0049811152777413,
           0.058101299010273076,
           -0.0015696836061661022,
           -0.00549718925580756,
           0.009971745350315954,
           0.011383456336599247,
           0.13478532512584734,
           0.05460301310606471,
           -0.008748171931063418,
           0.013603220608496823,
           0.048653859679615594,
           -0.006402835222467581,
           -0.0064457041750441086,
           -0.0028236270980870042,
           0.00627370580750764,
           0.025965383089280918,
           -0.003955238486506407,
           -0.004267672538144476,
           0.11153657407002376,
           -0.005811574930738792,
           0.9799685114482573,
           -0.004759503708486025,
           0.04011809207985674,
           -0.0018035418571260146,
           -0.005850111178181697,
           0.030340343071130437,
           0.012795005196849524,
           0.12445071588469069,
           0.04020762953761906
          ],
          [
           0.0013644575759618784,
           -0.017093489253363656,
           0.01738975177549486,
           -0.0015734652483835514,
           0.0014445014914813363,
           -0.01388065705006474,
           0.006432476636515947,
           0.006038904438482075,
           -0.0012649823245952957,
           0.012914339277187334,
           -0.009974102952323335,
           -0.0063224061941194116,
           -0.006513515809017608,
           -0.002135097252020207,
           0.006133351928752141,
           -0.012173311356974744,
           0.00022828902231996246,
           0.007284532206303821,
           0.007987437046553844,
           0.010322729403209533,
           0.026611330455971315,
           -0.0020313735988878876,
           -0.008759717950720197,
           -0.012974714574155754,
           -0.0016055415062450307,
           0.014057892588929623,
           0.020132118419435675,
           -0.01961554513661139,
           -0.024316966760771178,
           -0.03014745116643276,
           0.029967911934358202,
           -0.0084108178432492,
           0.02840673347764748,
           -0.006709508958226697,
           -0.005311034339180067,
           0.005112176767643393,
           0.007330443324477108,
           0.022019690349928414,
           -0.021893818916651743,
           -0.013018112648768326,
           -0.008106401555008852,
           -0.012668412645823222,
           0.01770318647212087,
           -0.0017459328856436723,
           0.2026056584708115,
           0.05693816118868918,
           -0.007359203273116457,
           0.05633413118522574,
           0.006109527852582967,
           0.06493290876550332,
           0.05837743969193115,
           0.08601517812385807,
           0.09241615894186346,
           -0.016586109159755853,
           -0.0013684083607565342,
           -0.004118178525514244,
           -0.0049811152777413,
           1,
           0.06518522137220979,
           -0.0012392506653073896,
           -0.004339979990757443,
           -0.010092820511113687,
           -0.004792072734059445,
           -0.007295262932601491,
           -0.009482745260926658,
           0.1944517022790786,
           0.04889315531538941,
           -1.3911595875405495e-05,
           0.03720433157534298,
           0.0007516949579559228,
           0.04149417109124675,
           0.0592613976479963,
           0.08249864489465307,
           0.0632274406812342,
           -0.0166592569999335,
           -0.005449897415951139,
           -0.004588184568604396,
           -0.0050829340122158055,
           0.9484298669980389,
           0.027609688801505276,
           -0.0014238795879457434,
           -0.004618608578954564,
           -0.009445409092051866,
           -0.005477575741913316,
           -0.0074509809238355535,
           0.03052864006737571
          ],
          [
           -0.009754828021833629,
           -0.0013634520970272207,
           0.05599833282043915,
           0.019325832836088335,
           -0.0003219674986899808,
           -0.0038647412109669927,
           0.07676068162793079,
           -0.020293488093251107,
           -0.07448112406518359,
           0.05845287775332852,
           -0.039445533013352976,
           -0.041533288179969194,
           -0.051582911386157254,
           0.011512842011588005,
           0.03250935655089002,
           0.026945336155992736,
           -0.004759591729050053,
           -0.016937113512052272,
           0.061646503502465186,
           0.044247711004172734,
           0.08699956635131413,
           -0.011741667654740514,
           -0.03599215898446723,
           -0.059381218529961165,
           0.05638029092561443,
           0.0054035065242224725,
           0.024514134444483856,
           -0.04647477158782085,
           -0.056781255869259806,
           -0.18273234777084774,
           0.18283718812069108,
           0.020397547551095185,
           0.06939802157483234,
           -0.07832406058530814,
           -0.07152168294906501,
           0.07145305727800401,
           -0.08253927731421502,
           -0.0041913850310354075,
           0.06375878607817631,
           0.03800974846549464,
           0.03004594642563248,
           0.07969039012073945,
           0.10006204677657732,
           0.48485427981260804,
           0.11043295140117934,
           0.2312552718526108,
           0.09143502049928998,
           0.034478644587386365,
           0.0037590738004357523,
           0.014748344548340153,
           0.057157553173210654,
           0.20506373175998668,
           0.06313421062908098,
           -0.17012742948742143,
           0.12380754350725612,
           0.014320561035424409,
           0.058101299010273076,
           0.06518522137220979,
           1,
           0.01443137817094769,
           0.01873294027747586,
           -0.03826513812845931,
           0.03337160223326393,
           0.061398751699630896,
           0.4860150493159681,
           0.08233728984158904,
           0.23203487886049504,
           0.10336903737304244,
           0.030596702971785537,
           0.0028642109590004674,
           0.01053495739979766,
           0.05347507856639225,
           0.19925070380230006,
           0.05314630521040315,
           -0.165289726136615,
           0.13215203872534256,
           0.014243675710389559,
           0.058510948790771504,
           0.07399170930329874,
           0.8655359201679291,
           0.010137083890815893,
           0.01347116420801589,
           -0.026918300880371008,
           0.0373125576202511,
           0.05355393960743376,
           0.09444598965501096
          ],
          [
           0.014378840976356645,
           -0.005386618931121272,
           0.008036980797128206,
           0.00021252948074376675,
           0.015402305447762308,
           0.009918828526836695,
           0.008904298886728262,
           -0.02078118337471166,
           -0.010619898552468693,
           0.012591479051147577,
           -0.01807779923104272,
           -0.007921293970408454,
           -0.009746636718316846,
           0.004509852067096708,
           0.008867687052904714,
           0.0114343328401947,
           -0.008430906106234648,
           0.0019565839888036523,
           -0.0010446223651262856,
           0.030650053102793156,
           0.03511029636542739,
           -0.011806406936149146,
           -0.00022671928408524896,
           -0.015252010724178358,
           0.011233059923787748,
           0.008809798632402867,
           0.010305953371259644,
           -0.013872873219711689,
           -0.0161866075774077,
           -0.02070729038487228,
           0.02064877091714312,
           -0.00560474967456053,
           0.034228285491590835,
           -0.0242077600385218,
           -0.03872459491659951,
           0.03860177476452091,
           0.004038817564362115,
           -0.009826456390349257,
           -0.011598821377541714,
           0.027259386011590565,
           -0.007262377352892637,
           0.012231297587915885,
           -0.004296448548695234,
           0.017086570527222036,
           -0.0021808202749569717,
           -0.0028312031966976183,
           0.00425993316615274,
           -0.0017952129449761965,
           -0.0038628981392099643,
           -0.0007630618550724088,
           0.03521319926160339,
           -0.003033921783527451,
           -0.0011270528775512803,
           -0.005226729795733338,
           -0.0042862341532694265,
           -0.0012977489895988894,
           -0.0015696836061661022,
           -0.0012392506653073896,
           0.01443137817094769,
           1,
           0.08549519427486411,
           -0.0031805196252066357,
           0.01781267440518578,
           -0.002298933871124227,
           0.01592863990736857,
           -0.0021764559303092475,
           -0.002866812977742432,
           0.0012359946390297955,
           -0.0015929600836084219,
           -0.003543234317008935,
           -0.0007024896162351524,
           0.029456185447771954,
           -0.0027635591212034068,
           -0.0009840229853251303,
           -0.00524978065064144,
           -0.004009826305566459,
           -0.00144586055488097,
           -0.0016017694322096891,
           -0.0011841159676891872,
           0.008084573099390384,
           0.8703338932577493,
           0.04696522710674369,
           -0.002976502846977968,
           0.04196751439455388,
           -0.0023480048049208235,
           0.011689160526185967
          ],
          [
           -0.018115528817815068,
           0.0043912374609947616,
           0.0018573555605239783,
           -0.004662685001116622,
           -0.020505091086859436,
           0.012785371600818633,
           0.018349034429586394,
           0.005138917459932276,
           -0.023801542977981593,
           -0.010603456001583312,
           0.020721289226129713,
           0.0025752510208166277,
           -0.011760898808267632,
           0.014628730895045034,
           -0.011618013430470727,
           0.007865825673746519,
           0.019423139947184042,
           -0.01888435841363707,
           0.012086558795037946,
           0.02372340268824051,
           -0.00562947088882375,
           -0.008513077617938174,
           -0.0026116371750855606,
           -0.005466281969195346,
           0.017792049176069177,
           0.002481550129248709,
           -0.008753555634098147,
           -0.01282565669816442,
           0.007046207375039794,
           -0.022415245234096888,
           0.02221898558198104,
           -0.019223184896914564,
           0.010040354896393868,
           0.009227025552721597,
           -0.013507110553347374,
           0.013275236603218332,
           -0.012398241049775896,
           0.0013476476201463193,
           0.013561830574838972,
           -0.004097769087463143,
           0.007649274476440147,
           0.009889380717035406,
           0.01912317956266472,
           0.002078462365392078,
           -0.007637451099857311,
           -0.006139745512050579,
           0.024613219200095557,
           -0.006287015596164069,
           0.003302624267302049,
           -0.0026723190678321724,
           0.06416663263067879,
           -0.0012350847663581868,
           -0.003947052096910317,
           -0.01830453141209119,
           0.01861803952605261,
           0.001468811911450014,
           -0.00549718925580756,
           -0.004339979990757443,
           0.01873294027747586,
           0.08549519427486411,
           1,
           -0.011138498384570001,
           0.037774377269677986,
           0.010409087800123087,
           -0.00041507160279726716,
           -0.007622166727635757,
           -0.005611676770870118,
           0.04386441532983181,
           -0.005578705811887894,
           -0.0014169304773833738,
           -0.002460189018675458,
           0.05313195288689585,
           -0.001837792218161112,
           -0.0034461470841306153,
           -0.01838525781545526,
           0.0026219358207016773,
           0.0035816067568088415,
           -0.0056095570333014756,
           -0.0041468927557374025,
           0.0048040124484157445,
           0.164768664807627,
           0.9044364454087517,
           -0.010424011186724329,
           0.06350924403498898,
           0.01275142374944381,
           0.09136115886290033
          ],
          [
           -0.012123635316950147,
           -0.016890408083344688,
           0.03079783835100907,
           0.01920523557371358,
           -0.014841469091403194,
           0.0017627380915607531,
           0.00564179254353413,
           0.026605566690752067,
           -0.01781908799087033,
           0.017795815928628358,
           -0.036139879797833965,
           -0.00489185534990911,
           -0.008812974673642759,
           -0.005987862255235726,
           0.008116610068244861,
           0.03456394240343046,
           0.008310261856406641,
           -0.03151993688071195,
           0.03313936603897062,
           0.014830547209784026,
           -0.03603382240000942,
           0.0005037941438797298,
           -0.006527812784299386,
           -0.03495658916203221,
           0.023991423812053932,
           0.012174325061598278,
           -0.024893467826983675,
           -0.015570973151254228,
           -0.019239038861725535,
           -0.027227070260064032,
           0.026774974010014434,
           0.02684249995562367,
           -0.00956434926916131,
           -0.019193328617254955,
           -0.02143048671196348,
           0.022012415491823523,
           -0.022744054790696012,
           -0.004537820961694095,
           0.019590017354646227,
           0.0037388584993984825,
           0.002394383347145816,
           0.025498474907293765,
           0.03723615859717194,
           -0.01070056471396636,
           -0.01776123928622501,
           -0.016488161585411353,
           -0.04036047716989439,
           -0.002256450936657303,
           -0.013154845244977944,
           0.02063615930095995,
           -0.005560696713927635,
           -0.010184224298011415,
           -0.009179048854364729,
           -0.02506240565965465,
           -0.001990239402035464,
           -0.01056924800379401,
           0.009971745350315954,
           -0.010092820511113687,
           -0.03826513812845931,
           -0.0031805196252066357,
           -0.011138498384570001,
           1,
           0.0037594187542175565,
           0.008047215453242123,
           -0.01385673237919999,
           -0.01772569478468585,
           -0.015642211575385662,
           -0.03918031792499539,
           -0.004550213373968509,
           -0.014511116742972455,
           0.02913931475738524,
           -0.0073404323823507145,
           -0.008863219854713243,
           -0.00801417150519328,
           -0.026235161971898537,
           0.007942889414257569,
           -0.01177551198723445,
           0.014147565986756483,
           -0.009643787379581433,
           -0.04052393145747237,
           -0.0036543671915387132,
           -0.011853594787351231,
           0.9358542621115552,
           0.010149623190571612,
           0.008251925888721385,
           0.028695441788390987
          ],
          [
           -0.01732711986220833,
           0.008140752829124565,
           0.013002586949026325,
           -0.013611681695100802,
           -0.01716783298977857,
           -0.001993266511037588,
           0.0014434546961211805,
           -0.011853554418935175,
           0.006032586512663071,
           -0.0086613148800092,
           0.018777635436512438,
           0.00369001404056823,
           -0.002695785223448394,
           -0.010866074730284623,
           0.009078797204325785,
           0.021758001479556355,
           0.0209999007335385,
           -0.030000664278379507,
           0.02173883877769976,
           0.0062675979000677675,
           -0.02028718616709428,
           0.007391045223477065,
           -0.0033997717988807547,
           -0.020778775501066868,
           0.02462181914799976,
           0.002384327520219643,
           -0.01396369051818858,
           -0.006959216085117062,
           -0.009748446968684321,
           -0.008306043305196324,
           0.008092188672997347,
           0.03154537905987028,
           -0.0005522585964680567,
           -0.0269372089668393,
           -0.014520572860674224,
           0.015960155058964087,
           -0.009341940253560502,
           -0.00882449566326681,
           0.016313180686604728,
           0.0047328532908155144,
           0.01911828409518926,
           0.013775778339070593,
           0.0018797569017682384,
           0.04014083453275479,
           0.02861617383489095,
           -0.004229238508674132,
           0.01457501258957066,
           -0.006941929705010595,
           0.007526861822439154,
           -0.0029506927149290365,
           0.016158066807048607,
           -0.007554258526232705,
           -0.004358213810615917,
           -0.020211301913014745,
           0.021764596571249906,
           -0.005018280581005637,
           0.011383456336599247,
           -0.004792072734059445,
           0.03337160223326393,
           0.01781267440518578,
           0.037774377269677986,
           0.0037594187542175565,
           1,
           0.032175219172065235,
           0.03636432108891572,
           0.02288903719741777,
           -0.005175362742252009,
           0.02894207670975285,
           -0.006159835775609063,
           0.0046372620500200286,
           -0.0027164652238343937,
           0.02576680016648673,
           -0.007198187652918955,
           -0.003805129865712526,
           -0.020300437530524754,
           0.026755315666278374,
           -0.005591014906237329,
           0.014662600208234676,
           -0.004578871734009279,
           0.02558446613994663,
           0.03526753550395857,
           0.025235395212013793,
           0.0004314065962481538,
           0.875256477164503,
           0.02591385705226318,
           0.005528100213453567
          ],
          [
           -0.059084119380878555,
           -0.003767431243409118,
           0.03454984139036277,
           -0.01937336416665556,
           -0.05723522698770743,
           0.0004482129963338893,
           0.018931584979481605,
           0.009756509907764551,
           -0.0319692769368132,
           0.03611465942281155,
           -0.01075855268919106,
           -0.04082847226733861,
           -0.036842094244348034,
           -0.000208013516510775,
           0.023214350651259996,
           0.03656745751813496,
           0.03594268584731325,
           -0.05511725661914448,
           0.020803052278081987,
           0.005289714086589485,
           -0.026897412070326053,
           0.037208667009603846,
           -0.047780494465375405,
           -0.005924733604996123,
           0.01878421661674064,
           0.010386603480080627,
           0.03512792128528811,
           -0.035620597105375316,
           -0.04178625588720984,
           -0.041685791502533355,
           0.041627062494270825,
           0.029704641383930273,
           0.009203065961433415,
           -0.04404916157436969,
           -0.03581907931815305,
           0.0358318694613938,
           -0.05192740150495143,
           -0.002340585576722988,
           0.03625758242816274,
           0.02870633268121098,
           0.018167746812462925,
           0.050266492254771124,
           0.07063131311295118,
           0.04441613954633934,
           0.0010588207425067007,
           0.003494565713578241,
           0.07796964888849407,
           0.017888699800331666,
           0.02079537490000216,
           -0.004492018461181429,
           -0.011459987082107284,
           0.029498394441946924,
           -0.0066347731825845795,
           -0.017338974828072843,
           0.040241081251075,
           -0.007639632856112568,
           0.13478532512584734,
           -0.007295262932601491,
           0.061398751699630896,
           -0.002298933871124227,
           0.010409087800123087,
           0.008047215453242123,
           0.032175219172065235,
           1,
           0.040397125406575106,
           -0.00028720678993782845,
           0.006770889433109275,
           0.09464444526675435,
           0.010009058426494506,
           0.0176623846411196,
           -0.004135439747039768,
           -0.01159837655331599,
           0.025600922506714346,
           -0.005792779952141757,
           -0.015061802400925178,
           0.01977881203236699,
           -0.00851154105220336,
           0.1261719867846375,
           -0.006970694120902545,
           0.04116597410273746,
           -0.002641438979836968,
           0.022303262220910527,
           0.008357099333439163,
           0.026981833250512986,
           0.9662387606028424,
           0.06278886173055082
          ],
          [
           -0.032936542477559345,
           0.04253108858191893,
           -0.04391983535569442,
           -0.014319569085137186,
           -0.041614258085721445,
           0.045542545551251305,
           -0.014182560292831253,
           0.017135413148826512,
           -0.017995797725395942,
           -0.04298224488386185,
           0.014153298809148463,
           0.04060928611936889,
           0.04698887588739952,
           -0.018160118274648734,
           -0.03293085073356461,
           0.04414900427179236,
           0.005140286586225432,
           -0.03490786663003937,
           0.028739339746927908,
           0.0010595065703829485,
           -0.06875445331267897,
           0.021597584175803992,
           -0.0029781268655080795,
           -0.009449257657179567,
           0.003182467853001979,
           0.02420515746425013,
           -0.005263537986868344,
           -0.02303405833916864,
           0.009377042363951964,
           -0.007187580992385017,
           0.007056802839587137,
           0.015564485950063094,
           -0.03862156321770745,
           0.006342932241931645,
           -0.013564428548758799,
           0.012468483783387592,
           0.00453562769387866,
           -0.011599139198982887,
           -0.00592972647615948,
           0.02648250166192062,
           0.01044095703374811,
           0.015006478129659372,
           0.003220256918379803,
           0.9813691759338583,
           -0.04027641200582869,
           -0.1109207716875535,
           0.14295671584096303,
           -0.04149802818322073,
           0.013830296977509468,
           -0.023035559520824363,
           -0.02812963469715823,
           -0.07586085346206346,
           -0.028373276237919052,
           -0.1537471035881862,
           0.12155415347266345,
           -0.020391348231732116,
           0.05460301310606471,
           -0.009482745260926658,
           0.4860150493159681,
           0.01592863990736857,
           -0.00041507160279726716,
           -0.01385673237919999,
           0.03636432108891572,
           0.040397125406575106,
           1,
           -0.0458975822649586,
           -0.11130948787989543,
           0.13212219159770974,
           -0.039114019300725424,
           0.011717720545815102,
           -0.02352841309181747,
           -0.026105803250053773,
           -0.07528951575336747,
           -0.026693793662163793,
           -0.1489156952615264,
           0.1314120934027905,
           -0.011938058620875637,
           0.05494068418450974,
           -0.008468916987233718,
           0.5252611809994996,
           0.01215577886946441,
           -0.004713630048939539,
           -0.00586183896636705,
           0.04033773978654769,
           0.0422980568473229,
           0.08938747267886589
          ],
          [
           -0.00406637569077688,
           0.0046930448347063305,
           0.03506246088235528,
           -0.008249166862519926,
           -0.0006864249811245651,
           -0.026679806890602533,
           0.025441177891328527,
           -0.010084934635900633,
           -0.00900350329727285,
           0.018260063823144653,
           -0.002631836272642346,
           -0.01708425736828351,
           -0.0215882894108609,
           -0.0006393267255495567,
           0.019275252905646544,
           0.00501354859880496,
           0.016576006184704763,
           -0.007375145233067556,
           -0.0006940907112557522,
           0.0029319188044249584,
           0.0376615804352681,
           -0.006484502839781644,
           0.014867623521690299,
           -0.027503215890442106,
           0.01532521695813153,
           -0.014618270373247241,
           0.029800756180030884,
           -0.010749873799039971,
           -0.027312352294625277,
           -0.035392498982243704,
           0.03508022166138741,
           0.011158519501830694,
           0.026391560411437663,
           -0.021227451294358553,
           -0.007007785777467481,
           0.006662305021297583,
           -0.001434794363136921,
           -0.006192035154646428,
           0.002061389426692351,
           0.0038922163558003904,
           0.0036446404724560697,
           0.017045511372190923,
           0.028506544814698515,
           -0.04452248436433542,
           0.8954072351109922,
           0.027768579506703778,
           -0.02212713575223112,
           0.19005786209319833,
           -0.012963922229569384,
           0.1109065070226974,
           0.09751678151414857,
           0.07653442338002113,
           0.128001652444663,
           -0.02912964798170947,
           0.020320193876052908,
           -0.007232623975798575,
           -0.008748171931063418,
           0.1944517022790786,
           0.08233728984158904,
           -0.0021764559303092475,
           -0.007622166727635757,
           -0.01772569478468585,
           0.02288903719741777,
           -0.00028720678993782845,
           -0.0458975822649586,
           1,
           0.02909052987809385,
           -0.019795412036629666,
           0.1783228586616866,
           -0.014153714101759618,
           0.0980250838283131,
           0.10103144191944669,
           0.06971419136980815,
           0.128583805482359,
           -0.029258115171605193,
           0.008181377021024125,
           -0.0080580804136294,
           -0.008926992886878498,
           0.1919601700277774,
           0.05234880814324654,
           -0.0025007137458041215,
           -0.008111513120671023,
           -0.016588667013137947,
           0.018695461935917576,
           -0.002412589949370681,
           -0.0007589975368153043
          ],
          [
           0.07967435813820813,
           -0.027626968090108273,
           0.036038537815838156,
           0.00749700706259168,
           0.08979144707543663,
           -0.054928878130231375,
           0.04000001551203257,
           -0.017097170907232753,
           -0.01666383526309421,
           0.010122386243261781,
           -0.0012834896039771735,
           -0.010425113482511216,
           -0.03124773223731226,
           0.009970850403019692,
           0.018673020470348824,
           -0.06355946051665547,
           -0.018639669642150643,
           0.05434604255721496,
           -0.015063908657469555,
           0.0019392637765384922,
           0.18224689076791686,
           -0.04658203688478112,
           -0.02401685076151156,
           0.0023062270163137118,
           -0.0017472433843393096,
           -0.004379677115049809,
           0.03217507943490515,
           -0.005022594643704952,
           -0.02233990108048194,
           -0.05378149691187833,
           0.05376021514697974,
           -0.008442966193099189,
           0.03922659978309373,
           -0.02882188315663207,
           -0.012982014053954171,
           0.013740923386386102,
           -0.020193201469492203,
           0.020981294039473367,
           0.005792754877531413,
           -0.0036745645272863534,
           -0.013856873459965278,
           0.007218057879801518,
           -0.015878936365459246,
           -0.11041272349033528,
           0.023993458953553704,
           0.9875786173283088,
           0.07515111721705628,
           0.02550293800296734,
           -0.006797282361029045,
           -0.005601629947918124,
           0.09368878999888752,
           0.5711354011283425,
           0.12905133638159505,
           -0.010118952076999694,
           0.004882101231489325,
           0.048249086155123105,
           0.013603220608496823,
           0.04889315531538941,
           0.23203487886049504,
           -0.002866812977742432,
           -0.005611676770870118,
           -0.015642211575385662,
           -0.005175362742252009,
           0.006770889433109275,
           -0.11130948787989543,
           0.02909052987809385,
           1,
           0.09103848402766046,
           0.016208519266667658,
           -0.004890184911719123,
           -0.005156969708610144,
           0.08166201524109407,
           0.5471747043564656,
           0.0998643571389375,
           -0.006615791403771994,
           -0.0006171020427602315,
           0.0392206223444767,
           0.018267048529649135,
           0.053786706521301256,
           0.1346357669616247,
           -0.0032939231712682733,
           0.004126225118042184,
           -0.016120142102342104,
           0.0006932605028609595,
           0.002914314394018337,
           -0.021279076658575743
          ],
          [
           -0.008274479956728073,
           -0.0294270484318858,
           0.020598054752423003,
           -0.01580706377405757,
           -0.005573294455194048,
           -0.0027271508612805445,
           0.02798680051791532,
           -0.02479265909647544,
           -0.024372533330823523,
           0.027907272231343826,
           -0.00024801655626365254,
           -0.03275605023534752,
           -0.043610988660455256,
           0.0019497854305953802,
           0.02922570351384058,
           0.006496011681293026,
           0.010056605503497414,
           -0.00936182735970258,
           0.009871030869219448,
           -0.004239026445692119,
           -0.030795715113186784,
           0.013520166263525256,
           -0.011256518685352487,
           -0.01173364287544483,
           0.011588983770658846,
           -0.01391312870091151,
           0.005608039460789325,
           0.003941957763193271,
           -0.03168818607449961,
           -0.020895134402771656,
           0.020789567990473733,
           0.04717699799834434,
           0.004360613741391558,
           -0.05741330028682803,
           -0.019351168797845555,
           0.018362853681253066,
           -0.03685753838876922,
           0.016513140499289872,
           0.02626556258482757,
           -0.008719728748328649,
           -0.02336641769727204,
           0.027491218144020807,
           0.03374575419394833,
           0.1439602765143994,
           -0.008605737577446511,
           0.09122860514899536,
           0.9161544881588952,
           0.03904143973785721,
           0.07345693893134977,
           0.027956587686785987,
           0.04595239103433514,
           0.09796629479767759,
           0.036328428782029555,
           -0.16553523296517764,
           0.07290244663670044,
           0.004107358359853503,
           0.048653859679615594,
           -1.3911595875405495e-05,
           0.10336903737304244,
           0.0012359946390297955,
           0.04386441532983181,
           -0.03918031792499539,
           0.02894207670975285,
           0.09464444526675435,
           0.13212219159770974,
           -0.019795412036629666,
           0.09103848402766046,
           1,
           0.03869460276905445,
           0.0653040733866327,
           0.030259304355207933,
           0.04508186252421974,
           0.08473118555298582,
           0.038339358419427885,
           -0.1623216800109709,
           0.0934929830864764,
           0.006137304150077196,
           0.044575410844688065,
           0.0030137262368544436,
           0.02584167872493298,
           -0.008592633127135657,
           0.046364183435581276,
           -0.029623861989942976,
           0.03183998705537656,
           0.10496290059759271,
           0.14421046445220323
          ],
          [
           -0.027822243522244616,
           -0.018715983275157246,
           -0.009047246342738124,
           0.021957811677567822,
           -0.028770103375399536,
           0.007263304112705504,
           0.00982574527391283,
           0.006150845662893824,
           -0.018834163012534447,
           -0.011205219206162362,
           -0.008067211968830618,
           0.02016330576208147,
           0.018247406988113456,
           0.0007747411555544233,
           -0.016683474963148155,
           -0.015570573785604154,
           0.009435709896102302,
           0.0029204607490300235,
           -0.00043964689189622763,
           0.004644043460915001,
           -0.0010779295589800702,
           0.005144090781849638,
           -0.013294189748764977,
           0.015073490218247103,
           -0.00910179541446641,
           0.005942105314235214,
           0.005744068364825321,
           -0.01589454000343125,
           0.026258294561644337,
           -0.00917542195167681,
           0.008949762984534865,
           -0.019117327219592157,
           0.005163419297972346,
           0.021869846400139916,
           0.002070371973341362,
           -0.002311542502778307,
           0.026610779577631704,
           -0.02014674969777609,
           -0.003162593840986238,
           -0.013141726604444237,
           -0.005662987532892604,
           -0.01689915693090714,
           0.006968146669366412,
           -0.03866176394858981,
           0.3081236550054867,
           0.014883807573154046,
           0.018914988717524804,
           0.9029955844716638,
           0.01812101488524765,
           0.2129400827156652,
           0.17221288562270912,
           0.05774868705974474,
           0.2840737599596787,
           -0.021320149807881338,
           0.013418055074703965,
           -0.005293597326163853,
           -0.006402835222467581,
           0.03720433157534298,
           0.030596702971785537,
           -0.0015929600836084219,
           -0.005578705811887894,
           -0.004550213373968509,
           -0.006159835775609063,
           0.010009058426494506,
           -0.039114019300725424,
           0.1783228586616866,
           0.016208519266667658,
           0.03869460276905445,
           1,
           0.01440548362771837,
           0.1654364383837008,
           0.18109647832944362,
           0.04362005769979175,
           0.37908228179835113,
           -0.021414175651777435,
           0.029146316788457943,
           -0.005897753439739245,
           -0.0065337152649977935,
           0.02931774299171668,
           0.0005294675290912949,
           -0.0018302861648257706,
           -0.005936861132337128,
           -0.005877547427330266,
           -0.007040996431216396,
           0.012449248831873337,
           -0.009176086516429783
          ],
          [
           -0.012530104129569666,
           -0.019294521953105097,
           0.01307614177061801,
           -0.015571460913693548,
           -0.011790621666604948,
           0.009376133760355121,
           -0.002989468723851673,
           0.0016901599401345974,
           -0.003654511445304002,
           0.01342101066198524,
           0.019288483591379302,
           -0.018038715804634547,
           -0.010901226960825324,
           -0.0004861264314979833,
           0.013185853347454769,
           -0.017188288846451422,
           0.00769006257779542,
           0.005281108636661249,
           0.006292402258651645,
           -0.02237584579174458,
           -0.004853062746342183,
           0.013922433461472225,
           0.0006304762898803486,
           -0.0036498956145243856,
           -0.00973673457792421,
           0.012385193006070185,
           0.0017664453502446726,
           -0.008265297143488375,
           0.008582851034023686,
           -0.021762614944451735,
           0.022474536635626433,
           0.010800325004895198,
           0.0039810607762014736,
           -0.008119323033082418,
           0.016981248165718377,
           -0.016361906890660593,
           0.006433821615546617,
           0.01668955498634978,
           -0.015099244491856479,
           0.0024051853739685057,
           -0.00604015708111504,
           -0.006536477186725897,
           0.01738667999100896,
           0.016968049551156463,
           -0.011512054660061425,
           -0.006179980579757894,
           0.053960953344496736,
           0.02607230557472861,
           0.9048551710056816,
           -0.0069233283150136075,
           0.003497651787065309,
           -0.005133768648040582,
           -0.010225851348483044,
           -0.03911838759854498,
           0.0446502014385245,
           0.00973744012307574,
           -0.0064457041750441086,
           0.0007516949579559228,
           0.0028642109590004674,
           -0.003543234317008935,
           -0.0014169304773833738,
           -0.014511116742972455,
           0.0046372620500200286,
           0.0176623846411196,
           0.011717720545815102,
           -0.014153714101759618,
           -0.004890184911719123,
           0.0653040733866327,
           0.01440548362771837,
           1,
           -0.006373750985916898,
           0.005984626402151819,
           -0.006376093182651118,
           -0.00892812837077175,
           -0.03914172157303302,
           0.03912836832352455,
           0.017806987263267487,
           -0.005216645042714107,
           -0.001050550937632203,
           -0.019020266238467393,
           -0.004071120686506403,
           -0.004014507610767567,
           -0.012782000501224782,
           0.009219595777140219,
           0.022463507422656955,
           0.00858913969585781
          ],
          [
           0.01888317321775835,
           -0.009689725446093105,
           0.0006077907499911928,
           -0.013046363034214225,
           0.02196279017476501,
           -0.011052007474591908,
           0.025261553463059135,
           -0.0051302097817129836,
           -0.017734246357490737,
           0.009474193730361274,
           0.009948546622611177,
           -0.010756712223189548,
           -0.0023393003634990606,
           0.013514541641443216,
           -0.009414159951382955,
           -0.010098465224042763,
           0.014649454389152565,
           -0.005286211202088938,
           0.008157515761564262,
           -0.011197683974106474,
           0.03159167492102456,
           -0.001021311492686568,
           -0.01083577679862012,
           -0.0015888174128719094,
           0.011000329085049495,
           0.008448982201109158,
           0.0006569799872592642,
           -0.0026318454088660455,
           -0.006033813869990498,
           -0.014233613262042278,
           0.014132333344091513,
           -0.0009241344455098612,
           0.017927945906020787,
           -0.012775152096153061,
           -0.004977858873236414,
           0.004861939284608786,
           -0.017642267879927377,
           0.02328645925791451,
           0.003535563666981803,
           -0.0008220302161851563,
           -0.013063935566125695,
           -0.004560743895978834,
           -0.004186211474732111,
           -0.022895495945486576,
           0.1318022406903322,
           -0.005092913014433361,
           0.005977590588173175,
           0.18205395460178264,
           -0.006948778607469056,
           0.9486633329648928,
           0.08648200931667727,
           0.06256153586707698,
           0.0696539235575401,
           -0.009402108697342189,
           -0.007710297066474421,
           -0.0023344572110911787,
           -0.0028236270980870042,
           0.04149417109124675,
           0.01053495739979766,
           -0.0007024896162351524,
           -0.002460189018675458,
           0.02913931475738524,
           -0.0027164652238343937,
           -0.004135439747039768,
           -0.02352841309181747,
           0.0980250838283131,
           -0.005156969708610144,
           0.030259304355207933,
           0.1654364383837008,
           -0.006373750985916898,
           1,
           0.08342729266854824,
           0.07454115645347403,
           0.04227085202316617,
           -0.009443573753292939,
           -0.007213080502683907,
           -0.002600887864777409,
           -0.002881344721897021,
           0.03320083868244435,
           -0.006865397785925789,
           -0.0008071495568277048,
           -0.002618134215296475,
           0.02056891612815912,
           -0.003105053875344478,
           -0.0042237110507931394,
           -0.00896302874679844
          ],
          [
           0.03046131827147868,
           -0.010348557185313615,
           0.01460789753519575,
           0.0061024935828146885,
           0.03371961757228279,
           -0.0038722846125229396,
           0.01610684738585532,
           -0.016247003176928676,
           -0.005018962553662453,
           0.015456849852366516,
           -0.007775573034150703,
           -0.009675492240737858,
           -0.01047183470035603,
           0.01448993145173379,
           -0.001987241671528904,
           -0.032530376395706065,
           -0.0012731652716885145,
           0.022708893436246033,
           -0.008612131607628292,
           -0.012427390907199144,
           0.06573920028572654,
           -0.0034355147551216997,
           -0.017399982050300494,
           0.010191320521039849,
           -0.010555582969971382,
           0.002772411020868875,
           0.023414855713452674,
           -0.0030930751399592424,
           -0.0114402190805626,
           -0.02577194323578471,
           0.025490341994272414,
           -0.013147223042453516,
           0.033950200200229104,
           -0.009426898405645328,
           -0.0056775419387173655,
           0.00605505089540979,
           -0.01628946537752021,
           0.014413391861297415,
           -0.008069865135258108,
           0.0210058864299901,
           -0.0019702131794147324,
           0.015273664575789615,
           -0.015823767254080547,
           -0.024647261355590103,
           0.13587277295165734,
           0.0758669423923558,
           0.030938457788147727,
           0.14774782361522387,
           0.009435438522939234,
           0.13012668637650784,
           0.9660805072786662,
           0.06622742144489284,
           0.13155322731088195,
           -0.007892133595020149,
           -0.0018536353798879132,
           0.006506927705396348,
           0.00627370580750764,
           0.0592613976479963,
           0.05347507856639225,
           0.029456185447771954,
           0.05313195288689585,
           -0.0073404323823507145,
           0.02576680016648673,
           -0.01159837655331599,
           -0.026105803250053773,
           0.10103144191944669,
           0.08166201524109407,
           0.04508186252421974,
           0.18109647832944362,
           0.005984626402151819,
           0.08342729266854824,
           1,
           0.059809928993869915,
           0.1930036398939175,
           -0.011029672234529515,
           0.0050926111550757495,
           0.011472037798832909,
           0.008879310291392061,
           0.046964523392834655,
           0.03252518693165364,
           0.05791699587759017,
           0.026121169190259454,
           -0.008543056378940409,
           0.03658721951247922,
           -0.011845944861021484,
           0.009428225052330751
          ],
          [
           0.09205521672328446,
           -0.027569640644481485,
           0.05868127010641364,
           -0.005503775418863138,
           0.10524914182497114,
           -0.0437516060255018,
           0.04330017444905612,
           -0.029244699242244276,
           -0.014143149978741637,
           0.02056991834677276,
           -0.006038996852877271,
           -0.014053766928304732,
           -0.034086638673445586,
           -6.400560843746906e-05,
           0.031012272044962444,
           -0.05775295548541427,
           -0.0011530640084164944,
           0.03471117574679319,
           -0.006122637814706245,
           0.0073625092097329555,
           0.20295789012494145,
           -0.05787209210032554,
           -0.029308247796744697,
           -0.01140575678721642,
           0.01877537219433405,
           -0.0058664041817288945,
           0.0454025661644831,
           -0.03269966298763452,
           -0.036793714643689114,
           -0.059458968615747225,
           0.05998368308367895,
           -0.021557103099235416,
           0.06286282750340061,
           -0.037938919419088224,
           -0.03328631536542503,
           0.034608231201003245,
           -0.011439074009484414,
           -0.004195597414539666,
           0.028743266716932798,
           -0.015978599121270445,
           -0.028106087459133768,
           0.00230134343366668,
           -0.015046320660156843,
           -0.07380845776117,
           0.061297857322664025,
           0.5451233724917716,
           0.07104367949689946,
           0.04907029156251042,
           -0.008249092218694918,
           0.06459213847697039,
           0.0767859935507134,
           0.929817837170291,
           0.2538728653394973,
           0.006011933986535022,
           0.0006542276058021781,
           0.05901424689696798,
           0.025965383089280918,
           0.08249864489465307,
           0.19925070380230006,
           -0.0027635591212034068,
           -0.001837792218161112,
           -0.008863219854713243,
           -0.007198187652918955,
           0.025600922506714346,
           -0.07528951575336747,
           0.06971419136980815,
           0.5471747043564656,
           0.08473118555298582,
           0.04362005769979175,
           -0.006376093182651118,
           0.07454115645347403,
           0.059809928993869915,
           1,
           0.18264457002212095,
           0.005913760741745395,
           -0.009477243844175946,
           0.04859245523401472,
           0.024106800849543704,
           0.07458898531818015,
           0.11205535208469007,
           -0.003175286108712272,
           -0.0015584540249332206,
           -0.010917464651709573,
           -0.0043273198762409796,
           0.019063103805418567,
           -0.017202019689694065
          ],
          [
           0.02012275348697667,
           -0.006756071642570942,
           0.02725686606488243,
           0.0056300126162458245,
           0.02234670889343945,
           -0.004238374438043051,
           0.007602773497376097,
           0.0006571039662353726,
           -0.008057564494354767,
           0.014775725339252425,
           -0.025502390042180453,
           -0.005987417227210983,
           -0.004577404794130533,
           0.0014584744875850736,
           0.004960802847639196,
           -0.03033985288947967,
           -0.007576246245420353,
           0.024914122039094374,
           -0.020939635671849685,
           -0.013076858457005756,
           0.049991099594155715,
           -0.0032815187783256706,
           -0.0031287518211128365,
           0.00978023837063593,
           -0.01633659637819298,
           0.023030296083945478,
           0.010591715760694613,
           -0.00665525158457875,
           -0.015310797936819604,
           -0.015012452546751737,
           0.014871436597345217,
           -0.01643886673238866,
           0.016798833792554677,
           0.008179636299791574,
           0.0028146775739521625,
           -0.002961163030106212,
           0.019460361917693517,
           -0.006832200168266568,
           -0.009564677904005899,
           -0.015060666116574415,
           -0.01829950589842204,
           -0.014947792685645766,
           0.00033879359591201526,
           -0.025633161250200275,
           0.22335196260775078,
           0.10076811188350555,
           0.025132267786586546,
           0.2349887304070066,
           -0.009733607033697547,
           0.0659208093833707,
           0.1771615445473678,
           0.17585513072621997,
           0.9096706503355444,
           -0.002962932290211726,
           0.013843790734167461,
           0.12893895556532897,
           -0.003955238486506407,
           0.0632274406812342,
           0.05314630521040315,
           -0.0009840229853251303,
           -0.0034461470841306153,
           -0.00801417150519328,
           -0.003805129865712526,
           -0.005792779952141757,
           -0.026693793662163793,
           0.128583805482359,
           0.0998643571389375,
           0.038339358419427885,
           0.37908228179835113,
           -0.00892812837077175,
           0.04227085202316617,
           0.1930036398939175,
           0.18264457002212095,
           1,
           -0.0027926261592379027,
           -0.0027764142028801194,
           0.07238150975837385,
           -0.004036087323521241,
           0.05063076803187508,
           0.020863476645025344,
           -0.0011306269845951437,
           -0.003667391214015709,
           -0.007500096560426851,
           -0.004349451313439636,
           -0.005916427319775346,
           -0.012555098468568605
          ],
          [
           0.032137073660412116,
           -0.013335568730327265,
           0.018615440931442274,
           0.0004705705656461443,
           0.03625110360467457,
           -0.024262456935313398,
           0.01584553768736789,
           -0.02462185421287626,
           0.008523187137973651,
           0.014860004935414428,
           0.0018424922649418164,
           -0.018839956698627546,
           -0.03130076947625401,
           0.012225478495650192,
           0.016771644780796964,
           -0.04073076737012576,
           -0.03054582975326102,
           0.04744991310724503,
           -0.03854556412839684,
           -0.01686220490030051,
           0.04466093355552384,
           -0.027682609296008808,
           0.020912685211652307,
           0.03191137987330298,
           -0.02990351280323896,
           -0.027661376128166347,
           0.011428381534505077,
           0.0314507676402871,
           0.011632704189345243,
           -0.01176990411242241,
           0.011658574853968179,
           -0.008992697217020182,
           0.028159836806331332,
           -0.005825018356087471,
           0.015525785022318802,
           -0.015652544284724103,
           0.009874394661265848,
           0.011431063315198026,
           -0.014070665915358216,
           -0.024189706506934278,
           -0.004815221348022974,
           -0.01456495894093054,
           -0.007716419263954884,
           -0.14749372216844414,
           -0.029316785093005105,
           -0.005658784324626916,
           -0.18323596502716616,
           -0.024133062549172305,
           -0.04181782627140562,
           -0.01025784686373102,
           -0.010939794207318406,
           -0.0010290843904238645,
           0.0018340661459946,
           0.9697075839648649,
           -0.04102494904511396,
           -0.017445650459884395,
           -0.004267672538144476,
           -0.0166592569999335,
           -0.165289726136615,
           -0.00524978065064144,
           -0.01838525781545526,
           -0.026235161971898537,
           -0.020300437530524754,
           -0.015061802400925178,
           -0.1489156952615264,
           -0.029258115171605193,
           -0.006615791403771994,
           -0.1623216800109709,
           -0.021414175651777435,
           -0.03914172157303302,
           -0.009443573753292939,
           -0.011029672234529515,
           0.005913760741745395,
           -0.0027926261592379027,
           1,
           -0.04189051770002922,
           -0.01943671546374426,
           -0.005439814685882793,
           -0.01591808080132517,
           -0.1830023431995148,
           -0.006031915672031447,
           -0.01956559930082579,
           -0.027728033263940632,
           -0.023204402424255765,
           -0.015363802699224875,
           -0.04511639615355715
          ],
          [
           -0.02882935912313973,
           0.020926377571557717,
           0.017427718383942806,
           -0.025187047632680936,
           -0.027240348408372164,
           0.0037927415134567126,
           -0.018459128723079435,
           0.0030502932000853735,
           0.010169287524272663,
           0.015055760851040084,
           0.0037395603938957652,
           -0.015726203439607518,
           -0.014130576887080065,
           -0.02042693479024565,
           0.02497978173814555,
           0.01412655925816298,
           0.030058375290149385,
           -0.03015858114735244,
           0.015890635130972768,
           -0.014380008547760734,
           -0.00428713382230329,
           0.0059467129681084405,
           0.004191366446599383,
           -0.015230156763522221,
           0.02275019471303475,
           -0.0022734650373592005,
           0.017756109540839223,
           -0.024298854904087338,
           -0.009786306653257332,
           -0.025721019503913253,
           0.02633057226473915,
           0.03369605425467018,
           -0.006848405124992153,
           -0.031263956250371996,
           -0.029103575314341493,
           0.028670359211908934,
           -0.01392921189048367,
           -0.007754738329943024,
           0.023794070467334803,
           0.0007556807339740528,
           0.000499036333710635,
           0.01800267104425897,
           0.053858493515937446,
           0.1338650523471265,
           0.01775265789345485,
           0.0027804053605933817,
           0.07698483270186504,
           0.048358660517070905,
           0.031839312444161674,
           -0.007835029105002812,
           -0.0007398573397278227,
           -0.010027187284719394,
           -0.003621681230040955,
           -0.0419167587476412,
           0.8501711175783312,
           0.012766433977604782,
           0.11153657407002376,
           -0.005449897415951139,
           0.13215203872534256,
           -0.004009826305566459,
           0.0026219358207016773,
           0.007942889414257569,
           0.026755315666278374,
           0.01977881203236699,
           0.1314120934027905,
           0.008181377021024125,
           -0.0006171020427602315,
           0.0934929830864764,
           0.029146316788457943,
           0.03912836832352455,
           -0.007213080502683907,
           0.0050926111550757495,
           -0.009477243844175946,
           -0.0027764142028801194,
           -0.04189051770002922,
           1,
           0.016411480318510217,
           0.11914890219212543,
           -0.0062801044866109944,
           0.09207800210569411,
           -0.0046072275670628595,
           -0.003796884310760491,
           0.003941883999301944,
           0.03257238262506796,
           0.017600156619908103,
           0.037117622988177945
          ],
          [
           0.021707386686580496,
           0.0033205607199042076,
           -0.00012832502517974944,
           0.021070196920151312,
           0.02397570416417558,
           -0.008449647408503992,
           -0.014354584285363401,
           0.006571607673736126,
           0.008844370545863529,
           0.011512438592102464,
           -0.020501877272872872,
           -0.006856412203090566,
           0.0019438515498816263,
           -0.0045755905446582595,
           0.0008151776222885948,
           -0.012058490964659633,
           -0.003872001602053155,
           0.010530698424967986,
           0.00820776822423253,
           -0.010162846241623242,
           0.01743667261975047,
           -0.011379389916272678,
           0.009797555947656262,
           -0.00906189402765397,
           0.009256868632572303,
           -0.0032140336157629435,
           0.005744979284177296,
           -0.0030717159004487477,
           0.0070869331171223016,
           0.005086507871073011,
           -0.005289004366660653,
           -0.012542556352489347,
           0.006262603627923919,
           0.004805111299446326,
           -0.019788629778803666,
           0.019534550583010925,
           -0.005413274569607337,
           0.020538605011236017,
           -0.0008231523647580077,
           -0.013558707843166594,
           -0.009770283412417695,
           -0.013107013191113882,
           -0.00979201862778685,
           -0.009621460710009262,
           -0.008074238903052183,
           0.046168906752464475,
           0.007205422128251872,
           -0.006646571643724316,
           0.027790074885131508,
           -0.0028251496862951183,
           0.01498288940499938,
           0.055303261233295764,
           0.05769636886104036,
           -0.01935137229649715,
           0.0393224804990924,
           0.8975616529669205,
           -0.005811574930738792,
           -0.004588184568604396,
           0.014243675710389559,
           -0.00144586055488097,
           0.0035816067568088415,
           -0.01177551198723445,
           -0.005591014906237329,
           -0.00851154105220336,
           -0.011938058620875637,
           -0.0080580804136294,
           0.0392206223444767,
           0.006137304150077196,
           -0.005897753439739245,
           0.017806987263267487,
           -0.002600887864777409,
           0.011472037798832909,
           0.04859245523401472,
           0.07238150975837385,
           -0.01943671546374426,
           0.016411480318510217,
           1,
           -0.005930369050481007,
           -0.004384054624688595,
           0.013974078395908739,
           -0.001661271112249549,
           0.02352621455776891,
           -0.011020163081797879,
           -0.006390806092196932,
           -0.00869322060059,
           -0.00849194293960828
          ],
          [
           -0.012059778740005496,
           0.009443517392751094,
           0.016759727715637242,
           -0.0017470283016728261,
           -0.010004146240562088,
           0.005386295082572025,
           0.003949231406401618,
           -0.005569313481972392,
           0.004241859396222393,
           0.022375836412024022,
           -0.00789460000373501,
           -0.02357416975450985,
           -0.03286604288934388,
           0.0095433770354129,
           0.014457813772233956,
           0.004576180088381495,
           0.0007902090643495812,
           -0.006269647820505378,
           0.007103038649268494,
           -0.014099756390461118,
           0.006360675845793091,
           -0.0025071182016852592,
           0.004492929238326292,
           -0.013412940292081923,
           -0.0007286028607766082,
           0.011125938906625247,
           -0.0009698436075970524,
           0.0012898903587807789,
           -0.02055742561540223,
           -0.022096849107746806,
           0.023938888323106824,
           0.04597501847283597,
           -0.01599833616616522,
           -0.035283598520486494,
           -0.0027254204272781036,
           0.0035514556264851383,
           -0.019224533537142083,
           -0.017416179126144984,
           0.035640962846241596,
           0.023385182289824363,
           -0.010449541634489554,
           0.02297264211505345,
           0.03190407163741449,
           0.0571760120785982,
           -0.0089448937655909,
           0.01825347504189488,
           0.04610352852858564,
           -0.007363279433807654,
           -0.006333897432670721,
           -0.00312978896453643,
           0.0020426733003351904,
           0.022928001920918706,
           -0.004622741439845481,
           -0.005697468355047608,
           0.13205936406730073,
           -0.00532287184765394,
           0.9799685114482573,
           -0.0050829340122158055,
           0.058510948790771504,
           -0.0016017694322096891,
           -0.0056095570333014756,
           0.014147565986756483,
           0.014662600208234676,
           0.1261719867846375,
           0.05494068418450974,
           -0.008926992886878498,
           0.018267048529649135,
           0.044575410844688065,
           -0.0065337152649977935,
           -0.005216645042714107,
           -0.002881344721897021,
           0.008879310291392061,
           0.024106800849543704,
           -0.004036087323521241,
           -0.005439814685882793,
           0.11914890219212543,
           -0.005930369050481007,
           1,
           -0.004856792491681159,
           0.03923237522360677,
           -0.0018404079682730957,
           -0.005969693015476982,
           0.038344701140633076,
           0.016500945451114205,
           0.11481019329962218,
           0.03354840320151907
          ],
          [
           -0.0029094232399663206,
           -0.016332993909193877,
           0.01874922897104193,
           0.0006444195809836028,
           -0.002243462831979831,
           -0.01284324989696409,
           0.003974716319645853,
           0.017695582670263745,
           -0.004139204650579207,
           0.011678010793188897,
           -0.011157224975711434,
           -0.0036618178282896248,
           -0.004891643832080757,
           -0.005780253167469786,
           0.00984334607612595,
           -0.01018433480363219,
           0.004431392043341289,
           0.004387415690364075,
           0.003497123118689543,
           0.012183559920382125,
           0.03758233987546194,
           -0.0015359163194069336,
           -0.007611848644958908,
           -0.016091453150921527,
           0.0003088893966422608,
           0.012701972958311691,
           0.016736439724165813,
           -0.016608537302684533,
           -0.023533451313674226,
           -0.028302754306292956,
           0.02813129006547943,
           -0.005845686155315849,
           0.022981966523535048,
           -0.006805955092762525,
           0.0017044913592308203,
           -0.0018834951286353968,
           0.006926650667743484,
           0.023019189843137847,
           -0.02043233359301052,
           -0.014305800695155678,
           -0.005924677961219376,
           -0.013776727304808386,
           0.016164932098429792,
           -0.0019048504316985274,
           0.20757290212274332,
           0.06244066919587632,
           -0.004713227239305275,
           0.044681024008637854,
           0.0031292917009594383,
           0.05211227194699751,
           0.04626123730656001,
           0.07912596105794767,
           0.07414991488475936,
           -0.015848187334265636,
           -0.0031113767024384354,
           -0.003934959315633196,
           -0.004759503708486025,
           0.9484298669980389,
           0.07399170930329874,
           -0.0011841159676891872,
           -0.0041468927557374025,
           -0.009643787379581433,
           -0.004578871734009279,
           -0.006970694120902545,
           -0.008468916987233718,
           0.1919601700277774,
           0.053786706521301256,
           0.0030137262368544436,
           0.02931774299171668,
           -0.001050550937632203,
           0.03320083868244435,
           0.046964523392834655,
           0.07458898531818015,
           0.05063076803187508,
           -0.01591808080132517,
           -0.0062801044866109944,
           -0.004384054624688595,
           -0.004856792491681159,
           1,
           0.03399067500471269,
           -0.0013605306846742457,
           -0.0044131250601255724,
           -0.009025179522079152,
           -0.0052338764721315476,
           -0.0071194841639832095,
           0.02233731066002636
          ],
          [
           -0.011512112995664046,
           0.0006545494820878527,
           -0.009268968873458568,
           0.024416897906355876,
           -0.012372003844809918,
           0.0019283957132634336,
           0.04635221244202263,
           0.006301537857971166,
           -0.05260464737977478,
           -0.007978509719849954,
           -0.00047035208208833716,
           0.012951702727430799,
           0.012028003774383646,
           0.009909953811548525,
           -0.02080521089833774,
           0.015990413968363485,
           -0.009339525933709713,
           -0.003999716660116647,
           0.0411850992274181,
           0.021344799387777662,
           0.015728724001401344,
           -0.0007964099122148374,
           -0.02078476197136714,
           -0.020406265632808736,
           0.020531858100737817,
           0.003195263766963724,
           0.004172421441270264,
           -0.01942922567925349,
           -0.011368419778773951,
           -0.08213186950694096,
           0.0822656284097605,
           -0.0086546234252329,
           0.020556806037033738,
           -0.00887709224071149,
           -0.02572519475064055,
           0.0258449327876337,
           -0.02506366626426348,
           0.004185915582483272,
           0.008340429324461636,
           0.02225899480030379,
           0.02289031638197098,
           0.02074691701066668,
           0.023994867718038892,
           0.5166315503643533,
           0.06082246450107247,
           0.13221453729836605,
           0.018423993628187297,
           0.0033408343073234163,
           -0.018412907741795752,
           -0.004190237516914302,
           0.03369192445901726,
           0.10730661340622706,
           0.02760507255275698,
           -0.1874704250328083,
           0.08526230223136803,
           0.007878065779106063,
           0.04011809207985674,
           0.027609688801505276,
           0.8655359201679291,
           0.008084573099390384,
           0.0048040124484157445,
           -0.04052393145747237,
           0.02558446613994663,
           0.04116597410273746,
           0.5252611809994996,
           0.05234880814324654,
           0.1346357669616247,
           0.02584167872493298,
           0.0005294675290912949,
           -0.019020266238467393,
           -0.006865397785925789,
           0.03252518693165364,
           0.11205535208469007,
           0.020863476645025344,
           -0.1830023431995148,
           0.09207800210569411,
           0.013974078395908739,
           0.03923237522360677,
           0.03399067500471269,
           1,
           0.0039022420356586685,
           0.0001768572705382594,
           -0.031095067150356252,
           0.026274020666382375,
           0.03485379162494072,
           0.06138116595045836
          ],
          [
           0.007800943407248207,
           -0.006189140711226131,
           0.009234364948197897,
           0.00024419304176267413,
           0.007098645352750387,
           -0.0006751742504361993,
           0.01376000866817906,
           -0.02387725393173584,
           -0.00841190003520961,
           0.009710577295070558,
           -0.02077110792890577,
           -0.0038286828779750858,
           -0.011198732801078673,
           0.010788690057482644,
           0.004149392553017047,
           0.01686893303685301,
           -0.004529213031979142,
           -0.0056567001945084525,
           0.013952364703327036,
           0.027403752670310602,
           0.017424175848165736,
           -0.0152111550607797,
           0.0014887683462086268,
           -0.01752432123157524,
           0.026965363623499335,
           0.0010210058637781605,
           -0.007956311639069388,
           -0.01281122948511133,
           -0.018598158365198174,
           -0.02379235204475461,
           0.023725114093686713,
           0.00915888378393194,
           0.01919465972855925,
           -0.027814336803438287,
           -0.04143362412589162,
           0.041297474351509475,
           -0.009873140489971828,
           0.0015751956383212532,
           -0.0007620977435601458,
           0.01049073862665617,
           -0.008344357733451895,
           0.00945843111293378,
           -0.006445007703735214,
           0.013315438127618807,
           -0.0025057283093891025,
           -0.003253008091065982,
           -0.0075451461925632604,
           -0.0020626715320216007,
           -0.004438409407164582,
           -0.0008767461097213306,
           0.06892351980582957,
           -0.0034859285695182925,
           -0.0012949660886267176,
           -0.006005430601086097,
           -0.004924815851103807,
           -0.001491093245536884,
           -0.0018035418571260146,
           -0.0014238795879457434,
           0.010137083890815893,
           0.8703338932577493,
           0.164768664807627,
           -0.0036543671915387132,
           0.03526753550395857,
           -0.002641438979836968,
           0.01215577886946441,
           -0.0025007137458041215,
           -0.0032939231712682733,
           -0.008592633127135657,
           -0.0018302861648257706,
           -0.004071120686506403,
           -0.0008071495568277048,
           0.05791699587759017,
           -0.003175286108712272,
           -0.0011306269845951437,
           -0.006031915672031447,
           -0.0046072275670628595,
           -0.001661271112249549,
           -0.0018404079682730957,
           -0.0013605306846742457,
           0.0039022420356586685,
           1,
           0.09105204080702829,
           -0.003419955111522749,
           0.08168889241600938,
           -0.0026978207135329875,
           0.026201087709056547
          ],
          [
           -0.01816163786882871,
           0.000666217346578543,
           0.0006443738859241205,
           -0.0017913964419534634,
           -0.020683044950195153,
           0.01179455600643213,
           0.018467803733743387,
           0.009417361497994832,
           -0.026407349117461135,
           -0.0015655294112937668,
           0.019773855708207767,
           -0.006310754328702678,
           -0.01878711175596422,
           0.022004251551653004,
           -0.009978747755223354,
           0.007604593337167084,
           0.019963971727035238,
           -0.019264255846282465,
           0.004298464777249857,
           0.019198975464987996,
           -0.006533919998255629,
           0.007475484025252545,
           -0.0020608373704924924,
           -0.013332685294386146,
           0.011327789423848931,
           0.007529207596561341,
           -0.004249038446985474,
           -0.008212748158820256,
           0.0010390496847081804,
           -0.02608373985559147,
           0.025874493960512588,
           -0.010046326253688254,
           0.0033699049890300536,
           0.0031819502564822267,
           -0.010313340546087915,
           0.010073173393114804,
           -0.012185405253520187,
           0.004736822081839034,
           0.011355951922784215,
           -0.0033736906506138006,
           0.007273199113013318,
           0.012048673948651886,
           0.019636017430103063,
           -0.002178718267243153,
           -0.008127778756186588,
           0.0020756404725802086,
           0.03172849612189911,
           -0.006690644710414211,
           -0.00032350948060612937,
           -0.002843883105147596,
           0.03231404347079302,
           -0.0008385274463657096,
           -0.004200454544765077,
           -0.01947969022752786,
           0.00745799709875948,
           0.015276835393355455,
           -0.005850111178181697,
           -0.004618608578954564,
           0.01347116420801589,
           0.04696522710674369,
           0.9044364454087517,
           -0.011853594787351231,
           0.025235395212013793,
           0.022303262220910527,
           -0.004713630048939539,
           -0.008111513120671023,
           0.004126225118042184,
           0.046364183435581276,
           -0.005936861132337128,
           -0.004014507610767567,
           -0.002618134215296475,
           0.026121169190259454,
           -0.0015584540249332206,
           -0.003667391214015709,
           -0.01956559930082579,
           -0.003796884310760491,
           0.02352621455776891,
           -0.005969693015476982,
           -0.0044131250601255724,
           0.0001768572705382594,
           0.09105204080702829,
           1,
           -0.011093237203085877,
           0.040093515613846234,
           0.026324890968342177,
           0.10569950446601738
          ],
          [
           -0.01577355776788413,
           -0.020993273496664036,
           0.0303300563258727,
           0.020611609481397015,
           -0.017990254439541872,
           -0.0015029143399821437,
           0.0019064706322450167,
           0.025661055388168406,
           -0.011121965548116996,
           0.020921354522152175,
           -0.03747448482209516,
           -0.00790922902653852,
           -0.010050987552629185,
           -0.0033231604634056796,
           0.008305851698914412,
           0.040493383174917366,
           0.010180192150991038,
           -0.03539831039919295,
           0.03595717856563268,
           0.023505482819182105,
           -0.02899007304683487,
           -0.0019101153740975242,
           -0.010195720408180956,
           -0.03688609443117018,
           0.031267916340137494,
           0.006568949851945113,
           -0.019414000977202427,
           -0.023286030049738074,
           -0.019654089955099367,
           -0.030262408171328182,
           0.02983848342843372,
           0.029119401290883487,
           -0.009158019478891163,
           -0.02366835918993756,
           -0.024383612831859577,
           0.024708781427108847,
           -0.024641293177304104,
           -0.007859668553430335,
           0.026059761160359785,
           0.004704164639727356,
           0.0007444623491140119,
           0.032672930434682196,
           0.04108440168244383,
           -0.0022715279256106335,
           -0.016621931486398133,
           -0.01669346172499706,
           -0.03165156121045766,
           -0.004488490669335756,
           -0.011292388586540842,
           0.014150929083702773,
           -0.007182796932575341,
           -0.012323068872237287,
           -0.008590251992486487,
           -0.02681985484937791,
           -0.005470548479535493,
           -0.00989127579166345,
           0.030340343071130437,
           -0.009445409092051866,
           -0.026918300880371008,
           -0.002976502846977968,
           -0.010424011186724329,
           0.9358542621115552,
           0.0004314065962481538,
           0.008357099333439163,
           -0.00586183896636705,
           -0.016588667013137947,
           -0.016120142102342104,
           -0.029623861989942976,
           -0.005877547427330266,
           -0.012782000501224782,
           0.02056891612815912,
           -0.008543056378940409,
           -0.010917464651709573,
           -0.007500096560426851,
           -0.027728033263940632,
           0.003941883999301944,
           -0.011020163081797879,
           0.038344701140633076,
           -0.009025179522079152,
           -0.031095067150356252,
           -0.003419955111522749,
           -0.011093237203085877,
           1,
           0.004845124767807769,
           0.009245879447082437,
           0.03414394821076951
          ],
          [
           -0.02108741957434861,
           0.01830379323194435,
           0.02590668574513656,
           -0.020042036100543725,
           -0.020997007172641018,
           -0.011430911432275051,
           0.002391834327097584,
           -0.009734439057548488,
           0.007261279623020789,
           -0.0034195097997615337,
           0.018395907167560073,
           -0.002602413065240239,
           -0.013539232172736844,
           -0.010075943578460905,
           0.017225135835452012,
           0.01613975870987991,
           0.01816188429744144,
           -0.02341364649813826,
           0.014601888362205294,
           0.011499012793261943,
           -0.01981295462720372,
           0.012021544411718963,
           -0.0012215494521409273,
           -0.02142127969209821,
           0.018126912473335376,
           -0.0013050541830119838,
           -0.016534301675354354,
           -0.0008820314496304533,
           -0.010342280228976283,
           -0.012230017718589567,
           0.011985097287907419,
           0.03441834013014561,
           0.005439821151859584,
           -0.03339957919430017,
           -0.005513185530780059,
           0.006197448093645491,
           -0.017650781660855538,
           -0.00570843188100095,
           0.023009383463695788,
           0.0006182362854857687,
           0.019545179655174796,
           0.015730558806809947,
           0.013367061224009314,
           0.04462034417880935,
           0.021777192610185493,
           0.002678707719121825,
           0.012587261364622867,
           -0.007934968408132239,
           0.01255759271321954,
           -0.0033727874625656606,
           0.027101785332377486,
           -0.003963441704108294,
           -0.0049816535707882395,
           -0.02310251601240161,
           0.027573407327320474,
           -0.005736142479904832,
           0.012795005196849524,
           -0.005477575741913316,
           0.0373125576202511,
           0.04196751439455388,
           0.06350924403498898,
           0.010149623190571612,
           0.875256477164503,
           0.026981833250512986,
           0.04033773978654769,
           0.018695461935917576,
           0.0006932605028609595,
           0.03183998705537656,
           -0.007040996431216396,
           0.009219595777140219,
           -0.003105053875344478,
           0.03658721951247922,
           -0.0043273198762409796,
           -0.004349451313439636,
           -0.023204402424255765,
           0.03257238262506796,
           -0.006390806092196932,
           0.016500945451114205,
           -0.0052338764721315476,
           0.026274020666382375,
           0.08168889241600938,
           0.040093515613846234,
           0.004845124767807769,
           1,
           0.021273166127530524,
           0.018025583041781007
          ],
          [
           -0.053717566866348945,
           -0.004166222424192786,
           0.028383761575863635,
           -0.014539744269948914,
           -0.05172314089468612,
           -0.004008778363611013,
           0.016657867239544412,
           0.010127307273294582,
           -0.027291255427590727,
           0.0365688457165783,
           -0.013834784509075512,
           -0.039980804772926655,
           -0.03394442444745983,
           0.001663515280790472,
           0.020047390081220768,
           0.04034464207334949,
           0.030766840839491227,
           -0.05265041842326168,
           0.02206044095586896,
           0.01102397942544709,
           -0.028923878215939277,
           0.03376068127811344,
           -0.048179271554154794,
           -0.004594874259625886,
           0.022832992352568787,
           0.010363609598525017,
           0.025455215621013237,
           -0.033262100867787685,
           -0.04019546806515102,
           -0.03737924230910951,
           0.03750583083217962,
           0.03286830366834776,
           0.002070529139315801,
           -0.043525829876288204,
           -0.03472647239020328,
           0.035032017689651425,
           -0.054638766099330854,
           0.0003849219708556189,
           0.037353231823568415,
           0.028221236695691924,
           0.01343921442681515,
           0.0487704976602368,
           0.0644680386204502,
           0.04628075777846232,
           -0.0012699245847210036,
           0.00015787603685763618,
           0.08453215482959045,
           0.021538802806340553,
           0.024643677758742044,
           -0.004587900967107575,
           -0.011704601455090459,
           0.022115026947272742,
           -0.006776392965427925,
           -0.01734041980035294,
           0.03958651376322143,
           -0.007802701451872823,
           0.12445071588469069,
           -0.0074509809238355535,
           0.05355393960743376,
           -0.0023480048049208235,
           0.01275142374944381,
           0.008251925888721385,
           0.02591385705226318,
           0.9662387606028424,
           0.0422980568473229,
           -0.002412589949370681,
           0.002914314394018337,
           0.10496290059759271,
           0.012449248831873337,
           0.022463507422656955,
           -0.0042237110507931394,
           -0.011845944861021484,
           0.019063103805418567,
           -0.005916427319775346,
           -0.015363802699224875,
           0.017600156619908103,
           -0.00869322060059,
           0.11481019329962218,
           -0.0071194841639832095,
           0.03485379162494072,
           -0.0026978207135329875,
           0.026324890968342177,
           0.009245879447082437,
           0.021273166127530524,
           1,
           0.06665785129969973
          ],
          [
           -0.06938523732223258,
           -0.009809027562017026,
           0.03557315743510017,
           0.004490697281818009,
           -0.0692998303587404,
           0.0062254235066489865,
           0.03286633024069372,
           0.004039403668707039,
           -0.04170688574721857,
           0.07026382787805115,
           -0.03336229340153441,
           -0.06228535926955097,
           -0.05310215736951005,
           0.00798142966782857,
           0.03234608662804777,
           0.08463533763036499,
           0.04351706742571611,
           -0.0905613304412727,
           0.06508160601876974,
           0.021974498491923962,
           -0.05400256625314131,
           0.047716187168018495,
           -0.042495837828919095,
           -0.05463238645302968,
           0.06349759823898685,
           0.028762971321023817,
           0.004040260696156452,
           -0.04230936651553825,
           -0.0630702655218511,
           -0.07914349838801933,
           0.07842891648503215,
           0.06997386877110595,
           0.0077680756021926214,
           -0.07650078387929793,
           -0.05837784808648581,
           0.057518193009803514,
           -0.07976511689963449,
           -0.0009823603206065797,
           0.05769182689884636,
           0.057920569860857855,
           -0.0020132358665458858,
           0.09018538195800123,
           0.09593826270941734,
           0.09646268767716294,
           -0.0018523901864641971,
           -0.021630691664241128,
           0.15090971482447038,
           -0.006540680224170837,
           0.005630160845881229,
           -0.009735866815019948,
           0.012628457818055334,
           -0.01227667105368676,
           -0.014380009479420818,
           -0.04440971071182613,
           0.021152195435315848,
           -0.009632613096028015,
           0.04020762953761906,
           0.03052864006737571,
           0.09444598965501096,
           0.011689160526185967,
           0.09136115886290033,
           0.028695441788390987,
           0.005528100213453567,
           0.06278886173055082,
           0.08938747267886589,
           -0.0007589975368153043,
           -0.021279076658575743,
           0.14421046445220323,
           -0.009176086516429783,
           0.00858913969585781,
           -0.00896302874679844,
           0.009428225052330751,
           -0.017202019689694065,
           -0.012555098468568605,
           -0.04511639615355715,
           0.037117622988177945,
           -0.00849194293960828,
           0.03354840320151907,
           0.02233731066002636,
           0.06138116595045836,
           0.026201087709056547,
           0.10569950446601738,
           0.03414394821076951,
           0.018025583041781007,
           0.06665785129969973,
           1
          ]
         ]
        }
       ],
       "layout": {
        "height": 900,
        "template": {
         "data": {
          "bar": [
           {
            "error_x": {
             "color": "#2a3f5f"
            },
            "error_y": {
             "color": "#2a3f5f"
            },
            "marker": {
             "line": {
              "color": "#E5ECF6",
              "width": 0.5
             }
            },
            "type": "bar"
           }
          ],
          "barpolar": [
           {
            "marker": {
             "line": {
              "color": "#E5ECF6",
              "width": 0.5
             }
            },
            "type": "barpolar"
           }
          ],
          "carpet": [
           {
            "aaxis": {
             "endlinecolor": "#2a3f5f",
             "gridcolor": "white",
             "linecolor": "white",
             "minorgridcolor": "white",
             "startlinecolor": "#2a3f5f"
            },
            "baxis": {
             "endlinecolor": "#2a3f5f",
             "gridcolor": "white",
             "linecolor": "white",
             "minorgridcolor": "white",
             "startlinecolor": "#2a3f5f"
            },
            "type": "carpet"
           }
          ],
          "choropleth": [
           {
            "colorbar": {
             "outlinewidth": 0,
             "ticks": ""
            },
            "type": "choropleth"
           }
          ],
          "contour": [
           {
            "colorbar": {
             "outlinewidth": 0,
             "ticks": ""
            },
            "colorscale": [
             [
              0,
              "#0d0887"
             ],
             [
              0.1111111111111111,
              "#46039f"
             ],
             [
              0.2222222222222222,
              "#7201a8"
             ],
             [
              0.3333333333333333,
              "#9c179e"
             ],
             [
              0.4444444444444444,
              "#bd3786"
             ],
             [
              0.5555555555555556,
              "#d8576b"
             ],
             [
              0.6666666666666666,
              "#ed7953"
             ],
             [
              0.7777777777777778,
              "#fb9f3a"
             ],
             [
              0.8888888888888888,
              "#fdca26"
             ],
             [
              1,
              "#f0f921"
             ]
            ],
            "type": "contour"
           }
          ],
          "contourcarpet": [
           {
            "colorbar": {
             "outlinewidth": 0,
             "ticks": ""
            },
            "type": "contourcarpet"
           }
          ],
          "heatmap": [
           {
            "colorbar": {
             "outlinewidth": 0,
             "ticks": ""
            },
            "colorscale": [
             [
              0,
              "#0d0887"
             ],
             [
              0.1111111111111111,
              "#46039f"
             ],
             [
              0.2222222222222222,
              "#7201a8"
             ],
             [
              0.3333333333333333,
              "#9c179e"
             ],
             [
              0.4444444444444444,
              "#bd3786"
             ],
             [
              0.5555555555555556,
              "#d8576b"
             ],
             [
              0.6666666666666666,
              "#ed7953"
             ],
             [
              0.7777777777777778,
              "#fb9f3a"
             ],
             [
              0.8888888888888888,
              "#fdca26"
             ],
             [
              1,
              "#f0f921"
             ]
            ],
            "type": "heatmap"
           }
          ],
          "heatmapgl": [
           {
            "colorbar": {
             "outlinewidth": 0,
             "ticks": ""
            },
            "colorscale": [
             [
              0,
              "#0d0887"
             ],
             [
              0.1111111111111111,
              "#46039f"
             ],
             [
              0.2222222222222222,
              "#7201a8"
             ],
             [
              0.3333333333333333,
              "#9c179e"
             ],
             [
              0.4444444444444444,
              "#bd3786"
             ],
             [
              0.5555555555555556,
              "#d8576b"
             ],
             [
              0.6666666666666666,
              "#ed7953"
             ],
             [
              0.7777777777777778,
              "#fb9f3a"
             ],
             [
              0.8888888888888888,
              "#fdca26"
             ],
             [
              1,
              "#f0f921"
             ]
            ],
            "type": "heatmapgl"
           }
          ],
          "histogram": [
           {
            "marker": {
             "colorbar": {
              "outlinewidth": 0,
              "ticks": ""
             }
            },
            "type": "histogram"
           }
          ],
          "histogram2d": [
           {
            "colorbar": {
             "outlinewidth": 0,
             "ticks": ""
            },
            "colorscale": [
             [
              0,
              "#0d0887"
             ],
             [
              0.1111111111111111,
              "#46039f"
             ],
             [
              0.2222222222222222,
              "#7201a8"
             ],
             [
              0.3333333333333333,
              "#9c179e"
             ],
             [
              0.4444444444444444,
              "#bd3786"
             ],
             [
              0.5555555555555556,
              "#d8576b"
             ],
             [
              0.6666666666666666,
              "#ed7953"
             ],
             [
              0.7777777777777778,
              "#fb9f3a"
             ],
             [
              0.8888888888888888,
              "#fdca26"
             ],
             [
              1,
              "#f0f921"
             ]
            ],
            "type": "histogram2d"
           }
          ],
          "histogram2dcontour": [
           {
            "colorbar": {
             "outlinewidth": 0,
             "ticks": ""
            },
            "colorscale": [
             [
              0,
              "#0d0887"
             ],
             [
              0.1111111111111111,
              "#46039f"
             ],
             [
              0.2222222222222222,
              "#7201a8"
             ],
             [
              0.3333333333333333,
              "#9c179e"
             ],
             [
              0.4444444444444444,
              "#bd3786"
             ],
             [
              0.5555555555555556,
              "#d8576b"
             ],
             [
              0.6666666666666666,
              "#ed7953"
             ],
             [
              0.7777777777777778,
              "#fb9f3a"
             ],
             [
              0.8888888888888888,
              "#fdca26"
             ],
             [
              1,
              "#f0f921"
             ]
            ],
            "type": "histogram2dcontour"
           }
          ],
          "mesh3d": [
           {
            "colorbar": {
             "outlinewidth": 0,
             "ticks": ""
            },
            "type": "mesh3d"
           }
          ],
          "parcoords": [
           {
            "line": {
             "colorbar": {
              "outlinewidth": 0,
              "ticks": ""
             }
            },
            "type": "parcoords"
           }
          ],
          "scatter": [
           {
            "marker": {
             "colorbar": {
              "outlinewidth": 0,
              "ticks": ""
             }
            },
            "type": "scatter"
           }
          ],
          "scatter3d": [
           {
            "line": {
             "colorbar": {
              "outlinewidth": 0,
              "ticks": ""
             }
            },
            "marker": {
             "colorbar": {
              "outlinewidth": 0,
              "ticks": ""
             }
            },
            "type": "scatter3d"
           }
          ],
          "scattercarpet": [
           {
            "marker": {
             "colorbar": {
              "outlinewidth": 0,
              "ticks": ""
             }
            },
            "type": "scattercarpet"
           }
          ],
          "scattergeo": [
           {
            "marker": {
             "colorbar": {
              "outlinewidth": 0,
              "ticks": ""
             }
            },
            "type": "scattergeo"
           }
          ],
          "scattergl": [
           {
            "marker": {
             "colorbar": {
              "outlinewidth": 0,
              "ticks": ""
             }
            },
            "type": "scattergl"
           }
          ],
          "scattermapbox": [
           {
            "marker": {
             "colorbar": {
              "outlinewidth": 0,
              "ticks": ""
             }
            },
            "type": "scattermapbox"
           }
          ],
          "scatterpolar": [
           {
            "marker": {
             "colorbar": {
              "outlinewidth": 0,
              "ticks": ""
             }
            },
            "type": "scatterpolar"
           }
          ],
          "scatterpolargl": [
           {
            "marker": {
             "colorbar": {
              "outlinewidth": 0,
              "ticks": ""
             }
            },
            "type": "scatterpolargl"
           }
          ],
          "scatterternary": [
           {
            "marker": {
             "colorbar": {
              "outlinewidth": 0,
              "ticks": ""
             }
            },
            "type": "scatterternary"
           }
          ],
          "surface": [
           {
            "colorbar": {
             "outlinewidth": 0,
             "ticks": ""
            },
            "colorscale": [
             [
              0,
              "#0d0887"
             ],
             [
              0.1111111111111111,
              "#46039f"
             ],
             [
              0.2222222222222222,
              "#7201a8"
             ],
             [
              0.3333333333333333,
              "#9c179e"
             ],
             [
              0.4444444444444444,
              "#bd3786"
             ],
             [
              0.5555555555555556,
              "#d8576b"
             ],
             [
              0.6666666666666666,
              "#ed7953"
             ],
             [
              0.7777777777777778,
              "#fb9f3a"
             ],
             [
              0.8888888888888888,
              "#fdca26"
             ],
             [
              1,
              "#f0f921"
             ]
            ],
            "type": "surface"
           }
          ],
          "table": [
           {
            "cells": {
             "fill": {
              "color": "#EBF0F8"
             },
             "line": {
              "color": "white"
             }
            },
            "header": {
             "fill": {
              "color": "#C8D4E3"
             },
             "line": {
              "color": "white"
             }
            },
            "type": "table"
           }
          ]
         },
         "layout": {
          "annotationdefaults": {
           "arrowcolor": "#2a3f5f",
           "arrowhead": 0,
           "arrowwidth": 1
          },
          "colorscale": {
           "diverging": [
            [
             0,
             "#8e0152"
            ],
            [
             0.1,
             "#c51b7d"
            ],
            [
             0.2,
             "#de77ae"
            ],
            [
             0.3,
             "#f1b6da"
            ],
            [
             0.4,
             "#fde0ef"
            ],
            [
             0.5,
             "#f7f7f7"
            ],
            [
             0.6,
             "#e6f5d0"
            ],
            [
             0.7,
             "#b8e186"
            ],
            [
             0.8,
             "#7fbc41"
            ],
            [
             0.9,
             "#4d9221"
            ],
            [
             1,
             "#276419"
            ]
           ],
           "sequential": [
            [
             0,
             "#0d0887"
            ],
            [
             0.1111111111111111,
             "#46039f"
            ],
            [
             0.2222222222222222,
             "#7201a8"
            ],
            [
             0.3333333333333333,
             "#9c179e"
            ],
            [
             0.4444444444444444,
             "#bd3786"
            ],
            [
             0.5555555555555556,
             "#d8576b"
            ],
            [
             0.6666666666666666,
             "#ed7953"
            ],
            [
             0.7777777777777778,
             "#fb9f3a"
            ],
            [
             0.8888888888888888,
             "#fdca26"
            ],
            [
             1,
             "#f0f921"
            ]
           ],
           "sequentialminus": [
            [
             0,
             "#0d0887"
            ],
            [
             0.1111111111111111,
             "#46039f"
            ],
            [
             0.2222222222222222,
             "#7201a8"
            ],
            [
             0.3333333333333333,
             "#9c179e"
            ],
            [
             0.4444444444444444,
             "#bd3786"
            ],
            [
             0.5555555555555556,
             "#d8576b"
            ],
            [
             0.6666666666666666,
             "#ed7953"
            ],
            [
             0.7777777777777778,
             "#fb9f3a"
            ],
            [
             0.8888888888888888,
             "#fdca26"
            ],
            [
             1,
             "#f0f921"
            ]
           ]
          },
          "colorway": [
           "#636efa",
           "#EF553B",
           "#00cc96",
           "#ab63fa",
           "#FFA15A",
           "#19d3f3",
           "#FF6692",
           "#B6E880",
           "#FF97FF",
           "#FECB52"
          ],
          "font": {
           "color": "#2a3f5f"
          },
          "geo": {
           "bgcolor": "white",
           "lakecolor": "white",
           "landcolor": "#E5ECF6",
           "showlakes": true,
           "showland": true,
           "subunitcolor": "white"
          },
          "hoverlabel": {
           "align": "left"
          },
          "hovermode": "closest",
          "mapbox": {
           "style": "light"
          },
          "paper_bgcolor": "white",
          "plot_bgcolor": "#E5ECF6",
          "polar": {
           "angularaxis": {
            "gridcolor": "white",
            "linecolor": "white",
            "ticks": ""
           },
           "bgcolor": "#E5ECF6",
           "radialaxis": {
            "gridcolor": "white",
            "linecolor": "white",
            "ticks": ""
           }
          },
          "scene": {
           "xaxis": {
            "backgroundcolor": "#E5ECF6",
            "gridcolor": "white",
            "gridwidth": 2,
            "linecolor": "white",
            "showbackground": true,
            "ticks": "",
            "zerolinecolor": "white"
           },
           "yaxis": {
            "backgroundcolor": "#E5ECF6",
            "gridcolor": "white",
            "gridwidth": 2,
            "linecolor": "white",
            "showbackground": true,
            "ticks": "",
            "zerolinecolor": "white"
           },
           "zaxis": {
            "backgroundcolor": "#E5ECF6",
            "gridcolor": "white",
            "gridwidth": 2,
            "linecolor": "white",
            "showbackground": true,
            "ticks": "",
            "zerolinecolor": "white"
           }
          },
          "shapedefaults": {
           "line": {
            "color": "#2a3f5f"
           }
          },
          "ternary": {
           "aaxis": {
            "gridcolor": "white",
            "linecolor": "white",
            "ticks": ""
           },
           "baxis": {
            "gridcolor": "white",
            "linecolor": "white",
            "ticks": ""
           },
           "bgcolor": "#E5ECF6",
           "caxis": {
            "gridcolor": "white",
            "linecolor": "white",
            "ticks": ""
           }
          },
          "title": {
           "x": 0.05
          },
          "xaxis": {
           "automargin": true,
           "gridcolor": "white",
           "linecolor": "white",
           "ticks": "",
           "zerolinecolor": "white",
           "zerolinewidth": 2
          },
          "yaxis": {
           "automargin": true,
           "gridcolor": "white",
           "linecolor": "white",
           "ticks": "",
           "zerolinecolor": "white",
           "zerolinewidth": 2
          }
         }
        },
        "title": {
         "text": "pearsons corelation of varibles "
        },
        "width": 1100,
        "xaxis": {
         "nticks": 36,
         "ticks": ""
        },
        "yaxis": {
         "ticks": ""
        }
       }
      },
      "text/html": [
       "<div>\n",
       "        \n",
       "        \n",
       "            <div id=\"7a1de287-3777-4f96-a528-c13e5d800e77\" class=\"plotly-graph-div\" style=\"height:900px; width:1100px;\"></div>\n",
       "            <script type=\"text/javascript\">\n",
       "                require([\"plotly\"], function(Plotly) {\n",
       "                    window.PLOTLYENV=window.PLOTLYENV || {};\n",
       "                    \n",
       "                if (document.getElementById(\"7a1de287-3777-4f96-a528-c13e5d800e77\")) {\n",
       "                    Plotly.newPlot(\n",
       "                        '7a1de287-3777-4f96-a528-c13e5d800e77',\n",
       "                        [{\"colorscale\": [[0.0, \"#440154\"], [0.1111111111111111, \"#482878\"], [0.2222222222222222, \"#3e4989\"], [0.3333333333333333, \"#31688e\"], [0.4444444444444444, \"#26828e\"], [0.5555555555555556, \"#1f9e89\"], [0.6666666666666666, \"#35b779\"], [0.7777777777777778, \"#6ece58\"], [0.8888888888888888, \"#b5de2b\"], [1.0, \"#fde725\"]], \"opacity\": 1.0, \"reversescale\": false, \"text\": [true], \"type\": \"heatmap\", \"x\": [\"V1\", \"V2\", \"V3\", \"V4\", \"V5\", \"V6\", \"V7\", \"V8\", \"V9\", \"V10\", \"V11\", \"V12\", \"V13\", \"V14\", \"V15\", \"V16\", \"V17\", \"V18\", \"V19\", \"V20\", \"V21\", \"V22\", \"V23\", \"V24\", \"V25\", \"V26\", \"V27\", \"V28\", \"V29\", \"V30\", \"V31\", \"V32\", \"V33\", \"V34\", \"V35\", \"V36\", \"V37\", \"V38\", \"V39\", \"V40\", \"V41\", \"V42\", \"V43\", \"V44\", \"V45\", \"V46\", \"V47\", \"V48\", \"V49\", \"V50\", \"V51\", \"V52\", \"V53\", \"V54\", \"V55\", \"V56\", \"V57\", \"V58\", \"V59\", \"V60\", \"V61\", \"V62\", \"V63\", \"V64\", \"V65\", \"V66\", \"V67\", \"V68\", \"V69\", \"V70\", \"V71\", \"V72\", \"V73\", \"V74\", \"V75\", \"V76\", \"V77\", \"V78\", \"V79\", \"V80\", \"V81\", \"V82\", \"V83\", \"V84\", \"V85\", \"V86\"], \"y\": [\"V1\", \"V2\", \"V3\", \"V4\", \"V5\", \"V6\", \"V7\", \"V8\", \"V9\", \"V10\", \"V11\", \"V12\", \"V13\", \"V14\", \"V15\", \"V16\", \"V17\", \"V18\", \"V19\", \"V20\", \"V21\", \"V22\", \"V23\", \"V24\", \"V25\", \"V26\", \"V27\", \"V28\", \"V29\", \"V30\", \"V31\", \"V32\", \"V33\", \"V34\", \"V35\", \"V36\", \"V37\", \"V38\", \"V39\", \"V40\", \"V41\", \"V42\", \"V43\", \"V44\", \"V45\", \"V46\", \"V47\", \"V48\", \"V49\", \"V50\", \"V51\", \"V52\", \"V53\", \"V54\", \"V55\", \"V56\", \"V57\", \"V58\", \"V59\", \"V60\", \"V61\", \"V62\", \"V63\", \"V64\", \"V65\", \"V66\", \"V67\", \"V68\", \"V69\", \"V70\", \"V71\", \"V72\", \"V73\", \"V74\", \"V75\", \"V76\", \"V77\", \"V78\", \"V79\", \"V80\", \"V81\", \"V82\", \"V83\", \"V84\", \"V85\", \"V86\"], \"z\": [[1.0, -0.03872125764987911, -0.021996965841772197, 0.009454421550027408, 0.9926718735871268, -0.19361301019537358, 0.0903990846868671, -0.025642336161400305, -0.019504734262194533, -0.06559577422122716, -0.016270103937589923, 0.08693944093482492, 0.029239934222065698, -0.06625032559999189, 0.02340776648664954, -0.4736063385109129, -0.278429385753619, 0.525678035285132, -0.4186149546245725, -0.11773558518883745, 0.24859754006478768, -0.2061975109491016, 0.3047492224965602, 0.2730507650314764, -0.3929312988883008, -0.1885184626632357, -0.03807770822073846, 0.38610445877656413, 0.20463017040643675, 0.14899845321349706, -0.1499882488061688, -0.17783022508757343, 0.03779549266385713, 0.15549736045678655, 0.35178433346378635, -0.3521636617242072, 0.20153096374327564, 0.16105468801520556, -0.2554826848639466, -0.1885902830688955, -0.13574590832558225, -0.3003413198537398, -0.5678070801455662, -0.040447498391755383, -0.009882599443387059, 0.0763959070531533, -0.008458529104857991, -0.02794027016051845, -0.003587006084582119, 0.018421920556896856, 0.031749408895525334, 0.09666515855928014, 0.032407656564213405, 0.024878965048420885, -0.04313990772698723, 0.02841988538000271, -0.0151147364108942, 0.0013644575759618784, -0.009754828021833629, 0.014378840976356645, -0.018115528817815068, -0.012123635316950147, -0.01732711986220833, -0.059084119380878555, -0.032936542477559345, -0.00406637569077688, 0.07967435813820813, -0.008274479956728073, -0.027822243522244616, -0.012530104129569666, 0.01888317321775835, 0.03046131827147868, 0.09205521672328446, 0.02012275348697667, 0.032137073660412116, -0.02882935912313973, 0.021707386686580496, -0.012059778740005496, -0.0029094232399663206, -0.011512112995664046, 0.007800943407248207, -0.01816163786882871, -0.01577355776788413, -0.02108741957434861, -0.053717566866348945, -0.06938523732223258], [-0.03872125764987911, 1.0, 0.010102242859723123, 0.05697460417742677, -0.04581677429161885, -0.0061363597445342494, -0.02436017837331572, 0.012056026825837566, 0.020540166301511942, 0.02302457840938818, -0.03856562955443462, -0.012544221684652345, 0.03253454164872311, -0.08291917702115165, 0.04214328036225523, 0.003419199664195389, -0.05317078281480031, 0.03652912487317052, -0.005746748236494643, 0.04243783039549762, -0.018174589641875995, 0.005761900445763099, 0.02480171978549036, -0.05234493540424916, -0.014437378459010889, 0.009924237692118188, -0.025302576309858882, -0.0073450679380996815, 0.02067119241564986, -0.04912699168895344, 0.04836078625193433, -0.011175207749819034, 0.023660760238217053, -0.011085721290908757, -0.016134966215265598, 0.015281881540403962, 0.014720584294801222, -0.024334276235966675, 0.01537113639064718, 0.0019292869327444048, -0.028799321702156676, -0.009372625200465843, -0.023663660845182576, 0.040773962946998844, -0.0032367905569931437, -0.028045768592639776, -0.02622888053281954, -0.01998220359800292, -0.01648318902819225, -0.010525223011358071, -0.01093376147410155, -0.03061776383713885, -0.008149019217533169, -0.013789971809249376, 0.019118222745797723, 0.008396362469900833, 0.011337875643704906, -0.017093489253363656, -0.0013634520970272207, -0.005386618931121272, 0.0043912374609947616, -0.016890408083344688, 0.008140752829124565, -0.003767431243409118, 0.04253108858191893, 0.0046930448347063305, -0.027626968090108273, -0.0294270484318858, -0.018715983275157246, -0.019294521953105097, -0.009689725446093105, -0.010348557185313615, -0.027569640644481485, -0.006756071642570942, -0.013335568730327265, 0.020926377571557717, 0.0033205607199042076, 0.009443517392751094, -0.016332993909193877, 0.0006545494820878527, -0.006189140711226131, 0.000666217346578543, -0.020993273496664036, 0.01830379323194435, -0.004166222424192786, -0.009809027562017026], [-0.021996965841772197, 0.010102242859723123, 1.0, -0.3282572490191389, 0.016115371478403907, 0.013105188915160418, 0.049356462986279964, -0.10864961688598727, -0.00552739403213841, 0.5347977852086078, -0.17558614702802863, -0.5007347491800259, -0.6595527877326718, -0.31595958313022476, 0.7940142458532231, 0.008052834550536576, 0.039626806400905656, -0.038847106220072154, 0.02379648396174767, 0.03569805917438447, 0.10695982197097563, -0.004949426233726757, 0.037589774240243984, -0.16124599738250958, 0.06309678687345999, 0.011569922580656663, 0.058551505469457046, -0.019022276335713326, -0.18661249612965072, -0.3394294613287282, 0.3383893518328436, 0.2519165790993115, 0.20006987703904872, -0.40174671221165476, -0.07341940978548668, 0.07387547602453334, -0.36953058592036275, 0.04418461307856896, 0.2566450281156345, 0.10469777256456227, 0.08754864833310952, 0.28205833304765493, 0.31707022949349667, -0.04216380162916189, 0.026890215718529058, 0.034340193612055044, 0.021131314621021472, -0.0031699907254923165, 0.021560868887896812, -0.000297130014433124, 0.012458824182111097, 0.05883195218420688, 0.03174659335139146, 0.023040553038776276, 0.02597053480141323, 0.00384121734833236, 0.016483482188253122, 0.01738975177549486, 0.05599833282043915, 0.008036980797128206, 0.0018573555605239783, 0.03079783835100907, 0.013002586949026325, 0.03454984139036277, -0.04391983535569442, 0.03506246088235528, 0.036038537815838156, 0.020598054752423003, -0.009047246342738124, 0.01307614177061801, 0.0006077907499911928, 0.01460789753519575, 0.05868127010641364, 0.02725686606488243, 0.018615440931442274, 0.017427718383942806, -0.00012832502517974944, 0.016759727715637242, 0.01874922897104193, -0.009268968873458568, 0.009234364948197897, 0.0006443738859241205, 0.0303300563258727, 0.02590668574513656, 0.028383761575863635, 0.03557315743510017], [0.009454421550027408, 0.05697460417742677, -0.3282572490191389, 1.0, 0.003872334282903298, -0.03751873716020478, 0.09365402037970187, 0.05773716146599759, -0.11996633808231917, -0.04038380838089899, -0.3074008147012462, 0.1997738209683725, 0.23659382562786269, 0.20422508785199306, -0.35575427282420896, -0.025792265566993145, -0.221675887887036, 0.17896523301624295, 0.14138948355059527, 0.058309154682559046, 0.09071640156259506, -0.16268646614133653, -0.048102802623022904, 0.03433760738200567, 0.047819524329306695, -0.1558015664066144, -0.0403596449944957, -0.0635554975892655, 0.24459650955397141, 0.025263825319750115, -0.023181931716493076, -0.13254774609868109, -0.08850073700008715, 0.19760764113306437, -0.12202415416524152, 0.12419969192313435, 0.17572890719726997, -0.053955267193181645, -0.14896954078463506, 0.027676318455818274, 0.01848203992414077, -0.07569642170593945, -0.14509780824483773, -0.017966721909826133, -0.004628030180295327, 0.007867869130888697, -0.015416760608542388, 0.0188376991972426, -0.01717200111932695, -0.009927923953650294, 0.012955422373011047, -0.0004470621974908863, 0.00337730381016214, -0.00389885733277414, -0.029133535051616238, 0.019854587660189788, -0.006815769894724682, -0.0015734652483835514, 0.019325832836088335, 0.00021252948074376675, -0.004662685001116622, 0.01920523557371358, -0.013611681695100802, -0.01937336416665556, -0.014319569085137186, -0.008249166862519926, 0.00749700706259168, -0.01580706377405757, 0.021957811677567822, -0.015571460913693548, -0.013046363034214225, 0.0061024935828146885, -0.005503775418863138, 0.0056300126162458245, 0.0004705705656461443, -0.025187047632680936, 0.021070196920151312, -0.0017470283016728261, 0.0006444195809836028, 0.024416897906355876, 0.00024419304176267413, -0.0017913964419534634, 0.020611609481397015, -0.020042036100543725, -0.014539744269948914, 0.004490697281818009], [0.9926718735871268, -0.04581677429161885, 0.016115371478403907, 0.003872334282903298, 1.0, -0.19918619931332138, 0.09849256084428279, -0.03456581149255717, -0.021465786673740068, -0.026618553401239482, -0.037508857607814305, 0.05267061178408172, -0.0034430197949273807, -0.07500025312366362, 0.05861878349462304, -0.4716200983072243, -0.27949739001392043, 0.5240617183032865, -0.4126556592684563, -0.11533009231616587, 0.2768818584900594, -0.21940516505978003, 0.3052819332382049, 0.25888830217266234, -0.3820172344339658, -0.19261633937656047, -0.029730825870333683, 0.37943739405134513, 0.19213639012695533, 0.1181598824004475, -0.11922308411742107, -0.16620832959347717, 0.06318048275718827, 0.12523788988390744, 0.33990488558103754, -0.3402959622551852, 0.1792761402693816, 0.16349471710972915, -0.2412304517624218, -0.17933137583174816, -0.13245467016414056, -0.28288773342795653, -0.5363374179077371, -0.04927765980137636, -0.006342621524100109, 0.08640591811038746, -0.005722607805348084, -0.027092586482324543, -0.003476071458271106, 0.021247534390591558, 0.03550896276142488, 0.10988702662630899, 0.03657017363165768, 0.029835707784863174, -0.04032774806468821, 0.03078041352851703, -0.013076121419103783, 0.0014445014914813363, -0.0003219674986899808, 0.015402305447762308, -0.020505091086859436, -0.014841469091403194, -0.01716783298977857, -0.05723522698770743, -0.041614258085721445, -0.0006864249811245651, 0.08979144707543663, -0.005573294455194048, -0.028770103375399536, -0.011790621666604948, 0.02196279017476501, 0.03371961757228279, 0.10524914182497114, 0.02234670889343945, 0.03625110360467457, -0.027240348408372164, 0.02397570416417558, -0.010004146240562088, -0.002243462831979831, -0.012372003844809918, 0.007098645352750387, -0.020683044950195153, -0.017990254439541872, -0.020997007172641018, -0.05172314089468612, -0.0692998303587404], [-0.19361301019537358, -0.0061363597445342494, 0.013105188915160418, -0.03751873716020478, -0.19918619931332138, 1.0, -0.37276739189105496, 0.021125102082033356, -0.06390441476311204, -0.02859444010870841, 0.11757577567055866, -0.0034567612170167852, 0.016316632064003724, -0.010359144297515326, -0.007469799244534806, 0.2410468725317401, 0.14669696322714929, -0.2514350753889322, 0.21753811912175314, 0.056606777889369596, -0.1059651155798838, 0.08763907740302603, -0.17981314088627298, -0.07207726456089718, 0.1696458903608802, 0.13721542932051994, 0.07970384865071925, -0.21572516889315146, -0.07516462761531645, -0.09636218866571956, 0.09635520157136118, -0.01959363675041129, 0.036872219397393914, 0.004856865150585797, -0.22496085747425512, 0.22266218548715827, -0.09269864118056004, -0.11476444659272705, 0.10626726209208835, 0.1897797598781856, 0.21736578907613563, 0.1776468165649852, 0.1545566769262925, 0.052647865983565384, -0.018547604149962038, -0.05392122009095077, -0.0002464019768634617, 0.005570344409868602, 0.012763817069726614, -0.005813917368575843, -0.009636976908621357, -0.04895469272381334, -0.005186907957167548, -0.019798244818647108, 0.0013677462520104962, -0.007953635159675175, 0.008017684391897246, -0.01388065705006474, -0.0038647412109669927, 0.009918828526836695, 0.012785371600818633, 0.0017627380915607531, -0.001993266511037588, 0.0004482129963338893, 0.045542545551251305, -0.026679806890602533, -0.054928878130231375, -0.0027271508612805445, 0.007263304112705504, 0.009376133760355121, -0.011052007474591908, -0.0038722846125229396, -0.0437516060255018, -0.004238374438043051, -0.024262456935313398, 0.0037927415134567126, -0.008449647408503992, 0.005386295082572025, -0.01284324989696409, 0.0019283957132634336, -0.0006751742504361993, 0.01179455600643213, -0.0015029143399821437, -0.011430911432275051, -0.004008778363611013, 0.0062254235066489865], [0.0903990846868671, -0.02436017837331572, 0.049356462986279964, 0.09365402037970187, 0.09849256084428279, -0.37276739189105496, 1.0, -0.31754857103673906, -0.7418945105389576, 0.14725629450128605, -0.21103139711553198, -0.0840505033283153, -0.11592167566337598, 0.06645693038360069, 0.023971825003572207, -0.09418136819787126, -0.015809470028667824, 0.05648093388974319, -0.010964812612371042, 0.042937875167969645, 0.11116369957390641, -0.03185735699198595, 0.017152674427050353, -0.03509865234776607, -0.010560977944816972, -0.04100292119478091, 0.028599349920727497, 0.05849484688339625, -0.06989526329014258, -0.22020374268436727, 0.2224873953258843, -0.01833288893434901, 0.10545694599011526, -0.08242954317098522, -0.04221263736898709, 0.045683249702264235, -0.06301435338773165, 0.05926158366986805, 0.03711014142255388, -0.06051459613676814, -0.09526025143440428, -0.010879873947256237, 0.017425881022852557, -0.013987576298730243, 0.02399634078863551, 0.03716023509150933, 0.019499654995179378, 0.007317068483568724, -0.004362932770258336, 0.027219395556785944, 0.020479134541541197, 0.04417443934534462, 0.010651806006434755, 0.014292999202269521, -0.011810423905795646, -0.019690487802956087, 0.0006257971446831455, 0.006432476636515947, 0.07676068162793079, 0.008904298886728262, 0.018349034429586394, 0.00564179254353413, 0.0014434546961211805, 0.018931584979481605, -0.014182560292831253, 0.025441177891328527, 0.04000001551203257, 0.02798680051791532, 0.00982574527391283, -0.002989468723851673, 0.025261553463059135, 0.01610684738585532, 0.04330017444905612, 0.007602773497376097, 0.01584553768736789, -0.018459128723079435, -0.014354584285363401, 0.003949231406401618, 0.003974716319645853, 0.04635221244202263, 0.01376000866817906, 0.018467803733743387, 0.0019064706322450167, 0.002391834327097584, 0.016657867239544412, 0.03286633024069372], [-0.025642336161400305, 0.012056026825837566, -0.10864961688598727, 0.05773716146599759, -0.03456581149255717, 0.021125102082033356, -0.31754857103673906, 1.0, -0.13930635498052008, -0.12570346662340756, 0.11176214418755273, 0.10534004043129994, 0.12219757550762325, 0.022851115286394403, -0.1054299779020364, 0.0024310629909562727, 0.012658995348386489, -0.006024369480709428, -0.052415155519125206, 0.006322591899321078, -0.04689866572657841, 0.07755980781867529, -0.06550040571109576, 0.10854081184004094, -0.03289206736632466, 0.0540537944860493, -0.02643203141403819, 0.0016765042141927112, 0.06848385678933365, 0.14578973747139626, -0.1467204687848494, -0.00907119332388433, -0.10030924418384521, 0.11319339432931443, 0.114104212977108, -0.11600156696112926, 0.008701215580068453, 0.029398865750447808, -0.008466197170750886, -0.015103173348781425, -0.047903184303516824, -0.03949564208997515, -0.06831968776528441, 0.018513551736779123, -0.0033929303585433423, -0.01862388884517699, -0.02300601473663245, 0.009010212660470559, -0.0013878633059614526, -0.0067934089470272335, -0.016292325542959698, -0.03322558468233747, 0.0012443366216743908, -0.030839082296228594, -0.01885099081384628, -0.0004781091560061577, -0.004580545889916172, 0.006038904438482075, -0.020293488093251107, -0.02078118337471166, 0.005138917459932276, 0.026605566690752067, -0.011853554418935175, 0.009756509907764551, 0.017135413148826512, -0.010084934635900633, -0.017097170907232753, -0.02479265909647544, 0.006150845662893824, 0.0016901599401345974, -0.0051302097817129836, -0.016247003176928676, -0.029244699242244276, 0.0006571039662353726, -0.02462185421287626, 0.0030502932000853735, 0.006571607673736126, -0.005569313481972392, 0.017695582670263745, 0.006301537857971166, -0.02387725393173584, 0.009417361497994832, 0.025661055388168406, -0.009734439057548488, 0.010127307273294582, 0.004039403668707039], [-0.019504734262194533, 0.020540166301511942, -0.00552739403213841, -0.11996633808231917, -0.021465786673740068, -0.06390441476311204, -0.7418945105389576, -0.13930635498052008, 1.0, -0.10789957700202493, 0.1595530813347161, 0.07183783425509518, 0.0646424860504246, -0.08673086688709046, 0.032341690016225076, -0.0031020103196802676, -0.036979584572424375, 0.04287842137628755, -0.05692676616362608, -0.06713968992910947, -0.05240504238069274, -0.024490369914597344, 0.08300598581958832, 0.023618472751178746, -0.05275206261601247, -0.023215146005097043, -0.04217076402450148, 0.03128761677762628, 0.08314495975343943, 0.22462516319083792, -0.22667166972453778, 0.013174541208175928, -0.06329392476156863, 0.05505118915544118, 0.09961350297625791, -0.10119052209355187, 0.1143579111340105, -0.02620355823782362, -0.08075193888633105, 0.0011875270316833203, 0.04892696800778274, -0.051617031771691406, -0.05719928831578893, -0.02093919844626584, -0.014299625135878777, -0.013935213194904345, -0.01846472599450201, -0.015104642598036023, -0.0026283054593082165, -0.022508715945542424, -0.007853288241842598, -0.012540278316177355, -0.011577489156350762, 0.011022819340287102, 0.012075620417653593, 0.016607486676508892, 0.0061416419545463055, -0.0012649823245952957, -0.07448112406518359, -0.010619898552468693, -0.023801542977981593, -0.01781908799087033, 0.006032586512663071, -0.0319692769368132, -0.017995797725395942, -0.00900350329727285, -0.01666383526309421, -0.024372533330823523, -0.018834163012534447, -0.003654511445304002, -0.017734246357490737, -0.005018962553662453, -0.014143149978741637, -0.008057564494354767, 0.008523187137973651, 0.010169287524272663, 0.008844370545863529, 0.004241859396222393, -0.004139204650579207, -0.05260464737977478, -0.00841190003520961, -0.026407349117461135, -0.011121965548116996, 0.007261279623020789, -0.027291255427590727, -0.04170688574721857], [-0.06559577422122716, 0.02302457840938818, 0.5347977852086078, -0.04038380838089899, -0.026618553401239482, -0.02859444010870841, 0.14725629450128605, -0.12570346662340756, -0.10789957700202493, 1.0, -0.4783406483143161, -0.88436188763352, -0.6842332777601957, 0.07536333616178356, 0.5003536874492067, 0.07503787712752984, 0.027069264889856223, -0.08195356532972539, 0.17680567696548002, 0.08833008008025929, 0.01976129986936121, -0.0071955615307325894, 0.02683137541106944, -0.2980562660402642, 0.18282188184913087, -0.02921484886128681, 0.016749791509945676, -0.03603526772421396, -0.24314314885761457, -0.3909956954602839, 0.39249527149029617, 0.41680720328952886, 0.2251749664427102, -0.6100175190779609, -0.2293390786145646, 0.23226146749098472, -0.4352702243163861, 0.08642286767746767, 0.246226903548131, 0.17885902406197876, 0.06419232289058069, 0.35311794255695234, 0.32620754093627746, -0.03900964324451075, 0.014699756077561358, 0.0080082852307343, 0.026107829175383807, -0.009066631769546907, 0.021027944419842366, 0.007321203945789322, 0.015486770462557897, 0.016130202046317148, 0.014565206092688649, 0.01408825953859409, 0.031552985906921585, 0.016906925719667024, 0.020882036408939306, 0.012914339277187334, 0.05845287775332852, 0.012591479051147577, -0.010603456001583312, 0.017795815928628358, -0.0086613148800092, 0.03611465942281155, -0.04298224488386185, 0.018260063823144653, 0.010122386243261781, 0.027907272231343826, -0.011205219206162362, 0.01342101066198524, 0.009474193730361274, 0.015456849852366516, 0.02056991834677276, 0.014775725339252425, 0.014860004935414428, 0.015055760851040084, 0.011512438592102464, 0.022375836412024022, 0.011678010793188897, -0.007978509719849954, 0.009710577295070558, -0.0015655294112937668, 0.020921354522152175, -0.0034195097997615337, 0.0365688457165783, 0.07026382787805115], [-0.016270103937589923, -0.03856562955443462, -0.17558614702802863, -0.3074008147012462, -0.037508857607814305, 0.11757577567055866, -0.21103139711553198, 0.11176214418755273, 0.1595530813347161, -0.4783406483143161, 1.0, 0.08475539168481554, 0.09790554197787436, 0.1747994666302641, -0.21254447472101304, -0.015170378944043904, 0.1352435950204396, -0.07892684381804047, -0.09347485598719851, -0.011054298922709432, -0.08966619874247395, 0.14709484009002868, -0.025785102450977496, 0.05607705281607581, -0.09168146674960151, 0.1668618707130202, 0.07690600992845961, -0.010531925933461889, -0.04781437226124463, 0.16290069552328743, -0.16386120031289425, -0.09273260292283805, 0.031120037494935467, 0.10689909210125122, 0.15000309833831246, -0.15109882447489903, 0.06683715967039303, 0.01950360809368211, -0.03765439757115349, 0.017706494767915863, 0.031412485856271356, -0.050496621819497885, -0.061650688143636605, 0.012594108132635755, -0.0058189059661731286, -0.0019345200622845088, 0.0033473500849976897, -0.010134049857829973, 0.016234747162169685, 0.006109528296498981, -0.010694744735442015, -0.008325525513410476, -0.02420209480207888, 0.0019250929378016124, 0.002190186871925539, -0.026078303234000892, -0.003359393024371924, -0.009974102952323335, -0.039445533013352976, -0.01807779923104272, 0.020721289226129713, -0.036139879797833965, 0.018777635436512438, -0.01075855268919106, 0.014153298809148463, -0.002631836272642346, -0.0012834896039771735, -0.00024801655626365254, -0.008067211968830618, 0.019288483591379302, 0.009948546622611177, -0.007775573034150703, -0.006038996852877271, -0.025502390042180453, 0.0018424922649418164, 0.0037395603938957652, -0.020501877272872872, -0.00789460000373501, -0.011157224975711434, -0.00047035208208833716, -0.02077110792890577, 0.019773855708207767, -0.03747448482209516, 0.018395907167560073, -0.013834784509075512, -0.03336229340153441], [0.08693944093482492, -0.012544221684652345, -0.5007347491800259, 0.1997738209683725, 0.05267061178408172, -0.0034567612170167852, -0.0840505033283153, 0.10534004043129994, 0.07183783425509518, -0.88436188763352, 0.08475539168481554, 1.0, 0.7456422688913907, -0.1896352889679839, -0.45099969567279236, -0.08231169675825052, -0.08584701852397751, 0.1296158160467393, -0.15386136265542158, -0.0741081494119581, 0.038755254733195854, -0.0562798614034093, -0.017214545608014945, 0.30732455255067154, -0.16627969047039529, -0.02264514657658013, -0.04580556789758361, 0.037152065904219586, 0.3057286776906057, 0.36853449607545696, -0.3698107943681498, -0.4325590117974314, -0.27777329087150443, 0.661457628762058, 0.18317970494991764, -0.18596006049595293, 0.47096812468078486, -0.11497257349187184, -0.26573321362506774, -0.1808047714126801, -0.07046621974134264, -0.3713070714097232, -0.33982957394897834, 0.036189911484380714, -0.009809465749080568, -0.008201297038805382, -0.033224324212246685, 0.01808971577692529, -0.026403455691432074, -0.0061034565636014495, -0.008641766749393605, -0.009847709766949502, -0.005695935503701665, -0.01872073984174862, -0.03390852174482932, -0.009643720351805232, -0.023756427919793405, -0.0063224061941194116, -0.041533288179969194, -0.007921293970408454, 0.0025752510208166277, -0.00489185534990911, 0.00369001404056823, -0.04082847226733861, 0.04060928611936889, -0.01708425736828351, -0.010425113482511216, -0.03275605023534752, 0.02016330576208147, -0.018038715804634547, -0.010756712223189548, -0.009675492240737858, -0.014053766928304732, -0.005987417227210983, -0.018839956698627546, -0.015726203439607518, -0.006856412203090566, -0.02357416975450985, -0.0036618178282896248, 0.012951702727430799, -0.0038286828779750858, -0.006310754328702678, -0.00790922902653852, -0.002602413065240239, -0.039980804772926655, -0.06228535926955097], [0.029239934222065698, 0.03253454164872311, -0.6595527877326718, 0.23659382562786269, -0.0034430197949273807, 0.016316632064003724, -0.11592167566337598, 0.12219757550762325, 0.0646424860504246, -0.6842332777601957, 0.09790554197787436, 0.7456422688913907, 1.0, -0.21335921412746825, -0.6273473583757592, -0.004851641081484509, -0.03594777388306123, 0.04524417002077308, -0.06027244179137814, -0.057965877340944744, -0.012136443449175504, -0.002129783608034767, -0.034641626200752576, 0.15935451763096226, -0.09617204862663409, 0.054789685861048924, -0.025872393760338577, -0.05378915221588109, 0.25751200678535807, 0.350994171421032, -0.3524278962075681, -0.3256200790614137, -0.24403583525231623, 0.5161735709274159, 0.11973144267533159, -0.122429813583264, 0.4761521553906015, -0.11844732003150658, -0.26813457054237744, -0.16861776838295192, -0.07777422035838273, -0.36257027170364614, -0.3028305639069316, 0.044342821162773036, -0.015217762355482603, -0.029046088793979127, -0.04484568513659041, 0.01249576880368273, -0.022371963081369114, 0.0012397960772121005, -0.010451365740609776, -0.031882225788099086, -0.006864237102863491, -0.033729610143790216, -0.02865276424679481, -0.002286612817620094, -0.03372144457615338, -0.006513515809017608, -0.051582911386157254, -0.009746636718316846, -0.011760898808267632, -0.008812974673642759, -0.002695785223448394, -0.036842094244348034, 0.04698887588739952, -0.0215882894108609, -0.03124773223731226, -0.043610988660455256, 0.018247406988113456, -0.010901226960825324, -0.0023393003634990606, -0.01047183470035603, -0.034086638673445586, -0.004577404794130533, -0.03130076947625401, -0.014130576887080065, 0.0019438515498816263, -0.03286604288934388, -0.004891643832080757, 0.012028003774383646, -0.011198732801078673, -0.01878711175596422, -0.010050987552629185, -0.013539232172736844, -0.03394442444745983, -0.05310215736951005], [-0.06625032559999189, -0.08291917702115165, -0.31595958313022476, 0.20422508785199306, -0.07500025312366362, -0.010359144297515326, 0.06645693038360069, 0.022851115286394403, -0.08673086688709046, 0.07536333616178356, 0.1747994666302641, -0.1896352889679839, -0.21335921412746825, 1.0, -0.5913215477814421, 0.04997174891064384, 0.10772716285159334, -0.12872963061817339, 0.13024788564042197, 0.11223653910136118, 0.002162877405186204, 0.027233061264864952, -0.08882881055856691, -0.10360745492019538, 0.14215796222194002, 0.01731217178130682, 0.014384115939899885, -0.062095821634889324, -0.1321768828686496, -0.04825087325073532, 0.05333859929482222, 0.10728029795254657, -0.011747558818312681, -0.10524577667992986, -0.0827245741112362, 0.08783069861111999, -0.1041252242825188, 0.03605717882330886, 0.07422259645840942, 0.039433917344519384, 0.010614427429621185, 0.10872463982650389, -0.027153502170667993, -0.01429210982239146, 0.0009743680829421463, 0.007413142768995637, 0.0007485905925458041, -0.0021402220491434157, 0.0018709822676356905, 0.007511812169260229, 0.016898222539185485, -0.005829095250744568, -0.0030137474328265287, 0.008036637852190644, -0.00262108632322385, -0.004777114168276374, 0.008540250686722525, -0.002135097252020207, 0.011512842011588005, 0.004509852067096708, 0.014628730895045034, -0.005987862255235726, -0.010866074730284623, -0.000208013516510775, -0.018160118274648734, -0.0006393267255495567, 0.009970850403019692, 0.0019497854305953802, 0.0007747411555544233, -0.0004861264314979833, 0.013514541641443216, 0.01448993145173379, -6.400560843746906e-05, 0.0014584744875850736, 0.012225478495650192, -0.02042693479024565, -0.0045755905446582595, 0.0095433770354129, -0.005780253167469786, 0.009909953811548525, 0.010788690057482644, 0.022004251551653004, -0.0033231604634056796, -0.010075943578460905, 0.001663515280790472, 0.00798142966782857], [0.02340776648664954, 0.04214328036225523, 0.7940142458532231, -0.35575427282420896, 0.05861878349462304, -0.007469799244534806, 0.023971825003572207, -0.1054299779020364, 0.032341690016225076, 0.5003536874492067, -0.21254447472101304, -0.45099969567279236, -0.6273473583757592, -0.5913215477814421, 1.0, -0.03604452046830823, -0.04854913504693249, 0.06297372130910726, -0.043806260026089026, -0.03500043227404401, 0.028366861076323333, -0.03313105069329086, 0.11367700797403857, -0.05883708404071247, -0.014821354376430602, -0.05786247470820416, -0.0038083099661693196, 0.09541886755212771, -0.09812838781297376, -0.242813966491467, 0.2396384952915124, 0.18357856757336377, 0.21134526745627338, -0.33948052889168334, -0.0339135776962615, 0.03163200628517, -0.3014227884968821, 0.06374968727290112, 0.17192132034819269, 0.0994874862497213, 0.05214448426608206, 0.2069151704626424, 0.26526424129532566, -0.03441354541221423, 0.014183146004564214, 0.019499137836916803, 0.03278285583628699, -0.008604513119883452, 0.015989081049776845, -0.007532546111478405, -0.004683134983338061, 0.0355378155092317, 0.008301665259487175, 0.020344396430954446, 0.025710162767673177, 0.006133012444707206, 0.015702639113113565, 0.006133351928752141, 0.03250935655089002, 0.008867687052904714, -0.011618013430470727, 0.008116610068244861, 0.009078797204325785, 0.023214350651259996, -0.03293085073356461, 0.019275252905646544, 0.018673020470348824, 0.02922570351384058, -0.016683474963148155, 0.013185853347454769, -0.009414159951382955, -0.001987241671528904, 0.031012272044962444, 0.004960802847639196, 0.016771644780796964, 0.02497978173814555, 0.0008151776222885948, 0.014457813772233956, 0.00984334607612595, -0.02080521089833774, 0.004149392553017047, -0.009978747755223354, 0.008305851698914412, 0.017225135835452012, 0.020047390081220768, 0.03234608662804777], [-0.4736063385109129, 0.003419199664195389, 0.008052834550536576, -0.025792265566993145, -0.4716200983072243, 0.2410468725317401, -0.09418136819787126, 0.0024310629909562727, -0.0031020103196802676, 0.07503787712752984, -0.015170378944043904, -0.08231169675825052, -0.004851641081484509, 0.04997174891064384, -0.03604452046830823, 1.0, 0.0075273986125983005, -0.6385935954849703, 0.56021700284339, 0.2680617926220246, -0.1253800585468892, 0.041373762406708016, -0.3393577456194648, -0.3105426707119071, 0.6936907435576604, 0.18059190578640608, -0.019070615560336904, -0.5251746381076707, -0.2635520637895755, -0.23068728712688524, 0.2288641908216263, 0.13794798145240053, 0.010190209306897019, -0.1568323116431453, -0.5209193424105917, 0.5184641022846009, -0.25780268076153007, -0.28847463386561295, 0.35421985285394564, 0.31288434798576176, 0.29170770606208424, 0.4254447759100718, 0.3980379085440998, 0.04936460565265325, -0.004207202669469624, -0.06081165219249844, -0.0008229176470605183, -0.010268127057578137, -0.020373366809743793, -0.009671359518873598, -0.03445282913579339, -0.06520205969500836, -0.036085694515414296, -0.034781002102247965, 0.028076085460630017, -0.015620479717344139, 0.009332801180969099, -0.012173311356974744, 0.026945336155992736, 0.0114343328401947, 0.007865825673746519, 0.03456394240343046, 0.021758001479556355, 0.03656745751813496, 0.04414900427179236, 0.00501354859880496, -0.06355946051665547, 0.006496011681293026, -0.015570573785604154, -0.017188288846451422, -0.010098465224042763, -0.032530376395706065, -0.05775295548541427, -0.03033985288947967, -0.04073076737012576, 0.01412655925816298, -0.012058490964659633, 0.004576180088381495, -0.01018433480363219, 0.015990413968363485, 0.01686893303685301, 0.007604593337167084, 0.040493383174917366, 0.01613975870987991, 0.04034464207334949, 0.08463533763036499], [-0.278429385753619, -0.05317078281480031, 0.039626806400905656, -0.221675887887036, -0.27949739001392043, 0.14669696322714929, -0.015809470028667824, 0.012658995348386489, -0.036979584572424375, 0.027069264889856223, 0.1352435950204396, -0.08584701852397751, -0.03594777388306123, 0.10772716285159334, -0.04854913504693249, 0.0075273986125983005, 1.0, -0.7475815676819955, 0.16000313967201202, 0.03664348371531841, -0.05908486283695169, 0.3944892093807379, -0.30674697067020895, -0.24448346281257996, 0.17799080819995428, 0.3862707252834728, 0.27963412377630087, -0.3562446417174851, -0.372610775753596, -0.13648748381467618, 0.13606721226258142, 0.11417701070652861, 0.02424352482059282, -0.1439193183304233, -0.2234111107664075, 0.2274638092247697, -0.17807939510560278, -0.0007390597977267567, 0.16341760020072363, 0.09504310539465495, 0.04802221359079415, 0.1812774878301733, 0.2324941296607448, 0.014029838384930373, 0.026670668266012266, -0.01960318324221174, 0.007662509381255789, 0.00794908169722797, 0.008846951128253662, 0.009840186018751475, -0.0017667746005766405, -0.013316637937217235, -0.004984076228038418, -0.03200407571296282, 0.04297814964295137, -0.00657312953311039, 0.002908414051820767, 0.00022828902231996246, -0.004759591729050053, -0.008430906106234648, 0.019423139947184042, 0.008310261856406641, 0.0209999007335385, 0.03594268584731325, 0.005140286586225432, 0.016576006184704763, -0.018639669642150643, 0.010056605503497414, 0.009435709896102302, 0.00769006257779542, 0.014649454389152565, -0.0012731652716885145, -0.0011530640084164944, -0.007576246245420353, -0.03054582975326102, 0.030058375290149385, -0.003872001602053155, 0.0007902090643495812, 0.004431392043341289, -0.009339525933709713, -0.004529213031979142, 0.019963971727035238, 0.010180192150991038, 0.01816188429744144, 0.030766840839491227, 0.04351706742571611], [0.525678035285132, 0.03652912487317052, -0.038847106220072154, 0.17896523301624295, 0.5240617183032865, -0.2514350753889322, 0.05648093388974319, -0.006024369480709428, 0.04287842137628755, -0.08195356532972539, -0.07892684381804047, 0.1296158160467393, 0.04524417002077308, -0.12872963061817339, 0.06297372130910726, -0.6385935954849703, -0.7475815676819955, 1.0, -0.4928832076414857, -0.19987988266258702, 0.12490900169817497, -0.3141148269819488, 0.4648945807381148, 0.3955560410378783, -0.592075406543134, -0.40619425728197184, -0.19610431547013385, 0.6312685537189654, 0.4578987646053284, 0.2651439061312162, -0.2637824407016675, -0.18397170028490564, -0.029297625227367154, 0.22509848125266113, 0.5120453126306883, -0.5139310599495122, 0.30942204564313286, 0.19917703152952387, -0.35941520253127224, -0.2697714822274596, -0.20784067606091464, -0.41708230526056334, -0.4478787813661999, -0.04448358133991186, -0.011004100302305298, 0.05311779492502113, -0.003571270057831274, -0.0008255335090081883, 0.006956405177617622, -0.0016762616531460549, 0.02430075972672381, 0.048890922934514185, 0.02432636167871884, 0.04461006990035474, -0.05045654567235102, 0.015075365576530804, -0.010855790740012418, 0.007284532206303821, -0.016937113512052272, 0.0019565839888036523, -0.01888435841363707, -0.03151993688071195, -0.030000664278379507, -0.05511725661914448, -0.03490786663003937, -0.007375145233067556, 0.05434604255721496, -0.00936182735970258, 0.0029204607490300235, 0.005281108636661249, -0.005286211202088938, 0.022708893436246033, 0.03471117574679319, 0.024914122039094374, 0.04744991310724503, -0.03015858114735244, 0.010530698424967986, -0.006269647820505378, 0.004387415690364075, -0.003999716660116647, -0.0056567001945084525, -0.019264255846282465, -0.03539831039919295, -0.02341364649813826, -0.05265041842326168, -0.0905613304412727], [-0.4186149546245725, -0.005746748236494643, 0.02379648396174767, 0.14138948355059527, -0.4126556592684563, 0.21753811912175314, -0.010964812612371042, -0.052415155519125206, -0.05692676616362608, 0.17680567696548002, -0.09347485598719851, -0.15386136265542158, -0.06027244179137814, 0.13024788564042197, -0.043806260026089026, 0.56021700284339, 0.16000313967201202, -0.4928832076414857, 1.0, 0.06250848086052904, -0.09958999202659866, -0.17352522853708222, -0.3901910753641654, -0.3773420164637682, 0.6926061341462939, 0.051385955847726365, 0.07188055791850145, -0.5356170951489201, -0.20876180024127908, -0.33332239780246653, 0.3356219945513295, 0.12664991528527444, 0.1357265155928384, -0.23258103494035773, -0.6127469834912089, 0.6137608282853789, -0.26855267607697714, -0.2208507856277427, 0.3321105124020365, 0.2736841428916132, 0.22183925670840526, 0.35856751389064534, 0.3941479770455476, 0.03749027809567673, 0.00433357184591054, -0.015139509379118458, 0.007161369186404297, 0.0015263950537258474, 0.006723771024241085, 0.0030344606824218206, -0.008171051579798944, -0.010048085753419991, -0.019624489840008672, -0.0364908656068868, 0.034357849147361445, -0.00027584938621252056, 0.007117489736110224, 0.007987437046553844, 0.061646503502465186, -0.0010446223651262856, 0.012086558795037946, 0.03313936603897062, 0.02173883877769976, 0.020803052278081987, 0.028739339746927908, -0.0006940907112557522, -0.015063908657469555, 0.009871030869219448, -0.00043964689189622763, 0.006292402258651645, 0.008157515761564262, -0.008612131607628292, -0.006122637814706245, -0.020939635671849685, -0.03854556412839684, 0.015890635130972768, 0.00820776822423253, 0.007103038649268494, 0.003497123118689543, 0.0411850992274181, 0.013952364703327036, 0.004298464777249857, 0.03595717856563268, 0.014601888362205294, 0.02206044095586896, 0.06508160601876974], [-0.11773558518883745, 0.04243783039549762, 0.03569805917438447, 0.058309154682559046, -0.11533009231616587, 0.056606777889369596, 0.042937875167969645, 0.006322591899321078, -0.06713968992910947, 0.08833008008025929, -0.011054298922709432, -0.0741081494119581, -0.057965877340944744, 0.11223653910136118, -0.03500043227404401, 0.2680617926220246, 0.03664348371531841, -0.19987988266258702, 0.06250848086052904, 1.0, 0.07963947932009624, -0.12132342668963803, -0.09635074960473257, -0.19953709109552958, 0.363010219895105, -0.04381392742656421, -0.02945152794897635, -0.1733538595291715, -0.1625988127424805, -0.11191024485396991, 0.11089384966745101, -0.025054182824785956, 0.15713871378431268, -0.08549835839306416, -0.2134973601706634, 0.21159296871288077, -0.11966086487745889, -0.12739308950975595, 0.2122973851398612, 0.09309243420816349, 0.11428414612586965, 0.19131572551296733, 0.08242236232486648, 0.004878662724328767, 0.008722251096335535, 0.0035665046145569833, -0.012639168645356703, 0.009247801877713901, -0.03071412049972656, -0.00895779291998453, -0.013078355062443573, -0.0005540665147774998, -0.01282586453480824, -0.014245834682728893, -0.009205828079493864, -0.0061833881998444844, -0.013150612466206009, 0.010322729403209533, 0.044247711004172734, 0.030650053102793156, 0.02372340268824051, 0.014830547209784026, 0.0062675979000677675, 0.005289714086589485, 0.0010595065703829485, 0.0029319188044249584, 0.0019392637765384922, -0.004239026445692119, 0.004644043460915001, -0.02237584579174458, -0.011197683974106474, -0.012427390907199144, 0.0073625092097329555, -0.013076858457005756, -0.01686220490030051, -0.014380008547760734, -0.010162846241623242, -0.014099756390461118, 0.012183559920382125, 0.021344799387777662, 0.027403752670310602, 0.019198975464987996, 0.023505482819182105, 0.011499012793261943, 0.01102397942544709, 0.021974498491923962], [0.24859754006478768, -0.018174589641875995, 0.10695982197097563, 0.09071640156259506, 0.2768818584900594, -0.1059651155798838, 0.11116369957390641, -0.04689866572657841, -0.05240504238069274, 0.01976129986936121, -0.08966619874247395, 0.038755254733195854, -0.012136443449175504, 0.002162877405186204, 0.028366861076323333, -0.1253800585468892, -0.05908486283695169, 0.12490900169817497, -0.09958999202659866, 0.07963947932009624, 1.0, -0.2842171410805508, -0.06776199623809617, -0.06690693457442483, 0.09927566151545465, -0.10643913787809739, 0.1877125475915482, -0.13957693189683906, 0.02360390769631787, -0.19031850043479762, 0.18906949668759787, -0.16044011922252724, 0.17034770057543686, 0.03416670635050718, -0.04719392300987222, 0.045782019788295505, 0.03751005090883186, -0.03662235009972506, 0.0320335420632658, -0.029632493006449278, -0.043127562650614334, -0.03965187627883259, -0.10792407398626795, -0.06973067919044248, 0.0400195969969491, 0.17431028965368567, -0.039910863890927545, 0.0015984896035226388, -0.006756837513553255, 0.03140294931938858, 0.07661418575581687, 0.2119654765577952, 0.06696170217075363, 0.04978197030243972, -0.005849524737734571, 0.030458503090420242, 0.005499892636169674, 0.026611330455971315, 0.08699956635131413, 0.03511029636542739, -0.00562947088882375, -0.03603382240000942, -0.02028718616709428, -0.026897412070326053, -0.06875445331267897, 0.0376615804352681, 0.18224689076791686, -0.030795715113186784, -0.0010779295589800702, -0.004853062746342183, 0.03159167492102456, 0.06573920028572654, 0.20295789012494145, 0.049991099594155715, 0.04466093355552384, -0.00428713382230329, 0.01743667261975047, 0.006360675845793091, 0.03758233987546194, 0.015728724001401344, 0.017424175848165736, -0.006533919998255629, -0.02899007304683487, -0.01981295462720372, -0.028923878215939277, -0.05400256625314131], [-0.2061975109491016, 0.005761900445763099, -0.004949426233726757, -0.16268646614133653, -0.21940516505978003, 0.08763907740302603, -0.03185735699198595, 0.07755980781867529, -0.024490369914597344, -0.0071955615307325894, 0.14709484009002868, -0.0562798614034093, -0.002129783608034767, 0.027233061264864952, -0.03313105069329086, 0.041373762406708016, 0.3944892093807379, -0.3141148269819488, -0.17352522853708222, -0.12132342668963803, -0.2842171410805508, 1.0, -0.35250504740056887, -0.28352593702730167, -0.16970267617283555, 0.5230844978992449, 0.15650369620511512, -0.15249778618455873, -0.2154302043226357, 0.01775176835008654, -0.018381852856660757, 0.17576615708851137, -0.11782333784238536, -0.09117046002722047, -0.001986541887422196, 0.004458622224444052, -0.1423340275084836, 0.1320977808753945, 0.02175204694679118, 0.009244568995300788, 0.02576413287141021, 0.11446088022266951, 0.1383623989706131, 0.024106898419876458, -0.003725141195160652, -0.04685789974882752, 0.01079489125561488, 0.005163383714562314, 0.017601473112317766, -0.0032231555731531054, -0.009515789548107273, -0.06403703312592643, -0.014818412239846469, -0.029692633764522875, 0.008997088294386722, -0.015136807867488864, -0.0019461892195478624, -0.0020313735988878876, -0.011741667654740514, -0.011806406936149146, -0.008513077617938174, 0.0005037941438797298, 0.007391045223477065, 0.037208667009603846, 0.021597584175803992, -0.006484502839781644, -0.04658203688478112, 0.013520166263525256, 0.005144090781849638, 0.013922433461472225, -0.001021311492686568, -0.0034355147551216997, -0.05787209210032554, -0.0032815187783256706, -0.027682609296008808, 0.0059467129681084405, -0.011379389916272678, -0.0025071182016852592, -0.0015359163194069336, -0.0007964099122148374, -0.0152111550607797, 0.007475484025252545, -0.0019101153740975242, 0.012021544411718963, 0.03376068127811344, 0.047716187168018495], [0.3047492224965602, 0.02480171978549036, 0.037589774240243984, -0.048102802623022904, 0.3052819332382049, -0.17981314088627298, 0.017152674427050353, -0.06550040571109576, 0.08300598581958832, 0.02683137541106944, -0.025785102450977496, -0.017214545608014945, -0.034641626200752576, -0.08882881055856691, 0.11367700797403857, -0.3393577456194648, -0.30674697067020895, 0.4648945807381148, -0.3901910753641654, -0.09635074960473257, -0.06776199623809617, -0.35250504740056887, 1.0, -0.10613555676100268, -0.35951200807277806, -0.2896866824521052, -0.212822158262849, 0.6123650876392971, 0.08871565483920317, 0.1284423945832102, -0.1295441971225419, -0.016597606369946557, -0.047187862768947084, 0.06551190709220094, 0.3949909084808901, -0.39633754167699714, 0.1819725652341244, 0.11407689772716234, -0.1913846492416507, -0.1412654121991649, -0.12478357143555828, -0.2441133673802321, -0.22447900246841412, -0.007677532328709027, 0.006506049461729035, -0.02316268653007909, -0.0028268795693846753, -0.015089287039101059, 0.003266401293631193, -0.007339108730242182, -0.020912007821290206, -0.02312368152137759, -0.003776233656317006, 0.0193763505215827, -0.011970578464032258, 0.01062993471759652, 0.004348647076748139, -0.008759717950720197, -0.03599215898446723, -0.00022671928408524896, -0.0026116371750855606, -0.006527812784299386, -0.0033997717988807547, -0.047780494465375405, -0.0029781268655080795, 0.014867623521690299, -0.02401685076151156, -0.011256518685352487, -0.013294189748764977, 0.0006304762898803486, -0.01083577679862012, -0.017399982050300494, -0.029308247796744697, -0.0031287518211128365, 0.020912685211652307, 0.004191366446599383, 0.009797555947656262, 0.004492929238326292, -0.007611848644958908, -0.02078476197136714, 0.0014887683462086268, -0.0020608373704924924, -0.010195720408180956, -0.0012215494521409273, -0.048179271554154794, -0.042495837828919095], [0.2730507650314764, -0.05234493540424916, -0.16124599738250958, 0.03433760738200567, 0.25888830217266234, -0.07207726456089718, -0.03509865234776607, 0.10854081184004094, 0.023618472751178746, -0.2980562660402642, 0.05607705281607581, 0.30732455255067154, 0.15935451763096226, -0.10360745492019538, -0.05883708404071247, -0.3105426707119071, -0.24448346281257996, 0.3955560410378783, -0.3773420164637682, -0.19953709109552958, -0.06690693457442483, -0.28352593702730167, -0.10613555676100268, 1.0, -0.37770417058421824, -0.18971303899537797, -0.07168389909240819, 0.2562514249729252, 0.4504819271040457, 0.336555039803743, -0.3357190293933846, -0.23723466258203402, -0.13170956154920221, 0.35406255569155454, 0.34181756958599024, -0.3420165786192216, 0.2660736591938363, 0.0603527859192733, -0.2515661823447764, -0.12944682934361385, -0.11970049478575011, -0.2987518719990862, -0.3518277801720792, -0.016815389104069496, -0.026692909920450123, 0.0036983751490998864, -0.002650940469095895, 0.011821230304357937, -0.010050468470526475, 0.002549390143974611, 0.015081745629835925, -0.007767890697188615, 0.010068858075709588, 0.028499605317100597, -0.02446179734457518, -0.007038555051068001, -0.012797381081961566, -0.012974714574155754, -0.059381218529961165, -0.015252010724178358, -0.005466281969195346, -0.03495658916203221, -0.020778775501066868, -0.005924733604996123, -0.009449257657179567, -0.027503215890442106, 0.0023062270163137118, -0.01173364287544483, 0.015073490218247103, -0.0036498956145243856, -0.0015888174128719094, 0.010191320521039849, -0.01140575678721642, 0.00978023837063593, 0.03191137987330298, -0.015230156763522221, -0.00906189402765397, -0.013412940292081923, -0.016091453150921527, -0.020406265632808736, -0.01752432123157524, -0.013332685294386146, -0.03688609443117018, -0.02142127969209821, -0.004594874259625886, -0.05463238645302968], [-0.3929312988883008, -0.014437378459010889, 0.06309678687345999, 0.047819524329306695, -0.3820172344339658, 0.1696458903608802, -0.010560977944816972, -0.03289206736632466, -0.05275206261601247, 0.18282188184913087, -0.09168146674960151, -0.16627969047039529, -0.09617204862663409, 0.14215796222194002, -0.014821354376430602, 0.6936907435576604, 0.17799080819995428, -0.592075406543134, 0.6926061341462939, 0.363010219895105, 0.09927566151545465, -0.16970267617283555, -0.35951200807277806, -0.37770417058421824, 1.0, -0.05905585120200073, -0.09557452814332648, -0.558214559881121, -0.2530590637100739, -0.32386281662659855, 0.32403138950725163, 0.11572203453154287, 0.17144603713404513, -0.25315773973830935, -0.583264891658197, 0.5835391696553958, -0.29411687839742545, -0.26833139476555123, 0.42299759701701084, 0.2371680187793352, 0.24758442727985722, 0.39543540935291693, 0.3722321087680022, 0.010800731539977002, 0.009723065062355745, 2.9459172599293538e-05, 0.004703436858044919, -0.0051475630657854725, -0.016535024216111638, 0.008093001403834031, -0.008310821584352904, 0.005855699036997532, -0.010095913953874911, -0.022094584205539558, 0.04397389509970239, 0.008738994551096627, 0.0009083430255064115, -0.0016055415062450307, 0.05638029092561443, 0.011233059923787748, 0.017792049176069177, 0.023991423812053932, 0.02462181914799976, 0.01878421661674064, 0.003182467853001979, 0.01532521695813153, -0.0017472433843393096, 0.011588983770658846, -0.00910179541446641, -0.00973673457792421, 0.011000329085049495, -0.010555582969971382, 0.01877537219433405, -0.01633659637819298, -0.02990351280323896, 0.02275019471303475, 0.009256868632572303, -0.0007286028607766082, 0.0003088893966422608, 0.020531858100737817, 0.026965363623499335, 0.011327789423848931, 0.031267916340137494, 0.018126912473335376, 0.022832992352568787, 0.06349759823898685], [-0.1885184626632357, 0.009924237692118188, 0.011569922580656663, -0.1558015664066144, -0.19261633937656047, 0.13721542932051994, -0.04100292119478091, 0.0540537944860493, -0.023215146005097043, -0.02921484886128681, 0.1668618707130202, -0.02264514657658013, 0.054789685861048924, 0.01731217178130682, -0.05786247470820416, 0.18059190578640608, 0.3862707252834728, -0.40619425728197184, 0.051385955847726365, -0.04381392742656421, -0.10643913787809739, 0.5230844978992449, -0.2896866824521052, -0.18971303899537797, -0.05905585120200073, 1.0, -0.09644440263381858, -0.31525036325190586, -0.2704423594736424, -0.07149568709968525, 0.06871134669883652, 0.09572876609224554, -0.048696674760048075, -0.05195575758612244, -0.1390949930089703, 0.14002611337309134, -0.13558394994632977, 0.0031588463023189254, 0.11057506183581982, 0.09895758306140515, 0.04867069803866028, 0.13838945248488424, 0.17488891522976163, 0.0288615724659215, -0.004767411125124068, -0.004919170141040301, -0.014305158821066682, 0.007162583023627371, 0.007686709411090054, 0.008243966839677496, -0.0012343603766261171, -0.00472773700977275, 0.02305648037468585, -0.029651967064029224, 0.005009392291996568, -0.006506864784460691, 0.010726553362232192, 0.014057892588929623, 0.0054035065242224725, 0.008809798632402867, 0.002481550129248709, 0.012174325061598278, 0.002384327520219643, 0.010386603480080627, 0.02420515746425013, -0.014618270373247241, -0.004379677115049809, -0.01391312870091151, 0.005942105314235214, 0.012385193006070185, 0.008448982201109158, 0.002772411020868875, -0.0058664041817288945, 0.023030296083945478, -0.027661376128166347, -0.0022734650373592005, -0.0032140336157629435, 0.011125938906625247, 0.012701972958311691, 0.003195263766963724, 0.0010210058637781605, 0.007529207596561341, 0.006568949851945113, -0.0013050541830119838, 0.010363609598525017, 0.028762971321023817], [-0.03807770822073846, -0.025302576309858882, 0.058551505469457046, -0.0403596449944957, -0.029730825870333683, 0.07970384865071925, 0.028599349920727497, -0.02643203141403819, -0.04217076402450148, 0.016749791509945676, 0.07690600992845961, -0.04580556789758361, -0.025872393760338577, 0.014384115939899885, -0.0038083099661693196, -0.019070615560336904, 0.27963412377630087, -0.19610431547013385, 0.07188055791850145, -0.02945152794897635, 0.1877125475915482, 0.15650369620511512, -0.212822158262849, -0.07168389909240819, -0.09557452814332648, -0.09644440263381858, 1.0, -0.3991398384367566, -0.21104785853485042, -0.16189165786520845, 0.1639313062749676, 0.02057476973900559, 0.06152979098178865, -0.07409693447868732, -0.08439899183268705, 0.08493714079848164, -0.0504757991797678, 0.016347138013831974, 0.0182227929891078, 0.05316777937408667, 0.05092427111046773, 0.10656674032082598, 0.06001513814499831, -0.0024912299109616028, 0.02596009795313135, 0.029107421823598947, -0.00373721745491939, 0.011224912388092902, 0.007917602351428242, -0.00098153670090089, 0.023916671122995108, 0.0526849096987591, 0.010113775596110722, 0.011253531933716041, 0.015679267797226597, 0.0025763389520498813, 0.001737362875387859, 0.020132118419435675, 0.024514134444483856, 0.010305953371259644, -0.008753555634098147, -0.024893467826983675, -0.01396369051818858, 0.03512792128528811, -0.005263537986868344, 0.029800756180030884, 0.03217507943490515, 0.005608039460789325, 0.005744068364825321, 0.0017664453502446726, 0.0006569799872592642, 0.023414855713452674, 0.0454025661644831, 0.010591715760694613, 0.011428381534505077, 0.017756109540839223, 0.005744979284177296, -0.0009698436075970524, 0.016736439724165813, 0.004172421441270264, -0.007956311639069388, -0.004249038446985474, -0.019414000977202427, -0.016534301675354354, 0.025455215621013237, 0.004040260696156452], [0.38610445877656413, -0.0073450679380996815, -0.019022276335713326, -0.0635554975892655, 0.37943739405134513, -0.21572516889315146, 0.05849484688339625, 0.0016765042141927112, 0.03128761677762628, -0.03603526772421396, -0.010531925933461889, 0.037152065904219586, -0.05378915221588109, -0.062095821634889324, 0.09541886755212771, -0.5251746381076707, -0.3562446417174851, 0.6312685537189654, -0.5356170951489201, -0.1733538595291715, -0.13957693189683906, -0.15249778618455873, 0.6123650876392971, 0.2562514249729252, -0.558214559881121, -0.31525036325190586, -0.3991398384367566, 1.0, 0.016114076263298416, 0.2822935856540888, -0.28244384290772956, -0.04660041648937032, -0.10184307392683711, 0.12489243466187935, 0.502846113851674, -0.5038458222665184, 0.22166598319633912, 0.18683853752339655, -0.25826459864821266, -0.20726234642534216, -0.20729960175570786, -0.32772530112773274, -0.32669092105981956, -0.03031698814034117, -0.010956393212407135, -0.0048581344463375295, 0.017032599440529102, -0.023917781602479548, -0.005698529778346867, -0.00026374217636584556, -0.005239348851122941, -0.030894902351984818, -0.011499976218869222, 0.02653926424132403, -0.04074936845572163, -0.00156673164884036, -0.0007018416139126345, -0.01961554513661139, -0.04647477158782085, -0.013872873219711689, -0.01282565669816442, -0.015570973151254228, -0.006959216085117062, -0.035620597105375316, -0.02303405833916864, -0.010749873799039971, -0.005022594643704952, 0.003941957763193271, -0.01589454000343125, -0.008265297143488375, -0.0026318454088660455, -0.0030930751399592424, -0.03269966298763452, -0.00665525158457875, 0.0314507676402871, -0.024298854904087338, -0.0030717159004487477, 0.0012898903587807789, -0.016608537302684533, -0.01942922567925349, -0.01281122948511133, -0.008212748158820256, -0.023286030049738074, -0.0008820314496304533, -0.033262100867787685, -0.04230936651553825], [0.20463017040643675, 0.02067119241564986, -0.18661249612965072, 0.24459650955397141, 0.19213639012695533, -0.07516462761531645, -0.06989526329014258, 0.06848385678933365, 0.08314495975343943, -0.24314314885761457, -0.04781437226124463, 0.3057286776906057, 0.25751200678535807, -0.1321768828686496, -0.09812838781297376, -0.2635520637895755, -0.372610775753596, 0.4578987646053284, -0.20876180024127908, -0.1625988127424805, 0.02360390769631787, -0.2154302043226357, 0.08871565483920317, 0.4504819271040457, -0.2530590637100739, -0.2704423594736424, -0.21104785853485042, 0.016114076263298416, 1.0, 0.29533678571394584, -0.2961545361536896, -0.2301363904435332, -0.138394613021899, 0.37699696668534105, 0.26285462741470017, -0.264380516727006, 0.31419967440787194, 0.03367034729948332, -0.28377074440029226, -0.1353681257575923, -0.06870237669552512, -0.319564477646991, -0.3233093931838344, 0.0011942733114493956, -0.026420391597362786, -0.02164054986467387, -0.03161368981115441, 0.026318154417093547, 0.006943038534088509, -0.0030727509259609134, -0.005709784965963372, -0.025857143858338993, -0.02137555139516094, 0.010327368293533024, -0.021335330035097504, 0.014245617101783932, -0.021227068385417793, -0.024316966760771178, -0.056781255869259806, -0.0161866075774077, 0.007046207375039794, -0.019239038861725535, -0.009748446968684321, -0.04178625588720984, 0.009377042363951964, -0.027312352294625277, -0.02233990108048194, -0.03168818607449961, 0.026258294561644337, 0.008582851034023686, -0.006033813869990498, -0.0114402190805626, -0.036793714643689114, -0.015310797936819604, 0.011632704189345243, -0.009786306653257332, 0.0070869331171223016, -0.02055742561540223, -0.023533451313674226, -0.011368419778773951, -0.018598158365198174, 0.0010390496847081804, -0.019654089955099367, -0.010342280228976283, -0.04019546806515102, -0.0630702655218511], [0.14899845321349706, -0.04912699168895344, -0.3394294613287282, 0.025263825319750115, 0.1181598824004475, -0.09636218866571956, -0.22020374268436727, 0.14578973747139626, 0.22462516319083792, -0.3909956954602839, 0.16290069552328743, 0.36853449607545696, 0.350994171421032, -0.04825087325073532, -0.242813966491467, -0.23068728712688524, -0.13648748381467618, 0.2651439061312162, -0.33332239780246653, -0.11191024485396991, -0.19031850043479762, 0.01775176835008654, 0.1284423945832102, 0.336555039803743, -0.32386281662659855, -0.07149568709968525, -0.16189165786520845, 0.2822935856540888, 0.29533678571394584, 1.0, -0.9995539474452645, -0.18757035507632192, -0.2551600904112636, 0.3947491987472235, 0.3671486737697851, -0.36622402231697354, 0.4958923964426778, 0.012575788203628691, -0.3502708130854139, -0.24134943126513417, -0.17346220629900347, -0.4255198566189443, -0.42751756487271997, -0.01598156663992252, -0.0325342113203115, -0.05391703332320021, -0.008610888680184099, -0.010314659770019143, -0.02707439982756782, -0.01637000808204998, -0.02872650308283166, -0.06220999086601547, -0.02672289176737581, -0.017955216756073207, -0.038488244453859885, 0.001873775146067576, -0.020247634862968784, -0.03014745116643276, -0.18273234777084774, -0.02070729038487228, -0.022415245234096888, -0.027227070260064032, -0.008306043305196324, -0.041685791502533355, -0.007187580992385017, -0.035392498982243704, -0.05378149691187833, -0.020895134402771656, -0.00917542195167681, -0.021762614944451735, -0.014233613262042278, -0.02577194323578471, -0.059458968615747225, -0.015012452546751737, -0.01176990411242241, -0.025721019503913253, 0.005086507871073011, -0.022096849107746806, -0.028302754306292956, -0.08213186950694096, -0.02379235204475461, -0.02608373985559147, -0.030262408171328182, -0.012230017718589567, -0.03737924230910951, -0.07914349838801933], [-0.1499882488061688, 0.04836078625193433, 0.3383893518328436, -0.023181931716493076, -0.11922308411742107, 0.09635520157136118, 0.2224873953258843, -0.1467204687848494, -0.22667166972453778, 0.39249527149029617, -0.16386120031289425, -0.3698107943681498, -0.3524278962075681, 0.05333859929482222, 0.2396384952915124, 0.2288641908216263, 0.13606721226258142, -0.2637824407016675, 0.3356219945513295, 0.11089384966745101, 0.18906949668759787, -0.018381852856660757, -0.1295441971225419, -0.3357190293933846, 0.32403138950725163, 0.06871134669883652, 0.1639313062749676, -0.28244384290772956, -0.2961545361536896, -0.9995539474452645, 1.0, 0.1896497360697005, 0.2539226616748056, -0.39613960415912247, -0.36649083650907216, 0.36603578671690484, -0.4946520186362783, -0.01168184035721613, 0.3498764776491772, 0.23997811419879883, 0.1725114129858549, 0.42476170379680583, 0.42764245526727207, 0.015888282762630265, 0.03222181535171895, 0.053843055507245226, 0.008332934220905404, 0.010060354090921314, 0.028013575233350917, 0.016259837774733197, 0.028447696637973124, 0.062233415827390295, 0.026559727882265943, 0.01783228874821663, 0.03967397803344589, -0.0020559946177121048, 0.021756547805521755, 0.029967911934358202, 0.18283718812069108, 0.02064877091714312, 0.02221898558198104, 0.026774974010014434, 0.008092188672997347, 0.041627062494270825, 0.007056802839587137, 0.03508022166138741, 0.05376021514697974, 0.020789567990473733, 0.008949762984534865, 0.022474536635626433, 0.014132333344091513, 0.025490341994272414, 0.05998368308367895, 0.014871436597345217, 0.011658574853968179, 0.02633057226473915, -0.005289004366660653, 0.023938888323106824, 0.02813129006547943, 0.0822656284097605, 0.023725114093686713, 0.025874493960512588, 0.02983848342843372, 0.011985097287907419, 0.03750583083217962, 0.07842891648503215], [-0.17783022508757343, -0.011175207749819034, 0.2519165790993115, -0.13254774609868109, -0.16620832959347717, -0.01959363675041129, -0.01833288893434901, -0.00907119332388433, 0.013174541208175928, 0.41680720328952886, -0.09273260292283805, -0.4325590117974314, -0.3256200790614137, 0.10728029795254657, 0.18357856757336377, 0.13794798145240053, 0.11417701070652861, -0.18397170028490564, 0.12664991528527444, -0.025054182824785956, -0.16044011922252724, 0.17576615708851137, -0.016597606369946557, -0.23723466258203402, 0.11572203453154287, 0.09572876609224554, 0.02057476973900559, -0.04660041648937032, -0.2301363904435332, -0.18757035507632192, 0.1896497360697005, 1.0, -0.39251421544004184, -0.7345637186024246, -0.10288587181778906, 0.10654752054649531, -0.31771523717498307, 0.09631659991540786, 0.22325594441002786, 0.05726697681326628, -0.08256634759444194, 0.22631208528874405, 0.2701671047724969, 0.024208744061614235, 0.005977399390186735, -0.008592560431886657, 0.04738513133941249, -0.009857318655849224, 0.013660942882054718, 0.0008048407171693701, -0.015042042968213999, -0.026188486053088898, -0.012598898421077151, -0.012046051240281696, 0.031070920531839796, -0.009637541548420307, 0.04334477727318648, -0.0084108178432492, 0.020397547551095185, -0.00560474967456053, -0.019223184896914564, 0.02684249995562367, 0.03154537905987028, 0.029704641383930273, 0.015564485950063094, 0.011158519501830694, -0.008442966193099189, 0.04717699799834434, -0.019117327219592157, 0.010800325004895198, -0.0009241344455098612, -0.013147223042453516, -0.021557103099235416, -0.01643886673238866, -0.008992697217020182, 0.03369605425467018, -0.012542556352489347, 0.04597501847283597, -0.005845686155315849, -0.0086546234252329, 0.00915888378393194, -0.010046326253688254, 0.029119401290883487, 0.03441834013014561, 0.03286830366834776, 0.06997386877110595], [0.03779549266385713, 0.023660760238217053, 0.20006987703904872, -0.08850073700008715, 0.06318048275718827, 0.036872219397393914, 0.10545694599011526, -0.10030924418384521, -0.06329392476156863, 0.2251749664427102, 0.031120037494935467, -0.27777329087150443, -0.24403583525231623, -0.011747558818312681, 0.21134526745627338, 0.010190209306897019, 0.02424352482059282, -0.029297625227367154, 0.1357265155928384, 0.15713871378431268, 0.17034770057543686, -0.11782333784238536, -0.047187862768947084, -0.13170956154920221, 0.17144603713404513, -0.048696674760048075, 0.06152979098178865, -0.10184307392683711, -0.138394613021899, -0.2551600904112636, 0.2539226616748056, -0.39251421544004184, 1.0, -0.2769215169439137, -0.23196730621165673, 0.23079285087930243, -0.1858926446548132, 0.02059698459374124, 0.07413477918104387, 0.12163855738317907, 0.15861441229429601, 0.18075054020804618, 0.15705851146818356, -0.03598424740474834, 0.027277702970560286, 0.038860731175049616, -0.0001751071326023214, 0.001369366364824852, 0.007157006188932923, 0.013772396351989388, 0.035172595069369636, 0.06522435545460846, 0.01369558304536389, 0.030711458497504424, 0.008620464168370928, 0.007293995372999418, -0.013471689573643779, 0.02840673347764748, 0.06939802157483234, 0.034228285491590835, 0.010040354896393868, -0.00956434926916131, -0.0005522585964680567, 0.009203065961433415, -0.03862156321770745, 0.026391560411437663, 0.03922659978309373, 0.004360613741391558, 0.005163419297972346, 0.0039810607762014736, 0.017927945906020787, 0.033950200200229104, 0.06286282750340061, 0.016798833792554677, 0.028159836806331332, -0.006848405124992153, 0.006262603627923919, -0.01599833616616522, 0.022981966523535048, 0.020556806037033738, 0.01919465972855925, 0.0033699049890300536, -0.009158019478891163, 0.005439821151859584, 0.002070529139315801, 0.0077680756021926214], [0.15549736045678655, -0.011085721290908757, -0.40174671221165476, 0.19760764113306437, 0.12523788988390744, 0.004856865150585797, -0.08242954317098522, 0.11319339432931443, 0.05505118915544118, -0.6100175190779609, 0.10689909210125122, 0.661457628762058, 0.5161735709274159, -0.10524577667992986, -0.33948052889168334, -0.1568323116431453, -0.1439193183304233, 0.22509848125266113, -0.23258103494035773, -0.08549835839306416, 0.03416670635050718, -0.09117046002722047, 0.06551190709220094, 0.35406255569155454, -0.25315773973830935, -0.05195575758612244, -0.07409693447868732, 0.12489243466187935, 0.37699696668534105, 0.3947491987472235, -0.39613960415912247, -0.7345637186024246, -0.2769215169439137, 1.0, 0.29369326220416875, -0.2964448467825395, 0.4689883200363423, -0.0930620704933473, -0.2981118578115978, -0.13567512396465334, -0.04228287598412812, -0.38129169720385014, -0.3991461104269031, -0.0034720601990342465, -0.018522496839767075, -0.028587377926931154, -0.05316644808039698, 0.013418030243211346, -0.014914989064630275, -0.012188598117135865, -0.008609088459488056, -0.03368194843987024, 0.0028527183802112867, -0.003994938886685611, -0.041376339837738224, 0.004230111987946713, -0.033695842977031806, -0.006709508958226697, -0.07832406058530814, -0.0242077600385218, 0.009227025552721597, -0.019193328617254955, -0.0269372089668393, -0.04404916157436969, 0.006342932241931645, -0.021227451294358553, -0.02882188315663207, -0.05741330028682803, 0.021869846400139916, -0.008119323033082418, -0.012775152096153061, -0.009426898405645328, -0.037938919419088224, 0.008179636299791574, -0.005825018356087471, -0.031263956250371996, 0.004805111299446326, -0.035283598520486494, -0.006805955092762525, -0.00887709224071149, -0.027814336803438287, 0.0031819502564822267, -0.02366835918993756, -0.03339957919430017, -0.043525829876288204, -0.07650078387929793], [0.35178433346378635, -0.016134966215265598, -0.07341940978548668, -0.12202415416524152, 0.33990488558103754, -0.22496085747425512, -0.04221263736898709, 0.114104212977108, 0.09961350297625791, -0.2293390786145646, 0.15000309833831246, 0.18317970494991764, 0.11973144267533159, -0.0827245741112362, -0.0339135776962615, -0.5209193424105917, -0.2234111107664075, 0.5120453126306883, -0.6127469834912089, -0.2134973601706634, -0.04719392300987222, -0.001986541887422196, 0.3949909084808901, 0.34181756958599024, -0.583264891658197, -0.1390949930089703, -0.08439899183268705, 0.502846113851674, 0.26285462741470017, 0.3671486737697851, -0.36649083650907216, -0.10288587181778906, -0.23196730621165673, 0.29369326220416875, 1.0, -0.9992392987669023, 0.2980197689704542, 0.23557807984737952, -0.33727622561053, -0.31681025086090664, -0.24145743903713512, -0.42194479680458924, -0.39290545221929046, -0.020284399953024276, -0.006595948164228091, -0.013115964966537424, -0.010087639992156639, 0.0013314151064756686, 0.01317285004517072, -0.0039876989595772645, -0.01134577715195934, -0.033447518061181646, 0.0018752110312447085, 0.0152826085792638, -0.04467990462705074, -0.017078941320917192, -0.005258654852561023, -0.005311034339180067, -0.07152168294906501, -0.03872459491659951, -0.013507110553347374, -0.02143048671196348, -0.014520572860674224, -0.03581907931815305, -0.013564428548758799, -0.007007785777467481, -0.012982014053954171, -0.019351168797845555, 0.002070371973341362, 0.016981248165718377, -0.004977858873236414, -0.0056775419387173655, -0.03328631536542503, 0.0028146775739521625, 0.015525785022318802, -0.029103575314341493, -0.019788629778803666, -0.0027254204272781036, 0.0017044913592308203, -0.02572519475064055, -0.04143362412589162, -0.010313340546087915, -0.024383612831859577, -0.005513185530780059, -0.03472647239020328, -0.05837784808648581], [-0.3521636617242072, 0.015281881540403962, 0.07387547602453334, 0.12419969192313435, -0.3402959622551852, 0.22266218548715827, 0.045683249702264235, -0.11600156696112926, -0.10119052209355187, 0.23226146749098472, -0.15109882447489903, -0.18596006049595293, -0.122429813583264, 0.08783069861111999, 0.03163200628517, 0.5184641022846009, 0.2274638092247697, -0.5139310599495122, 0.6137608282853789, 0.21159296871288077, 0.045782019788295505, 0.004458622224444052, -0.39633754167699714, -0.3420165786192216, 0.5835391696553958, 0.14002611337309134, 0.08493714079848164, -0.5038458222665184, -0.264380516727006, -0.36622402231697354, 0.36603578671690484, 0.10654752054649531, 0.23079285087930243, -0.2964448467825395, -0.9992392987669023, 1.0, -0.2987026398022565, -0.23233008110100697, 0.3366118273582368, 0.31451698540717943, 0.2421507713837982, 0.4222164536473787, 0.3929899542630051, 0.01925750750696958, 0.006250466093653916, 0.013700268379241147, 0.009033528659939338, -0.0016048327910557895, -0.012778347735833619, 0.0038640886482954016, 0.011843426083427089, 0.034077330784618054, -0.0020451779915798413, -0.015313934665971439, 0.04462500242926149, 0.016851997783997274, 0.005909872310123524, 0.005112176767643393, 0.07145305727800401, 0.03860177476452091, 0.013275236603218332, 0.022012415491823523, 0.015960155058964087, 0.0358318694613938, 0.012468483783387592, 0.006662305021297583, 0.013740923386386102, 0.018362853681253066, -0.002311542502778307, -0.016361906890660593, 0.004861939284608786, 0.00605505089540979, 0.034608231201003245, -0.002961163030106212, -0.015652544284724103, 0.028670359211908934, 0.019534550583010925, 0.0035514556264851383, -0.0018834951286353968, 0.0258449327876337, 0.041297474351509475, 0.010073173393114804, 0.024708781427108847, 0.006197448093645491, 0.035032017689651425, 0.057518193009803514], [0.20153096374327564, 0.014720584294801222, -0.36953058592036275, 0.17572890719726997, 0.1792761402693816, -0.09269864118056004, -0.06301435338773165, 0.008701215580068453, 0.1143579111340105, -0.4352702243163861, 0.06683715967039303, 0.47096812468078486, 0.4761521553906015, -0.1041252242825188, -0.3014227884968821, -0.25780268076153007, -0.17807939510560278, 0.30942204564313286, -0.26855267607697714, -0.11966086487745889, 0.03751005090883186, -0.1423340275084836, 0.1819725652341244, 0.2660736591938363, -0.29411687839742545, -0.13558394994632977, -0.0504757991797678, 0.22166598319633912, 0.31419967440787194, 0.4958923964426778, -0.4946520186362783, -0.31771523717498307, -0.1858926446548132, 0.4689883200363423, 0.2980197689704542, -0.2987026398022565, 1.0, -0.31828584285498784, -0.5508061353799614, -0.26798259067132285, -0.10973224724867943, -0.6456049790926269, -0.4011534270688417, -0.004282394395826832, 0.003935242485158542, -0.02013178830050494, -0.041795430697344274, 0.02461072090574305, -0.00025088496549552884, -0.013312312382155907, -0.012383190899849239, -0.006174404289401231, 0.020290311548262975, 0.009291559042280424, -0.0314108282309703, 0.00043490013009976093, -0.021845719747440824, 0.007330443324477108, -0.08253927731421502, 0.004038817564362115, -0.012398241049775896, -0.022744054790696012, -0.009341940253560502, -0.05192740150495143, 0.00453562769387866, -0.001434794363136921, -0.020193201469492203, -0.03685753838876922, 0.026610779577631704, 0.006433821615546617, -0.017642267879927377, -0.01628946537752021, -0.011439074009484414, 0.019460361917693517, 0.009874394661265848, -0.01392921189048367, -0.005413274569607337, -0.019224533537142083, 0.006926650667743484, -0.02506366626426348, -0.009873140489971828, -0.012185405253520187, -0.024641293177304104, -0.017650781660855538, -0.054638766099330854, -0.07976511689963449], [0.16105468801520556, -0.024334276235966675, 0.04418461307856896, -0.053955267193181645, 0.16349471710972915, -0.11476444659272705, 0.05926158366986805, 0.029398865750447808, -0.02620355823782362, 0.08642286767746767, 0.01950360809368211, -0.11497257349187184, -0.11844732003150658, 0.03605717882330886, 0.06374968727290112, -0.28847463386561295, -0.0007390597977267567, 0.19917703152952387, -0.2208507856277427, -0.12739308950975595, -0.03662235009972506, 0.1320977808753945, 0.11407689772716234, 0.0603527859192733, -0.26833139476555123, 0.0031588463023189254, 0.016347138013831974, 0.18683853752339655, 0.03367034729948332, 0.012575788203628691, -0.01168184035721613, 0.09631659991540786, 0.02059698459374124, -0.0930620704933473, 0.23557807984737952, -0.23233008110100697, -0.31828584285498784, 1.0, -0.4191326955227594, -0.2706256045029202, -0.20573508751121974, -0.22665442442926928, -0.12023106867834707, -0.006754051265204409, -0.0004791259337193268, 0.02216704312011592, 0.024906831521967113, -0.018312857703641737, 0.025188893516244544, 0.019585459982212252, 0.010551441358429052, 0.0001601173890950332, -0.015044984047854898, 0.005817505163243204, -0.0009046196040276456, 0.020980682268362257, -0.022145121331174134, 0.022019690349928414, -0.0041913850310354075, -0.009826456390349257, 0.0013476476201463193, -0.004537820961694095, -0.00882449566326681, -0.002340585576722988, -0.011599139198982887, -0.006192035154646428, 0.020981294039473367, 0.016513140499289872, -0.02014674969777609, 0.01668955498634978, 0.02328645925791451, 0.014413391861297415, -0.004195597414539666, -0.006832200168266568, 0.011431063315198026, -0.007754738329943024, 0.020538605011236017, -0.017416179126144984, 0.023019189843137847, 0.004185915582483272, 0.0015751956383212532, 0.004736822081839034, -0.007859668553430335, -0.00570843188100095, 0.0003849219708556189, -0.0009823603206065797], [-0.2554826848639466, 0.01537113639064718, 0.2566450281156345, -0.14896954078463506, -0.2412304517624218, 0.10626726209208835, 0.03711014142255388, -0.008466197170750886, -0.08075193888633105, 0.246226903548131, -0.03765439757115349, -0.26573321362506774, -0.26813457054237744, 0.07422259645840942, 0.17192132034819269, 0.35421985285394564, 0.16341760020072363, -0.35941520253127224, 0.3321105124020365, 0.2122973851398612, 0.0320335420632658, 0.02175204694679118, -0.1913846492416507, -0.2515661823447764, 0.42299759701701084, 0.11057506183581982, 0.0182227929891078, -0.25826459864821266, -0.28377074440029226, -0.3502708130854139, 0.3498764776491772, 0.22325594441002786, 0.07413477918104387, -0.2981118578115978, -0.33727622561053, 0.3366118273582368, -0.5508061353799614, -0.4191326955227594, 1.0, 0.036489076118380016, 0.04556155329287149, 0.5248320635562753, 0.3592618828034297, -0.001935792094251193, -0.007471629535451823, 0.004103285122451633, 0.026752837673129262, -0.00444671314410271, -0.017850759364230712, 0.003924468804830087, -0.010567308413958565, 0.01711086640432091, -0.0021737802765385175, -0.011580676132913427, 0.0323116216506963, -0.012140907929119737, 0.039776426636182166, -0.021893818916651743, 0.06375878607817631, -0.011598821377541714, 0.013561830574838972, 0.019590017354646227, 0.016313180686604728, 0.03625758242816274, -0.00592972647615948, 0.002061389426692351, 0.005792754877531413, 0.02626556258482757, -0.003162593840986238, -0.015099244491856479, 0.003535563666981803, -0.008069865135258108, 0.028743266716932798, -0.009564677904005899, -0.014070665915358216, 0.023794070467334803, -0.0008231523647580077, 0.035640962846241596, -0.02043233359301052, 0.008340429324461636, -0.0007620977435601458, 0.011355951922784215, 0.026059761160359785, 0.023009383463695788, 0.037353231823568415, 0.05769182689884636], [-0.1885902830688955, 0.0019292869327444048, 0.10469777256456227, 0.027676318455818274, -0.17933137583174816, 0.1897797598781856, -0.06051459613676814, -0.015103173348781425, 0.0011875270316833203, 0.17885902406197876, 0.017706494767915863, -0.1808047714126801, -0.16861776838295192, 0.039433917344519384, 0.0994874862497213, 0.31288434798576176, 0.09504310539465495, -0.2697714822274596, 0.2736841428916132, 0.09309243420816349, -0.029632493006449278, 0.009244568995300788, -0.1412654121991649, -0.12944682934361385, 0.2371680187793352, 0.09895758306140515, 0.05316777937408667, -0.20726234642534216, -0.1353681257575923, -0.24134943126513417, 0.23997811419879883, 0.05726697681326628, 0.12163855738317907, -0.13567512396465334, -0.31681025086090664, 0.31451698540717943, -0.26798259067132285, -0.2706256045029202, 0.036489076118380016, 1.0, 0.21202688564077998, 0.6165047032911883, 0.2661950430340102, 0.025957120483874014, 0.001020182985821079, -0.003540276149455733, -0.007742613914114323, -0.009094496741404357, 0.0006855340396367699, -0.0028901080745472214, 0.023523538885797415, -0.014724640522471574, -0.020333349973886573, -0.021755236655292498, 0.0066131660546653185, -0.009664643638356289, 0.028511963995752582, -0.013018112648768326, 0.03800974846549464, 0.027259386011590565, -0.004097769087463143, 0.0037388584993984825, 0.0047328532908155144, 0.02870633268121098, 0.02648250166192062, 0.0038922163558003904, -0.0036745645272863534, -0.008719728748328649, -0.013141726604444237, 0.0024051853739685057, -0.0008220302161851563, 0.0210058864299901, -0.015978599121270445, -0.015060666116574415, -0.024189706506934278, 0.0007556807339740528, -0.013558707843166594, 0.023385182289824363, -0.014305800695155678, 0.02225899480030379, 0.01049073862665617, -0.0033736906506138006, 0.004704164639727356, 0.0006182362854857687, 0.028221236695691924, 0.057920569860857855], [-0.13574590832558225, -0.028799321702156676, 0.08754864833310952, 0.01848203992414077, -0.13245467016414056, 0.21736578907613563, -0.09526025143440428, -0.047903184303516824, 0.04892696800778274, 0.06419232289058069, 0.031412485856271356, -0.07046621974134264, -0.07777422035838273, 0.010614427429621185, 0.05214448426608206, 0.29170770606208424, 0.04802221359079415, -0.20784067606091464, 0.22183925670840526, 0.11428414612586965, -0.043127562650614334, 0.02576413287141021, -0.12478357143555828, -0.11970049478575011, 0.24758442727985722, 0.04867069803866028, 0.05092427111046773, -0.20729960175570786, -0.06870237669552512, -0.17346220629900347, 0.1725114129858549, -0.08256634759444194, 0.15861441229429601, -0.04228287598412812, -0.24145743903713512, 0.2421507713837982, -0.10973224724867943, -0.20573508751121974, 0.04556155329287149, 0.21202688564077998, 1.0, 0.29694970555472366, 0.17164506832987828, 0.010062183700967677, 0.003242524542147619, -0.01651921430406902, -0.029128179329792014, -0.005248068568513355, -0.0020605740577713813, -0.014190374743271643, -0.003992415311216281, -0.03163043913240596, -0.020959379087846047, -0.0018212740420890286, 0.00352405855954206, -0.004784311528571995, -0.009771780092824915, -0.008106401555008852, 0.03004594642563248, -0.007262377352892637, 0.007649274476440147, 0.002394383347145816, 0.01911828409518926, 0.018167746812462925, 0.01044095703374811, 0.0036446404724560697, -0.013856873459965278, -0.02336641769727204, -0.005662987532892604, -0.00604015708111504, -0.013063935566125695, -0.0019702131794147324, -0.028106087459133768, -0.01829950589842204, -0.004815221348022974, 0.000499036333710635, -0.009770283412417695, -0.010449541634489554, -0.005924677961219376, 0.02289031638197098, -0.008344357733451895, 0.007273199113013318, 0.0007444623491140119, 0.019545179655174796, 0.01343921442681515, -0.0020132358665458858], [-0.3003413198537398, -0.009372625200465843, 0.28205833304765493, -0.07569642170593945, -0.28288773342795653, 0.1776468165649852, -0.010879873947256237, -0.03949564208997515, -0.051617031771691406, 0.35311794255695234, -0.050496621819497885, -0.3713070714097232, -0.36257027170364614, 0.10872463982650389, 0.2069151704626424, 0.4254447759100718, 0.1812774878301733, -0.41708230526056334, 0.35856751389064534, 0.19131572551296733, -0.03965187627883259, 0.11446088022266951, -0.2441133673802321, -0.2987518719990862, 0.39543540935291693, 0.13838945248488424, 0.10656674032082598, -0.32772530112773274, -0.319564477646991, -0.4255198566189443, 0.42476170379680583, 0.22631208528874405, 0.18075054020804618, -0.38129169720385014, -0.42194479680458924, 0.4222164536473787, -0.6456049790926269, -0.22665442442926928, 0.5248320635562753, 0.6165047032911883, 0.29694970555472366, 1.0, 0.45222107496914343, 0.020381246268289886, 0.010505153537706662, 0.006228850010585736, 0.02409951443733395, -0.014580276512360033, -0.00216661189103513, -0.008068853086395374, 0.015502748889243186, -0.004715061878266847, -0.015728350241520233, -0.01220329956478511, 0.03199911179291784, -0.01417587484693501, 0.02789536825172815, -0.012668412645823222, 0.07969039012073945, 0.012231297587915885, 0.009889380717035406, 0.025498474907293765, 0.013775778339070593, 0.050266492254771124, 0.015006478129659372, 0.017045511372190923, 0.007218057879801518, 0.027491218144020807, -0.01689915693090714, -0.006536477186725897, -0.004560743895978834, 0.015273664575789615, 0.00230134343366668, -0.014947792685645766, -0.01456495894093054, 0.01800267104425897, -0.013107013191113882, 0.02297264211505345, -0.013776727304808386, 0.02074691701066668, 0.00945843111293378, 0.012048673948651886, 0.032672930434682196, 0.015730558806809947, 0.0487704976602368, 0.09018538195800123], [-0.5678070801455662, -0.023663660845182576, 0.31707022949349667, -0.14509780824483773, -0.5363374179077371, 0.1545566769262925, 0.017425881022852557, -0.06831968776528441, -0.05719928831578893, 0.32620754093627746, -0.061650688143636605, -0.33982957394897834, -0.3028305639069316, -0.027153502170667993, 0.26526424129532566, 0.3980379085440998, 0.2324941296607448, -0.4478787813661999, 0.3941479770455476, 0.08242236232486648, -0.10792407398626795, 0.1383623989706131, -0.22447900246841412, -0.3518277801720792, 0.3722321087680022, 0.17488891522976163, 0.06001513814499831, -0.32669092105981956, -0.3233093931838344, -0.42751756487271997, 0.42764245526727207, 0.2701671047724969, 0.15705851146818356, -0.3991461104269031, -0.39290545221929046, 0.3929899542630051, -0.4011534270688417, -0.12023106867834707, 0.3592618828034297, 0.2661950430340102, 0.17164506832987828, 0.45222107496914343, 1.0, 0.012215096695691974, 0.026651067340721046, -0.015673138685704587, 0.022554549109692307, 0.00863186807091326, 0.011704106935613807, -0.005946407522008799, -0.01602626413757249, -0.012260653248886508, 0.0030053997983622914, 0.0011679775749038807, 0.0666140201834721, -0.015504648705193443, 0.032446924188166325, 0.01770318647212087, 0.10006204677657732, -0.004296448548695234, 0.01912317956266472, 0.03723615859717194, 0.0018797569017682384, 0.07063131311295118, 0.003220256918379803, 0.028506544814698515, -0.015878936365459246, 0.03374575419394833, 0.006968146669366412, 0.01738667999100896, -0.004186211474732111, -0.015823767254080547, -0.015046320660156843, 0.00033879359591201526, -0.007716419263954884, 0.053858493515937446, -0.00979201862778685, 0.03190407163741449, 0.016164932098429792, 0.023994867718038892, -0.006445007703735214, 0.019636017430103063, 0.04108440168244383, 0.013367061224009314, 0.0644680386204502, 0.09593826270941734], [-0.040447498391755383, 0.040773962946998844, -0.04216380162916189, -0.017966721909826133, -0.04927765980137636, 0.052647865983565384, -0.013987576298730243, 0.018513551736779123, -0.02093919844626584, -0.03900964324451075, 0.012594108132635755, 0.036189911484380714, 0.044342821162773036, -0.01429210982239146, -0.03441354541221423, 0.04936460565265325, 0.014029838384930373, -0.04448358133991186, 0.03749027809567673, 0.004878662724328767, -0.06973067919044248, 0.024106898419876458, -0.007677532328709027, -0.016815389104069496, 0.010800731539977002, 0.0288615724659215, -0.0024912299109616028, -0.03031698814034117, 0.0011942733114493956, -0.01598156663992252, 0.015888282762630265, 0.024208744061614235, -0.03598424740474834, -0.0034720601990342465, -0.020284399953024276, 0.01925750750696958, -0.004282394395826832, -0.006754051265204409, -0.001935792094251193, 0.025957120483874014, 0.010062183700967677, 0.020381246268289886, 0.012215096695691974, 1.0, -0.03838931836678334, -0.10989251159610232, 0.15453959773585546, -0.041049294093322246, 0.019292801051393374, -0.022277998820913917, -0.026187954697237212, -0.07478898706857282, -0.02709733042351581, -0.1524128442195511, 0.1273952779556197, -0.018580941810974277, 0.05713329180221301, -0.0017459328856436723, 0.48485427981260804, 0.017086570527222036, 0.002078462365392078, -0.01070056471396636, 0.04014083453275479, 0.04441613954633934, 0.9813691759338583, -0.04452248436433542, -0.11041272349033528, 0.1439602765143994, -0.03866176394858981, 0.016968049551156463, -0.022895495945486576, -0.024647261355590103, -0.07380845776117, -0.025633161250200275, -0.14749372216844414, 0.1338650523471265, -0.009621460710009262, 0.0571760120785982, -0.0019048504316985274, 0.5166315503643533, 0.013315438127618807, -0.002178718267243153, -0.0022715279256106335, 0.04462034417880935, 0.04628075777846232, 0.09646268767716294], [-0.009882599443387059, -0.0032367905569931437, 0.026890215718529058, -0.004628030180295327, -0.006342621524100109, -0.018547604149962038, 0.02399634078863551, -0.0033929303585433423, -0.014299625135878777, 0.014699756077561358, -0.0058189059661731286, -0.009809465749080568, -0.015217762355482603, 0.0009743680829421463, 0.014183146004564214, -0.004207202669469624, 0.026670668266012266, -0.011004100302305298, 0.00433357184591054, 0.008722251096335535, 0.0400195969969491, -0.003725141195160652, 0.006506049461729035, -0.026692909920450123, 0.009723065062355745, -0.004767411125124068, 0.02596009795313135, -0.010956393212407135, -0.026420391597362786, -0.0325342113203115, 0.03222181535171895, 0.005977399390186735, 0.027277702970560286, -0.018522496839767075, -0.006595948164228091, 0.006250466093653916, 0.003935242485158542, -0.0004791259337193268, -0.007471629535451823, 0.001020182985821079, 0.003242524542147619, 0.010505153537706662, 0.026651067340721046, -0.03838931836678334, 1.0, 0.022084872716902754, -0.008776592037217739, 0.2948536412347406, -0.008901505197831843, 0.15448461751731682, 0.13162849854687303, 0.06552749233242289, 0.19649690184071428, -0.029188060293903396, 0.035134755866043574, -0.007247127216273285, -0.008765714228527472, 0.2026056584708115, 0.11043295140117934, -0.0021808202749569717, -0.007637451099857311, -0.01776123928622501, 0.02861617383489095, 0.0010588207425067007, -0.04027641200582869, 0.8954072351109922, 0.023993458953553704, -0.008605737577446511, 0.3081236550054867, -0.011512054660061425, 0.1318022406903322, 0.13587277295165734, 0.061297857322664025, 0.22335196260775078, -0.029316785093005105, 0.01775265789345485, -0.008074238903052183, -0.0089448937655909, 0.20757290212274332, 0.06082246450107247, -0.0025057283093891025, -0.008127778756186588, -0.016621931486398133, 0.021777192610185493, -0.0012699245847210036, -0.0018523901864641971], [0.0763959070531533, -0.028045768592639776, 0.034340193612055044, 0.007867869130888697, 0.08640591811038746, -0.05392122009095077, 0.03716023509150933, -0.01862388884517699, -0.013935213194904345, 0.0080082852307343, -0.0019345200622845088, -0.008201297038805382, -0.029046088793979127, 0.007413142768995637, 0.019499137836916803, -0.06081165219249844, -0.01960318324221174, 0.05311779492502113, -0.015139509379118458, 0.0035665046145569833, 0.17431028965368567, -0.04685789974882752, -0.02316268653007909, 0.0036983751490998864, 2.9459172599293538e-05, -0.004919170141040301, 0.029107421823598947, -0.0048581344463375295, -0.02164054986467387, -0.05391703332320021, 0.053843055507245226, -0.008592560431886657, 0.038860731175049616, -0.028587377926931154, -0.013115964966537424, 0.013700268379241147, -0.02013178830050494, 0.02216704312011592, 0.004103285122451633, -0.003540276149455733, -0.01651921430406902, 0.006228850010585736, -0.015673138685704587, -0.10989251159610232, 0.022084872716902754, 1.0, 0.07391764573723975, 0.023844348649099175, -0.00809149590794081, -0.005532049958749859, 0.08763930532892178, 0.5716756503531363, 0.12392088879510446, -0.009581264860419918, 0.007949072397627611, 0.056270068396557786, 0.013612768868001867, 0.05693816118868918, 0.2312552718526108, -0.0028312031966976183, -0.006139745512050579, -0.016488161585411353, -0.004229238508674132, 0.003494565713578241, -0.1109207716875535, 0.027768579506703778, 0.9875786173283088, 0.09122860514899536, 0.014883807573154046, -0.006179980579757894, -0.005092913014433361, 0.0758669423923558, 0.5451233724917716, 0.10076811188350555, -0.005658784324626916, 0.0027804053605933817, 0.046168906752464475, 0.01825347504189488, 0.06244066919587632, 0.13221453729836605, -0.003253008091065982, 0.0020756404725802086, -0.01669346172499706, 0.002678707719121825, 0.00015787603685763618, -0.021630691664241128], [-0.008458529104857991, -0.02622888053281954, 0.021131314621021472, -0.015416760608542388, -0.005722607805348084, -0.0002464019768634617, 0.019499654995179378, -0.02300601473663245, -0.01846472599450201, 0.026107829175383807, 0.0033473500849976897, -0.033224324212246685, -0.04484568513659041, 0.0007485905925458041, 0.03278285583628699, -0.0008229176470605183, 0.007662509381255789, -0.003571270057831274, 0.007161369186404297, -0.012639168645356703, -0.039910863890927545, 0.01079489125561488, -0.0028268795693846753, -0.002650940469095895, 0.004703436858044919, -0.014305158821066682, -0.00373721745491939, 0.017032599440529102, -0.03161368981115441, -0.008610888680184099, 0.008332934220905404, 0.04738513133941249, -0.0001751071326023214, -0.05316644808039698, -0.010087639992156639, 0.009033528659939338, -0.041795430697344274, 0.024906831521967113, 0.026752837673129262, -0.007742613914114323, -0.029128179329792014, 0.02409951443733395, 0.022554549109692307, 0.15453959773585546, -0.008776592037217739, 0.07391764573723975, 1.0, 0.014313512360661773, 0.05671766331976361, 0.007602535169113852, 0.02836877079649592, 0.07753069892095214, 0.02087668023958247, -0.18655706700396057, 0.07115836192628591, 0.0001021590375858813, 0.048477279891516616, -0.007359203273116457, 0.09143502049928998, 0.00425993316615274, 0.024613219200095557, -0.04036047716989439, 0.01457501258957066, 0.07796964888849407, 0.14295671584096303, -0.02212713575223112, 0.07515111721705628, 0.9161544881588952, 0.018914988717524804, 0.053960953344496736, 0.005977590588173175, 0.030938457788147727, 0.07104367949689946, 0.025132267786586546, -0.18323596502716616, 0.07698483270186504, 0.007205422128251872, 0.04610352852858564, -0.004713227239305275, 0.018423993628187297, -0.0075451461925632604, 0.03172849612189911, -0.03165156121045766, 0.012587261364622867, 0.08453215482959045, 0.15090971482447038], [-0.02794027016051845, -0.01998220359800292, -0.0031699907254923165, 0.0188376991972426, -0.027092586482324543, 0.005570344409868602, 0.007317068483568724, 0.009010212660470559, -0.015104642598036023, -0.009066631769546907, -0.010134049857829973, 0.01808971577692529, 0.01249576880368273, -0.0021402220491434157, -0.008604513119883452, -0.010268127057578137, 0.00794908169722797, -0.0008255335090081883, 0.0015263950537258474, 0.009247801877713901, 0.0015984896035226388, 0.005163383714562314, -0.015089287039101059, 0.011821230304357937, -0.0051475630657854725, 0.007162583023627371, 0.011224912388092902, -0.023917781602479548, 0.026318154417093547, -0.010314659770019143, 0.010060354090921314, -0.009857318655849224, 0.001369366364824852, 0.013418030243211346, 0.0013314151064756686, -0.0016048327910557895, 0.02461072090574305, -0.018312857703641737, -0.00444671314410271, -0.009094496741404357, -0.005248068568513355, -0.014580276512360033, 0.00863186807091326, -0.041049294093322246, 0.2948536412347406, 0.023844348649099175, 0.014313512360661773, 1.0, 0.03197070619046526, 0.21848738668791917, 0.13846932047773933, 0.05467506631869362, 0.2123336613384914, -0.024027098555562006, 0.025656066613774245, -0.005965707831104771, -0.007215781986126229, 0.05633413118522574, 0.034478644587386365, -0.0017952129449761965, -0.006287015596164069, -0.002256450936657303, -0.006941929705010595, 0.017888699800331666, -0.04149802818322073, 0.19005786209319833, 0.02550293800296734, 0.03904143973785721, 0.9029955844716638, 0.02607230557472861, 0.18205395460178264, 0.14774782361522387, 0.04907029156251042, 0.2349887304070066, -0.024133062549172305, 0.048358660517070905, -0.006646571643724316, -0.007363279433807654, 0.044681024008637854, 0.0033408343073234163, -0.0020626715320216007, -0.006690644710414211, -0.004488490669335756, -0.007934968408132239, 0.021538802806340553, -0.006540680224170837], [-0.003587006084582119, -0.01648318902819225, 0.021560868887896812, -0.01717200111932695, -0.003476071458271106, 0.012763817069726614, -0.004362932770258336, -0.0013878633059614526, -0.0026283054593082165, 0.021027944419842366, 0.016234747162169685, -0.026403455691432074, -0.022371963081369114, 0.0018709822676356905, 0.015989081049776845, -0.020373366809743793, 0.008846951128253662, 0.006956405177617622, 0.006723771024241085, -0.03071412049972656, -0.006756837513553255, 0.017601473112317766, 0.003266401293631193, -0.010050468470526475, -0.016535024216111638, 0.007686709411090054, 0.007917602351428242, -0.005698529778346867, 0.006943038534088509, -0.02707439982756782, 0.028013575233350917, 0.013660942882054718, 0.007157006188932923, -0.014914989064630275, 0.01317285004517072, -0.012778347735833619, -0.00025088496549552884, 0.025188893516244544, -0.017850759364230712, 0.0006855340396367699, -0.0020605740577713813, -0.00216661189103513, 0.011704106935613807, 0.019292801051393374, -0.008901505197831843, -0.00809149590794081, 0.05671766331976361, 0.03197070619046526, 1.0, -0.007547937751906229, 0.005944657730104829, -0.007151169292001747, -0.011148408096032675, -0.041811103380416735, 0.03925593343221871, 0.0182727426668296, -0.007568329577813883, 0.006109527852582967, 0.0037590738004357523, -0.0038628981392099643, 0.003302624267302049, -0.013154845244977944, 0.007526861822439154, 0.02079537490000216, 0.013830296977509468, -0.012963922229569384, -0.006797282361029045, 0.07345693893134977, 0.01812101488524765, 0.9048551710056816, -0.006948778607469056, 0.009435438522939234, -0.008249092218694918, -0.009733607033697547, -0.04181782627140562, 0.031839312444161674, 0.027790074885131508, -0.006333897432670721, 0.0031292917009594383, -0.018412907741795752, -0.004438409407164582, -0.00032350948060612937, -0.011292388586540842, 0.01255759271321954, 0.024643677758742044, 0.005630160845881229], [0.018421920556896856, -0.010525223011358071, -0.000297130014433124, -0.009927923953650294, 0.021247534390591558, -0.005813917368575843, 0.027219395556785944, -0.0067934089470272335, -0.022508715945542424, 0.007321203945789322, 0.006109528296498981, -0.0061034565636014495, 0.0012397960772121005, 0.007511812169260229, -0.007532546111478405, -0.009671359518873598, 0.009840186018751475, -0.0016762616531460549, 0.0030344606824218206, -0.00895779291998453, 0.03140294931938858, -0.0032231555731531054, -0.007339108730242182, 0.002549390143974611, 0.008093001403834031, 0.008243966839677496, -0.00098153670090089, -0.00026374217636584556, -0.0030727509259609134, -0.01637000808204998, 0.016259837774733197, 0.0008048407171693701, 0.013772396351989388, -0.012188598117135865, -0.0039876989595772645, 0.0038640886482954016, -0.013312312382155907, 0.019585459982212252, 0.003924468804830087, -0.0028901080745472214, -0.014190374743271643, -0.008068853086395374, -0.005946407522008799, -0.022277998820913917, 0.15448461751731682, -0.005532049958749859, 0.007602535169113852, 0.21848738668791917, -0.007547937751906229, 1.0, 0.13481316065711138, 0.06392587082124877, 0.10822033525774816, -0.01021280647909898, -0.008375118217739601, -0.002535746022310021, -0.0030670946327238, 0.06493290876550332, 0.014748344548340153, -0.0007630618550724088, -0.0026723190678321724, 0.02063615930095995, -0.0029506927149290365, -0.004492018461181429, -0.023035559520824363, 0.1109065070226974, -0.005601629947918124, 0.027956587686785987, 0.2129400827156652, -0.0069233283150136075, 0.9486633329648928, 0.13012668637650784, 0.06459213847697039, 0.0659208093833707, -0.01025784686373102, -0.007835029105002812, -0.0028251496862951183, -0.00312978896453643, 0.05211227194699751, -0.004190237516914302, -0.0008767461097213306, -0.002843883105147596, 0.014150929083702773, -0.0033727874625656606, -0.004587900967107575, -0.009735866815019948], [0.031749408895525334, -0.01093376147410155, 0.012458824182111097, 0.012955422373011047, 0.03550896276142488, -0.009636976908621357, 0.020479134541541197, -0.016292325542959698, -0.007853288241842598, 0.015486770462557897, -0.010694744735442015, -0.008641766749393605, -0.010451365740609776, 0.016898222539185485, -0.004683134983338061, -0.03445282913579339, -0.0017667746005766405, 0.02430075972672381, -0.008171051579798944, -0.013078355062443573, 0.07661418575581687, -0.009515789548107273, -0.020912007821290206, 0.015081745629835925, -0.008310821584352904, -0.0012343603766261171, 0.023916671122995108, -0.005239348851122941, -0.005709784965963372, -0.02872650308283166, 0.028447696637973124, -0.015042042968213999, 0.035172595069369636, -0.008609088459488056, -0.01134577715195934, 0.011843426083427089, -0.012383190899849239, 0.010551441358429052, -0.010567308413958565, 0.023523538885797415, -0.003992415311216281, 0.015502748889243186, -0.01602626413757249, -0.026187954697237212, 0.13162849854687303, 0.08763930532892178, 0.02836877079649592, 0.13846932047773933, 0.005944657730104829, 0.13481316065711138, 1.0, 0.08262429987685124, 0.12490936588324578, -0.007185777442255752, -0.006980084117238105, 0.008966689381692412, 0.0005664250874174593, 0.05837743969193115, 0.057157553173210654, 0.03521319926160339, 0.06416663263067879, -0.005560696713927635, 0.016158066807048607, -0.011459987082107284, -0.02812963469715823, 0.09751678151414857, 0.09368878999888752, 0.04595239103433514, 0.17221288562270912, 0.003497651787065309, 0.08648200931667727, 0.9660805072786662, 0.0767859935507134, 0.1771615445473678, -0.010939794207318406, -0.0007398573397278227, 0.01498288940499938, 0.0020426733003351904, 0.04626123730656001, 0.03369192445901726, 0.06892351980582957, 0.03231404347079302, -0.007182796932575341, 0.027101785332377486, -0.011704601455090459, 0.012628457818055334], [0.09666515855928014, -0.03061776383713885, 0.05883195218420688, -0.0004470621974908863, 0.10988702662630899, -0.04895469272381334, 0.04417443934534462, -0.03322558468233747, -0.012540278316177355, 0.016130202046317148, -0.008325525513410476, -0.009847709766949502, -0.031882225788099086, -0.005829095250744568, 0.0355378155092317, -0.06520205969500836, -0.013316637937217235, 0.048890922934514185, -0.010048085753419991, -0.0005540665147774998, 0.2119654765577952, -0.06403703312592643, -0.02312368152137759, -0.007767890697188615, 0.005855699036997532, -0.00472773700977275, 0.0526849096987591, -0.030894902351984818, -0.025857143858338993, -0.06220999086601547, 0.062233415827390295, -0.026188486053088898, 0.06522435545460846, -0.03368194843987024, -0.033447518061181646, 0.034077330784618054, -0.006174404289401231, 0.0001601173890950332, 0.01711086640432091, -0.014724640522471574, -0.03163043913240596, -0.004715061878266847, -0.012260653248886508, -0.07478898706857282, 0.06552749233242289, 0.5716756503531363, 0.07753069892095214, 0.05467506631869362, -0.007151169292001747, 0.06392587082124877, 0.08262429987685124, 1.0, 0.22395424245521633, -0.002420731810893709, 0.0003217564080764535, 0.0634264204814819, 0.024805580991177755, 0.08601517812385807, 0.20506373175998668, -0.003033921783527451, -0.0012350847663581868, -0.010184224298011415, -0.007554258526232705, 0.029498394441946924, -0.07586085346206346, 0.07653442338002113, 0.5711354011283425, 0.09796629479767759, 0.05774868705974474, -0.005133768648040582, 0.06256153586707698, 0.06622742144489284, 0.929817837170291, 0.17585513072621997, -0.0010290843904238645, -0.010027187284719394, 0.055303261233295764, 0.022928001920918706, 0.07912596105794767, 0.10730661340622706, -0.0034859285695182925, -0.0008385274463657096, -0.012323068872237287, -0.003963441704108294, 0.022115026947272742, -0.01227667105368676], [0.032407656564213405, -0.008149019217533169, 0.03174659335139146, 0.00337730381016214, 0.03657017363165768, -0.005186907957167548, 0.010651806006434755, 0.0012443366216743908, -0.011577489156350762, 0.014565206092688649, -0.02420209480207888, -0.005695935503701665, -0.006864237102863491, -0.0030137474328265287, 0.008301665259487175, -0.036085694515414296, -0.004984076228038418, 0.02432636167871884, -0.019624489840008672, -0.01282586453480824, 0.06696170217075363, -0.014818412239846469, -0.003776233656317006, 0.010068858075709588, -0.010095913953874911, 0.02305648037468585, 0.010113775596110722, -0.011499976218869222, -0.02137555139516094, -0.02672289176737581, 0.026559727882265943, -0.012598898421077151, 0.01369558304536389, 0.0028527183802112867, 0.0018752110312447085, -0.0020451779915798413, 0.020290311548262975, -0.015044984047854898, -0.0021737802765385175, -0.020333349973886573, -0.020959379087846047, -0.015728350241520233, 0.0030053997983622914, -0.02709733042351581, 0.19649690184071428, 0.12392088879510446, 0.02087668023958247, 0.2123336613384914, -0.011148408096032675, 0.10822033525774816, 0.12490936588324578, 0.22395424245521633, 1.0, 0.0015288642704056829, 0.014370427508018022, 0.09667391373043407, -0.004530141047615693, 0.09241615894186346, 0.06313421062908098, -0.0011270528775512803, -0.003947052096910317, -0.009179048854364729, -0.004358213810615917, -0.0066347731825845795, -0.028373276237919052, 0.128001652444663, 0.12905133638159505, 0.036328428782029555, 0.2840737599596787, -0.010225851348483044, 0.0696539235575401, 0.13155322731088195, 0.2538728653394973, 0.9096706503355444, 0.0018340661459946, -0.003621681230040955, 0.05769636886104036, -0.004622741439845481, 0.07414991488475936, 0.02760507255275698, -0.0012949660886267176, -0.004200454544765077, -0.008590251992486487, -0.0049816535707882395, -0.006776392965427925, -0.014380009479420818], [0.024878965048420885, -0.013789971809249376, 0.023040553038776276, -0.00389885733277414, 0.029835707784863174, -0.019798244818647108, 0.014292999202269521, -0.030839082296228594, 0.011022819340287102, 0.01408825953859409, 0.0019250929378016124, -0.01872073984174862, -0.033729610143790216, 0.008036637852190644, 0.020344396430954446, -0.034781002102247965, -0.03200407571296282, 0.04461006990035474, -0.0364908656068868, -0.014245834682728893, 0.04978197030243972, -0.029692633764522875, 0.0193763505215827, 0.028499605317100597, -0.022094584205539558, -0.029651967064029224, 0.011253531933716041, 0.02653926424132403, 0.010327368293533024, -0.017955216756073207, 0.01783228874821663, -0.012046051240281696, 0.030711458497504424, -0.003994938886685611, 0.0152826085792638, -0.015313934665971439, 0.009291559042280424, 0.005817505163243204, -0.011580676132913427, -0.021755236655292498, -0.0018212740420890286, -0.01220329956478511, 0.0011679775749038807, -0.1524128442195511, -0.029188060293903396, -0.009581264860419918, -0.18655706700396057, -0.024027098555562006, -0.041811103380416735, -0.01021280647909898, -0.007185777442255752, -0.002420731810893709, 0.0015288642704056829, 1.0, -0.04113513963615652, -0.017369049705623796, -0.0045434331834160275, -0.016586109159755853, -0.17012742948742143, -0.005226729795733338, -0.01830453141209119, -0.02506240565965465, -0.020211301913014745, -0.017338974828072843, -0.1537471035881862, -0.02912964798170947, -0.010118952076999694, -0.16553523296517764, -0.021320149807881338, -0.03911838759854498, -0.009402108697342189, -0.007892133595020149, 0.006011933986535022, -0.002962932290211726, 0.9697075839648649, -0.0419167587476412, -0.01935137229649715, -0.005697468355047608, -0.015848187334265636, -0.1874704250328083, -0.006005430601086097, -0.01947969022752786, -0.02681985484937791, -0.02310251601240161, -0.01734041980035294, -0.04440971071182613], [-0.04313990772698723, 0.019118222745797723, 0.02597053480141323, -0.029133535051616238, -0.04032774806468821, 0.0013677462520104962, -0.011810423905795646, -0.01885099081384628, 0.012075620417653593, 0.031552985906921585, 0.002190186871925539, -0.03390852174482932, -0.02865276424679481, -0.00262108632322385, 0.025710162767673177, 0.028076085460630017, 0.04297814964295137, -0.05045654567235102, 0.034357849147361445, -0.009205828079493864, -0.005849524737734571, 0.008997088294386722, -0.011970578464032258, -0.02446179734457518, 0.04397389509970239, 0.005009392291996568, 0.015679267797226597, -0.04074936845572163, -0.021335330035097504, -0.038488244453859885, 0.03967397803344589, 0.031070920531839796, 0.008620464168370928, -0.041376339837738224, -0.04467990462705074, 0.04462500242926149, -0.0314108282309703, -0.0009046196040276456, 0.0323116216506963, 0.0066131660546653185, 0.00352405855954206, 0.03199911179291784, 0.0666140201834721, 0.1273952779556197, 0.035134755866043574, 0.007949072397627611, 0.07115836192628591, 0.025656066613774245, 0.03925593343221871, -0.008375118217739601, -0.006980084117238105, 0.0003217564080764535, 0.014370427508018022, -0.04113513963615652, 1.0, 0.035117429093624725, 0.1258833036424717, -0.0013684083607565342, 0.12380754350725612, -0.0042862341532694265, 0.01861803952605261, -0.001990239402035464, 0.021764596571249906, 0.040241081251075, 0.12155415347266345, 0.020320193876052908, 0.004882101231489325, 0.07290244663670044, 0.013418055074703965, 0.0446502014385245, -0.007710297066474421, -0.0018536353798879132, 0.0006542276058021781, 0.013843790734167461, -0.04102494904511396, 0.8501711175783312, 0.0393224804990924, 0.13205936406730073, -0.0031113767024384354, 0.08526230223136803, -0.004924815851103807, 0.00745799709875948, -0.005470548479535493, 0.027573407327320474, 0.03958651376322143, 0.021152195435315848], [0.02841988538000271, 0.008396362469900833, 0.00384121734833236, 0.019854587660189788, 0.03078041352851703, -0.007953635159675175, -0.019690487802956087, -0.0004781091560061577, 0.016607486676508892, 0.016906925719667024, -0.026078303234000892, -0.009643720351805232, -0.002286612817620094, -0.004777114168276374, 0.006133012444707206, -0.015620479717344139, -0.00657312953311039, 0.015075365576530804, -0.00027584938621252056, -0.0061833881998444844, 0.030458503090420242, -0.015136807867488864, 0.01062993471759652, -0.007038555051068001, 0.008738994551096627, -0.006506864784460691, 0.0025763389520498813, -0.00156673164884036, 0.014245617101783932, 0.001873775146067576, -0.0020559946177121048, -0.009637541548420307, 0.007293995372999418, 0.004230111987946713, -0.017078941320917192, 0.016851997783997274, 0.00043490013009976093, 0.020980682268362257, -0.012140907929119737, -0.009664643638356289, -0.004784311528571995, -0.01417587484693501, -0.015504648705193443, -0.018580941810974277, -0.007247127216273285, 0.056270068396557786, 0.0001021590375858813, -0.005965707831104771, 0.0182727426668296, -0.002535746022310021, 0.008966689381692412, 0.0634264204814819, 0.09667391373043407, -0.017369049705623796, 0.035117429093624725, 1.0, -0.005216246801175842, -0.004118178525514244, 0.014320561035424409, -0.0012977489895988894, 0.001468811911450014, -0.01056924800379401, -0.005018280581005637, -0.007639632856112568, -0.020391348231732116, -0.007232623975798575, 0.048249086155123105, 0.004107358359853503, -0.005293597326163853, 0.00973744012307574, -0.0023344572110911787, 0.006506927705396348, 0.05901424689696798, 0.12893895556532897, -0.017445650459884395, 0.012766433977604782, 0.8975616529669205, -0.00532287184765394, -0.003934959315633196, 0.007878065779106063, -0.001491093245536884, 0.015276835393355455, -0.00989127579166345, -0.005736142479904832, -0.007802701451872823, -0.009632613096028015], [-0.0151147364108942, 0.011337875643704906, 0.016483482188253122, -0.006815769894724682, -0.013076121419103783, 0.008017684391897246, 0.0006257971446831455, -0.004580545889916172, 0.0061416419545463055, 0.020882036408939306, -0.003359393024371924, -0.023756427919793405, -0.03372144457615338, 0.008540250686722525, 0.015702639113113565, 0.009332801180969099, 0.002908414051820767, -0.010855790740012418, 0.007117489736110224, -0.013150612466206009, 0.005499892636169674, -0.0019461892195478624, 0.004348647076748139, -0.012797381081961566, 0.0009083430255064115, 0.010726553362232192, 0.001737362875387859, -0.0007018416139126345, -0.021227068385417793, -0.020247634862968784, 0.021756547805521755, 0.04334477727318648, -0.013471689573643779, -0.033695842977031806, -0.005258654852561023, 0.005909872310123524, -0.021845719747440824, -0.022145121331174134, 0.039776426636182166, 0.028511963995752582, -0.009771780092824915, 0.02789536825172815, 0.032446924188166325, 0.05713329180221301, -0.008765714228527472, 0.013612768868001867, 0.048477279891516616, -0.007215781986126229, -0.007568329577813883, -0.0030670946327238, 0.0005664250874174593, 0.024805580991177755, -0.004530141047615693, -0.0045434331834160275, 0.1258833036424717, -0.005216246801175842, 1.0, -0.0049811152777413, 0.058101299010273076, -0.0015696836061661022, -0.00549718925580756, 0.009971745350315954, 0.011383456336599247, 0.13478532512584734, 0.05460301310606471, -0.008748171931063418, 0.013603220608496823, 0.048653859679615594, -0.006402835222467581, -0.0064457041750441086, -0.0028236270980870042, 0.00627370580750764, 0.025965383089280918, -0.003955238486506407, -0.004267672538144476, 0.11153657407002376, -0.005811574930738792, 0.9799685114482573, -0.004759503708486025, 0.04011809207985674, -0.0018035418571260146, -0.005850111178181697, 0.030340343071130437, 0.012795005196849524, 0.12445071588469069, 0.04020762953761906], [0.0013644575759618784, -0.017093489253363656, 0.01738975177549486, -0.0015734652483835514, 0.0014445014914813363, -0.01388065705006474, 0.006432476636515947, 0.006038904438482075, -0.0012649823245952957, 0.012914339277187334, -0.009974102952323335, -0.0063224061941194116, -0.006513515809017608, -0.002135097252020207, 0.006133351928752141, -0.012173311356974744, 0.00022828902231996246, 0.007284532206303821, 0.007987437046553844, 0.010322729403209533, 0.026611330455971315, -0.0020313735988878876, -0.008759717950720197, -0.012974714574155754, -0.0016055415062450307, 0.014057892588929623, 0.020132118419435675, -0.01961554513661139, -0.024316966760771178, -0.03014745116643276, 0.029967911934358202, -0.0084108178432492, 0.02840673347764748, -0.006709508958226697, -0.005311034339180067, 0.005112176767643393, 0.007330443324477108, 0.022019690349928414, -0.021893818916651743, -0.013018112648768326, -0.008106401555008852, -0.012668412645823222, 0.01770318647212087, -0.0017459328856436723, 0.2026056584708115, 0.05693816118868918, -0.007359203273116457, 0.05633413118522574, 0.006109527852582967, 0.06493290876550332, 0.05837743969193115, 0.08601517812385807, 0.09241615894186346, -0.016586109159755853, -0.0013684083607565342, -0.004118178525514244, -0.0049811152777413, 1.0, 0.06518522137220979, -0.0012392506653073896, -0.004339979990757443, -0.010092820511113687, -0.004792072734059445, -0.007295262932601491, -0.009482745260926658, 0.1944517022790786, 0.04889315531538941, -1.3911595875405495e-05, 0.03720433157534298, 0.0007516949579559228, 0.04149417109124675, 0.0592613976479963, 0.08249864489465307, 0.0632274406812342, -0.0166592569999335, -0.005449897415951139, -0.004588184568604396, -0.0050829340122158055, 0.9484298669980389, 0.027609688801505276, -0.0014238795879457434, -0.004618608578954564, -0.009445409092051866, -0.005477575741913316, -0.0074509809238355535, 0.03052864006737571], [-0.009754828021833629, -0.0013634520970272207, 0.05599833282043915, 0.019325832836088335, -0.0003219674986899808, -0.0038647412109669927, 0.07676068162793079, -0.020293488093251107, -0.07448112406518359, 0.05845287775332852, -0.039445533013352976, -0.041533288179969194, -0.051582911386157254, 0.011512842011588005, 0.03250935655089002, 0.026945336155992736, -0.004759591729050053, -0.016937113512052272, 0.061646503502465186, 0.044247711004172734, 0.08699956635131413, -0.011741667654740514, -0.03599215898446723, -0.059381218529961165, 0.05638029092561443, 0.0054035065242224725, 0.024514134444483856, -0.04647477158782085, -0.056781255869259806, -0.18273234777084774, 0.18283718812069108, 0.020397547551095185, 0.06939802157483234, -0.07832406058530814, -0.07152168294906501, 0.07145305727800401, -0.08253927731421502, -0.0041913850310354075, 0.06375878607817631, 0.03800974846549464, 0.03004594642563248, 0.07969039012073945, 0.10006204677657732, 0.48485427981260804, 0.11043295140117934, 0.2312552718526108, 0.09143502049928998, 0.034478644587386365, 0.0037590738004357523, 0.014748344548340153, 0.057157553173210654, 0.20506373175998668, 0.06313421062908098, -0.17012742948742143, 0.12380754350725612, 0.014320561035424409, 0.058101299010273076, 0.06518522137220979, 1.0, 0.01443137817094769, 0.01873294027747586, -0.03826513812845931, 0.03337160223326393, 0.061398751699630896, 0.4860150493159681, 0.08233728984158904, 0.23203487886049504, 0.10336903737304244, 0.030596702971785537, 0.0028642109590004674, 0.01053495739979766, 0.05347507856639225, 0.19925070380230006, 0.05314630521040315, -0.165289726136615, 0.13215203872534256, 0.014243675710389559, 0.058510948790771504, 0.07399170930329874, 0.8655359201679291, 0.010137083890815893, 0.01347116420801589, -0.026918300880371008, 0.0373125576202511, 0.05355393960743376, 0.09444598965501096], [0.014378840976356645, -0.005386618931121272, 0.008036980797128206, 0.00021252948074376675, 0.015402305447762308, 0.009918828526836695, 0.008904298886728262, -0.02078118337471166, -0.010619898552468693, 0.012591479051147577, -0.01807779923104272, -0.007921293970408454, -0.009746636718316846, 0.004509852067096708, 0.008867687052904714, 0.0114343328401947, -0.008430906106234648, 0.0019565839888036523, -0.0010446223651262856, 0.030650053102793156, 0.03511029636542739, -0.011806406936149146, -0.00022671928408524896, -0.015252010724178358, 0.011233059923787748, 0.008809798632402867, 0.010305953371259644, -0.013872873219711689, -0.0161866075774077, -0.02070729038487228, 0.02064877091714312, -0.00560474967456053, 0.034228285491590835, -0.0242077600385218, -0.03872459491659951, 0.03860177476452091, 0.004038817564362115, -0.009826456390349257, -0.011598821377541714, 0.027259386011590565, -0.007262377352892637, 0.012231297587915885, -0.004296448548695234, 0.017086570527222036, -0.0021808202749569717, -0.0028312031966976183, 0.00425993316615274, -0.0017952129449761965, -0.0038628981392099643, -0.0007630618550724088, 0.03521319926160339, -0.003033921783527451, -0.0011270528775512803, -0.005226729795733338, -0.0042862341532694265, -0.0012977489895988894, -0.0015696836061661022, -0.0012392506653073896, 0.01443137817094769, 1.0, 0.08549519427486411, -0.0031805196252066357, 0.01781267440518578, -0.002298933871124227, 0.01592863990736857, -0.0021764559303092475, -0.002866812977742432, 0.0012359946390297955, -0.0015929600836084219, -0.003543234317008935, -0.0007024896162351524, 0.029456185447771954, -0.0027635591212034068, -0.0009840229853251303, -0.00524978065064144, -0.004009826305566459, -0.00144586055488097, -0.0016017694322096891, -0.0011841159676891872, 0.008084573099390384, 0.8703338932577493, 0.04696522710674369, -0.002976502846977968, 0.04196751439455388, -0.0023480048049208235, 0.011689160526185967], [-0.018115528817815068, 0.0043912374609947616, 0.0018573555605239783, -0.004662685001116622, -0.020505091086859436, 0.012785371600818633, 0.018349034429586394, 0.005138917459932276, -0.023801542977981593, -0.010603456001583312, 0.020721289226129713, 0.0025752510208166277, -0.011760898808267632, 0.014628730895045034, -0.011618013430470727, 0.007865825673746519, 0.019423139947184042, -0.01888435841363707, 0.012086558795037946, 0.02372340268824051, -0.00562947088882375, -0.008513077617938174, -0.0026116371750855606, -0.005466281969195346, 0.017792049176069177, 0.002481550129248709, -0.008753555634098147, -0.01282565669816442, 0.007046207375039794, -0.022415245234096888, 0.02221898558198104, -0.019223184896914564, 0.010040354896393868, 0.009227025552721597, -0.013507110553347374, 0.013275236603218332, -0.012398241049775896, 0.0013476476201463193, 0.013561830574838972, -0.004097769087463143, 0.007649274476440147, 0.009889380717035406, 0.01912317956266472, 0.002078462365392078, -0.007637451099857311, -0.006139745512050579, 0.024613219200095557, -0.006287015596164069, 0.003302624267302049, -0.0026723190678321724, 0.06416663263067879, -0.0012350847663581868, -0.003947052096910317, -0.01830453141209119, 0.01861803952605261, 0.001468811911450014, -0.00549718925580756, -0.004339979990757443, 0.01873294027747586, 0.08549519427486411, 1.0, -0.011138498384570001, 0.037774377269677986, 0.010409087800123087, -0.00041507160279726716, -0.007622166727635757, -0.005611676770870118, 0.04386441532983181, -0.005578705811887894, -0.0014169304773833738, -0.002460189018675458, 0.05313195288689585, -0.001837792218161112, -0.0034461470841306153, -0.01838525781545526, 0.0026219358207016773, 0.0035816067568088415, -0.0056095570333014756, -0.0041468927557374025, 0.0048040124484157445, 0.164768664807627, 0.9044364454087517, -0.010424011186724329, 0.06350924403498898, 0.01275142374944381, 0.09136115886290033], [-0.012123635316950147, -0.016890408083344688, 0.03079783835100907, 0.01920523557371358, -0.014841469091403194, 0.0017627380915607531, 0.00564179254353413, 0.026605566690752067, -0.01781908799087033, 0.017795815928628358, -0.036139879797833965, -0.00489185534990911, -0.008812974673642759, -0.005987862255235726, 0.008116610068244861, 0.03456394240343046, 0.008310261856406641, -0.03151993688071195, 0.03313936603897062, 0.014830547209784026, -0.03603382240000942, 0.0005037941438797298, -0.006527812784299386, -0.03495658916203221, 0.023991423812053932, 0.012174325061598278, -0.024893467826983675, -0.015570973151254228, -0.019239038861725535, -0.027227070260064032, 0.026774974010014434, 0.02684249995562367, -0.00956434926916131, -0.019193328617254955, -0.02143048671196348, 0.022012415491823523, -0.022744054790696012, -0.004537820961694095, 0.019590017354646227, 0.0037388584993984825, 0.002394383347145816, 0.025498474907293765, 0.03723615859717194, -0.01070056471396636, -0.01776123928622501, -0.016488161585411353, -0.04036047716989439, -0.002256450936657303, -0.013154845244977944, 0.02063615930095995, -0.005560696713927635, -0.010184224298011415, -0.009179048854364729, -0.02506240565965465, -0.001990239402035464, -0.01056924800379401, 0.009971745350315954, -0.010092820511113687, -0.03826513812845931, -0.0031805196252066357, -0.011138498384570001, 1.0, 0.0037594187542175565, 0.008047215453242123, -0.01385673237919999, -0.01772569478468585, -0.015642211575385662, -0.03918031792499539, -0.004550213373968509, -0.014511116742972455, 0.02913931475738524, -0.0073404323823507145, -0.008863219854713243, -0.00801417150519328, -0.026235161971898537, 0.007942889414257569, -0.01177551198723445, 0.014147565986756483, -0.009643787379581433, -0.04052393145747237, -0.0036543671915387132, -0.011853594787351231, 0.9358542621115552, 0.010149623190571612, 0.008251925888721385, 0.028695441788390987], [-0.01732711986220833, 0.008140752829124565, 0.013002586949026325, -0.013611681695100802, -0.01716783298977857, -0.001993266511037588, 0.0014434546961211805, -0.011853554418935175, 0.006032586512663071, -0.0086613148800092, 0.018777635436512438, 0.00369001404056823, -0.002695785223448394, -0.010866074730284623, 0.009078797204325785, 0.021758001479556355, 0.0209999007335385, -0.030000664278379507, 0.02173883877769976, 0.0062675979000677675, -0.02028718616709428, 0.007391045223477065, -0.0033997717988807547, -0.020778775501066868, 0.02462181914799976, 0.002384327520219643, -0.01396369051818858, -0.006959216085117062, -0.009748446968684321, -0.008306043305196324, 0.008092188672997347, 0.03154537905987028, -0.0005522585964680567, -0.0269372089668393, -0.014520572860674224, 0.015960155058964087, -0.009341940253560502, -0.00882449566326681, 0.016313180686604728, 0.0047328532908155144, 0.01911828409518926, 0.013775778339070593, 0.0018797569017682384, 0.04014083453275479, 0.02861617383489095, -0.004229238508674132, 0.01457501258957066, -0.006941929705010595, 0.007526861822439154, -0.0029506927149290365, 0.016158066807048607, -0.007554258526232705, -0.004358213810615917, -0.020211301913014745, 0.021764596571249906, -0.005018280581005637, 0.011383456336599247, -0.004792072734059445, 0.03337160223326393, 0.01781267440518578, 0.037774377269677986, 0.0037594187542175565, 1.0, 0.032175219172065235, 0.03636432108891572, 0.02288903719741777, -0.005175362742252009, 0.02894207670975285, -0.006159835775609063, 0.0046372620500200286, -0.0027164652238343937, 0.02576680016648673, -0.007198187652918955, -0.003805129865712526, -0.020300437530524754, 0.026755315666278374, -0.005591014906237329, 0.014662600208234676, -0.004578871734009279, 0.02558446613994663, 0.03526753550395857, 0.025235395212013793, 0.0004314065962481538, 0.875256477164503, 0.02591385705226318, 0.005528100213453567], [-0.059084119380878555, -0.003767431243409118, 0.03454984139036277, -0.01937336416665556, -0.05723522698770743, 0.0004482129963338893, 0.018931584979481605, 0.009756509907764551, -0.0319692769368132, 0.03611465942281155, -0.01075855268919106, -0.04082847226733861, -0.036842094244348034, -0.000208013516510775, 0.023214350651259996, 0.03656745751813496, 0.03594268584731325, -0.05511725661914448, 0.020803052278081987, 0.005289714086589485, -0.026897412070326053, 0.037208667009603846, -0.047780494465375405, -0.005924733604996123, 0.01878421661674064, 0.010386603480080627, 0.03512792128528811, -0.035620597105375316, -0.04178625588720984, -0.041685791502533355, 0.041627062494270825, 0.029704641383930273, 0.009203065961433415, -0.04404916157436969, -0.03581907931815305, 0.0358318694613938, -0.05192740150495143, -0.002340585576722988, 0.03625758242816274, 0.02870633268121098, 0.018167746812462925, 0.050266492254771124, 0.07063131311295118, 0.04441613954633934, 0.0010588207425067007, 0.003494565713578241, 0.07796964888849407, 0.017888699800331666, 0.02079537490000216, -0.004492018461181429, -0.011459987082107284, 0.029498394441946924, -0.0066347731825845795, -0.017338974828072843, 0.040241081251075, -0.007639632856112568, 0.13478532512584734, -0.007295262932601491, 0.061398751699630896, -0.002298933871124227, 0.010409087800123087, 0.008047215453242123, 0.032175219172065235, 1.0, 0.040397125406575106, -0.00028720678993782845, 0.006770889433109275, 0.09464444526675435, 0.010009058426494506, 0.0176623846411196, -0.004135439747039768, -0.01159837655331599, 0.025600922506714346, -0.005792779952141757, -0.015061802400925178, 0.01977881203236699, -0.00851154105220336, 0.1261719867846375, -0.006970694120902545, 0.04116597410273746, -0.002641438979836968, 0.022303262220910527, 0.008357099333439163, 0.026981833250512986, 0.9662387606028424, 0.06278886173055082], [-0.032936542477559345, 0.04253108858191893, -0.04391983535569442, -0.014319569085137186, -0.041614258085721445, 0.045542545551251305, -0.014182560292831253, 0.017135413148826512, -0.017995797725395942, -0.04298224488386185, 0.014153298809148463, 0.04060928611936889, 0.04698887588739952, -0.018160118274648734, -0.03293085073356461, 0.04414900427179236, 0.005140286586225432, -0.03490786663003937, 0.028739339746927908, 0.0010595065703829485, -0.06875445331267897, 0.021597584175803992, -0.0029781268655080795, -0.009449257657179567, 0.003182467853001979, 0.02420515746425013, -0.005263537986868344, -0.02303405833916864, 0.009377042363951964, -0.007187580992385017, 0.007056802839587137, 0.015564485950063094, -0.03862156321770745, 0.006342932241931645, -0.013564428548758799, 0.012468483783387592, 0.00453562769387866, -0.011599139198982887, -0.00592972647615948, 0.02648250166192062, 0.01044095703374811, 0.015006478129659372, 0.003220256918379803, 0.9813691759338583, -0.04027641200582869, -0.1109207716875535, 0.14295671584096303, -0.04149802818322073, 0.013830296977509468, -0.023035559520824363, -0.02812963469715823, -0.07586085346206346, -0.028373276237919052, -0.1537471035881862, 0.12155415347266345, -0.020391348231732116, 0.05460301310606471, -0.009482745260926658, 0.4860150493159681, 0.01592863990736857, -0.00041507160279726716, -0.01385673237919999, 0.03636432108891572, 0.040397125406575106, 1.0, -0.0458975822649586, -0.11130948787989543, 0.13212219159770974, -0.039114019300725424, 0.011717720545815102, -0.02352841309181747, -0.026105803250053773, -0.07528951575336747, -0.026693793662163793, -0.1489156952615264, 0.1314120934027905, -0.011938058620875637, 0.05494068418450974, -0.008468916987233718, 0.5252611809994996, 0.01215577886946441, -0.004713630048939539, -0.00586183896636705, 0.04033773978654769, 0.0422980568473229, 0.08938747267886589], [-0.00406637569077688, 0.0046930448347063305, 0.03506246088235528, -0.008249166862519926, -0.0006864249811245651, -0.026679806890602533, 0.025441177891328527, -0.010084934635900633, -0.00900350329727285, 0.018260063823144653, -0.002631836272642346, -0.01708425736828351, -0.0215882894108609, -0.0006393267255495567, 0.019275252905646544, 0.00501354859880496, 0.016576006184704763, -0.007375145233067556, -0.0006940907112557522, 0.0029319188044249584, 0.0376615804352681, -0.006484502839781644, 0.014867623521690299, -0.027503215890442106, 0.01532521695813153, -0.014618270373247241, 0.029800756180030884, -0.010749873799039971, -0.027312352294625277, -0.035392498982243704, 0.03508022166138741, 0.011158519501830694, 0.026391560411437663, -0.021227451294358553, -0.007007785777467481, 0.006662305021297583, -0.001434794363136921, -0.006192035154646428, 0.002061389426692351, 0.0038922163558003904, 0.0036446404724560697, 0.017045511372190923, 0.028506544814698515, -0.04452248436433542, 0.8954072351109922, 0.027768579506703778, -0.02212713575223112, 0.19005786209319833, -0.012963922229569384, 0.1109065070226974, 0.09751678151414857, 0.07653442338002113, 0.128001652444663, -0.02912964798170947, 0.020320193876052908, -0.007232623975798575, -0.008748171931063418, 0.1944517022790786, 0.08233728984158904, -0.0021764559303092475, -0.007622166727635757, -0.01772569478468585, 0.02288903719741777, -0.00028720678993782845, -0.0458975822649586, 1.0, 0.02909052987809385, -0.019795412036629666, 0.1783228586616866, -0.014153714101759618, 0.0980250838283131, 0.10103144191944669, 0.06971419136980815, 0.128583805482359, -0.029258115171605193, 0.008181377021024125, -0.0080580804136294, -0.008926992886878498, 0.1919601700277774, 0.05234880814324654, -0.0025007137458041215, -0.008111513120671023, -0.016588667013137947, 0.018695461935917576, -0.002412589949370681, -0.0007589975368153043], [0.07967435813820813, -0.027626968090108273, 0.036038537815838156, 0.00749700706259168, 0.08979144707543663, -0.054928878130231375, 0.04000001551203257, -0.017097170907232753, -0.01666383526309421, 0.010122386243261781, -0.0012834896039771735, -0.010425113482511216, -0.03124773223731226, 0.009970850403019692, 0.018673020470348824, -0.06355946051665547, -0.018639669642150643, 0.05434604255721496, -0.015063908657469555, 0.0019392637765384922, 0.18224689076791686, -0.04658203688478112, -0.02401685076151156, 0.0023062270163137118, -0.0017472433843393096, -0.004379677115049809, 0.03217507943490515, -0.005022594643704952, -0.02233990108048194, -0.05378149691187833, 0.05376021514697974, -0.008442966193099189, 0.03922659978309373, -0.02882188315663207, -0.012982014053954171, 0.013740923386386102, -0.020193201469492203, 0.020981294039473367, 0.005792754877531413, -0.0036745645272863534, -0.013856873459965278, 0.007218057879801518, -0.015878936365459246, -0.11041272349033528, 0.023993458953553704, 0.9875786173283088, 0.07515111721705628, 0.02550293800296734, -0.006797282361029045, -0.005601629947918124, 0.09368878999888752, 0.5711354011283425, 0.12905133638159505, -0.010118952076999694, 0.004882101231489325, 0.048249086155123105, 0.013603220608496823, 0.04889315531538941, 0.23203487886049504, -0.002866812977742432, -0.005611676770870118, -0.015642211575385662, -0.005175362742252009, 0.006770889433109275, -0.11130948787989543, 0.02909052987809385, 1.0, 0.09103848402766046, 0.016208519266667658, -0.004890184911719123, -0.005156969708610144, 0.08166201524109407, 0.5471747043564656, 0.0998643571389375, -0.006615791403771994, -0.0006171020427602315, 0.0392206223444767, 0.018267048529649135, 0.053786706521301256, 0.1346357669616247, -0.0032939231712682733, 0.004126225118042184, -0.016120142102342104, 0.0006932605028609595, 0.002914314394018337, -0.021279076658575743], [-0.008274479956728073, -0.0294270484318858, 0.020598054752423003, -0.01580706377405757, -0.005573294455194048, -0.0027271508612805445, 0.02798680051791532, -0.02479265909647544, -0.024372533330823523, 0.027907272231343826, -0.00024801655626365254, -0.03275605023534752, -0.043610988660455256, 0.0019497854305953802, 0.02922570351384058, 0.006496011681293026, 0.010056605503497414, -0.00936182735970258, 0.009871030869219448, -0.004239026445692119, -0.030795715113186784, 0.013520166263525256, -0.011256518685352487, -0.01173364287544483, 0.011588983770658846, -0.01391312870091151, 0.005608039460789325, 0.003941957763193271, -0.03168818607449961, -0.020895134402771656, 0.020789567990473733, 0.04717699799834434, 0.004360613741391558, -0.05741330028682803, -0.019351168797845555, 0.018362853681253066, -0.03685753838876922, 0.016513140499289872, 0.02626556258482757, -0.008719728748328649, -0.02336641769727204, 0.027491218144020807, 0.03374575419394833, 0.1439602765143994, -0.008605737577446511, 0.09122860514899536, 0.9161544881588952, 0.03904143973785721, 0.07345693893134977, 0.027956587686785987, 0.04595239103433514, 0.09796629479767759, 0.036328428782029555, -0.16553523296517764, 0.07290244663670044, 0.004107358359853503, 0.048653859679615594, -1.3911595875405495e-05, 0.10336903737304244, 0.0012359946390297955, 0.04386441532983181, -0.03918031792499539, 0.02894207670975285, 0.09464444526675435, 0.13212219159770974, -0.019795412036629666, 0.09103848402766046, 1.0, 0.03869460276905445, 0.0653040733866327, 0.030259304355207933, 0.04508186252421974, 0.08473118555298582, 0.038339358419427885, -0.1623216800109709, 0.0934929830864764, 0.006137304150077196, 0.044575410844688065, 0.0030137262368544436, 0.02584167872493298, -0.008592633127135657, 0.046364183435581276, -0.029623861989942976, 0.03183998705537656, 0.10496290059759271, 0.14421046445220323], [-0.027822243522244616, -0.018715983275157246, -0.009047246342738124, 0.021957811677567822, -0.028770103375399536, 0.007263304112705504, 0.00982574527391283, 0.006150845662893824, -0.018834163012534447, -0.011205219206162362, -0.008067211968830618, 0.02016330576208147, 0.018247406988113456, 0.0007747411555544233, -0.016683474963148155, -0.015570573785604154, 0.009435709896102302, 0.0029204607490300235, -0.00043964689189622763, 0.004644043460915001, -0.0010779295589800702, 0.005144090781849638, -0.013294189748764977, 0.015073490218247103, -0.00910179541446641, 0.005942105314235214, 0.005744068364825321, -0.01589454000343125, 0.026258294561644337, -0.00917542195167681, 0.008949762984534865, -0.019117327219592157, 0.005163419297972346, 0.021869846400139916, 0.002070371973341362, -0.002311542502778307, 0.026610779577631704, -0.02014674969777609, -0.003162593840986238, -0.013141726604444237, -0.005662987532892604, -0.01689915693090714, 0.006968146669366412, -0.03866176394858981, 0.3081236550054867, 0.014883807573154046, 0.018914988717524804, 0.9029955844716638, 0.01812101488524765, 0.2129400827156652, 0.17221288562270912, 0.05774868705974474, 0.2840737599596787, -0.021320149807881338, 0.013418055074703965, -0.005293597326163853, -0.006402835222467581, 0.03720433157534298, 0.030596702971785537, -0.0015929600836084219, -0.005578705811887894, -0.004550213373968509, -0.006159835775609063, 0.010009058426494506, -0.039114019300725424, 0.1783228586616866, 0.016208519266667658, 0.03869460276905445, 1.0, 0.01440548362771837, 0.1654364383837008, 0.18109647832944362, 0.04362005769979175, 0.37908228179835113, -0.021414175651777435, 0.029146316788457943, -0.005897753439739245, -0.0065337152649977935, 0.02931774299171668, 0.0005294675290912949, -0.0018302861648257706, -0.005936861132337128, -0.005877547427330266, -0.007040996431216396, 0.012449248831873337, -0.009176086516429783], [-0.012530104129569666, -0.019294521953105097, 0.01307614177061801, -0.015571460913693548, -0.011790621666604948, 0.009376133760355121, -0.002989468723851673, 0.0016901599401345974, -0.003654511445304002, 0.01342101066198524, 0.019288483591379302, -0.018038715804634547, -0.010901226960825324, -0.0004861264314979833, 0.013185853347454769, -0.017188288846451422, 0.00769006257779542, 0.005281108636661249, 0.006292402258651645, -0.02237584579174458, -0.004853062746342183, 0.013922433461472225, 0.0006304762898803486, -0.0036498956145243856, -0.00973673457792421, 0.012385193006070185, 0.0017664453502446726, -0.008265297143488375, 0.008582851034023686, -0.021762614944451735, 0.022474536635626433, 0.010800325004895198, 0.0039810607762014736, -0.008119323033082418, 0.016981248165718377, -0.016361906890660593, 0.006433821615546617, 0.01668955498634978, -0.015099244491856479, 0.0024051853739685057, -0.00604015708111504, -0.006536477186725897, 0.01738667999100896, 0.016968049551156463, -0.011512054660061425, -0.006179980579757894, 0.053960953344496736, 0.02607230557472861, 0.9048551710056816, -0.0069233283150136075, 0.003497651787065309, -0.005133768648040582, -0.010225851348483044, -0.03911838759854498, 0.0446502014385245, 0.00973744012307574, -0.0064457041750441086, 0.0007516949579559228, 0.0028642109590004674, -0.003543234317008935, -0.0014169304773833738, -0.014511116742972455, 0.0046372620500200286, 0.0176623846411196, 0.011717720545815102, -0.014153714101759618, -0.004890184911719123, 0.0653040733866327, 0.01440548362771837, 1.0, -0.006373750985916898, 0.005984626402151819, -0.006376093182651118, -0.00892812837077175, -0.03914172157303302, 0.03912836832352455, 0.017806987263267487, -0.005216645042714107, -0.001050550937632203, -0.019020266238467393, -0.004071120686506403, -0.004014507610767567, -0.012782000501224782, 0.009219595777140219, 0.022463507422656955, 0.00858913969585781], [0.01888317321775835, -0.009689725446093105, 0.0006077907499911928, -0.013046363034214225, 0.02196279017476501, -0.011052007474591908, 0.025261553463059135, -0.0051302097817129836, -0.017734246357490737, 0.009474193730361274, 0.009948546622611177, -0.010756712223189548, -0.0023393003634990606, 0.013514541641443216, -0.009414159951382955, -0.010098465224042763, 0.014649454389152565, -0.005286211202088938, 0.008157515761564262, -0.011197683974106474, 0.03159167492102456, -0.001021311492686568, -0.01083577679862012, -0.0015888174128719094, 0.011000329085049495, 0.008448982201109158, 0.0006569799872592642, -0.0026318454088660455, -0.006033813869990498, -0.014233613262042278, 0.014132333344091513, -0.0009241344455098612, 0.017927945906020787, -0.012775152096153061, -0.004977858873236414, 0.004861939284608786, -0.017642267879927377, 0.02328645925791451, 0.003535563666981803, -0.0008220302161851563, -0.013063935566125695, -0.004560743895978834, -0.004186211474732111, -0.022895495945486576, 0.1318022406903322, -0.005092913014433361, 0.005977590588173175, 0.18205395460178264, -0.006948778607469056, 0.9486633329648928, 0.08648200931667727, 0.06256153586707698, 0.0696539235575401, -0.009402108697342189, -0.007710297066474421, -0.0023344572110911787, -0.0028236270980870042, 0.04149417109124675, 0.01053495739979766, -0.0007024896162351524, -0.002460189018675458, 0.02913931475738524, -0.0027164652238343937, -0.004135439747039768, -0.02352841309181747, 0.0980250838283131, -0.005156969708610144, 0.030259304355207933, 0.1654364383837008, -0.006373750985916898, 1.0, 0.08342729266854824, 0.07454115645347403, 0.04227085202316617, -0.009443573753292939, -0.007213080502683907, -0.002600887864777409, -0.002881344721897021, 0.03320083868244435, -0.006865397785925789, -0.0008071495568277048, -0.002618134215296475, 0.02056891612815912, -0.003105053875344478, -0.0042237110507931394, -0.00896302874679844], [0.03046131827147868, -0.010348557185313615, 0.01460789753519575, 0.0061024935828146885, 0.03371961757228279, -0.0038722846125229396, 0.01610684738585532, -0.016247003176928676, -0.005018962553662453, 0.015456849852366516, -0.007775573034150703, -0.009675492240737858, -0.01047183470035603, 0.01448993145173379, -0.001987241671528904, -0.032530376395706065, -0.0012731652716885145, 0.022708893436246033, -0.008612131607628292, -0.012427390907199144, 0.06573920028572654, -0.0034355147551216997, -0.017399982050300494, 0.010191320521039849, -0.010555582969971382, 0.002772411020868875, 0.023414855713452674, -0.0030930751399592424, -0.0114402190805626, -0.02577194323578471, 0.025490341994272414, -0.013147223042453516, 0.033950200200229104, -0.009426898405645328, -0.0056775419387173655, 0.00605505089540979, -0.01628946537752021, 0.014413391861297415, -0.008069865135258108, 0.0210058864299901, -0.0019702131794147324, 0.015273664575789615, -0.015823767254080547, -0.024647261355590103, 0.13587277295165734, 0.0758669423923558, 0.030938457788147727, 0.14774782361522387, 0.009435438522939234, 0.13012668637650784, 0.9660805072786662, 0.06622742144489284, 0.13155322731088195, -0.007892133595020149, -0.0018536353798879132, 0.006506927705396348, 0.00627370580750764, 0.0592613976479963, 0.05347507856639225, 0.029456185447771954, 0.05313195288689585, -0.0073404323823507145, 0.02576680016648673, -0.01159837655331599, -0.026105803250053773, 0.10103144191944669, 0.08166201524109407, 0.04508186252421974, 0.18109647832944362, 0.005984626402151819, 0.08342729266854824, 1.0, 0.059809928993869915, 0.1930036398939175, -0.011029672234529515, 0.0050926111550757495, 0.011472037798832909, 0.008879310291392061, 0.046964523392834655, 0.03252518693165364, 0.05791699587759017, 0.026121169190259454, -0.008543056378940409, 0.03658721951247922, -0.011845944861021484, 0.009428225052330751], [0.09205521672328446, -0.027569640644481485, 0.05868127010641364, -0.005503775418863138, 0.10524914182497114, -0.0437516060255018, 0.04330017444905612, -0.029244699242244276, -0.014143149978741637, 0.02056991834677276, -0.006038996852877271, -0.014053766928304732, -0.034086638673445586, -6.400560843746906e-05, 0.031012272044962444, -0.05775295548541427, -0.0011530640084164944, 0.03471117574679319, -0.006122637814706245, 0.0073625092097329555, 0.20295789012494145, -0.05787209210032554, -0.029308247796744697, -0.01140575678721642, 0.01877537219433405, -0.0058664041817288945, 0.0454025661644831, -0.03269966298763452, -0.036793714643689114, -0.059458968615747225, 0.05998368308367895, -0.021557103099235416, 0.06286282750340061, -0.037938919419088224, -0.03328631536542503, 0.034608231201003245, -0.011439074009484414, -0.004195597414539666, 0.028743266716932798, -0.015978599121270445, -0.028106087459133768, 0.00230134343366668, -0.015046320660156843, -0.07380845776117, 0.061297857322664025, 0.5451233724917716, 0.07104367949689946, 0.04907029156251042, -0.008249092218694918, 0.06459213847697039, 0.0767859935507134, 0.929817837170291, 0.2538728653394973, 0.006011933986535022, 0.0006542276058021781, 0.05901424689696798, 0.025965383089280918, 0.08249864489465307, 0.19925070380230006, -0.0027635591212034068, -0.001837792218161112, -0.008863219854713243, -0.007198187652918955, 0.025600922506714346, -0.07528951575336747, 0.06971419136980815, 0.5471747043564656, 0.08473118555298582, 0.04362005769979175, -0.006376093182651118, 0.07454115645347403, 0.059809928993869915, 1.0, 0.18264457002212095, 0.005913760741745395, -0.009477243844175946, 0.04859245523401472, 0.024106800849543704, 0.07458898531818015, 0.11205535208469007, -0.003175286108712272, -0.0015584540249332206, -0.010917464651709573, -0.0043273198762409796, 0.019063103805418567, -0.017202019689694065], [0.02012275348697667, -0.006756071642570942, 0.02725686606488243, 0.0056300126162458245, 0.02234670889343945, -0.004238374438043051, 0.007602773497376097, 0.0006571039662353726, -0.008057564494354767, 0.014775725339252425, -0.025502390042180453, -0.005987417227210983, -0.004577404794130533, 0.0014584744875850736, 0.004960802847639196, -0.03033985288947967, -0.007576246245420353, 0.024914122039094374, -0.020939635671849685, -0.013076858457005756, 0.049991099594155715, -0.0032815187783256706, -0.0031287518211128365, 0.00978023837063593, -0.01633659637819298, 0.023030296083945478, 0.010591715760694613, -0.00665525158457875, -0.015310797936819604, -0.015012452546751737, 0.014871436597345217, -0.01643886673238866, 0.016798833792554677, 0.008179636299791574, 0.0028146775739521625, -0.002961163030106212, 0.019460361917693517, -0.006832200168266568, -0.009564677904005899, -0.015060666116574415, -0.01829950589842204, -0.014947792685645766, 0.00033879359591201526, -0.025633161250200275, 0.22335196260775078, 0.10076811188350555, 0.025132267786586546, 0.2349887304070066, -0.009733607033697547, 0.0659208093833707, 0.1771615445473678, 0.17585513072621997, 0.9096706503355444, -0.002962932290211726, 0.013843790734167461, 0.12893895556532897, -0.003955238486506407, 0.0632274406812342, 0.05314630521040315, -0.0009840229853251303, -0.0034461470841306153, -0.00801417150519328, -0.003805129865712526, -0.005792779952141757, -0.026693793662163793, 0.128583805482359, 0.0998643571389375, 0.038339358419427885, 0.37908228179835113, -0.00892812837077175, 0.04227085202316617, 0.1930036398939175, 0.18264457002212095, 1.0, -0.0027926261592379027, -0.0027764142028801194, 0.07238150975837385, -0.004036087323521241, 0.05063076803187508, 0.020863476645025344, -0.0011306269845951437, -0.003667391214015709, -0.007500096560426851, -0.004349451313439636, -0.005916427319775346, -0.012555098468568605], [0.032137073660412116, -0.013335568730327265, 0.018615440931442274, 0.0004705705656461443, 0.03625110360467457, -0.024262456935313398, 0.01584553768736789, -0.02462185421287626, 0.008523187137973651, 0.014860004935414428, 0.0018424922649418164, -0.018839956698627546, -0.03130076947625401, 0.012225478495650192, 0.016771644780796964, -0.04073076737012576, -0.03054582975326102, 0.04744991310724503, -0.03854556412839684, -0.01686220490030051, 0.04466093355552384, -0.027682609296008808, 0.020912685211652307, 0.03191137987330298, -0.02990351280323896, -0.027661376128166347, 0.011428381534505077, 0.0314507676402871, 0.011632704189345243, -0.01176990411242241, 0.011658574853968179, -0.008992697217020182, 0.028159836806331332, -0.005825018356087471, 0.015525785022318802, -0.015652544284724103, 0.009874394661265848, 0.011431063315198026, -0.014070665915358216, -0.024189706506934278, -0.004815221348022974, -0.01456495894093054, -0.007716419263954884, -0.14749372216844414, -0.029316785093005105, -0.005658784324626916, -0.18323596502716616, -0.024133062549172305, -0.04181782627140562, -0.01025784686373102, -0.010939794207318406, -0.0010290843904238645, 0.0018340661459946, 0.9697075839648649, -0.04102494904511396, -0.017445650459884395, -0.004267672538144476, -0.0166592569999335, -0.165289726136615, -0.00524978065064144, -0.01838525781545526, -0.026235161971898537, -0.020300437530524754, -0.015061802400925178, -0.1489156952615264, -0.029258115171605193, -0.006615791403771994, -0.1623216800109709, -0.021414175651777435, -0.03914172157303302, -0.009443573753292939, -0.011029672234529515, 0.005913760741745395, -0.0027926261592379027, 1.0, -0.04189051770002922, -0.01943671546374426, -0.005439814685882793, -0.01591808080132517, -0.1830023431995148, -0.006031915672031447, -0.01956559930082579, -0.027728033263940632, -0.023204402424255765, -0.015363802699224875, -0.04511639615355715], [-0.02882935912313973, 0.020926377571557717, 0.017427718383942806, -0.025187047632680936, -0.027240348408372164, 0.0037927415134567126, -0.018459128723079435, 0.0030502932000853735, 0.010169287524272663, 0.015055760851040084, 0.0037395603938957652, -0.015726203439607518, -0.014130576887080065, -0.02042693479024565, 0.02497978173814555, 0.01412655925816298, 0.030058375290149385, -0.03015858114735244, 0.015890635130972768, -0.014380008547760734, -0.00428713382230329, 0.0059467129681084405, 0.004191366446599383, -0.015230156763522221, 0.02275019471303475, -0.0022734650373592005, 0.017756109540839223, -0.024298854904087338, -0.009786306653257332, -0.025721019503913253, 0.02633057226473915, 0.03369605425467018, -0.006848405124992153, -0.031263956250371996, -0.029103575314341493, 0.028670359211908934, -0.01392921189048367, -0.007754738329943024, 0.023794070467334803, 0.0007556807339740528, 0.000499036333710635, 0.01800267104425897, 0.053858493515937446, 0.1338650523471265, 0.01775265789345485, 0.0027804053605933817, 0.07698483270186504, 0.048358660517070905, 0.031839312444161674, -0.007835029105002812, -0.0007398573397278227, -0.010027187284719394, -0.003621681230040955, -0.0419167587476412, 0.8501711175783312, 0.012766433977604782, 0.11153657407002376, -0.005449897415951139, 0.13215203872534256, -0.004009826305566459, 0.0026219358207016773, 0.007942889414257569, 0.026755315666278374, 0.01977881203236699, 0.1314120934027905, 0.008181377021024125, -0.0006171020427602315, 0.0934929830864764, 0.029146316788457943, 0.03912836832352455, -0.007213080502683907, 0.0050926111550757495, -0.009477243844175946, -0.0027764142028801194, -0.04189051770002922, 1.0, 0.016411480318510217, 0.11914890219212543, -0.0062801044866109944, 0.09207800210569411, -0.0046072275670628595, -0.003796884310760491, 0.003941883999301944, 0.03257238262506796, 0.017600156619908103, 0.037117622988177945], [0.021707386686580496, 0.0033205607199042076, -0.00012832502517974944, 0.021070196920151312, 0.02397570416417558, -0.008449647408503992, -0.014354584285363401, 0.006571607673736126, 0.008844370545863529, 0.011512438592102464, -0.020501877272872872, -0.006856412203090566, 0.0019438515498816263, -0.0045755905446582595, 0.0008151776222885948, -0.012058490964659633, -0.003872001602053155, 0.010530698424967986, 0.00820776822423253, -0.010162846241623242, 0.01743667261975047, -0.011379389916272678, 0.009797555947656262, -0.00906189402765397, 0.009256868632572303, -0.0032140336157629435, 0.005744979284177296, -0.0030717159004487477, 0.0070869331171223016, 0.005086507871073011, -0.005289004366660653, -0.012542556352489347, 0.006262603627923919, 0.004805111299446326, -0.019788629778803666, 0.019534550583010925, -0.005413274569607337, 0.020538605011236017, -0.0008231523647580077, -0.013558707843166594, -0.009770283412417695, -0.013107013191113882, -0.00979201862778685, -0.009621460710009262, -0.008074238903052183, 0.046168906752464475, 0.007205422128251872, -0.006646571643724316, 0.027790074885131508, -0.0028251496862951183, 0.01498288940499938, 0.055303261233295764, 0.05769636886104036, -0.01935137229649715, 0.0393224804990924, 0.8975616529669205, -0.005811574930738792, -0.004588184568604396, 0.014243675710389559, -0.00144586055488097, 0.0035816067568088415, -0.01177551198723445, -0.005591014906237329, -0.00851154105220336, -0.011938058620875637, -0.0080580804136294, 0.0392206223444767, 0.006137304150077196, -0.005897753439739245, 0.017806987263267487, -0.002600887864777409, 0.011472037798832909, 0.04859245523401472, 0.07238150975837385, -0.01943671546374426, 0.016411480318510217, 1.0, -0.005930369050481007, -0.004384054624688595, 0.013974078395908739, -0.001661271112249549, 0.02352621455776891, -0.011020163081797879, -0.006390806092196932, -0.00869322060059, -0.00849194293960828], [-0.012059778740005496, 0.009443517392751094, 0.016759727715637242, -0.0017470283016728261, -0.010004146240562088, 0.005386295082572025, 0.003949231406401618, -0.005569313481972392, 0.004241859396222393, 0.022375836412024022, -0.00789460000373501, -0.02357416975450985, -0.03286604288934388, 0.0095433770354129, 0.014457813772233956, 0.004576180088381495, 0.0007902090643495812, -0.006269647820505378, 0.007103038649268494, -0.014099756390461118, 0.006360675845793091, -0.0025071182016852592, 0.004492929238326292, -0.013412940292081923, -0.0007286028607766082, 0.011125938906625247, -0.0009698436075970524, 0.0012898903587807789, -0.02055742561540223, -0.022096849107746806, 0.023938888323106824, 0.04597501847283597, -0.01599833616616522, -0.035283598520486494, -0.0027254204272781036, 0.0035514556264851383, -0.019224533537142083, -0.017416179126144984, 0.035640962846241596, 0.023385182289824363, -0.010449541634489554, 0.02297264211505345, 0.03190407163741449, 0.0571760120785982, -0.0089448937655909, 0.01825347504189488, 0.04610352852858564, -0.007363279433807654, -0.006333897432670721, -0.00312978896453643, 0.0020426733003351904, 0.022928001920918706, -0.004622741439845481, -0.005697468355047608, 0.13205936406730073, -0.00532287184765394, 0.9799685114482573, -0.0050829340122158055, 0.058510948790771504, -0.0016017694322096891, -0.0056095570333014756, 0.014147565986756483, 0.014662600208234676, 0.1261719867846375, 0.05494068418450974, -0.008926992886878498, 0.018267048529649135, 0.044575410844688065, -0.0065337152649977935, -0.005216645042714107, -0.002881344721897021, 0.008879310291392061, 0.024106800849543704, -0.004036087323521241, -0.005439814685882793, 0.11914890219212543, -0.005930369050481007, 1.0, -0.004856792491681159, 0.03923237522360677, -0.0018404079682730957, -0.005969693015476982, 0.038344701140633076, 0.016500945451114205, 0.11481019329962218, 0.03354840320151907], [-0.0029094232399663206, -0.016332993909193877, 0.01874922897104193, 0.0006444195809836028, -0.002243462831979831, -0.01284324989696409, 0.003974716319645853, 0.017695582670263745, -0.004139204650579207, 0.011678010793188897, -0.011157224975711434, -0.0036618178282896248, -0.004891643832080757, -0.005780253167469786, 0.00984334607612595, -0.01018433480363219, 0.004431392043341289, 0.004387415690364075, 0.003497123118689543, 0.012183559920382125, 0.03758233987546194, -0.0015359163194069336, -0.007611848644958908, -0.016091453150921527, 0.0003088893966422608, 0.012701972958311691, 0.016736439724165813, -0.016608537302684533, -0.023533451313674226, -0.028302754306292956, 0.02813129006547943, -0.005845686155315849, 0.022981966523535048, -0.006805955092762525, 0.0017044913592308203, -0.0018834951286353968, 0.006926650667743484, 0.023019189843137847, -0.02043233359301052, -0.014305800695155678, -0.005924677961219376, -0.013776727304808386, 0.016164932098429792, -0.0019048504316985274, 0.20757290212274332, 0.06244066919587632, -0.004713227239305275, 0.044681024008637854, 0.0031292917009594383, 0.05211227194699751, 0.04626123730656001, 0.07912596105794767, 0.07414991488475936, -0.015848187334265636, -0.0031113767024384354, -0.003934959315633196, -0.004759503708486025, 0.9484298669980389, 0.07399170930329874, -0.0011841159676891872, -0.0041468927557374025, -0.009643787379581433, -0.004578871734009279, -0.006970694120902545, -0.008468916987233718, 0.1919601700277774, 0.053786706521301256, 0.0030137262368544436, 0.02931774299171668, -0.001050550937632203, 0.03320083868244435, 0.046964523392834655, 0.07458898531818015, 0.05063076803187508, -0.01591808080132517, -0.0062801044866109944, -0.004384054624688595, -0.004856792491681159, 1.0, 0.03399067500471269, -0.0013605306846742457, -0.0044131250601255724, -0.009025179522079152, -0.0052338764721315476, -0.0071194841639832095, 0.02233731066002636], [-0.011512112995664046, 0.0006545494820878527, -0.009268968873458568, 0.024416897906355876, -0.012372003844809918, 0.0019283957132634336, 0.04635221244202263, 0.006301537857971166, -0.05260464737977478, -0.007978509719849954, -0.00047035208208833716, 0.012951702727430799, 0.012028003774383646, 0.009909953811548525, -0.02080521089833774, 0.015990413968363485, -0.009339525933709713, -0.003999716660116647, 0.0411850992274181, 0.021344799387777662, 0.015728724001401344, -0.0007964099122148374, -0.02078476197136714, -0.020406265632808736, 0.020531858100737817, 0.003195263766963724, 0.004172421441270264, -0.01942922567925349, -0.011368419778773951, -0.08213186950694096, 0.0822656284097605, -0.0086546234252329, 0.020556806037033738, -0.00887709224071149, -0.02572519475064055, 0.0258449327876337, -0.02506366626426348, 0.004185915582483272, 0.008340429324461636, 0.02225899480030379, 0.02289031638197098, 0.02074691701066668, 0.023994867718038892, 0.5166315503643533, 0.06082246450107247, 0.13221453729836605, 0.018423993628187297, 0.0033408343073234163, -0.018412907741795752, -0.004190237516914302, 0.03369192445901726, 0.10730661340622706, 0.02760507255275698, -0.1874704250328083, 0.08526230223136803, 0.007878065779106063, 0.04011809207985674, 0.027609688801505276, 0.8655359201679291, 0.008084573099390384, 0.0048040124484157445, -0.04052393145747237, 0.02558446613994663, 0.04116597410273746, 0.5252611809994996, 0.05234880814324654, 0.1346357669616247, 0.02584167872493298, 0.0005294675290912949, -0.019020266238467393, -0.006865397785925789, 0.03252518693165364, 0.11205535208469007, 0.020863476645025344, -0.1830023431995148, 0.09207800210569411, 0.013974078395908739, 0.03923237522360677, 0.03399067500471269, 1.0, 0.0039022420356586685, 0.0001768572705382594, -0.031095067150356252, 0.026274020666382375, 0.03485379162494072, 0.06138116595045836], [0.007800943407248207, -0.006189140711226131, 0.009234364948197897, 0.00024419304176267413, 0.007098645352750387, -0.0006751742504361993, 0.01376000866817906, -0.02387725393173584, -0.00841190003520961, 0.009710577295070558, -0.02077110792890577, -0.0038286828779750858, -0.011198732801078673, 0.010788690057482644, 0.004149392553017047, 0.01686893303685301, -0.004529213031979142, -0.0056567001945084525, 0.013952364703327036, 0.027403752670310602, 0.017424175848165736, -0.0152111550607797, 0.0014887683462086268, -0.01752432123157524, 0.026965363623499335, 0.0010210058637781605, -0.007956311639069388, -0.01281122948511133, -0.018598158365198174, -0.02379235204475461, 0.023725114093686713, 0.00915888378393194, 0.01919465972855925, -0.027814336803438287, -0.04143362412589162, 0.041297474351509475, -0.009873140489971828, 0.0015751956383212532, -0.0007620977435601458, 0.01049073862665617, -0.008344357733451895, 0.00945843111293378, -0.006445007703735214, 0.013315438127618807, -0.0025057283093891025, -0.003253008091065982, -0.0075451461925632604, -0.0020626715320216007, -0.004438409407164582, -0.0008767461097213306, 0.06892351980582957, -0.0034859285695182925, -0.0012949660886267176, -0.006005430601086097, -0.004924815851103807, -0.001491093245536884, -0.0018035418571260146, -0.0014238795879457434, 0.010137083890815893, 0.8703338932577493, 0.164768664807627, -0.0036543671915387132, 0.03526753550395857, -0.002641438979836968, 0.01215577886946441, -0.0025007137458041215, -0.0032939231712682733, -0.008592633127135657, -0.0018302861648257706, -0.004071120686506403, -0.0008071495568277048, 0.05791699587759017, -0.003175286108712272, -0.0011306269845951437, -0.006031915672031447, -0.0046072275670628595, -0.001661271112249549, -0.0018404079682730957, -0.0013605306846742457, 0.0039022420356586685, 1.0, 0.09105204080702829, -0.003419955111522749, 0.08168889241600938, -0.0026978207135329875, 0.026201087709056547], [-0.01816163786882871, 0.000666217346578543, 0.0006443738859241205, -0.0017913964419534634, -0.020683044950195153, 0.01179455600643213, 0.018467803733743387, 0.009417361497994832, -0.026407349117461135, -0.0015655294112937668, 0.019773855708207767, -0.006310754328702678, -0.01878711175596422, 0.022004251551653004, -0.009978747755223354, 0.007604593337167084, 0.019963971727035238, -0.019264255846282465, 0.004298464777249857, 0.019198975464987996, -0.006533919998255629, 0.007475484025252545, -0.0020608373704924924, -0.013332685294386146, 0.011327789423848931, 0.007529207596561341, -0.004249038446985474, -0.008212748158820256, 0.0010390496847081804, -0.02608373985559147, 0.025874493960512588, -0.010046326253688254, 0.0033699049890300536, 0.0031819502564822267, -0.010313340546087915, 0.010073173393114804, -0.012185405253520187, 0.004736822081839034, 0.011355951922784215, -0.0033736906506138006, 0.007273199113013318, 0.012048673948651886, 0.019636017430103063, -0.002178718267243153, -0.008127778756186588, 0.0020756404725802086, 0.03172849612189911, -0.006690644710414211, -0.00032350948060612937, -0.002843883105147596, 0.03231404347079302, -0.0008385274463657096, -0.004200454544765077, -0.01947969022752786, 0.00745799709875948, 0.015276835393355455, -0.005850111178181697, -0.004618608578954564, 0.01347116420801589, 0.04696522710674369, 0.9044364454087517, -0.011853594787351231, 0.025235395212013793, 0.022303262220910527, -0.004713630048939539, -0.008111513120671023, 0.004126225118042184, 0.046364183435581276, -0.005936861132337128, -0.004014507610767567, -0.002618134215296475, 0.026121169190259454, -0.0015584540249332206, -0.003667391214015709, -0.01956559930082579, -0.003796884310760491, 0.02352621455776891, -0.005969693015476982, -0.0044131250601255724, 0.0001768572705382594, 0.09105204080702829, 1.0, -0.011093237203085877, 0.040093515613846234, 0.026324890968342177, 0.10569950446601738], [-0.01577355776788413, -0.020993273496664036, 0.0303300563258727, 0.020611609481397015, -0.017990254439541872, -0.0015029143399821437, 0.0019064706322450167, 0.025661055388168406, -0.011121965548116996, 0.020921354522152175, -0.03747448482209516, -0.00790922902653852, -0.010050987552629185, -0.0033231604634056796, 0.008305851698914412, 0.040493383174917366, 0.010180192150991038, -0.03539831039919295, 0.03595717856563268, 0.023505482819182105, -0.02899007304683487, -0.0019101153740975242, -0.010195720408180956, -0.03688609443117018, 0.031267916340137494, 0.006568949851945113, -0.019414000977202427, -0.023286030049738074, -0.019654089955099367, -0.030262408171328182, 0.02983848342843372, 0.029119401290883487, -0.009158019478891163, -0.02366835918993756, -0.024383612831859577, 0.024708781427108847, -0.024641293177304104, -0.007859668553430335, 0.026059761160359785, 0.004704164639727356, 0.0007444623491140119, 0.032672930434682196, 0.04108440168244383, -0.0022715279256106335, -0.016621931486398133, -0.01669346172499706, -0.03165156121045766, -0.004488490669335756, -0.011292388586540842, 0.014150929083702773, -0.007182796932575341, -0.012323068872237287, -0.008590251992486487, -0.02681985484937791, -0.005470548479535493, -0.00989127579166345, 0.030340343071130437, -0.009445409092051866, -0.026918300880371008, -0.002976502846977968, -0.010424011186724329, 0.9358542621115552, 0.0004314065962481538, 0.008357099333439163, -0.00586183896636705, -0.016588667013137947, -0.016120142102342104, -0.029623861989942976, -0.005877547427330266, -0.012782000501224782, 0.02056891612815912, -0.008543056378940409, -0.010917464651709573, -0.007500096560426851, -0.027728033263940632, 0.003941883999301944, -0.011020163081797879, 0.038344701140633076, -0.009025179522079152, -0.031095067150356252, -0.003419955111522749, -0.011093237203085877, 1.0, 0.004845124767807769, 0.009245879447082437, 0.03414394821076951], [-0.02108741957434861, 0.01830379323194435, 0.02590668574513656, -0.020042036100543725, -0.020997007172641018, -0.011430911432275051, 0.002391834327097584, -0.009734439057548488, 0.007261279623020789, -0.0034195097997615337, 0.018395907167560073, -0.002602413065240239, -0.013539232172736844, -0.010075943578460905, 0.017225135835452012, 0.01613975870987991, 0.01816188429744144, -0.02341364649813826, 0.014601888362205294, 0.011499012793261943, -0.01981295462720372, 0.012021544411718963, -0.0012215494521409273, -0.02142127969209821, 0.018126912473335376, -0.0013050541830119838, -0.016534301675354354, -0.0008820314496304533, -0.010342280228976283, -0.012230017718589567, 0.011985097287907419, 0.03441834013014561, 0.005439821151859584, -0.03339957919430017, -0.005513185530780059, 0.006197448093645491, -0.017650781660855538, -0.00570843188100095, 0.023009383463695788, 0.0006182362854857687, 0.019545179655174796, 0.015730558806809947, 0.013367061224009314, 0.04462034417880935, 0.021777192610185493, 0.002678707719121825, 0.012587261364622867, -0.007934968408132239, 0.01255759271321954, -0.0033727874625656606, 0.027101785332377486, -0.003963441704108294, -0.0049816535707882395, -0.02310251601240161, 0.027573407327320474, -0.005736142479904832, 0.012795005196849524, -0.005477575741913316, 0.0373125576202511, 0.04196751439455388, 0.06350924403498898, 0.010149623190571612, 0.875256477164503, 0.026981833250512986, 0.04033773978654769, 0.018695461935917576, 0.0006932605028609595, 0.03183998705537656, -0.007040996431216396, 0.009219595777140219, -0.003105053875344478, 0.03658721951247922, -0.0043273198762409796, -0.004349451313439636, -0.023204402424255765, 0.03257238262506796, -0.006390806092196932, 0.016500945451114205, -0.0052338764721315476, 0.026274020666382375, 0.08168889241600938, 0.040093515613846234, 0.004845124767807769, 1.0, 0.021273166127530524, 0.018025583041781007], [-0.053717566866348945, -0.004166222424192786, 0.028383761575863635, -0.014539744269948914, -0.05172314089468612, -0.004008778363611013, 0.016657867239544412, 0.010127307273294582, -0.027291255427590727, 0.0365688457165783, -0.013834784509075512, -0.039980804772926655, -0.03394442444745983, 0.001663515280790472, 0.020047390081220768, 0.04034464207334949, 0.030766840839491227, -0.05265041842326168, 0.02206044095586896, 0.01102397942544709, -0.028923878215939277, 0.03376068127811344, -0.048179271554154794, -0.004594874259625886, 0.022832992352568787, 0.010363609598525017, 0.025455215621013237, -0.033262100867787685, -0.04019546806515102, -0.03737924230910951, 0.03750583083217962, 0.03286830366834776, 0.002070529139315801, -0.043525829876288204, -0.03472647239020328, 0.035032017689651425, -0.054638766099330854, 0.0003849219708556189, 0.037353231823568415, 0.028221236695691924, 0.01343921442681515, 0.0487704976602368, 0.0644680386204502, 0.04628075777846232, -0.0012699245847210036, 0.00015787603685763618, 0.08453215482959045, 0.021538802806340553, 0.024643677758742044, -0.004587900967107575, -0.011704601455090459, 0.022115026947272742, -0.006776392965427925, -0.01734041980035294, 0.03958651376322143, -0.007802701451872823, 0.12445071588469069, -0.0074509809238355535, 0.05355393960743376, -0.0023480048049208235, 0.01275142374944381, 0.008251925888721385, 0.02591385705226318, 0.9662387606028424, 0.0422980568473229, -0.002412589949370681, 0.002914314394018337, 0.10496290059759271, 0.012449248831873337, 0.022463507422656955, -0.0042237110507931394, -0.011845944861021484, 0.019063103805418567, -0.005916427319775346, -0.015363802699224875, 0.017600156619908103, -0.00869322060059, 0.11481019329962218, -0.0071194841639832095, 0.03485379162494072, -0.0026978207135329875, 0.026324890968342177, 0.009245879447082437, 0.021273166127530524, 1.0, 0.06665785129969973], [-0.06938523732223258, -0.009809027562017026, 0.03557315743510017, 0.004490697281818009, -0.0692998303587404, 0.0062254235066489865, 0.03286633024069372, 0.004039403668707039, -0.04170688574721857, 0.07026382787805115, -0.03336229340153441, -0.06228535926955097, -0.05310215736951005, 0.00798142966782857, 0.03234608662804777, 0.08463533763036499, 0.04351706742571611, -0.0905613304412727, 0.06508160601876974, 0.021974498491923962, -0.05400256625314131, 0.047716187168018495, -0.042495837828919095, -0.05463238645302968, 0.06349759823898685, 0.028762971321023817, 0.004040260696156452, -0.04230936651553825, -0.0630702655218511, -0.07914349838801933, 0.07842891648503215, 0.06997386877110595, 0.0077680756021926214, -0.07650078387929793, -0.05837784808648581, 0.057518193009803514, -0.07976511689963449, -0.0009823603206065797, 0.05769182689884636, 0.057920569860857855, -0.0020132358665458858, 0.09018538195800123, 0.09593826270941734, 0.09646268767716294, -0.0018523901864641971, -0.021630691664241128, 0.15090971482447038, -0.006540680224170837, 0.005630160845881229, -0.009735866815019948, 0.012628457818055334, -0.01227667105368676, -0.014380009479420818, -0.04440971071182613, 0.021152195435315848, -0.009632613096028015, 0.04020762953761906, 0.03052864006737571, 0.09444598965501096, 0.011689160526185967, 0.09136115886290033, 0.028695441788390987, 0.005528100213453567, 0.06278886173055082, 0.08938747267886589, -0.0007589975368153043, -0.021279076658575743, 0.14421046445220323, -0.009176086516429783, 0.00858913969585781, -0.00896302874679844, 0.009428225052330751, -0.017202019689694065, -0.012555098468568605, -0.04511639615355715, 0.037117622988177945, -0.00849194293960828, 0.03354840320151907, 0.02233731066002636, 0.06138116595045836, 0.026201087709056547, 0.10569950446601738, 0.03414394821076951, 0.018025583041781007, 0.06665785129969973, 1.0]]}],\n",
       "                        {\"height\": 900, \"template\": {\"data\": {\"bar\": [{\"error_x\": {\"color\": \"#2a3f5f\"}, \"error_y\": {\"color\": \"#2a3f5f\"}, \"marker\": {\"line\": {\"color\": \"#E5ECF6\", \"width\": 0.5}}, \"type\": \"bar\"}], \"barpolar\": [{\"marker\": {\"line\": {\"color\": \"#E5ECF6\", \"width\": 0.5}}, \"type\": \"barpolar\"}], \"carpet\": [{\"aaxis\": {\"endlinecolor\": \"#2a3f5f\", \"gridcolor\": \"white\", \"linecolor\": \"white\", \"minorgridcolor\": \"white\", \"startlinecolor\": \"#2a3f5f\"}, \"baxis\": {\"endlinecolor\": \"#2a3f5f\", \"gridcolor\": \"white\", \"linecolor\": \"white\", \"minorgridcolor\": \"white\", \"startlinecolor\": \"#2a3f5f\"}, \"type\": \"carpet\"}], \"choropleth\": [{\"colorbar\": {\"outlinewidth\": 0, \"ticks\": \"\"}, \"type\": \"choropleth\"}], \"contour\": [{\"colorbar\": {\"outlinewidth\": 0, \"ticks\": \"\"}, \"colorscale\": [[0.0, \"#0d0887\"], [0.1111111111111111, \"#46039f\"], [0.2222222222222222, \"#7201a8\"], [0.3333333333333333, \"#9c179e\"], [0.4444444444444444, \"#bd3786\"], [0.5555555555555556, \"#d8576b\"], [0.6666666666666666, \"#ed7953\"], [0.7777777777777778, \"#fb9f3a\"], [0.8888888888888888, \"#fdca26\"], [1.0, \"#f0f921\"]], \"type\": \"contour\"}], \"contourcarpet\": [{\"colorbar\": {\"outlinewidth\": 0, \"ticks\": \"\"}, \"type\": \"contourcarpet\"}], \"heatmap\": [{\"colorbar\": {\"outlinewidth\": 0, \"ticks\": \"\"}, \"colorscale\": [[0.0, \"#0d0887\"], [0.1111111111111111, \"#46039f\"], [0.2222222222222222, \"#7201a8\"], [0.3333333333333333, \"#9c179e\"], [0.4444444444444444, \"#bd3786\"], [0.5555555555555556, \"#d8576b\"], [0.6666666666666666, \"#ed7953\"], [0.7777777777777778, \"#fb9f3a\"], [0.8888888888888888, \"#fdca26\"], [1.0, \"#f0f921\"]], \"type\": \"heatmap\"}], \"heatmapgl\": [{\"colorbar\": {\"outlinewidth\": 0, \"ticks\": \"\"}, \"colorscale\": [[0.0, \"#0d0887\"], [0.1111111111111111, \"#46039f\"], [0.2222222222222222, \"#7201a8\"], [0.3333333333333333, \"#9c179e\"], [0.4444444444444444, \"#bd3786\"], [0.5555555555555556, \"#d8576b\"], [0.6666666666666666, \"#ed7953\"], [0.7777777777777778, \"#fb9f3a\"], [0.8888888888888888, \"#fdca26\"], [1.0, \"#f0f921\"]], \"type\": \"heatmapgl\"}], \"histogram\": [{\"marker\": {\"colorbar\": {\"outlinewidth\": 0, \"ticks\": \"\"}}, \"type\": \"histogram\"}], \"histogram2d\": [{\"colorbar\": {\"outlinewidth\": 0, \"ticks\": \"\"}, \"colorscale\": [[0.0, \"#0d0887\"], [0.1111111111111111, \"#46039f\"], [0.2222222222222222, \"#7201a8\"], [0.3333333333333333, \"#9c179e\"], [0.4444444444444444, \"#bd3786\"], [0.5555555555555556, \"#d8576b\"], [0.6666666666666666, \"#ed7953\"], [0.7777777777777778, \"#fb9f3a\"], [0.8888888888888888, \"#fdca26\"], [1.0, \"#f0f921\"]], \"type\": \"histogram2d\"}], \"histogram2dcontour\": [{\"colorbar\": {\"outlinewidth\": 0, \"ticks\": \"\"}, \"colorscale\": [[0.0, \"#0d0887\"], [0.1111111111111111, \"#46039f\"], [0.2222222222222222, \"#7201a8\"], [0.3333333333333333, \"#9c179e\"], [0.4444444444444444, \"#bd3786\"], [0.5555555555555556, \"#d8576b\"], [0.6666666666666666, \"#ed7953\"], [0.7777777777777778, \"#fb9f3a\"], [0.8888888888888888, \"#fdca26\"], [1.0, \"#f0f921\"]], \"type\": \"histogram2dcontour\"}], \"mesh3d\": [{\"colorbar\": {\"outlinewidth\": 0, \"ticks\": \"\"}, \"type\": \"mesh3d\"}], \"parcoords\": [{\"line\": {\"colorbar\": {\"outlinewidth\": 0, \"ticks\": \"\"}}, \"type\": \"parcoords\"}], \"scatter\": [{\"marker\": {\"colorbar\": {\"outlinewidth\": 0, \"ticks\": \"\"}}, \"type\": \"scatter\"}], \"scatter3d\": [{\"line\": {\"colorbar\": {\"outlinewidth\": 0, \"ticks\": \"\"}}, \"marker\": {\"colorbar\": {\"outlinewidth\": 0, \"ticks\": \"\"}}, \"type\": \"scatter3d\"}], \"scattercarpet\": [{\"marker\": {\"colorbar\": {\"outlinewidth\": 0, \"ticks\": \"\"}}, \"type\": \"scattercarpet\"}], \"scattergeo\": [{\"marker\": {\"colorbar\": {\"outlinewidth\": 0, \"ticks\": \"\"}}, \"type\": \"scattergeo\"}], \"scattergl\": [{\"marker\": {\"colorbar\": {\"outlinewidth\": 0, \"ticks\": \"\"}}, \"type\": \"scattergl\"}], \"scattermapbox\": [{\"marker\": {\"colorbar\": {\"outlinewidth\": 0, \"ticks\": \"\"}}, \"type\": \"scattermapbox\"}], \"scatterpolar\": [{\"marker\": {\"colorbar\": {\"outlinewidth\": 0, \"ticks\": \"\"}}, \"type\": \"scatterpolar\"}], \"scatterpolargl\": [{\"marker\": {\"colorbar\": {\"outlinewidth\": 0, \"ticks\": \"\"}}, \"type\": \"scatterpolargl\"}], \"scatterternary\": [{\"marker\": {\"colorbar\": {\"outlinewidth\": 0, \"ticks\": \"\"}}, \"type\": \"scatterternary\"}], \"surface\": [{\"colorbar\": {\"outlinewidth\": 0, \"ticks\": \"\"}, \"colorscale\": [[0.0, \"#0d0887\"], [0.1111111111111111, \"#46039f\"], [0.2222222222222222, \"#7201a8\"], [0.3333333333333333, \"#9c179e\"], [0.4444444444444444, \"#bd3786\"], [0.5555555555555556, \"#d8576b\"], [0.6666666666666666, \"#ed7953\"], [0.7777777777777778, \"#fb9f3a\"], [0.8888888888888888, \"#fdca26\"], [1.0, \"#f0f921\"]], \"type\": \"surface\"}], \"table\": [{\"cells\": {\"fill\": {\"color\": \"#EBF0F8\"}, \"line\": {\"color\": \"white\"}}, \"header\": {\"fill\": {\"color\": \"#C8D4E3\"}, \"line\": {\"color\": \"white\"}}, \"type\": \"table\"}]}, \"layout\": {\"annotationdefaults\": {\"arrowcolor\": \"#2a3f5f\", \"arrowhead\": 0, \"arrowwidth\": 1}, \"colorscale\": {\"diverging\": [[0, \"#8e0152\"], [0.1, \"#c51b7d\"], [0.2, \"#de77ae\"], [0.3, \"#f1b6da\"], [0.4, \"#fde0ef\"], [0.5, \"#f7f7f7\"], [0.6, \"#e6f5d0\"], [0.7, \"#b8e186\"], [0.8, \"#7fbc41\"], [0.9, \"#4d9221\"], [1, \"#276419\"]], \"sequential\": [[0.0, \"#0d0887\"], [0.1111111111111111, \"#46039f\"], [0.2222222222222222, \"#7201a8\"], [0.3333333333333333, \"#9c179e\"], [0.4444444444444444, \"#bd3786\"], [0.5555555555555556, \"#d8576b\"], [0.6666666666666666, \"#ed7953\"], [0.7777777777777778, \"#fb9f3a\"], [0.8888888888888888, \"#fdca26\"], [1.0, \"#f0f921\"]], \"sequentialminus\": [[0.0, \"#0d0887\"], [0.1111111111111111, \"#46039f\"], [0.2222222222222222, \"#7201a8\"], [0.3333333333333333, \"#9c179e\"], [0.4444444444444444, \"#bd3786\"], [0.5555555555555556, \"#d8576b\"], [0.6666666666666666, \"#ed7953\"], [0.7777777777777778, \"#fb9f3a\"], [0.8888888888888888, \"#fdca26\"], [1.0, \"#f0f921\"]]}, \"colorway\": [\"#636efa\", \"#EF553B\", \"#00cc96\", \"#ab63fa\", \"#FFA15A\", \"#19d3f3\", \"#FF6692\", \"#B6E880\", \"#FF97FF\", \"#FECB52\"], \"font\": {\"color\": \"#2a3f5f\"}, \"geo\": {\"bgcolor\": \"white\", \"lakecolor\": \"white\", \"landcolor\": \"#E5ECF6\", \"showlakes\": true, \"showland\": true, \"subunitcolor\": \"white\"}, \"hoverlabel\": {\"align\": \"left\"}, \"hovermode\": \"closest\", \"mapbox\": {\"style\": \"light\"}, \"paper_bgcolor\": \"white\", \"plot_bgcolor\": \"#E5ECF6\", \"polar\": {\"angularaxis\": {\"gridcolor\": \"white\", \"linecolor\": \"white\", \"ticks\": \"\"}, \"bgcolor\": \"#E5ECF6\", \"radialaxis\": {\"gridcolor\": \"white\", \"linecolor\": \"white\", \"ticks\": \"\"}}, \"scene\": {\"xaxis\": {\"backgroundcolor\": \"#E5ECF6\", \"gridcolor\": \"white\", \"gridwidth\": 2, \"linecolor\": \"white\", \"showbackground\": true, \"ticks\": \"\", \"zerolinecolor\": \"white\"}, \"yaxis\": {\"backgroundcolor\": \"#E5ECF6\", \"gridcolor\": \"white\", \"gridwidth\": 2, \"linecolor\": \"white\", \"showbackground\": true, \"ticks\": \"\", \"zerolinecolor\": \"white\"}, \"zaxis\": {\"backgroundcolor\": \"#E5ECF6\", \"gridcolor\": \"white\", \"gridwidth\": 2, \"linecolor\": \"white\", \"showbackground\": true, \"ticks\": \"\", \"zerolinecolor\": \"white\"}}, \"shapedefaults\": {\"line\": {\"color\": \"#2a3f5f\"}}, \"ternary\": {\"aaxis\": {\"gridcolor\": \"white\", \"linecolor\": \"white\", \"ticks\": \"\"}, \"baxis\": {\"gridcolor\": \"white\", \"linecolor\": \"white\", \"ticks\": \"\"}, \"bgcolor\": \"#E5ECF6\", \"caxis\": {\"gridcolor\": \"white\", \"linecolor\": \"white\", \"ticks\": \"\"}}, \"title\": {\"x\": 0.05}, \"xaxis\": {\"automargin\": true, \"gridcolor\": \"white\", \"linecolor\": \"white\", \"ticks\": \"\", \"zerolinecolor\": \"white\", \"zerolinewidth\": 2}, \"yaxis\": {\"automargin\": true, \"gridcolor\": \"white\", \"linecolor\": \"white\", \"ticks\": \"\", \"zerolinecolor\": \"white\", \"zerolinewidth\": 2}}}, \"title\": {\"text\": \"pearsons corelation of varibles \"}, \"width\": 1100, \"xaxis\": {\"nticks\": 36, \"ticks\": \"\"}, \"yaxis\": {\"ticks\": \"\"}},\n",
       "                        {\"responsive\": true}\n",
       "                    ).then(function(){\n",
       "                            \n",
       "var gd = document.getElementById('7a1de287-3777-4f96-a528-c13e5d800e77');\n",
       "var x = new MutationObserver(function (mutations, observer) {{\n",
       "        var display = window.getComputedStyle(gd).display;\n",
       "        if (!display || display === 'none') {{\n",
       "            console.log([gd, 'removed!']);\n",
       "            Plotly.purge(gd);\n",
       "            observer.disconnect();\n",
       "        }}\n",
       "}});\n",
       "\n",
       "// Listen for the removal of the full notebook cells\n",
       "var notebookContainer = gd.closest('#notebook-container');\n",
       "if (notebookContainer) {{\n",
       "    x.observe(notebookContainer, {childList: true});\n",
       "}}\n",
       "\n",
       "// Listen for the clearing of the current output cell\n",
       "var outputEl = gd.closest('.output');\n",
       "if (outputEl) {{\n",
       "    x.observe(outputEl, {childList: true});\n",
       "}}\n",
       "\n",
       "                        })\n",
       "                };\n",
       "                });\n",
       "            </script>\n",
       "        </div>"
      ]
     },
     "metadata": {},
     "output_type": "display_data"
    }
   ],
   "source": [
    "#Another goood approch\n",
    "data=[\n",
    "    go.Heatmap(\n",
    "    z=train.corr().values,\n",
    "    x=train.columns.values,\n",
    "    y=train.columns.values,\n",
    "    colorscale='Viridis',\n",
    "    reversescale=False,\n",
    "    text=[True],\n",
    "    opacity=1.0)\n",
    "]\n",
    "\n",
    "Layout = go.Layout(\n",
    "    title=\"pearsons corelation of varibles \",\n",
    "    xaxis=dict(ticks='',nticks=36),\n",
    "    yaxis=dict(ticks=''),\n",
    "    width=1100,height=900)\n",
    "\n",
    "figure=go.Figure(data=data,layout=Layout)\n",
    "py.iplot(figure,filename='labled heatmap')"
   ]
  },
  {
   "cell_type": "markdown",
   "metadata": {},
   "source": [
    "## finding feature  importnce using random forest"
   ]
  },
  {
   "cell_type": "code",
   "execution_count": 46,
   "metadata": {},
   "outputs": [
    {
     "name": "stdout",
     "output_type": "stream",
     "text": [
      "--traing done___\n"
     ]
    }
   ],
   "source": [
    "from sklearn.ensemble import RandomForestClassifier\n",
    "rf=RandomForestClassifier(n_estimators=150, max_depth=3,min_samples_leaf=6,max_features=0.3,n_jobs=-1,random_state=2)\n",
    "rf.fit(train.drop(['V86'],1),train['V86'])\n",
    "feature=train.drop(['V86'],1).columns.values\n",
    "print('--traing done___')"
   ]
  },
  {
   "cell_type": "code",
   "execution_count": 47,
   "metadata": {},
   "outputs": [
    {
     "data": {
      "application/vnd.plotly.v1+json": {
       "config": {
        "linkText": "Export to plot.ly",
        "plotlyServerURL": "https://plot.ly",
        "showLink": false
       },
       "data": [
        {
         "marker": {
          "color": [
           0.05990310634612444,
           0,
           0.00120647293894619,
           0.00029862762368861625,
           0.038375074555396606,
           0.001070117716760889,
           0.005115022084928988,
           0.0010305937243035733,
           0.0043737650337894425,
           0.0016499319751474807,
           0.0004039519527583522,
           0.0011575715832263223,
           0.002296531012685881,
           0.0017579119712255527,
           0.001510272397481266,
           0.022033381686104296,
           0.005227579067565492,
           0.02623633106138861,
           0.01043415974971315,
           0.00048178673498885125,
           8.945051270662339e-05,
           0.013470050580807651,
           0.004300900320565629,
           0.0034109825985570775,
           0.00419614353137871,
           0.003738627740773595,
           0.00030109756957676483,
           0.004947919510287438,
           0.001180974965678725,
           0.012673860020415293,
           0.007324403580089366,
           0.006484109569517334,
           0.0013978197665062257,
           0.0024951205036449443,
           0.0017253821056548583,
           0.00206328593608555,
           0.009849699577192717,
           0.002616029092901893,
           0.003013548747227973,
           0.0026371474656564785,
           3.8420988671986186e-05,
           0.028288535885643236,
           0.0384188646786096,
           0.020985056550156523,
           0.00030932123651066195,
           0,
           0.25636873309655167,
           0,
           0,
           0,
           0.0018006467319059611,
           0,
           0,
           0,
           0.00045118702507114305,
           0,
           0.006278221628405445,
           0.007019904839087244,
           0.10646231085333538,
           0,
           0.0680487235025872,
           0.0008269463466398121,
           0.0007769905365414341,
           0.0028231066367700856,
           0.007725570680665599,
           0,
           0,
           0.10502274379008557,
           0,
           0,
           0,
           0.0009542939376487481,
           0,
           0,
           0,
           0.0062086354912302445,
           0,
           0.000547827308492928,
           0.0077227428397762,
           0.015552715692456563,
           0,
           0.03931836756033593,
           0.002581197072580866,
           0.0006188495952336649,
           0.002371342583557351
          ],
          "colorscale": [
           [
            0,
            "rgb(12,51,131)"
           ],
           [
            0.25,
            "rgb(10,136,186)"
           ],
           [
            0.5,
            "rgb(242,211,56)"
           ],
           [
            0.75,
            "rgb(242,143,56)"
           ],
           [
            1,
            "rgb(217,30,30)"
           ]
          ],
          "showscale": true,
          "size": 13,
          "sizemode": "diameter",
          "sizeref": 1
         },
         "mode": "markers",
         "text": [
          "V1",
          "V2",
          "V3",
          "V4",
          "V5",
          "V6",
          "V7",
          "V8",
          "V9",
          "V10",
          "V11",
          "V12",
          "V13",
          "V14",
          "V15",
          "V16",
          "V17",
          "V18",
          "V19",
          "V20",
          "V21",
          "V22",
          "V23",
          "V24",
          "V25",
          "V26",
          "V27",
          "V28",
          "V29",
          "V30",
          "V31",
          "V32",
          "V33",
          "V34",
          "V35",
          "V36",
          "V37",
          "V38",
          "V39",
          "V40",
          "V41",
          "V42",
          "V43",
          "V44",
          "V45",
          "V46",
          "V47",
          "V48",
          "V49",
          "V50",
          "V51",
          "V52",
          "V53",
          "V54",
          "V55",
          "V56",
          "V57",
          "V58",
          "V59",
          "V60",
          "V61",
          "V62",
          "V63",
          "V64",
          "V65",
          "V66",
          "V67",
          "V68",
          "V69",
          "V70",
          "V71",
          "V72",
          "V73",
          "V74",
          "V75",
          "V76",
          "V77",
          "V78",
          "V79",
          "V80",
          "V81",
          "V82",
          "V83",
          "V84",
          "V85"
         ],
         "type": "scatter",
         "x": [
          "V1",
          "V2",
          "V3",
          "V4",
          "V5",
          "V6",
          "V7",
          "V8",
          "V9",
          "V10",
          "V11",
          "V12",
          "V13",
          "V14",
          "V15",
          "V16",
          "V17",
          "V18",
          "V19",
          "V20",
          "V21",
          "V22",
          "V23",
          "V24",
          "V25",
          "V26",
          "V27",
          "V28",
          "V29",
          "V30",
          "V31",
          "V32",
          "V33",
          "V34",
          "V35",
          "V36",
          "V37",
          "V38",
          "V39",
          "V40",
          "V41",
          "V42",
          "V43",
          "V44",
          "V45",
          "V46",
          "V47",
          "V48",
          "V49",
          "V50",
          "V51",
          "V52",
          "V53",
          "V54",
          "V55",
          "V56",
          "V57",
          "V58",
          "V59",
          "V60",
          "V61",
          "V62",
          "V63",
          "V64",
          "V65",
          "V66",
          "V67",
          "V68",
          "V69",
          "V70",
          "V71",
          "V72",
          "V73",
          "V74",
          "V75",
          "V76",
          "V77",
          "V78",
          "V79",
          "V80",
          "V81",
          "V82",
          "V83",
          "V84",
          "V85"
         ],
         "y": [
          0.05990310634612444,
          0,
          0.00120647293894619,
          0.00029862762368861625,
          0.038375074555396606,
          0.001070117716760889,
          0.005115022084928988,
          0.0010305937243035733,
          0.0043737650337894425,
          0.0016499319751474807,
          0.0004039519527583522,
          0.0011575715832263223,
          0.002296531012685881,
          0.0017579119712255527,
          0.001510272397481266,
          0.022033381686104296,
          0.005227579067565492,
          0.02623633106138861,
          0.01043415974971315,
          0.00048178673498885125,
          8.945051270662339e-05,
          0.013470050580807651,
          0.004300900320565629,
          0.0034109825985570775,
          0.00419614353137871,
          0.003738627740773595,
          0.00030109756957676483,
          0.004947919510287438,
          0.001180974965678725,
          0.012673860020415293,
          0.007324403580089366,
          0.006484109569517334,
          0.0013978197665062257,
          0.0024951205036449443,
          0.0017253821056548583,
          0.00206328593608555,
          0.009849699577192717,
          0.002616029092901893,
          0.003013548747227973,
          0.0026371474656564785,
          3.8420988671986186e-05,
          0.028288535885643236,
          0.0384188646786096,
          0.020985056550156523,
          0.00030932123651066195,
          0,
          0.25636873309655167,
          0,
          0,
          0,
          0.0018006467319059611,
          0,
          0,
          0,
          0.00045118702507114305,
          0,
          0.006278221628405445,
          0.007019904839087244,
          0.10646231085333538,
          0,
          0.0680487235025872,
          0.0008269463466398121,
          0.0007769905365414341,
          0.0028231066367700856,
          0.007725570680665599,
          0,
          0,
          0.10502274379008557,
          0,
          0,
          0,
          0.0009542939376487481,
          0,
          0,
          0,
          0.0062086354912302445,
          0,
          0.000547827308492928,
          0.0077227428397762,
          0.015552715692456563,
          0,
          0.03931836756033593,
          0.002581197072580866,
          0.0006188495952336649,
          0.002371342583557351
         ]
        }
       ],
       "layout": {
        "autosize": true,
        "hovermode": "closest",
        "showlegend": false,
        "template": {
         "data": {
          "bar": [
           {
            "error_x": {
             "color": "#2a3f5f"
            },
            "error_y": {
             "color": "#2a3f5f"
            },
            "marker": {
             "line": {
              "color": "#E5ECF6",
              "width": 0.5
             }
            },
            "type": "bar"
           }
          ],
          "barpolar": [
           {
            "marker": {
             "line": {
              "color": "#E5ECF6",
              "width": 0.5
             }
            },
            "type": "barpolar"
           }
          ],
          "carpet": [
           {
            "aaxis": {
             "endlinecolor": "#2a3f5f",
             "gridcolor": "white",
             "linecolor": "white",
             "minorgridcolor": "white",
             "startlinecolor": "#2a3f5f"
            },
            "baxis": {
             "endlinecolor": "#2a3f5f",
             "gridcolor": "white",
             "linecolor": "white",
             "minorgridcolor": "white",
             "startlinecolor": "#2a3f5f"
            },
            "type": "carpet"
           }
          ],
          "choropleth": [
           {
            "colorbar": {
             "outlinewidth": 0,
             "ticks": ""
            },
            "type": "choropleth"
           }
          ],
          "contour": [
           {
            "colorbar": {
             "outlinewidth": 0,
             "ticks": ""
            },
            "colorscale": [
             [
              0,
              "#0d0887"
             ],
             [
              0.1111111111111111,
              "#46039f"
             ],
             [
              0.2222222222222222,
              "#7201a8"
             ],
             [
              0.3333333333333333,
              "#9c179e"
             ],
             [
              0.4444444444444444,
              "#bd3786"
             ],
             [
              0.5555555555555556,
              "#d8576b"
             ],
             [
              0.6666666666666666,
              "#ed7953"
             ],
             [
              0.7777777777777778,
              "#fb9f3a"
             ],
             [
              0.8888888888888888,
              "#fdca26"
             ],
             [
              1,
              "#f0f921"
             ]
            ],
            "type": "contour"
           }
          ],
          "contourcarpet": [
           {
            "colorbar": {
             "outlinewidth": 0,
             "ticks": ""
            },
            "type": "contourcarpet"
           }
          ],
          "heatmap": [
           {
            "colorbar": {
             "outlinewidth": 0,
             "ticks": ""
            },
            "colorscale": [
             [
              0,
              "#0d0887"
             ],
             [
              0.1111111111111111,
              "#46039f"
             ],
             [
              0.2222222222222222,
              "#7201a8"
             ],
             [
              0.3333333333333333,
              "#9c179e"
             ],
             [
              0.4444444444444444,
              "#bd3786"
             ],
             [
              0.5555555555555556,
              "#d8576b"
             ],
             [
              0.6666666666666666,
              "#ed7953"
             ],
             [
              0.7777777777777778,
              "#fb9f3a"
             ],
             [
              0.8888888888888888,
              "#fdca26"
             ],
             [
              1,
              "#f0f921"
             ]
            ],
            "type": "heatmap"
           }
          ],
          "heatmapgl": [
           {
            "colorbar": {
             "outlinewidth": 0,
             "ticks": ""
            },
            "colorscale": [
             [
              0,
              "#0d0887"
             ],
             [
              0.1111111111111111,
              "#46039f"
             ],
             [
              0.2222222222222222,
              "#7201a8"
             ],
             [
              0.3333333333333333,
              "#9c179e"
             ],
             [
              0.4444444444444444,
              "#bd3786"
             ],
             [
              0.5555555555555556,
              "#d8576b"
             ],
             [
              0.6666666666666666,
              "#ed7953"
             ],
             [
              0.7777777777777778,
              "#fb9f3a"
             ],
             [
              0.8888888888888888,
              "#fdca26"
             ],
             [
              1,
              "#f0f921"
             ]
            ],
            "type": "heatmapgl"
           }
          ],
          "histogram": [
           {
            "marker": {
             "colorbar": {
              "outlinewidth": 0,
              "ticks": ""
             }
            },
            "type": "histogram"
           }
          ],
          "histogram2d": [
           {
            "colorbar": {
             "outlinewidth": 0,
             "ticks": ""
            },
            "colorscale": [
             [
              0,
              "#0d0887"
             ],
             [
              0.1111111111111111,
              "#46039f"
             ],
             [
              0.2222222222222222,
              "#7201a8"
             ],
             [
              0.3333333333333333,
              "#9c179e"
             ],
             [
              0.4444444444444444,
              "#bd3786"
             ],
             [
              0.5555555555555556,
              "#d8576b"
             ],
             [
              0.6666666666666666,
              "#ed7953"
             ],
             [
              0.7777777777777778,
              "#fb9f3a"
             ],
             [
              0.8888888888888888,
              "#fdca26"
             ],
             [
              1,
              "#f0f921"
             ]
            ],
            "type": "histogram2d"
           }
          ],
          "histogram2dcontour": [
           {
            "colorbar": {
             "outlinewidth": 0,
             "ticks": ""
            },
            "colorscale": [
             [
              0,
              "#0d0887"
             ],
             [
              0.1111111111111111,
              "#46039f"
             ],
             [
              0.2222222222222222,
              "#7201a8"
             ],
             [
              0.3333333333333333,
              "#9c179e"
             ],
             [
              0.4444444444444444,
              "#bd3786"
             ],
             [
              0.5555555555555556,
              "#d8576b"
             ],
             [
              0.6666666666666666,
              "#ed7953"
             ],
             [
              0.7777777777777778,
              "#fb9f3a"
             ],
             [
              0.8888888888888888,
              "#fdca26"
             ],
             [
              1,
              "#f0f921"
             ]
            ],
            "type": "histogram2dcontour"
           }
          ],
          "mesh3d": [
           {
            "colorbar": {
             "outlinewidth": 0,
             "ticks": ""
            },
            "type": "mesh3d"
           }
          ],
          "parcoords": [
           {
            "line": {
             "colorbar": {
              "outlinewidth": 0,
              "ticks": ""
             }
            },
            "type": "parcoords"
           }
          ],
          "scatter": [
           {
            "marker": {
             "colorbar": {
              "outlinewidth": 0,
              "ticks": ""
             }
            },
            "type": "scatter"
           }
          ],
          "scatter3d": [
           {
            "line": {
             "colorbar": {
              "outlinewidth": 0,
              "ticks": ""
             }
            },
            "marker": {
             "colorbar": {
              "outlinewidth": 0,
              "ticks": ""
             }
            },
            "type": "scatter3d"
           }
          ],
          "scattercarpet": [
           {
            "marker": {
             "colorbar": {
              "outlinewidth": 0,
              "ticks": ""
             }
            },
            "type": "scattercarpet"
           }
          ],
          "scattergeo": [
           {
            "marker": {
             "colorbar": {
              "outlinewidth": 0,
              "ticks": ""
             }
            },
            "type": "scattergeo"
           }
          ],
          "scattergl": [
           {
            "marker": {
             "colorbar": {
              "outlinewidth": 0,
              "ticks": ""
             }
            },
            "type": "scattergl"
           }
          ],
          "scattermapbox": [
           {
            "marker": {
             "colorbar": {
              "outlinewidth": 0,
              "ticks": ""
             }
            },
            "type": "scattermapbox"
           }
          ],
          "scatterpolar": [
           {
            "marker": {
             "colorbar": {
              "outlinewidth": 0,
              "ticks": ""
             }
            },
            "type": "scatterpolar"
           }
          ],
          "scatterpolargl": [
           {
            "marker": {
             "colorbar": {
              "outlinewidth": 0,
              "ticks": ""
             }
            },
            "type": "scatterpolargl"
           }
          ],
          "scatterternary": [
           {
            "marker": {
             "colorbar": {
              "outlinewidth": 0,
              "ticks": ""
             }
            },
            "type": "scatterternary"
           }
          ],
          "surface": [
           {
            "colorbar": {
             "outlinewidth": 0,
             "ticks": ""
            },
            "colorscale": [
             [
              0,
              "#0d0887"
             ],
             [
              0.1111111111111111,
              "#46039f"
             ],
             [
              0.2222222222222222,
              "#7201a8"
             ],
             [
              0.3333333333333333,
              "#9c179e"
             ],
             [
              0.4444444444444444,
              "#bd3786"
             ],
             [
              0.5555555555555556,
              "#d8576b"
             ],
             [
              0.6666666666666666,
              "#ed7953"
             ],
             [
              0.7777777777777778,
              "#fb9f3a"
             ],
             [
              0.8888888888888888,
              "#fdca26"
             ],
             [
              1,
              "#f0f921"
             ]
            ],
            "type": "surface"
           }
          ],
          "table": [
           {
            "cells": {
             "fill": {
              "color": "#EBF0F8"
             },
             "line": {
              "color": "white"
             }
            },
            "header": {
             "fill": {
              "color": "#C8D4E3"
             },
             "line": {
              "color": "white"
             }
            },
            "type": "table"
           }
          ]
         },
         "layout": {
          "annotationdefaults": {
           "arrowcolor": "#2a3f5f",
           "arrowhead": 0,
           "arrowwidth": 1
          },
          "colorscale": {
           "diverging": [
            [
             0,
             "#8e0152"
            ],
            [
             0.1,
             "#c51b7d"
            ],
            [
             0.2,
             "#de77ae"
            ],
            [
             0.3,
             "#f1b6da"
            ],
            [
             0.4,
             "#fde0ef"
            ],
            [
             0.5,
             "#f7f7f7"
            ],
            [
             0.6,
             "#e6f5d0"
            ],
            [
             0.7,
             "#b8e186"
            ],
            [
             0.8,
             "#7fbc41"
            ],
            [
             0.9,
             "#4d9221"
            ],
            [
             1,
             "#276419"
            ]
           ],
           "sequential": [
            [
             0,
             "#0d0887"
            ],
            [
             0.1111111111111111,
             "#46039f"
            ],
            [
             0.2222222222222222,
             "#7201a8"
            ],
            [
             0.3333333333333333,
             "#9c179e"
            ],
            [
             0.4444444444444444,
             "#bd3786"
            ],
            [
             0.5555555555555556,
             "#d8576b"
            ],
            [
             0.6666666666666666,
             "#ed7953"
            ],
            [
             0.7777777777777778,
             "#fb9f3a"
            ],
            [
             0.8888888888888888,
             "#fdca26"
            ],
            [
             1,
             "#f0f921"
            ]
           ],
           "sequentialminus": [
            [
             0,
             "#0d0887"
            ],
            [
             0.1111111111111111,
             "#46039f"
            ],
            [
             0.2222222222222222,
             "#7201a8"
            ],
            [
             0.3333333333333333,
             "#9c179e"
            ],
            [
             0.4444444444444444,
             "#bd3786"
            ],
            [
             0.5555555555555556,
             "#d8576b"
            ],
            [
             0.6666666666666666,
             "#ed7953"
            ],
            [
             0.7777777777777778,
             "#fb9f3a"
            ],
            [
             0.8888888888888888,
             "#fdca26"
            ],
            [
             1,
             "#f0f921"
            ]
           ]
          },
          "colorway": [
           "#636efa",
           "#EF553B",
           "#00cc96",
           "#ab63fa",
           "#FFA15A",
           "#19d3f3",
           "#FF6692",
           "#B6E880",
           "#FF97FF",
           "#FECB52"
          ],
          "font": {
           "color": "#2a3f5f"
          },
          "geo": {
           "bgcolor": "white",
           "lakecolor": "white",
           "landcolor": "#E5ECF6",
           "showlakes": true,
           "showland": true,
           "subunitcolor": "white"
          },
          "hoverlabel": {
           "align": "left"
          },
          "hovermode": "closest",
          "mapbox": {
           "style": "light"
          },
          "paper_bgcolor": "white",
          "plot_bgcolor": "#E5ECF6",
          "polar": {
           "angularaxis": {
            "gridcolor": "white",
            "linecolor": "white",
            "ticks": ""
           },
           "bgcolor": "#E5ECF6",
           "radialaxis": {
            "gridcolor": "white",
            "linecolor": "white",
            "ticks": ""
           }
          },
          "scene": {
           "xaxis": {
            "backgroundcolor": "#E5ECF6",
            "gridcolor": "white",
            "gridwidth": 2,
            "linecolor": "white",
            "showbackground": true,
            "ticks": "",
            "zerolinecolor": "white"
           },
           "yaxis": {
            "backgroundcolor": "#E5ECF6",
            "gridcolor": "white",
            "gridwidth": 2,
            "linecolor": "white",
            "showbackground": true,
            "ticks": "",
            "zerolinecolor": "white"
           },
           "zaxis": {
            "backgroundcolor": "#E5ECF6",
            "gridcolor": "white",
            "gridwidth": 2,
            "linecolor": "white",
            "showbackground": true,
            "ticks": "",
            "zerolinecolor": "white"
           }
          },
          "shapedefaults": {
           "line": {
            "color": "#2a3f5f"
           }
          },
          "ternary": {
           "aaxis": {
            "gridcolor": "white",
            "linecolor": "white",
            "ticks": ""
           },
           "baxis": {
            "gridcolor": "white",
            "linecolor": "white",
            "ticks": ""
           },
           "bgcolor": "#E5ECF6",
           "caxis": {
            "gridcolor": "white",
            "linecolor": "white",
            "ticks": ""
           }
          },
          "title": {
           "x": 0.05
          },
          "xaxis": {
           "automargin": true,
           "gridcolor": "white",
           "linecolor": "white",
           "ticks": "",
           "zerolinecolor": "white",
           "zerolinewidth": 2
          },
          "yaxis": {
           "automargin": true,
           "gridcolor": "white",
           "linecolor": "white",
           "ticks": "",
           "zerolinecolor": "white",
           "zerolinewidth": 2
          }
         }
        },
        "title": {
         "text": "Random forest feature importance"
        },
        "xaxis": {
         "showgrid": false,
         "showline": false,
         "ticklen": 5,
         "zeroline": false
        },
        "yaxis": {
         "gridwidth": 2,
         "showgrid": false,
         "ticklen": 5,
         "title": {
          "text": "Feature importance"
         },
         "zeroline": false
        }
       }
      },
      "text/html": [
       "<div>\n",
       "        \n",
       "        \n",
       "            <div id=\"f8351196-8166-49c2-ae27-2b1482bc988e\" class=\"plotly-graph-div\" style=\"height:525px; width:100%;\"></div>\n",
       "            <script type=\"text/javascript\">\n",
       "                require([\"plotly\"], function(Plotly) {\n",
       "                    window.PLOTLYENV=window.PLOTLYENV || {};\n",
       "                    \n",
       "                if (document.getElementById(\"f8351196-8166-49c2-ae27-2b1482bc988e\")) {\n",
       "                    Plotly.newPlot(\n",
       "                        'f8351196-8166-49c2-ae27-2b1482bc988e',\n",
       "                        [{\"marker\": {\"color\": [0.05990310634612444, 0.0, 0.00120647293894619, 0.00029862762368861625, 0.038375074555396606, 0.001070117716760889, 0.005115022084928988, 0.0010305937243035733, 0.0043737650337894425, 0.0016499319751474807, 0.0004039519527583522, 0.0011575715832263223, 0.002296531012685881, 0.0017579119712255527, 0.001510272397481266, 0.022033381686104296, 0.005227579067565492, 0.02623633106138861, 0.01043415974971315, 0.00048178673498885125, 8.945051270662339e-05, 0.013470050580807651, 0.004300900320565629, 0.0034109825985570775, 0.00419614353137871, 0.003738627740773595, 0.00030109756957676483, 0.004947919510287438, 0.001180974965678725, 0.012673860020415293, 0.007324403580089366, 0.006484109569517334, 0.0013978197665062257, 0.0024951205036449443, 0.0017253821056548583, 0.00206328593608555, 0.009849699577192717, 0.002616029092901893, 0.003013548747227973, 0.0026371474656564785, 3.8420988671986186e-05, 0.028288535885643236, 0.0384188646786096, 0.020985056550156523, 0.00030932123651066195, 0.0, 0.25636873309655167, 0.0, 0.0, 0.0, 0.0018006467319059611, 0.0, 0.0, 0.0, 0.00045118702507114305, 0.0, 0.006278221628405445, 0.007019904839087244, 0.10646231085333538, 0.0, 0.0680487235025872, 0.0008269463466398121, 0.0007769905365414341, 0.0028231066367700856, 0.007725570680665599, 0.0, 0.0, 0.10502274379008557, 0.0, 0.0, 0.0, 0.0009542939376487481, 0.0, 0.0, 0.0, 0.0062086354912302445, 0.0, 0.000547827308492928, 0.0077227428397762, 0.015552715692456563, 0.0, 0.03931836756033593, 0.002581197072580866, 0.0006188495952336649, 0.002371342583557351], \"colorscale\": [[0.0, \"rgb(12,51,131)\"], [0.25, \"rgb(10,136,186)\"], [0.5, \"rgb(242,211,56)\"], [0.75, \"rgb(242,143,56)\"], [1.0, \"rgb(217,30,30)\"]], \"showscale\": true, \"size\": 13, \"sizemode\": \"diameter\", \"sizeref\": 1}, \"mode\": \"markers\", \"text\": [\"V1\", \"V2\", \"V3\", \"V4\", \"V5\", \"V6\", \"V7\", \"V8\", \"V9\", \"V10\", \"V11\", \"V12\", \"V13\", \"V14\", \"V15\", \"V16\", \"V17\", \"V18\", \"V19\", \"V20\", \"V21\", \"V22\", \"V23\", \"V24\", \"V25\", \"V26\", \"V27\", \"V28\", \"V29\", \"V30\", \"V31\", \"V32\", \"V33\", \"V34\", \"V35\", \"V36\", \"V37\", \"V38\", \"V39\", \"V40\", \"V41\", \"V42\", \"V43\", \"V44\", \"V45\", \"V46\", \"V47\", \"V48\", \"V49\", \"V50\", \"V51\", \"V52\", \"V53\", \"V54\", \"V55\", \"V56\", \"V57\", \"V58\", \"V59\", \"V60\", \"V61\", \"V62\", \"V63\", \"V64\", \"V65\", \"V66\", \"V67\", \"V68\", \"V69\", \"V70\", \"V71\", \"V72\", \"V73\", \"V74\", \"V75\", \"V76\", \"V77\", \"V78\", \"V79\", \"V80\", \"V81\", \"V82\", \"V83\", \"V84\", \"V85\"], \"type\": \"scatter\", \"x\": [\"V1\", \"V2\", \"V3\", \"V4\", \"V5\", \"V6\", \"V7\", \"V8\", \"V9\", \"V10\", \"V11\", \"V12\", \"V13\", \"V14\", \"V15\", \"V16\", \"V17\", \"V18\", \"V19\", \"V20\", \"V21\", \"V22\", \"V23\", \"V24\", \"V25\", \"V26\", \"V27\", \"V28\", \"V29\", \"V30\", \"V31\", \"V32\", \"V33\", \"V34\", \"V35\", \"V36\", \"V37\", \"V38\", \"V39\", \"V40\", \"V41\", \"V42\", \"V43\", \"V44\", \"V45\", \"V46\", \"V47\", \"V48\", \"V49\", \"V50\", \"V51\", \"V52\", \"V53\", \"V54\", \"V55\", \"V56\", \"V57\", \"V58\", \"V59\", \"V60\", \"V61\", \"V62\", \"V63\", \"V64\", \"V65\", \"V66\", \"V67\", \"V68\", \"V69\", \"V70\", \"V71\", \"V72\", \"V73\", \"V74\", \"V75\", \"V76\", \"V77\", \"V78\", \"V79\", \"V80\", \"V81\", \"V82\", \"V83\", \"V84\", \"V85\"], \"y\": [0.05990310634612444, 0.0, 0.00120647293894619, 0.00029862762368861625, 0.038375074555396606, 0.001070117716760889, 0.005115022084928988, 0.0010305937243035733, 0.0043737650337894425, 0.0016499319751474807, 0.0004039519527583522, 0.0011575715832263223, 0.002296531012685881, 0.0017579119712255527, 0.001510272397481266, 0.022033381686104296, 0.005227579067565492, 0.02623633106138861, 0.01043415974971315, 0.00048178673498885125, 8.945051270662339e-05, 0.013470050580807651, 0.004300900320565629, 0.0034109825985570775, 0.00419614353137871, 0.003738627740773595, 0.00030109756957676483, 0.004947919510287438, 0.001180974965678725, 0.012673860020415293, 0.007324403580089366, 0.006484109569517334, 0.0013978197665062257, 0.0024951205036449443, 0.0017253821056548583, 0.00206328593608555, 0.009849699577192717, 0.002616029092901893, 0.003013548747227973, 0.0026371474656564785, 3.8420988671986186e-05, 0.028288535885643236, 0.0384188646786096, 0.020985056550156523, 0.00030932123651066195, 0.0, 0.25636873309655167, 0.0, 0.0, 0.0, 0.0018006467319059611, 0.0, 0.0, 0.0, 0.00045118702507114305, 0.0, 0.006278221628405445, 0.007019904839087244, 0.10646231085333538, 0.0, 0.0680487235025872, 0.0008269463466398121, 0.0007769905365414341, 0.0028231066367700856, 0.007725570680665599, 0.0, 0.0, 0.10502274379008557, 0.0, 0.0, 0.0, 0.0009542939376487481, 0.0, 0.0, 0.0, 0.0062086354912302445, 0.0, 0.000547827308492928, 0.0077227428397762, 0.015552715692456563, 0.0, 0.03931836756033593, 0.002581197072580866, 0.0006188495952336649, 0.002371342583557351]}],\n",
       "                        {\"autosize\": true, \"hovermode\": \"closest\", \"showlegend\": false, \"template\": {\"data\": {\"bar\": [{\"error_x\": {\"color\": \"#2a3f5f\"}, \"error_y\": {\"color\": \"#2a3f5f\"}, \"marker\": {\"line\": {\"color\": \"#E5ECF6\", \"width\": 0.5}}, \"type\": \"bar\"}], \"barpolar\": [{\"marker\": {\"line\": {\"color\": \"#E5ECF6\", \"width\": 0.5}}, \"type\": \"barpolar\"}], \"carpet\": [{\"aaxis\": {\"endlinecolor\": \"#2a3f5f\", \"gridcolor\": \"white\", \"linecolor\": \"white\", \"minorgridcolor\": \"white\", \"startlinecolor\": \"#2a3f5f\"}, \"baxis\": {\"endlinecolor\": \"#2a3f5f\", \"gridcolor\": \"white\", \"linecolor\": \"white\", \"minorgridcolor\": \"white\", \"startlinecolor\": \"#2a3f5f\"}, \"type\": \"carpet\"}], \"choropleth\": [{\"colorbar\": {\"outlinewidth\": 0, \"ticks\": \"\"}, \"type\": \"choropleth\"}], \"contour\": [{\"colorbar\": {\"outlinewidth\": 0, \"ticks\": \"\"}, \"colorscale\": [[0.0, \"#0d0887\"], [0.1111111111111111, \"#46039f\"], [0.2222222222222222, \"#7201a8\"], [0.3333333333333333, \"#9c179e\"], [0.4444444444444444, \"#bd3786\"], [0.5555555555555556, \"#d8576b\"], [0.6666666666666666, \"#ed7953\"], [0.7777777777777778, \"#fb9f3a\"], [0.8888888888888888, \"#fdca26\"], [1.0, \"#f0f921\"]], \"type\": \"contour\"}], \"contourcarpet\": [{\"colorbar\": {\"outlinewidth\": 0, \"ticks\": \"\"}, \"type\": \"contourcarpet\"}], \"heatmap\": [{\"colorbar\": {\"outlinewidth\": 0, \"ticks\": \"\"}, \"colorscale\": [[0.0, \"#0d0887\"], [0.1111111111111111, \"#46039f\"], [0.2222222222222222, \"#7201a8\"], [0.3333333333333333, \"#9c179e\"], [0.4444444444444444, \"#bd3786\"], [0.5555555555555556, \"#d8576b\"], [0.6666666666666666, \"#ed7953\"], [0.7777777777777778, \"#fb9f3a\"], [0.8888888888888888, \"#fdca26\"], [1.0, \"#f0f921\"]], \"type\": \"heatmap\"}], \"heatmapgl\": [{\"colorbar\": {\"outlinewidth\": 0, \"ticks\": \"\"}, \"colorscale\": [[0.0, \"#0d0887\"], [0.1111111111111111, \"#46039f\"], [0.2222222222222222, \"#7201a8\"], [0.3333333333333333, \"#9c179e\"], [0.4444444444444444, \"#bd3786\"], [0.5555555555555556, \"#d8576b\"], [0.6666666666666666, \"#ed7953\"], [0.7777777777777778, \"#fb9f3a\"], [0.8888888888888888, \"#fdca26\"], [1.0, \"#f0f921\"]], \"type\": \"heatmapgl\"}], \"histogram\": [{\"marker\": {\"colorbar\": {\"outlinewidth\": 0, \"ticks\": \"\"}}, \"type\": \"histogram\"}], \"histogram2d\": [{\"colorbar\": {\"outlinewidth\": 0, \"ticks\": \"\"}, \"colorscale\": [[0.0, \"#0d0887\"], [0.1111111111111111, \"#46039f\"], [0.2222222222222222, \"#7201a8\"], [0.3333333333333333, \"#9c179e\"], [0.4444444444444444, \"#bd3786\"], [0.5555555555555556, \"#d8576b\"], [0.6666666666666666, \"#ed7953\"], [0.7777777777777778, \"#fb9f3a\"], [0.8888888888888888, \"#fdca26\"], [1.0, \"#f0f921\"]], \"type\": \"histogram2d\"}], \"histogram2dcontour\": [{\"colorbar\": {\"outlinewidth\": 0, \"ticks\": \"\"}, \"colorscale\": [[0.0, \"#0d0887\"], [0.1111111111111111, \"#46039f\"], [0.2222222222222222, \"#7201a8\"], [0.3333333333333333, \"#9c179e\"], [0.4444444444444444, \"#bd3786\"], [0.5555555555555556, \"#d8576b\"], [0.6666666666666666, \"#ed7953\"], [0.7777777777777778, \"#fb9f3a\"], [0.8888888888888888, \"#fdca26\"], [1.0, \"#f0f921\"]], \"type\": \"histogram2dcontour\"}], \"mesh3d\": [{\"colorbar\": {\"outlinewidth\": 0, \"ticks\": \"\"}, \"type\": \"mesh3d\"}], \"parcoords\": [{\"line\": {\"colorbar\": {\"outlinewidth\": 0, \"ticks\": \"\"}}, \"type\": \"parcoords\"}], \"scatter\": [{\"marker\": {\"colorbar\": {\"outlinewidth\": 0, \"ticks\": \"\"}}, \"type\": \"scatter\"}], \"scatter3d\": [{\"line\": {\"colorbar\": {\"outlinewidth\": 0, \"ticks\": \"\"}}, \"marker\": {\"colorbar\": {\"outlinewidth\": 0, \"ticks\": \"\"}}, \"type\": \"scatter3d\"}], \"scattercarpet\": [{\"marker\": {\"colorbar\": {\"outlinewidth\": 0, \"ticks\": \"\"}}, \"type\": \"scattercarpet\"}], \"scattergeo\": [{\"marker\": {\"colorbar\": {\"outlinewidth\": 0, \"ticks\": \"\"}}, \"type\": \"scattergeo\"}], \"scattergl\": [{\"marker\": {\"colorbar\": {\"outlinewidth\": 0, \"ticks\": \"\"}}, \"type\": \"scattergl\"}], \"scattermapbox\": [{\"marker\": {\"colorbar\": {\"outlinewidth\": 0, \"ticks\": \"\"}}, \"type\": \"scattermapbox\"}], \"scatterpolar\": [{\"marker\": {\"colorbar\": {\"outlinewidth\": 0, \"ticks\": \"\"}}, \"type\": \"scatterpolar\"}], \"scatterpolargl\": [{\"marker\": {\"colorbar\": {\"outlinewidth\": 0, \"ticks\": \"\"}}, \"type\": \"scatterpolargl\"}], \"scatterternary\": [{\"marker\": {\"colorbar\": {\"outlinewidth\": 0, \"ticks\": \"\"}}, \"type\": \"scatterternary\"}], \"surface\": [{\"colorbar\": {\"outlinewidth\": 0, \"ticks\": \"\"}, \"colorscale\": [[0.0, \"#0d0887\"], [0.1111111111111111, \"#46039f\"], [0.2222222222222222, \"#7201a8\"], [0.3333333333333333, \"#9c179e\"], [0.4444444444444444, \"#bd3786\"], [0.5555555555555556, \"#d8576b\"], [0.6666666666666666, \"#ed7953\"], [0.7777777777777778, \"#fb9f3a\"], [0.8888888888888888, \"#fdca26\"], [1.0, \"#f0f921\"]], \"type\": \"surface\"}], \"table\": [{\"cells\": {\"fill\": {\"color\": \"#EBF0F8\"}, \"line\": {\"color\": \"white\"}}, \"header\": {\"fill\": {\"color\": \"#C8D4E3\"}, \"line\": {\"color\": \"white\"}}, \"type\": \"table\"}]}, \"layout\": {\"annotationdefaults\": {\"arrowcolor\": \"#2a3f5f\", \"arrowhead\": 0, \"arrowwidth\": 1}, \"colorscale\": {\"diverging\": [[0, \"#8e0152\"], [0.1, \"#c51b7d\"], [0.2, \"#de77ae\"], [0.3, \"#f1b6da\"], [0.4, \"#fde0ef\"], [0.5, \"#f7f7f7\"], [0.6, \"#e6f5d0\"], [0.7, \"#b8e186\"], [0.8, \"#7fbc41\"], [0.9, \"#4d9221\"], [1, \"#276419\"]], \"sequential\": [[0.0, \"#0d0887\"], [0.1111111111111111, \"#46039f\"], [0.2222222222222222, \"#7201a8\"], [0.3333333333333333, \"#9c179e\"], [0.4444444444444444, \"#bd3786\"], [0.5555555555555556, \"#d8576b\"], [0.6666666666666666, \"#ed7953\"], [0.7777777777777778, \"#fb9f3a\"], [0.8888888888888888, \"#fdca26\"], [1.0, \"#f0f921\"]], \"sequentialminus\": [[0.0, \"#0d0887\"], [0.1111111111111111, \"#46039f\"], [0.2222222222222222, \"#7201a8\"], [0.3333333333333333, \"#9c179e\"], [0.4444444444444444, \"#bd3786\"], [0.5555555555555556, \"#d8576b\"], [0.6666666666666666, \"#ed7953\"], [0.7777777777777778, \"#fb9f3a\"], [0.8888888888888888, \"#fdca26\"], [1.0, \"#f0f921\"]]}, \"colorway\": [\"#636efa\", \"#EF553B\", \"#00cc96\", \"#ab63fa\", \"#FFA15A\", \"#19d3f3\", \"#FF6692\", \"#B6E880\", \"#FF97FF\", \"#FECB52\"], \"font\": {\"color\": \"#2a3f5f\"}, \"geo\": {\"bgcolor\": \"white\", \"lakecolor\": \"white\", \"landcolor\": \"#E5ECF6\", \"showlakes\": true, \"showland\": true, \"subunitcolor\": \"white\"}, \"hoverlabel\": {\"align\": \"left\"}, \"hovermode\": \"closest\", \"mapbox\": {\"style\": \"light\"}, \"paper_bgcolor\": \"white\", \"plot_bgcolor\": \"#E5ECF6\", \"polar\": {\"angularaxis\": {\"gridcolor\": \"white\", \"linecolor\": \"white\", \"ticks\": \"\"}, \"bgcolor\": \"#E5ECF6\", \"radialaxis\": {\"gridcolor\": \"white\", \"linecolor\": \"white\", \"ticks\": \"\"}}, \"scene\": {\"xaxis\": {\"backgroundcolor\": \"#E5ECF6\", \"gridcolor\": \"white\", \"gridwidth\": 2, \"linecolor\": \"white\", \"showbackground\": true, \"ticks\": \"\", \"zerolinecolor\": \"white\"}, \"yaxis\": {\"backgroundcolor\": \"#E5ECF6\", \"gridcolor\": \"white\", \"gridwidth\": 2, \"linecolor\": \"white\", \"showbackground\": true, \"ticks\": \"\", \"zerolinecolor\": \"white\"}, \"zaxis\": {\"backgroundcolor\": \"#E5ECF6\", \"gridcolor\": \"white\", \"gridwidth\": 2, \"linecolor\": \"white\", \"showbackground\": true, \"ticks\": \"\", \"zerolinecolor\": \"white\"}}, \"shapedefaults\": {\"line\": {\"color\": \"#2a3f5f\"}}, \"ternary\": {\"aaxis\": {\"gridcolor\": \"white\", \"linecolor\": \"white\", \"ticks\": \"\"}, \"baxis\": {\"gridcolor\": \"white\", \"linecolor\": \"white\", \"ticks\": \"\"}, \"bgcolor\": \"#E5ECF6\", \"caxis\": {\"gridcolor\": \"white\", \"linecolor\": \"white\", \"ticks\": \"\"}}, \"title\": {\"x\": 0.05}, \"xaxis\": {\"automargin\": true, \"gridcolor\": \"white\", \"linecolor\": \"white\", \"ticks\": \"\", \"zerolinecolor\": \"white\", \"zerolinewidth\": 2}, \"yaxis\": {\"automargin\": true, \"gridcolor\": \"white\", \"linecolor\": \"white\", \"ticks\": \"\", \"zerolinecolor\": \"white\", \"zerolinewidth\": 2}}}, \"title\": {\"text\": \"Random forest feature importance\"}, \"xaxis\": {\"showgrid\": false, \"showline\": false, \"ticklen\": 5, \"zeroline\": false}, \"yaxis\": {\"gridwidth\": 2, \"showgrid\": false, \"ticklen\": 5, \"title\": {\"text\": \"Feature importance\"}, \"zeroline\": false}},\n",
       "                        {\"responsive\": true}\n",
       "                    ).then(function(){\n",
       "                            \n",
       "var gd = document.getElementById('f8351196-8166-49c2-ae27-2b1482bc988e');\n",
       "var x = new MutationObserver(function (mutations, observer) {{\n",
       "        var display = window.getComputedStyle(gd).display;\n",
       "        if (!display || display === 'none') {{\n",
       "            console.log([gd, 'removed!']);\n",
       "            Plotly.purge(gd);\n",
       "            observer.disconnect();\n",
       "        }}\n",
       "}});\n",
       "\n",
       "// Listen for the removal of the full notebook cells\n",
       "var notebookContainer = gd.closest('#notebook-container');\n",
       "if (notebookContainer) {{\n",
       "    x.observe(notebookContainer, {childList: true});\n",
       "}}\n",
       "\n",
       "// Listen for the clearing of the current output cell\n",
       "var outputEl = gd.closest('.output');\n",
       "if (outputEl) {{\n",
       "    x.observe(outputEl, {childList: true});\n",
       "}}\n",
       "\n",
       "                        })\n",
       "                };\n",
       "                });\n",
       "            </script>\n",
       "        </div>"
      ]
     },
     "metadata": {},
     "output_type": "display_data"
    }
   ],
   "source": [
    "#plotly scatter plot of feature importance\n",
    "trace=go.Scatter(\n",
    "    y=rf.feature_importances_,\n",
    "    x= feature,\n",
    "    mode='markers',\n",
    "    marker=dict(sizemode='diameter',\n",
    "                sizeref=1,\n",
    "                size=13,\n",
    "                color=rf.feature_importances_,\n",
    "                colorscale='Portland',\n",
    "                showscale=True\n",
    "    ),\n",
    "    text=feature\n",
    ")\n",
    "\n",
    "data=[trace]\n",
    "\n",
    "layout=go.Layout(\n",
    "    autosize=True,\n",
    "    title='Random forest feature importance',\n",
    "    hovermode='closest',\n",
    "    xaxis=dict( \n",
    "        ticklen= 5,\n",
    "        showgrid=False,\n",
    "        zeroline=False,\n",
    "        showline=False\n",
    "               ),\n",
    "    yaxis= dict(title='Feature importance' ,\n",
    "               showgrid=False,\n",
    "                zeroline=False,\n",
    "                gridwidth=2,\n",
    "                ticklen=5,\n",
    "               ),\n",
    "    showlegend=False\n",
    ")\n",
    "\n",
    "fig=go.Figure(data=data,layout=layout)\n",
    "py.iplot(fig,filename='scatter')"
   ]
  },
  {
   "cell_type": "code",
   "execution_count": 48,
   "metadata": {},
   "outputs": [
    {
     "data": {
      "application/vnd.plotly.v1+json": {
       "config": {
        "linkText": "Export to plot.ly",
        "plotlyServerURL": "https://plot.ly",
        "showLink": false
       },
       "data": [
        {
         "marker": {
          "color": [
           0,
           0,
           0,
           0,
           0,
           0,
           0,
           0,
           0,
           0,
           0,
           0,
           0,
           0,
           0,
           0,
           0,
           0,
           0,
           0,
           3.8420988671986186e-05,
           8.945051270662339e-05,
           0.00029862762368861625,
           0.00030109756957676483,
           0.00030932123651066195,
           0.0004039519527583522,
           0.00045118702507114305,
           0.00048178673498885125,
           0.000547827308492928,
           0.0006188495952336649,
           0.0007769905365414341,
           0.0008269463466398121,
           0.0009542939376487481,
           0.0010305937243035733,
           0.001070117716760889,
           0.0011575715832263223,
           0.001180974965678725,
           0.00120647293894619,
           0.0013978197665062257,
           0.001510272397481266,
           0.0016499319751474807,
           0.0017253821056548583,
           0.0017579119712255527,
           0.0018006467319059611,
           0.00206328593608555,
           0.002296531012685881,
           0.002371342583557351,
           0.0024951205036449443,
           0.002581197072580866,
           0.002616029092901893,
           0.0026371474656564785,
           0.0028231066367700856,
           0.003013548747227973,
           0.0034109825985570775,
           0.003738627740773595,
           0.00419614353137871,
           0.004300900320565629,
           0.0043737650337894425,
           0.004947919510287438,
           0.005115022084928988,
           0.005227579067565492,
           0.0062086354912302445,
           0.006278221628405445,
           0.006484109569517334,
           0.007019904839087244,
           0.007324403580089366,
           0.0077227428397762,
           0.007725570680665599,
           0.009849699577192717,
           0.01043415974971315,
           0.012673860020415293,
           0.013470050580807651,
           0.015552715692456563,
           0.020985056550156523,
           0.022033381686104296,
           0.02623633106138861,
           0.028288535885643236,
           0.038375074555396606,
           0.0384188646786096,
           0.03931836756033593,
           0.05990310634612444,
           0.0680487235025872,
           0.10502274379008557,
           0.10646231085333538,
           0.25636873309655167
          ],
          "colorscale": [
           [
            0,
            "#440154"
           ],
           [
            0.1111111111111111,
            "#482878"
           ],
           [
            0.2222222222222222,
            "#3e4989"
           ],
           [
            0.3333333333333333,
            "#31688e"
           ],
           [
            0.4444444444444444,
            "#26828e"
           ],
           [
            0.5555555555555556,
            "#1f9e89"
           ],
           [
            0.6666666666666666,
            "#35b779"
           ],
           [
            0.7777777777777778,
            "#6ece58"
           ],
           [
            0.8888888888888888,
            "#b5de2b"
           ],
           [
            1,
            "#fde725"
           ]
          ],
          "reversescale": true
         },
         "name": "RF feature imp",
         "orientation": "h",
         "type": "bar",
         "x": [
          0,
          0,
          0,
          0,
          0,
          0,
          0,
          0,
          0,
          0,
          0,
          0,
          0,
          0,
          0,
          0,
          0,
          0,
          0,
          0,
          3.8420988671986186e-05,
          8.945051270662339e-05,
          0.00029862762368861625,
          0.00030109756957676483,
          0.00030932123651066195,
          0.0004039519527583522,
          0.00045118702507114305,
          0.00048178673498885125,
          0.000547827308492928,
          0.0006188495952336649,
          0.0007769905365414341,
          0.0008269463466398121,
          0.0009542939376487481,
          0.0010305937243035733,
          0.001070117716760889,
          0.0011575715832263223,
          0.001180974965678725,
          0.00120647293894619,
          0.0013978197665062257,
          0.001510272397481266,
          0.0016499319751474807,
          0.0017253821056548583,
          0.0017579119712255527,
          0.0018006467319059611,
          0.00206328593608555,
          0.002296531012685881,
          0.002371342583557351,
          0.0024951205036449443,
          0.002581197072580866,
          0.002616029092901893,
          0.0026371474656564785,
          0.0028231066367700856,
          0.003013548747227973,
          0.0034109825985570775,
          0.003738627740773595,
          0.00419614353137871,
          0.004300900320565629,
          0.0043737650337894425,
          0.004947919510287438,
          0.005115022084928988,
          0.005227579067565492,
          0.0062086354912302445,
          0.006278221628405445,
          0.006484109569517334,
          0.007019904839087244,
          0.007324403580089366,
          0.0077227428397762,
          0.007725570680665599,
          0.009849699577192717,
          0.01043415974971315,
          0.012673860020415293,
          0.013470050580807651,
          0.015552715692456563,
          0.020985056550156523,
          0.022033381686104296,
          0.02623633106138861,
          0.028288535885643236,
          0.038375074555396606,
          0.0384188646786096,
          0.03931836756033593,
          0.05990310634612444,
          0.0680487235025872,
          0.10502274379008557,
          0.10646231085333538,
          0.25636873309655167
         ],
         "y": [
          "V2",
          "V46",
          "V48",
          "V49",
          "V50",
          "V52",
          "V53",
          "V54",
          "V56",
          "V60",
          "V66",
          "V67",
          "V69",
          "V70",
          "V71",
          "V73",
          "V74",
          "V75",
          "V77",
          "V81",
          "V41",
          "V21",
          "V4",
          "V27",
          "V45",
          "V11",
          "V55",
          "V20",
          "V78",
          "V84",
          "V63",
          "V62",
          "V72",
          "V8",
          "V6",
          "V12",
          "V29",
          "V3",
          "V33",
          "V15",
          "V10",
          "V35",
          "V14",
          "V51",
          "V36",
          "V13",
          "V85",
          "V34",
          "V83",
          "V38",
          "V40",
          "V64",
          "V39",
          "V24",
          "V26",
          "V25",
          "V23",
          "V9",
          "V28",
          "V7",
          "V17",
          "V76",
          "V57",
          "V32",
          "V58",
          "V31",
          "V79",
          "V65",
          "V37",
          "V19",
          "V30",
          "V22",
          "V80",
          "V44",
          "V16",
          "V18",
          "V42",
          "V5",
          "V43",
          "V82",
          "V1",
          "V61",
          "V68",
          "V59",
          "V47"
         ]
        }
       ],
       "layout": {
        "height": 2000,
        "template": {
         "data": {
          "bar": [
           {
            "error_x": {
             "color": "#2a3f5f"
            },
            "error_y": {
             "color": "#2a3f5f"
            },
            "marker": {
             "line": {
              "color": "#E5ECF6",
              "width": 0.5
             }
            },
            "type": "bar"
           }
          ],
          "barpolar": [
           {
            "marker": {
             "line": {
              "color": "#E5ECF6",
              "width": 0.5
             }
            },
            "type": "barpolar"
           }
          ],
          "carpet": [
           {
            "aaxis": {
             "endlinecolor": "#2a3f5f",
             "gridcolor": "white",
             "linecolor": "white",
             "minorgridcolor": "white",
             "startlinecolor": "#2a3f5f"
            },
            "baxis": {
             "endlinecolor": "#2a3f5f",
             "gridcolor": "white",
             "linecolor": "white",
             "minorgridcolor": "white",
             "startlinecolor": "#2a3f5f"
            },
            "type": "carpet"
           }
          ],
          "choropleth": [
           {
            "colorbar": {
             "outlinewidth": 0,
             "ticks": ""
            },
            "type": "choropleth"
           }
          ],
          "contour": [
           {
            "colorbar": {
             "outlinewidth": 0,
             "ticks": ""
            },
            "colorscale": [
             [
              0,
              "#0d0887"
             ],
             [
              0.1111111111111111,
              "#46039f"
             ],
             [
              0.2222222222222222,
              "#7201a8"
             ],
             [
              0.3333333333333333,
              "#9c179e"
             ],
             [
              0.4444444444444444,
              "#bd3786"
             ],
             [
              0.5555555555555556,
              "#d8576b"
             ],
             [
              0.6666666666666666,
              "#ed7953"
             ],
             [
              0.7777777777777778,
              "#fb9f3a"
             ],
             [
              0.8888888888888888,
              "#fdca26"
             ],
             [
              1,
              "#f0f921"
             ]
            ],
            "type": "contour"
           }
          ],
          "contourcarpet": [
           {
            "colorbar": {
             "outlinewidth": 0,
             "ticks": ""
            },
            "type": "contourcarpet"
           }
          ],
          "heatmap": [
           {
            "colorbar": {
             "outlinewidth": 0,
             "ticks": ""
            },
            "colorscale": [
             [
              0,
              "#0d0887"
             ],
             [
              0.1111111111111111,
              "#46039f"
             ],
             [
              0.2222222222222222,
              "#7201a8"
             ],
             [
              0.3333333333333333,
              "#9c179e"
             ],
             [
              0.4444444444444444,
              "#bd3786"
             ],
             [
              0.5555555555555556,
              "#d8576b"
             ],
             [
              0.6666666666666666,
              "#ed7953"
             ],
             [
              0.7777777777777778,
              "#fb9f3a"
             ],
             [
              0.8888888888888888,
              "#fdca26"
             ],
             [
              1,
              "#f0f921"
             ]
            ],
            "type": "heatmap"
           }
          ],
          "heatmapgl": [
           {
            "colorbar": {
             "outlinewidth": 0,
             "ticks": ""
            },
            "colorscale": [
             [
              0,
              "#0d0887"
             ],
             [
              0.1111111111111111,
              "#46039f"
             ],
             [
              0.2222222222222222,
              "#7201a8"
             ],
             [
              0.3333333333333333,
              "#9c179e"
             ],
             [
              0.4444444444444444,
              "#bd3786"
             ],
             [
              0.5555555555555556,
              "#d8576b"
             ],
             [
              0.6666666666666666,
              "#ed7953"
             ],
             [
              0.7777777777777778,
              "#fb9f3a"
             ],
             [
              0.8888888888888888,
              "#fdca26"
             ],
             [
              1,
              "#f0f921"
             ]
            ],
            "type": "heatmapgl"
           }
          ],
          "histogram": [
           {
            "marker": {
             "colorbar": {
              "outlinewidth": 0,
              "ticks": ""
             }
            },
            "type": "histogram"
           }
          ],
          "histogram2d": [
           {
            "colorbar": {
             "outlinewidth": 0,
             "ticks": ""
            },
            "colorscale": [
             [
              0,
              "#0d0887"
             ],
             [
              0.1111111111111111,
              "#46039f"
             ],
             [
              0.2222222222222222,
              "#7201a8"
             ],
             [
              0.3333333333333333,
              "#9c179e"
             ],
             [
              0.4444444444444444,
              "#bd3786"
             ],
             [
              0.5555555555555556,
              "#d8576b"
             ],
             [
              0.6666666666666666,
              "#ed7953"
             ],
             [
              0.7777777777777778,
              "#fb9f3a"
             ],
             [
              0.8888888888888888,
              "#fdca26"
             ],
             [
              1,
              "#f0f921"
             ]
            ],
            "type": "histogram2d"
           }
          ],
          "histogram2dcontour": [
           {
            "colorbar": {
             "outlinewidth": 0,
             "ticks": ""
            },
            "colorscale": [
             [
              0,
              "#0d0887"
             ],
             [
              0.1111111111111111,
              "#46039f"
             ],
             [
              0.2222222222222222,
              "#7201a8"
             ],
             [
              0.3333333333333333,
              "#9c179e"
             ],
             [
              0.4444444444444444,
              "#bd3786"
             ],
             [
              0.5555555555555556,
              "#d8576b"
             ],
             [
              0.6666666666666666,
              "#ed7953"
             ],
             [
              0.7777777777777778,
              "#fb9f3a"
             ],
             [
              0.8888888888888888,
              "#fdca26"
             ],
             [
              1,
              "#f0f921"
             ]
            ],
            "type": "histogram2dcontour"
           }
          ],
          "mesh3d": [
           {
            "colorbar": {
             "outlinewidth": 0,
             "ticks": ""
            },
            "type": "mesh3d"
           }
          ],
          "parcoords": [
           {
            "line": {
             "colorbar": {
              "outlinewidth": 0,
              "ticks": ""
             }
            },
            "type": "parcoords"
           }
          ],
          "scatter": [
           {
            "marker": {
             "colorbar": {
              "outlinewidth": 0,
              "ticks": ""
             }
            },
            "type": "scatter"
           }
          ],
          "scatter3d": [
           {
            "line": {
             "colorbar": {
              "outlinewidth": 0,
              "ticks": ""
             }
            },
            "marker": {
             "colorbar": {
              "outlinewidth": 0,
              "ticks": ""
             }
            },
            "type": "scatter3d"
           }
          ],
          "scattercarpet": [
           {
            "marker": {
             "colorbar": {
              "outlinewidth": 0,
              "ticks": ""
             }
            },
            "type": "scattercarpet"
           }
          ],
          "scattergeo": [
           {
            "marker": {
             "colorbar": {
              "outlinewidth": 0,
              "ticks": ""
             }
            },
            "type": "scattergeo"
           }
          ],
          "scattergl": [
           {
            "marker": {
             "colorbar": {
              "outlinewidth": 0,
              "ticks": ""
             }
            },
            "type": "scattergl"
           }
          ],
          "scattermapbox": [
           {
            "marker": {
             "colorbar": {
              "outlinewidth": 0,
              "ticks": ""
             }
            },
            "type": "scattermapbox"
           }
          ],
          "scatterpolar": [
           {
            "marker": {
             "colorbar": {
              "outlinewidth": 0,
              "ticks": ""
             }
            },
            "type": "scatterpolar"
           }
          ],
          "scatterpolargl": [
           {
            "marker": {
             "colorbar": {
              "outlinewidth": 0,
              "ticks": ""
             }
            },
            "type": "scatterpolargl"
           }
          ],
          "scatterternary": [
           {
            "marker": {
             "colorbar": {
              "outlinewidth": 0,
              "ticks": ""
             }
            },
            "type": "scatterternary"
           }
          ],
          "surface": [
           {
            "colorbar": {
             "outlinewidth": 0,
             "ticks": ""
            },
            "colorscale": [
             [
              0,
              "#0d0887"
             ],
             [
              0.1111111111111111,
              "#46039f"
             ],
             [
              0.2222222222222222,
              "#7201a8"
             ],
             [
              0.3333333333333333,
              "#9c179e"
             ],
             [
              0.4444444444444444,
              "#bd3786"
             ],
             [
              0.5555555555555556,
              "#d8576b"
             ],
             [
              0.6666666666666666,
              "#ed7953"
             ],
             [
              0.7777777777777778,
              "#fb9f3a"
             ],
             [
              0.8888888888888888,
              "#fdca26"
             ],
             [
              1,
              "#f0f921"
             ]
            ],
            "type": "surface"
           }
          ],
          "table": [
           {
            "cells": {
             "fill": {
              "color": "#EBF0F8"
             },
             "line": {
              "color": "white"
             }
            },
            "header": {
             "fill": {
              "color": "#C8D4E3"
             },
             "line": {
              "color": "white"
             }
            },
            "type": "table"
           }
          ]
         },
         "layout": {
          "annotationdefaults": {
           "arrowcolor": "#2a3f5f",
           "arrowhead": 0,
           "arrowwidth": 1
          },
          "colorscale": {
           "diverging": [
            [
             0,
             "#8e0152"
            ],
            [
             0.1,
             "#c51b7d"
            ],
            [
             0.2,
             "#de77ae"
            ],
            [
             0.3,
             "#f1b6da"
            ],
            [
             0.4,
             "#fde0ef"
            ],
            [
             0.5,
             "#f7f7f7"
            ],
            [
             0.6,
             "#e6f5d0"
            ],
            [
             0.7,
             "#b8e186"
            ],
            [
             0.8,
             "#7fbc41"
            ],
            [
             0.9,
             "#4d9221"
            ],
            [
             1,
             "#276419"
            ]
           ],
           "sequential": [
            [
             0,
             "#0d0887"
            ],
            [
             0.1111111111111111,
             "#46039f"
            ],
            [
             0.2222222222222222,
             "#7201a8"
            ],
            [
             0.3333333333333333,
             "#9c179e"
            ],
            [
             0.4444444444444444,
             "#bd3786"
            ],
            [
             0.5555555555555556,
             "#d8576b"
            ],
            [
             0.6666666666666666,
             "#ed7953"
            ],
            [
             0.7777777777777778,
             "#fb9f3a"
            ],
            [
             0.8888888888888888,
             "#fdca26"
            ],
            [
             1,
             "#f0f921"
            ]
           ],
           "sequentialminus": [
            [
             0,
             "#0d0887"
            ],
            [
             0.1111111111111111,
             "#46039f"
            ],
            [
             0.2222222222222222,
             "#7201a8"
            ],
            [
             0.3333333333333333,
             "#9c179e"
            ],
            [
             0.4444444444444444,
             "#bd3786"
            ],
            [
             0.5555555555555556,
             "#d8576b"
            ],
            [
             0.6666666666666666,
             "#ed7953"
            ],
            [
             0.7777777777777778,
             "#fb9f3a"
            ],
            [
             0.8888888888888888,
             "#fdca26"
            ],
            [
             1,
             "#f0f921"
            ]
           ]
          },
          "colorway": [
           "#636efa",
           "#EF553B",
           "#00cc96",
           "#ab63fa",
           "#FFA15A",
           "#19d3f3",
           "#FF6692",
           "#B6E880",
           "#FF97FF",
           "#FECB52"
          ],
          "font": {
           "color": "#2a3f5f"
          },
          "geo": {
           "bgcolor": "white",
           "lakecolor": "white",
           "landcolor": "#E5ECF6",
           "showlakes": true,
           "showland": true,
           "subunitcolor": "white"
          },
          "hoverlabel": {
           "align": "left"
          },
          "hovermode": "closest",
          "mapbox": {
           "style": "light"
          },
          "paper_bgcolor": "white",
          "plot_bgcolor": "#E5ECF6",
          "polar": {
           "angularaxis": {
            "gridcolor": "white",
            "linecolor": "white",
            "ticks": ""
           },
           "bgcolor": "#E5ECF6",
           "radialaxis": {
            "gridcolor": "white",
            "linecolor": "white",
            "ticks": ""
           }
          },
          "scene": {
           "xaxis": {
            "backgroundcolor": "#E5ECF6",
            "gridcolor": "white",
            "gridwidth": 2,
            "linecolor": "white",
            "showbackground": true,
            "ticks": "",
            "zerolinecolor": "white"
           },
           "yaxis": {
            "backgroundcolor": "#E5ECF6",
            "gridcolor": "white",
            "gridwidth": 2,
            "linecolor": "white",
            "showbackground": true,
            "ticks": "",
            "zerolinecolor": "white"
           },
           "zaxis": {
            "backgroundcolor": "#E5ECF6",
            "gridcolor": "white",
            "gridwidth": 2,
            "linecolor": "white",
            "showbackground": true,
            "ticks": "",
            "zerolinecolor": "white"
           }
          },
          "shapedefaults": {
           "line": {
            "color": "#2a3f5f"
           }
          },
          "ternary": {
           "aaxis": {
            "gridcolor": "white",
            "linecolor": "white",
            "ticks": ""
           },
           "baxis": {
            "gridcolor": "white",
            "linecolor": "white",
            "ticks": ""
           },
           "bgcolor": "#E5ECF6",
           "caxis": {
            "gridcolor": "white",
            "linecolor": "white",
            "ticks": ""
           }
          },
          "title": {
           "x": 0.05
          },
          "xaxis": {
           "automargin": true,
           "gridcolor": "white",
           "linecolor": "white",
           "ticks": "",
           "zerolinecolor": "white",
           "zerolinewidth": 2
          },
          "yaxis": {
           "automargin": true,
           "gridcolor": "white",
           "linecolor": "white",
           "ticks": "",
           "zerolinecolor": "white",
           "zerolinewidth": 2
          }
         }
        },
        "title": {
         "text": "Barplot of fI"
        },
        "width": 900,
        "yaxis": {
         "showgrid": false,
         "showline": false,
         "showticklabels": true
        }
       }
      },
      "text/html": [
       "<div>\n",
       "        \n",
       "        \n",
       "            <div id=\"04f3a9c4-e401-45f5-8441-370962cc708c\" class=\"plotly-graph-div\" style=\"height:2000px; width:900px;\"></div>\n",
       "            <script type=\"text/javascript\">\n",
       "                require([\"plotly\"], function(Plotly) {\n",
       "                    window.PLOTLYENV=window.PLOTLYENV || {};\n",
       "                    \n",
       "                if (document.getElementById(\"04f3a9c4-e401-45f5-8441-370962cc708c\")) {\n",
       "                    Plotly.newPlot(\n",
       "                        '04f3a9c4-e401-45f5-8441-370962cc708c',\n",
       "                        [{\"marker\": {\"color\": [0.0, 0.0, 0.0, 0.0, 0.0, 0.0, 0.0, 0.0, 0.0, 0.0, 0.0, 0.0, 0.0, 0.0, 0.0, 0.0, 0.0, 0.0, 0.0, 0.0, 3.8420988671986186e-05, 8.945051270662339e-05, 0.00029862762368861625, 0.00030109756957676483, 0.00030932123651066195, 0.0004039519527583522, 0.00045118702507114305, 0.00048178673498885125, 0.000547827308492928, 0.0006188495952336649, 0.0007769905365414341, 0.0008269463466398121, 0.0009542939376487481, 0.0010305937243035733, 0.001070117716760889, 0.0011575715832263223, 0.001180974965678725, 0.00120647293894619, 0.0013978197665062257, 0.001510272397481266, 0.0016499319751474807, 0.0017253821056548583, 0.0017579119712255527, 0.0018006467319059611, 0.00206328593608555, 0.002296531012685881, 0.002371342583557351, 0.0024951205036449443, 0.002581197072580866, 0.002616029092901893, 0.0026371474656564785, 0.0028231066367700856, 0.003013548747227973, 0.0034109825985570775, 0.003738627740773595, 0.00419614353137871, 0.004300900320565629, 0.0043737650337894425, 0.004947919510287438, 0.005115022084928988, 0.005227579067565492, 0.0062086354912302445, 0.006278221628405445, 0.006484109569517334, 0.007019904839087244, 0.007324403580089366, 0.0077227428397762, 0.007725570680665599, 0.009849699577192717, 0.01043415974971315, 0.012673860020415293, 0.013470050580807651, 0.015552715692456563, 0.020985056550156523, 0.022033381686104296, 0.02623633106138861, 0.028288535885643236, 0.038375074555396606, 0.0384188646786096, 0.03931836756033593, 0.05990310634612444, 0.0680487235025872, 0.10502274379008557, 0.10646231085333538, 0.25636873309655167], \"colorscale\": [[0.0, \"#440154\"], [0.1111111111111111, \"#482878\"], [0.2222222222222222, \"#3e4989\"], [0.3333333333333333, \"#31688e\"], [0.4444444444444444, \"#26828e\"], [0.5555555555555556, \"#1f9e89\"], [0.6666666666666666, \"#35b779\"], [0.7777777777777778, \"#6ece58\"], [0.8888888888888888, \"#b5de2b\"], [1.0, \"#fde725\"]], \"reversescale\": true}, \"name\": \"RF feature imp\", \"orientation\": \"h\", \"type\": \"bar\", \"x\": [0.0, 0.0, 0.0, 0.0, 0.0, 0.0, 0.0, 0.0, 0.0, 0.0, 0.0, 0.0, 0.0, 0.0, 0.0, 0.0, 0.0, 0.0, 0.0, 0.0, 3.8420988671986186e-05, 8.945051270662339e-05, 0.00029862762368861625, 0.00030109756957676483, 0.00030932123651066195, 0.0004039519527583522, 0.00045118702507114305, 0.00048178673498885125, 0.000547827308492928, 0.0006188495952336649, 0.0007769905365414341, 0.0008269463466398121, 0.0009542939376487481, 0.0010305937243035733, 0.001070117716760889, 0.0011575715832263223, 0.001180974965678725, 0.00120647293894619, 0.0013978197665062257, 0.001510272397481266, 0.0016499319751474807, 0.0017253821056548583, 0.0017579119712255527, 0.0018006467319059611, 0.00206328593608555, 0.002296531012685881, 0.002371342583557351, 0.0024951205036449443, 0.002581197072580866, 0.002616029092901893, 0.0026371474656564785, 0.0028231066367700856, 0.003013548747227973, 0.0034109825985570775, 0.003738627740773595, 0.00419614353137871, 0.004300900320565629, 0.0043737650337894425, 0.004947919510287438, 0.005115022084928988, 0.005227579067565492, 0.0062086354912302445, 0.006278221628405445, 0.006484109569517334, 0.007019904839087244, 0.007324403580089366, 0.0077227428397762, 0.007725570680665599, 0.009849699577192717, 0.01043415974971315, 0.012673860020415293, 0.013470050580807651, 0.015552715692456563, 0.020985056550156523, 0.022033381686104296, 0.02623633106138861, 0.028288535885643236, 0.038375074555396606, 0.0384188646786096, 0.03931836756033593, 0.05990310634612444, 0.0680487235025872, 0.10502274379008557, 0.10646231085333538, 0.25636873309655167], \"y\": [\"V2\", \"V46\", \"V48\", \"V49\", \"V50\", \"V52\", \"V53\", \"V54\", \"V56\", \"V60\", \"V66\", \"V67\", \"V69\", \"V70\", \"V71\", \"V73\", \"V74\", \"V75\", \"V77\", \"V81\", \"V41\", \"V21\", \"V4\", \"V27\", \"V45\", \"V11\", \"V55\", \"V20\", \"V78\", \"V84\", \"V63\", \"V62\", \"V72\", \"V8\", \"V6\", \"V12\", \"V29\", \"V3\", \"V33\", \"V15\", \"V10\", \"V35\", \"V14\", \"V51\", \"V36\", \"V13\", \"V85\", \"V34\", \"V83\", \"V38\", \"V40\", \"V64\", \"V39\", \"V24\", \"V26\", \"V25\", \"V23\", \"V9\", \"V28\", \"V7\", \"V17\", \"V76\", \"V57\", \"V32\", \"V58\", \"V31\", \"V79\", \"V65\", \"V37\", \"V19\", \"V30\", \"V22\", \"V80\", \"V44\", \"V16\", \"V18\", \"V42\", \"V5\", \"V43\", \"V82\", \"V1\", \"V61\", \"V68\", \"V59\", \"V47\"]}],\n",
       "                        {\"height\": 2000, \"template\": {\"data\": {\"bar\": [{\"error_x\": {\"color\": \"#2a3f5f\"}, \"error_y\": {\"color\": \"#2a3f5f\"}, \"marker\": {\"line\": {\"color\": \"#E5ECF6\", \"width\": 0.5}}, \"type\": \"bar\"}], \"barpolar\": [{\"marker\": {\"line\": {\"color\": \"#E5ECF6\", \"width\": 0.5}}, \"type\": \"barpolar\"}], \"carpet\": [{\"aaxis\": {\"endlinecolor\": \"#2a3f5f\", \"gridcolor\": \"white\", \"linecolor\": \"white\", \"minorgridcolor\": \"white\", \"startlinecolor\": \"#2a3f5f\"}, \"baxis\": {\"endlinecolor\": \"#2a3f5f\", \"gridcolor\": \"white\", \"linecolor\": \"white\", \"minorgridcolor\": \"white\", \"startlinecolor\": \"#2a3f5f\"}, \"type\": \"carpet\"}], \"choropleth\": [{\"colorbar\": {\"outlinewidth\": 0, \"ticks\": \"\"}, \"type\": \"choropleth\"}], \"contour\": [{\"colorbar\": {\"outlinewidth\": 0, \"ticks\": \"\"}, \"colorscale\": [[0.0, \"#0d0887\"], [0.1111111111111111, \"#46039f\"], [0.2222222222222222, \"#7201a8\"], [0.3333333333333333, \"#9c179e\"], [0.4444444444444444, \"#bd3786\"], [0.5555555555555556, \"#d8576b\"], [0.6666666666666666, \"#ed7953\"], [0.7777777777777778, \"#fb9f3a\"], [0.8888888888888888, \"#fdca26\"], [1.0, \"#f0f921\"]], \"type\": \"contour\"}], \"contourcarpet\": [{\"colorbar\": {\"outlinewidth\": 0, \"ticks\": \"\"}, \"type\": \"contourcarpet\"}], \"heatmap\": [{\"colorbar\": {\"outlinewidth\": 0, \"ticks\": \"\"}, \"colorscale\": [[0.0, \"#0d0887\"], [0.1111111111111111, \"#46039f\"], [0.2222222222222222, \"#7201a8\"], [0.3333333333333333, \"#9c179e\"], [0.4444444444444444, \"#bd3786\"], [0.5555555555555556, \"#d8576b\"], [0.6666666666666666, \"#ed7953\"], [0.7777777777777778, \"#fb9f3a\"], [0.8888888888888888, \"#fdca26\"], [1.0, \"#f0f921\"]], \"type\": \"heatmap\"}], \"heatmapgl\": [{\"colorbar\": {\"outlinewidth\": 0, \"ticks\": \"\"}, \"colorscale\": [[0.0, \"#0d0887\"], [0.1111111111111111, \"#46039f\"], [0.2222222222222222, \"#7201a8\"], [0.3333333333333333, \"#9c179e\"], [0.4444444444444444, \"#bd3786\"], [0.5555555555555556, \"#d8576b\"], [0.6666666666666666, \"#ed7953\"], [0.7777777777777778, \"#fb9f3a\"], [0.8888888888888888, \"#fdca26\"], [1.0, \"#f0f921\"]], \"type\": \"heatmapgl\"}], \"histogram\": [{\"marker\": {\"colorbar\": {\"outlinewidth\": 0, \"ticks\": \"\"}}, \"type\": \"histogram\"}], \"histogram2d\": [{\"colorbar\": {\"outlinewidth\": 0, \"ticks\": \"\"}, \"colorscale\": [[0.0, \"#0d0887\"], [0.1111111111111111, \"#46039f\"], [0.2222222222222222, \"#7201a8\"], [0.3333333333333333, \"#9c179e\"], [0.4444444444444444, \"#bd3786\"], [0.5555555555555556, \"#d8576b\"], [0.6666666666666666, \"#ed7953\"], [0.7777777777777778, \"#fb9f3a\"], [0.8888888888888888, \"#fdca26\"], [1.0, \"#f0f921\"]], \"type\": \"histogram2d\"}], \"histogram2dcontour\": [{\"colorbar\": {\"outlinewidth\": 0, \"ticks\": \"\"}, \"colorscale\": [[0.0, \"#0d0887\"], [0.1111111111111111, \"#46039f\"], [0.2222222222222222, \"#7201a8\"], [0.3333333333333333, \"#9c179e\"], [0.4444444444444444, \"#bd3786\"], [0.5555555555555556, \"#d8576b\"], [0.6666666666666666, \"#ed7953\"], [0.7777777777777778, \"#fb9f3a\"], [0.8888888888888888, \"#fdca26\"], [1.0, \"#f0f921\"]], \"type\": \"histogram2dcontour\"}], \"mesh3d\": [{\"colorbar\": {\"outlinewidth\": 0, \"ticks\": \"\"}, \"type\": \"mesh3d\"}], \"parcoords\": [{\"line\": {\"colorbar\": {\"outlinewidth\": 0, \"ticks\": \"\"}}, \"type\": \"parcoords\"}], \"scatter\": [{\"marker\": {\"colorbar\": {\"outlinewidth\": 0, \"ticks\": \"\"}}, \"type\": \"scatter\"}], \"scatter3d\": [{\"line\": {\"colorbar\": {\"outlinewidth\": 0, \"ticks\": \"\"}}, \"marker\": {\"colorbar\": {\"outlinewidth\": 0, \"ticks\": \"\"}}, \"type\": \"scatter3d\"}], \"scattercarpet\": [{\"marker\": {\"colorbar\": {\"outlinewidth\": 0, \"ticks\": \"\"}}, \"type\": \"scattercarpet\"}], \"scattergeo\": [{\"marker\": {\"colorbar\": {\"outlinewidth\": 0, \"ticks\": \"\"}}, \"type\": \"scattergeo\"}], \"scattergl\": [{\"marker\": {\"colorbar\": {\"outlinewidth\": 0, \"ticks\": \"\"}}, \"type\": \"scattergl\"}], \"scattermapbox\": [{\"marker\": {\"colorbar\": {\"outlinewidth\": 0, \"ticks\": \"\"}}, \"type\": \"scattermapbox\"}], \"scatterpolar\": [{\"marker\": {\"colorbar\": {\"outlinewidth\": 0, \"ticks\": \"\"}}, \"type\": \"scatterpolar\"}], \"scatterpolargl\": [{\"marker\": {\"colorbar\": {\"outlinewidth\": 0, \"ticks\": \"\"}}, \"type\": \"scatterpolargl\"}], \"scatterternary\": [{\"marker\": {\"colorbar\": {\"outlinewidth\": 0, \"ticks\": \"\"}}, \"type\": \"scatterternary\"}], \"surface\": [{\"colorbar\": {\"outlinewidth\": 0, \"ticks\": \"\"}, \"colorscale\": [[0.0, \"#0d0887\"], [0.1111111111111111, \"#46039f\"], [0.2222222222222222, \"#7201a8\"], [0.3333333333333333, \"#9c179e\"], [0.4444444444444444, \"#bd3786\"], [0.5555555555555556, \"#d8576b\"], [0.6666666666666666, \"#ed7953\"], [0.7777777777777778, \"#fb9f3a\"], [0.8888888888888888, \"#fdca26\"], [1.0, \"#f0f921\"]], \"type\": \"surface\"}], \"table\": [{\"cells\": {\"fill\": {\"color\": \"#EBF0F8\"}, \"line\": {\"color\": \"white\"}}, \"header\": {\"fill\": {\"color\": \"#C8D4E3\"}, \"line\": {\"color\": \"white\"}}, \"type\": \"table\"}]}, \"layout\": {\"annotationdefaults\": {\"arrowcolor\": \"#2a3f5f\", \"arrowhead\": 0, \"arrowwidth\": 1}, \"colorscale\": {\"diverging\": [[0, \"#8e0152\"], [0.1, \"#c51b7d\"], [0.2, \"#de77ae\"], [0.3, \"#f1b6da\"], [0.4, \"#fde0ef\"], [0.5, \"#f7f7f7\"], [0.6, \"#e6f5d0\"], [0.7, \"#b8e186\"], [0.8, \"#7fbc41\"], [0.9, \"#4d9221\"], [1, \"#276419\"]], \"sequential\": [[0.0, \"#0d0887\"], [0.1111111111111111, \"#46039f\"], [0.2222222222222222, \"#7201a8\"], [0.3333333333333333, \"#9c179e\"], [0.4444444444444444, \"#bd3786\"], [0.5555555555555556, \"#d8576b\"], [0.6666666666666666, \"#ed7953\"], [0.7777777777777778, \"#fb9f3a\"], [0.8888888888888888, \"#fdca26\"], [1.0, \"#f0f921\"]], \"sequentialminus\": [[0.0, \"#0d0887\"], [0.1111111111111111, \"#46039f\"], [0.2222222222222222, \"#7201a8\"], [0.3333333333333333, \"#9c179e\"], [0.4444444444444444, \"#bd3786\"], [0.5555555555555556, \"#d8576b\"], [0.6666666666666666, \"#ed7953\"], [0.7777777777777778, \"#fb9f3a\"], [0.8888888888888888, \"#fdca26\"], [1.0, \"#f0f921\"]]}, \"colorway\": [\"#636efa\", \"#EF553B\", \"#00cc96\", \"#ab63fa\", \"#FFA15A\", \"#19d3f3\", \"#FF6692\", \"#B6E880\", \"#FF97FF\", \"#FECB52\"], \"font\": {\"color\": \"#2a3f5f\"}, \"geo\": {\"bgcolor\": \"white\", \"lakecolor\": \"white\", \"landcolor\": \"#E5ECF6\", \"showlakes\": true, \"showland\": true, \"subunitcolor\": \"white\"}, \"hoverlabel\": {\"align\": \"left\"}, \"hovermode\": \"closest\", \"mapbox\": {\"style\": \"light\"}, \"paper_bgcolor\": \"white\", \"plot_bgcolor\": \"#E5ECF6\", \"polar\": {\"angularaxis\": {\"gridcolor\": \"white\", \"linecolor\": \"white\", \"ticks\": \"\"}, \"bgcolor\": \"#E5ECF6\", \"radialaxis\": {\"gridcolor\": \"white\", \"linecolor\": \"white\", \"ticks\": \"\"}}, \"scene\": {\"xaxis\": {\"backgroundcolor\": \"#E5ECF6\", \"gridcolor\": \"white\", \"gridwidth\": 2, \"linecolor\": \"white\", \"showbackground\": true, \"ticks\": \"\", \"zerolinecolor\": \"white\"}, \"yaxis\": {\"backgroundcolor\": \"#E5ECF6\", \"gridcolor\": \"white\", \"gridwidth\": 2, \"linecolor\": \"white\", \"showbackground\": true, \"ticks\": \"\", \"zerolinecolor\": \"white\"}, \"zaxis\": {\"backgroundcolor\": \"#E5ECF6\", \"gridcolor\": \"white\", \"gridwidth\": 2, \"linecolor\": \"white\", \"showbackground\": true, \"ticks\": \"\", \"zerolinecolor\": \"white\"}}, \"shapedefaults\": {\"line\": {\"color\": \"#2a3f5f\"}}, \"ternary\": {\"aaxis\": {\"gridcolor\": \"white\", \"linecolor\": \"white\", \"ticks\": \"\"}, \"baxis\": {\"gridcolor\": \"white\", \"linecolor\": \"white\", \"ticks\": \"\"}, \"bgcolor\": \"#E5ECF6\", \"caxis\": {\"gridcolor\": \"white\", \"linecolor\": \"white\", \"ticks\": \"\"}}, \"title\": {\"x\": 0.05}, \"xaxis\": {\"automargin\": true, \"gridcolor\": \"white\", \"linecolor\": \"white\", \"ticks\": \"\", \"zerolinecolor\": \"white\", \"zerolinewidth\": 2}, \"yaxis\": {\"automargin\": true, \"gridcolor\": \"white\", \"linecolor\": \"white\", \"ticks\": \"\", \"zerolinecolor\": \"white\", \"zerolinewidth\": 2}}}, \"title\": {\"text\": \"Barplot of fI\"}, \"width\": 900, \"yaxis\": {\"showgrid\": false, \"showline\": false, \"showticklabels\": true}},\n",
       "                        {\"responsive\": true}\n",
       "                    ).then(function(){\n",
       "                            \n",
       "var gd = document.getElementById('04f3a9c4-e401-45f5-8441-370962cc708c');\n",
       "var x = new MutationObserver(function (mutations, observer) {{\n",
       "        var display = window.getComputedStyle(gd).display;\n",
       "        if (!display || display === 'none') {{\n",
       "            console.log([gd, 'removed!']);\n",
       "            Plotly.purge(gd);\n",
       "            observer.disconnect();\n",
       "        }}\n",
       "}});\n",
       "\n",
       "// Listen for the removal of the full notebook cells\n",
       "var notebookContainer = gd.closest('#notebook-container');\n",
       "if (notebookContainer) {{\n",
       "    x.observe(notebookContainer, {childList: true});\n",
       "}}\n",
       "\n",
       "// Listen for the clearing of the current output cell\n",
       "var outputEl = gd.closest('.output');\n",
       "if (outputEl) {{\n",
       "    x.observe(outputEl, {childList: true});\n",
       "}}\n",
       "\n",
       "                        })\n",
       "                };\n",
       "                });\n",
       "            </script>\n",
       "        </div>"
      ]
     },
     "metadata": {},
     "output_type": "display_data"
    }
   ],
   "source": [
    "x,y=(list(x) for x in zip(*sorted(zip(rf.feature_importances_,feature)\n",
    "                                   ,reverse=False)))\n",
    "\n",
    "trace2 = go.Bar(\n",
    "    x=x,\n",
    "    y=y,\n",
    "    marker=dict(\n",
    "          color=x,\n",
    "           colorscale='Viridis',\n",
    "          reversescale= True),\n",
    "    name='RF feature imp',\n",
    "    orientation='h'\n",
    ")\n",
    "\n",
    "layout=dict(\n",
    "      title='Barplot of fI',\n",
    "    width=900, height=2000,\n",
    "     yaxis=dict(\n",
    "          showgrid=False,\n",
    "           showline=False,\n",
    "          showticklabels=True))\n",
    "data=[trace2]\n",
    "\n",
    "fig1=go.Figure(data=data)\n",
    "fig1['layout'].update(layout)\n",
    "py.iplot(fig1,filename='bars')"
   ]
  },
  {
   "cell_type": "markdown",
   "metadata": {},
   "source": [
    "## lets find the prominant parameter using gbm"
   ]
  },
  {
   "cell_type": "code",
   "execution_count": 49,
   "metadata": {},
   "outputs": [
    {
     "name": "stdout",
     "output_type": "stream",
     "text": [
      "--traing done___\n"
     ]
    }
   ],
   "source": [
    "from sklearn.ensemble import GradientBoostingClassifier\n",
    "gb=GradientBoostingClassifier(n_estimators=150,max_depth=3,min_samples_leaf=3,max_features=0.3,learning_rate=0.05,subsample=0.4,random_state=2)\n",
    "gb.fit(train.drop(['V86'],1),train['V86'])\n",
    "feature=train.drop(['V86'],1).columns.values\n",
    "print('--traing done___')"
   ]
  },
  {
   "cell_type": "code",
   "execution_count": 50,
   "metadata": {},
   "outputs": [
    {
     "data": {
      "application/vnd.plotly.v1+json": {
       "config": {
        "linkText": "Export to plot.ly",
        "plotlyServerURL": "https://plot.ly",
        "showLink": false
       },
       "data": [
        {
         "marker": {
          "color": [
           0.03302147410199787,
           0.001843275575789341,
           0.0028506472876231852,
           0.010004322840405543,
           0.01823280715189625,
           0.008334446732155725,
           0.01583357124519424,
           0.005392524281344355,
           0.026412992506541836,
           0.006380204616702835,
           0.00470202818067238,
           0.004582821668631586,
           0.012782472221421287,
           0.011538482596148616,
           0.018080030328274425,
           0.03773408511831431,
           0.020949635211842604,
           0.019659584849139638,
           0.01222369992622454,
           0.0053630766272802725,
           0.0052222900190763795,
           0.023092328399932416,
           0.022800598151117825,
           0.0061236394237132565,
           0.016605310220692674,
           0.00723094284483853,
           0.006465541686555663,
           0.02188087417423894,
           0.004620454318724679,
           0.013535750690598435,
           0.013530361641331512,
           0.010831185670033484,
           0.006926652982982703,
           0.008804184344859559,
           0.016772149604159924,
           0.01662926470213141,
           0.013897156075559955,
           0.008850690905828995,
           0.009570401234350972,
           0.020011757674926377,
           0.005614111127349748,
           0.016793112595182492,
           0.034971402971476315,
           0.011583028184569202,
           0.0018973716229936572,
           0,
           0.08862982933865216,
           0.00020988810471068306,
           0.0006689364928991011,
           0,
           0.0012169041574328567,
           0.004231052429732838,
           0,
           0.0009685810749682087,
           0.00799696056086617,
           0,
           0.0117363878605301,
           0.009858645131636513,
           0.062449342497424766,
           0,
           0.04784185846729974,
           0.00719987886750484,
           0.0021210108604666944,
           0.013880924056191206,
           0.008740367998849443,
           0.002779212039376875,
           0.0005919751045401866,
           0.04353814679151618,
           0,
           0,
           0,
           0.0012586271359135738,
           0.0010792310062803577,
           0,
           0,
           0.023815234077451914,
           0,
           0.0050268721556727715,
           0.009221971853182766,
           0.004710753564566482,
           0,
           0.019474811422812478,
           0.011012355089578551,
           0.0013861324211603635,
           0.008171365103956241
          ],
          "colorscale": [
           [
            0,
            "rgb(12,51,131)"
           ],
           [
            0.25,
            "rgb(10,136,186)"
           ],
           [
            0.5,
            "rgb(242,211,56)"
           ],
           [
            0.75,
            "rgb(242,143,56)"
           ],
           [
            1,
            "rgb(217,30,30)"
           ]
          ],
          "showscale": true,
          "size": 13,
          "sizemode": "diameter",
          "sizeref": 1
         },
         "mode": "markers",
         "text": [
          "V1",
          "V2",
          "V3",
          "V4",
          "V5",
          "V6",
          "V7",
          "V8",
          "V9",
          "V10",
          "V11",
          "V12",
          "V13",
          "V14",
          "V15",
          "V16",
          "V17",
          "V18",
          "V19",
          "V20",
          "V21",
          "V22",
          "V23",
          "V24",
          "V25",
          "V26",
          "V27",
          "V28",
          "V29",
          "V30",
          "V31",
          "V32",
          "V33",
          "V34",
          "V35",
          "V36",
          "V37",
          "V38",
          "V39",
          "V40",
          "V41",
          "V42",
          "V43",
          "V44",
          "V45",
          "V46",
          "V47",
          "V48",
          "V49",
          "V50",
          "V51",
          "V52",
          "V53",
          "V54",
          "V55",
          "V56",
          "V57",
          "V58",
          "V59",
          "V60",
          "V61",
          "V62",
          "V63",
          "V64",
          "V65",
          "V66",
          "V67",
          "V68",
          "V69",
          "V70",
          "V71",
          "V72",
          "V73",
          "V74",
          "V75",
          "V76",
          "V77",
          "V78",
          "V79",
          "V80",
          "V81",
          "V82",
          "V83",
          "V84",
          "V85"
         ],
         "type": "scatter",
         "x": [
          "V1",
          "V2",
          "V3",
          "V4",
          "V5",
          "V6",
          "V7",
          "V8",
          "V9",
          "V10",
          "V11",
          "V12",
          "V13",
          "V14",
          "V15",
          "V16",
          "V17",
          "V18",
          "V19",
          "V20",
          "V21",
          "V22",
          "V23",
          "V24",
          "V25",
          "V26",
          "V27",
          "V28",
          "V29",
          "V30",
          "V31",
          "V32",
          "V33",
          "V34",
          "V35",
          "V36",
          "V37",
          "V38",
          "V39",
          "V40",
          "V41",
          "V42",
          "V43",
          "V44",
          "V45",
          "V46",
          "V47",
          "V48",
          "V49",
          "V50",
          "V51",
          "V52",
          "V53",
          "V54",
          "V55",
          "V56",
          "V57",
          "V58",
          "V59",
          "V60",
          "V61",
          "V62",
          "V63",
          "V64",
          "V65",
          "V66",
          "V67",
          "V68",
          "V69",
          "V70",
          "V71",
          "V72",
          "V73",
          "V74",
          "V75",
          "V76",
          "V77",
          "V78",
          "V79",
          "V80",
          "V81",
          "V82",
          "V83",
          "V84",
          "V85"
         ],
         "y": [
          0.03302147410199787,
          0.001843275575789341,
          0.0028506472876231852,
          0.010004322840405543,
          0.01823280715189625,
          0.008334446732155725,
          0.01583357124519424,
          0.005392524281344355,
          0.026412992506541836,
          0.006380204616702835,
          0.00470202818067238,
          0.004582821668631586,
          0.012782472221421287,
          0.011538482596148616,
          0.018080030328274425,
          0.03773408511831431,
          0.020949635211842604,
          0.019659584849139638,
          0.01222369992622454,
          0.0053630766272802725,
          0.0052222900190763795,
          0.023092328399932416,
          0.022800598151117825,
          0.0061236394237132565,
          0.016605310220692674,
          0.00723094284483853,
          0.006465541686555663,
          0.02188087417423894,
          0.004620454318724679,
          0.013535750690598435,
          0.013530361641331512,
          0.010831185670033484,
          0.006926652982982703,
          0.008804184344859559,
          0.016772149604159924,
          0.01662926470213141,
          0.013897156075559955,
          0.008850690905828995,
          0.009570401234350972,
          0.020011757674926377,
          0.005614111127349748,
          0.016793112595182492,
          0.034971402971476315,
          0.011583028184569202,
          0.0018973716229936572,
          0,
          0.08862982933865216,
          0.00020988810471068306,
          0.0006689364928991011,
          0,
          0.0012169041574328567,
          0.004231052429732838,
          0,
          0.0009685810749682087,
          0.00799696056086617,
          0,
          0.0117363878605301,
          0.009858645131636513,
          0.062449342497424766,
          0,
          0.04784185846729974,
          0.00719987886750484,
          0.0021210108604666944,
          0.013880924056191206,
          0.008740367998849443,
          0.002779212039376875,
          0.0005919751045401866,
          0.04353814679151618,
          0,
          0,
          0,
          0.0012586271359135738,
          0.0010792310062803577,
          0,
          0,
          0.023815234077451914,
          0,
          0.0050268721556727715,
          0.009221971853182766,
          0.004710753564566482,
          0,
          0.019474811422812478,
          0.011012355089578551,
          0.0013861324211603635,
          0.008171365103956241
         ]
        }
       ],
       "layout": {
        "autosize": true,
        "hovermode": "closest",
        "showlegend": false,
        "template": {
         "data": {
          "bar": [
           {
            "error_x": {
             "color": "#2a3f5f"
            },
            "error_y": {
             "color": "#2a3f5f"
            },
            "marker": {
             "line": {
              "color": "#E5ECF6",
              "width": 0.5
             }
            },
            "type": "bar"
           }
          ],
          "barpolar": [
           {
            "marker": {
             "line": {
              "color": "#E5ECF6",
              "width": 0.5
             }
            },
            "type": "barpolar"
           }
          ],
          "carpet": [
           {
            "aaxis": {
             "endlinecolor": "#2a3f5f",
             "gridcolor": "white",
             "linecolor": "white",
             "minorgridcolor": "white",
             "startlinecolor": "#2a3f5f"
            },
            "baxis": {
             "endlinecolor": "#2a3f5f",
             "gridcolor": "white",
             "linecolor": "white",
             "minorgridcolor": "white",
             "startlinecolor": "#2a3f5f"
            },
            "type": "carpet"
           }
          ],
          "choropleth": [
           {
            "colorbar": {
             "outlinewidth": 0,
             "ticks": ""
            },
            "type": "choropleth"
           }
          ],
          "contour": [
           {
            "colorbar": {
             "outlinewidth": 0,
             "ticks": ""
            },
            "colorscale": [
             [
              0,
              "#0d0887"
             ],
             [
              0.1111111111111111,
              "#46039f"
             ],
             [
              0.2222222222222222,
              "#7201a8"
             ],
             [
              0.3333333333333333,
              "#9c179e"
             ],
             [
              0.4444444444444444,
              "#bd3786"
             ],
             [
              0.5555555555555556,
              "#d8576b"
             ],
             [
              0.6666666666666666,
              "#ed7953"
             ],
             [
              0.7777777777777778,
              "#fb9f3a"
             ],
             [
              0.8888888888888888,
              "#fdca26"
             ],
             [
              1,
              "#f0f921"
             ]
            ],
            "type": "contour"
           }
          ],
          "contourcarpet": [
           {
            "colorbar": {
             "outlinewidth": 0,
             "ticks": ""
            },
            "type": "contourcarpet"
           }
          ],
          "heatmap": [
           {
            "colorbar": {
             "outlinewidth": 0,
             "ticks": ""
            },
            "colorscale": [
             [
              0,
              "#0d0887"
             ],
             [
              0.1111111111111111,
              "#46039f"
             ],
             [
              0.2222222222222222,
              "#7201a8"
             ],
             [
              0.3333333333333333,
              "#9c179e"
             ],
             [
              0.4444444444444444,
              "#bd3786"
             ],
             [
              0.5555555555555556,
              "#d8576b"
             ],
             [
              0.6666666666666666,
              "#ed7953"
             ],
             [
              0.7777777777777778,
              "#fb9f3a"
             ],
             [
              0.8888888888888888,
              "#fdca26"
             ],
             [
              1,
              "#f0f921"
             ]
            ],
            "type": "heatmap"
           }
          ],
          "heatmapgl": [
           {
            "colorbar": {
             "outlinewidth": 0,
             "ticks": ""
            },
            "colorscale": [
             [
              0,
              "#0d0887"
             ],
             [
              0.1111111111111111,
              "#46039f"
             ],
             [
              0.2222222222222222,
              "#7201a8"
             ],
             [
              0.3333333333333333,
              "#9c179e"
             ],
             [
              0.4444444444444444,
              "#bd3786"
             ],
             [
              0.5555555555555556,
              "#d8576b"
             ],
             [
              0.6666666666666666,
              "#ed7953"
             ],
             [
              0.7777777777777778,
              "#fb9f3a"
             ],
             [
              0.8888888888888888,
              "#fdca26"
             ],
             [
              1,
              "#f0f921"
             ]
            ],
            "type": "heatmapgl"
           }
          ],
          "histogram": [
           {
            "marker": {
             "colorbar": {
              "outlinewidth": 0,
              "ticks": ""
             }
            },
            "type": "histogram"
           }
          ],
          "histogram2d": [
           {
            "colorbar": {
             "outlinewidth": 0,
             "ticks": ""
            },
            "colorscale": [
             [
              0,
              "#0d0887"
             ],
             [
              0.1111111111111111,
              "#46039f"
             ],
             [
              0.2222222222222222,
              "#7201a8"
             ],
             [
              0.3333333333333333,
              "#9c179e"
             ],
             [
              0.4444444444444444,
              "#bd3786"
             ],
             [
              0.5555555555555556,
              "#d8576b"
             ],
             [
              0.6666666666666666,
              "#ed7953"
             ],
             [
              0.7777777777777778,
              "#fb9f3a"
             ],
             [
              0.8888888888888888,
              "#fdca26"
             ],
             [
              1,
              "#f0f921"
             ]
            ],
            "type": "histogram2d"
           }
          ],
          "histogram2dcontour": [
           {
            "colorbar": {
             "outlinewidth": 0,
             "ticks": ""
            },
            "colorscale": [
             [
              0,
              "#0d0887"
             ],
             [
              0.1111111111111111,
              "#46039f"
             ],
             [
              0.2222222222222222,
              "#7201a8"
             ],
             [
              0.3333333333333333,
              "#9c179e"
             ],
             [
              0.4444444444444444,
              "#bd3786"
             ],
             [
              0.5555555555555556,
              "#d8576b"
             ],
             [
              0.6666666666666666,
              "#ed7953"
             ],
             [
              0.7777777777777778,
              "#fb9f3a"
             ],
             [
              0.8888888888888888,
              "#fdca26"
             ],
             [
              1,
              "#f0f921"
             ]
            ],
            "type": "histogram2dcontour"
           }
          ],
          "mesh3d": [
           {
            "colorbar": {
             "outlinewidth": 0,
             "ticks": ""
            },
            "type": "mesh3d"
           }
          ],
          "parcoords": [
           {
            "line": {
             "colorbar": {
              "outlinewidth": 0,
              "ticks": ""
             }
            },
            "type": "parcoords"
           }
          ],
          "scatter": [
           {
            "marker": {
             "colorbar": {
              "outlinewidth": 0,
              "ticks": ""
             }
            },
            "type": "scatter"
           }
          ],
          "scatter3d": [
           {
            "line": {
             "colorbar": {
              "outlinewidth": 0,
              "ticks": ""
             }
            },
            "marker": {
             "colorbar": {
              "outlinewidth": 0,
              "ticks": ""
             }
            },
            "type": "scatter3d"
           }
          ],
          "scattercarpet": [
           {
            "marker": {
             "colorbar": {
              "outlinewidth": 0,
              "ticks": ""
             }
            },
            "type": "scattercarpet"
           }
          ],
          "scattergeo": [
           {
            "marker": {
             "colorbar": {
              "outlinewidth": 0,
              "ticks": ""
             }
            },
            "type": "scattergeo"
           }
          ],
          "scattergl": [
           {
            "marker": {
             "colorbar": {
              "outlinewidth": 0,
              "ticks": ""
             }
            },
            "type": "scattergl"
           }
          ],
          "scattermapbox": [
           {
            "marker": {
             "colorbar": {
              "outlinewidth": 0,
              "ticks": ""
             }
            },
            "type": "scattermapbox"
           }
          ],
          "scatterpolar": [
           {
            "marker": {
             "colorbar": {
              "outlinewidth": 0,
              "ticks": ""
             }
            },
            "type": "scatterpolar"
           }
          ],
          "scatterpolargl": [
           {
            "marker": {
             "colorbar": {
              "outlinewidth": 0,
              "ticks": ""
             }
            },
            "type": "scatterpolargl"
           }
          ],
          "scatterternary": [
           {
            "marker": {
             "colorbar": {
              "outlinewidth": 0,
              "ticks": ""
             }
            },
            "type": "scatterternary"
           }
          ],
          "surface": [
           {
            "colorbar": {
             "outlinewidth": 0,
             "ticks": ""
            },
            "colorscale": [
             [
              0,
              "#0d0887"
             ],
             [
              0.1111111111111111,
              "#46039f"
             ],
             [
              0.2222222222222222,
              "#7201a8"
             ],
             [
              0.3333333333333333,
              "#9c179e"
             ],
             [
              0.4444444444444444,
              "#bd3786"
             ],
             [
              0.5555555555555556,
              "#d8576b"
             ],
             [
              0.6666666666666666,
              "#ed7953"
             ],
             [
              0.7777777777777778,
              "#fb9f3a"
             ],
             [
              0.8888888888888888,
              "#fdca26"
             ],
             [
              1,
              "#f0f921"
             ]
            ],
            "type": "surface"
           }
          ],
          "table": [
           {
            "cells": {
             "fill": {
              "color": "#EBF0F8"
             },
             "line": {
              "color": "white"
             }
            },
            "header": {
             "fill": {
              "color": "#C8D4E3"
             },
             "line": {
              "color": "white"
             }
            },
            "type": "table"
           }
          ]
         },
         "layout": {
          "annotationdefaults": {
           "arrowcolor": "#2a3f5f",
           "arrowhead": 0,
           "arrowwidth": 1
          },
          "colorscale": {
           "diverging": [
            [
             0,
             "#8e0152"
            ],
            [
             0.1,
             "#c51b7d"
            ],
            [
             0.2,
             "#de77ae"
            ],
            [
             0.3,
             "#f1b6da"
            ],
            [
             0.4,
             "#fde0ef"
            ],
            [
             0.5,
             "#f7f7f7"
            ],
            [
             0.6,
             "#e6f5d0"
            ],
            [
             0.7,
             "#b8e186"
            ],
            [
             0.8,
             "#7fbc41"
            ],
            [
             0.9,
             "#4d9221"
            ],
            [
             1,
             "#276419"
            ]
           ],
           "sequential": [
            [
             0,
             "#0d0887"
            ],
            [
             0.1111111111111111,
             "#46039f"
            ],
            [
             0.2222222222222222,
             "#7201a8"
            ],
            [
             0.3333333333333333,
             "#9c179e"
            ],
            [
             0.4444444444444444,
             "#bd3786"
            ],
            [
             0.5555555555555556,
             "#d8576b"
            ],
            [
             0.6666666666666666,
             "#ed7953"
            ],
            [
             0.7777777777777778,
             "#fb9f3a"
            ],
            [
             0.8888888888888888,
             "#fdca26"
            ],
            [
             1,
             "#f0f921"
            ]
           ],
           "sequentialminus": [
            [
             0,
             "#0d0887"
            ],
            [
             0.1111111111111111,
             "#46039f"
            ],
            [
             0.2222222222222222,
             "#7201a8"
            ],
            [
             0.3333333333333333,
             "#9c179e"
            ],
            [
             0.4444444444444444,
             "#bd3786"
            ],
            [
             0.5555555555555556,
             "#d8576b"
            ],
            [
             0.6666666666666666,
             "#ed7953"
            ],
            [
             0.7777777777777778,
             "#fb9f3a"
            ],
            [
             0.8888888888888888,
             "#fdca26"
            ],
            [
             1,
             "#f0f921"
            ]
           ]
          },
          "colorway": [
           "#636efa",
           "#EF553B",
           "#00cc96",
           "#ab63fa",
           "#FFA15A",
           "#19d3f3",
           "#FF6692",
           "#B6E880",
           "#FF97FF",
           "#FECB52"
          ],
          "font": {
           "color": "#2a3f5f"
          },
          "geo": {
           "bgcolor": "white",
           "lakecolor": "white",
           "landcolor": "#E5ECF6",
           "showlakes": true,
           "showland": true,
           "subunitcolor": "white"
          },
          "hoverlabel": {
           "align": "left"
          },
          "hovermode": "closest",
          "mapbox": {
           "style": "light"
          },
          "paper_bgcolor": "white",
          "plot_bgcolor": "#E5ECF6",
          "polar": {
           "angularaxis": {
            "gridcolor": "white",
            "linecolor": "white",
            "ticks": ""
           },
           "bgcolor": "#E5ECF6",
           "radialaxis": {
            "gridcolor": "white",
            "linecolor": "white",
            "ticks": ""
           }
          },
          "scene": {
           "xaxis": {
            "backgroundcolor": "#E5ECF6",
            "gridcolor": "white",
            "gridwidth": 2,
            "linecolor": "white",
            "showbackground": true,
            "ticks": "",
            "zerolinecolor": "white"
           },
           "yaxis": {
            "backgroundcolor": "#E5ECF6",
            "gridcolor": "white",
            "gridwidth": 2,
            "linecolor": "white",
            "showbackground": true,
            "ticks": "",
            "zerolinecolor": "white"
           },
           "zaxis": {
            "backgroundcolor": "#E5ECF6",
            "gridcolor": "white",
            "gridwidth": 2,
            "linecolor": "white",
            "showbackground": true,
            "ticks": "",
            "zerolinecolor": "white"
           }
          },
          "shapedefaults": {
           "line": {
            "color": "#2a3f5f"
           }
          },
          "ternary": {
           "aaxis": {
            "gridcolor": "white",
            "linecolor": "white",
            "ticks": ""
           },
           "baxis": {
            "gridcolor": "white",
            "linecolor": "white",
            "ticks": ""
           },
           "bgcolor": "#E5ECF6",
           "caxis": {
            "gridcolor": "white",
            "linecolor": "white",
            "ticks": ""
           }
          },
          "title": {
           "x": 0.05
          },
          "xaxis": {
           "automargin": true,
           "gridcolor": "white",
           "linecolor": "white",
           "ticks": "",
           "zerolinecolor": "white",
           "zerolinewidth": 2
          },
          "yaxis": {
           "automargin": true,
           "gridcolor": "white",
           "linecolor": "white",
           "ticks": "",
           "zerolinecolor": "white",
           "zerolinewidth": 2
          }
         }
        },
        "title": {
         "text": "Gradient boosting machine feature"
        },
        "xaxis": {
         "showgrid": false,
         "showline": false,
         "ticklen": 5,
         "zeroline": false
        },
        "yaxis": {
         "gridwidth": 2,
         "showgrid": false,
         "ticklen": 5,
         "title": {
          "text": "Feature Importance"
         },
         "zeroline": false
        }
       }
      },
      "text/html": [
       "<div>\n",
       "        \n",
       "        \n",
       "            <div id=\"296d13c0-5a9e-41c9-9437-16c7e9418f28\" class=\"plotly-graph-div\" style=\"height:525px; width:100%;\"></div>\n",
       "            <script type=\"text/javascript\">\n",
       "                require([\"plotly\"], function(Plotly) {\n",
       "                    window.PLOTLYENV=window.PLOTLYENV || {};\n",
       "                    \n",
       "                if (document.getElementById(\"296d13c0-5a9e-41c9-9437-16c7e9418f28\")) {\n",
       "                    Plotly.newPlot(\n",
       "                        '296d13c0-5a9e-41c9-9437-16c7e9418f28',\n",
       "                        [{\"marker\": {\"color\": [0.03302147410199787, 0.001843275575789341, 0.0028506472876231852, 0.010004322840405543, 0.01823280715189625, 0.008334446732155725, 0.01583357124519424, 0.005392524281344355, 0.026412992506541836, 0.006380204616702835, 0.00470202818067238, 0.004582821668631586, 0.012782472221421287, 0.011538482596148616, 0.018080030328274425, 0.03773408511831431, 0.020949635211842604, 0.019659584849139638, 0.01222369992622454, 0.0053630766272802725, 0.0052222900190763795, 0.023092328399932416, 0.022800598151117825, 0.0061236394237132565, 0.016605310220692674, 0.00723094284483853, 0.006465541686555663, 0.02188087417423894, 0.004620454318724679, 0.013535750690598435, 0.013530361641331512, 0.010831185670033484, 0.006926652982982703, 0.008804184344859559, 0.016772149604159924, 0.01662926470213141, 0.013897156075559955, 0.008850690905828995, 0.009570401234350972, 0.020011757674926377, 0.005614111127349748, 0.016793112595182492, 0.034971402971476315, 0.011583028184569202, 0.0018973716229936572, 0.0, 0.08862982933865216, 0.00020988810471068306, 0.0006689364928991011, 0.0, 0.0012169041574328567, 0.004231052429732838, 0.0, 0.0009685810749682087, 0.00799696056086617, 0.0, 0.0117363878605301, 0.009858645131636513, 0.062449342497424766, 0.0, 0.04784185846729974, 0.00719987886750484, 0.0021210108604666944, 0.013880924056191206, 0.008740367998849443, 0.002779212039376875, 0.0005919751045401866, 0.04353814679151618, 0.0, 0.0, 0.0, 0.0012586271359135738, 0.0010792310062803577, 0.0, 0.0, 0.023815234077451914, 0.0, 0.0050268721556727715, 0.009221971853182766, 0.004710753564566482, 0.0, 0.019474811422812478, 0.011012355089578551, 0.0013861324211603635, 0.008171365103956241], \"colorscale\": [[0.0, \"rgb(12,51,131)\"], [0.25, \"rgb(10,136,186)\"], [0.5, \"rgb(242,211,56)\"], [0.75, \"rgb(242,143,56)\"], [1.0, \"rgb(217,30,30)\"]], \"showscale\": true, \"size\": 13, \"sizemode\": \"diameter\", \"sizeref\": 1}, \"mode\": \"markers\", \"text\": [\"V1\", \"V2\", \"V3\", \"V4\", \"V5\", \"V6\", \"V7\", \"V8\", \"V9\", \"V10\", \"V11\", \"V12\", \"V13\", \"V14\", \"V15\", \"V16\", \"V17\", \"V18\", \"V19\", \"V20\", \"V21\", \"V22\", \"V23\", \"V24\", \"V25\", \"V26\", \"V27\", \"V28\", \"V29\", \"V30\", \"V31\", \"V32\", \"V33\", \"V34\", \"V35\", \"V36\", \"V37\", \"V38\", \"V39\", \"V40\", \"V41\", \"V42\", \"V43\", \"V44\", \"V45\", \"V46\", \"V47\", \"V48\", \"V49\", \"V50\", \"V51\", \"V52\", \"V53\", \"V54\", \"V55\", \"V56\", \"V57\", \"V58\", \"V59\", \"V60\", \"V61\", \"V62\", \"V63\", \"V64\", \"V65\", \"V66\", \"V67\", \"V68\", \"V69\", \"V70\", \"V71\", \"V72\", \"V73\", \"V74\", \"V75\", \"V76\", \"V77\", \"V78\", \"V79\", \"V80\", \"V81\", \"V82\", \"V83\", \"V84\", \"V85\"], \"type\": \"scatter\", \"x\": [\"V1\", \"V2\", \"V3\", \"V4\", \"V5\", \"V6\", \"V7\", \"V8\", \"V9\", \"V10\", \"V11\", \"V12\", \"V13\", \"V14\", \"V15\", \"V16\", \"V17\", \"V18\", \"V19\", \"V20\", \"V21\", \"V22\", \"V23\", \"V24\", \"V25\", \"V26\", \"V27\", \"V28\", \"V29\", \"V30\", \"V31\", \"V32\", \"V33\", \"V34\", \"V35\", \"V36\", \"V37\", \"V38\", \"V39\", \"V40\", \"V41\", \"V42\", \"V43\", \"V44\", \"V45\", \"V46\", \"V47\", \"V48\", \"V49\", \"V50\", \"V51\", \"V52\", \"V53\", \"V54\", \"V55\", \"V56\", \"V57\", \"V58\", \"V59\", \"V60\", \"V61\", \"V62\", \"V63\", \"V64\", \"V65\", \"V66\", \"V67\", \"V68\", \"V69\", \"V70\", \"V71\", \"V72\", \"V73\", \"V74\", \"V75\", \"V76\", \"V77\", \"V78\", \"V79\", \"V80\", \"V81\", \"V82\", \"V83\", \"V84\", \"V85\"], \"y\": [0.03302147410199787, 0.001843275575789341, 0.0028506472876231852, 0.010004322840405543, 0.01823280715189625, 0.008334446732155725, 0.01583357124519424, 0.005392524281344355, 0.026412992506541836, 0.006380204616702835, 0.00470202818067238, 0.004582821668631586, 0.012782472221421287, 0.011538482596148616, 0.018080030328274425, 0.03773408511831431, 0.020949635211842604, 0.019659584849139638, 0.01222369992622454, 0.0053630766272802725, 0.0052222900190763795, 0.023092328399932416, 0.022800598151117825, 0.0061236394237132565, 0.016605310220692674, 0.00723094284483853, 0.006465541686555663, 0.02188087417423894, 0.004620454318724679, 0.013535750690598435, 0.013530361641331512, 0.010831185670033484, 0.006926652982982703, 0.008804184344859559, 0.016772149604159924, 0.01662926470213141, 0.013897156075559955, 0.008850690905828995, 0.009570401234350972, 0.020011757674926377, 0.005614111127349748, 0.016793112595182492, 0.034971402971476315, 0.011583028184569202, 0.0018973716229936572, 0.0, 0.08862982933865216, 0.00020988810471068306, 0.0006689364928991011, 0.0, 0.0012169041574328567, 0.004231052429732838, 0.0, 0.0009685810749682087, 0.00799696056086617, 0.0, 0.0117363878605301, 0.009858645131636513, 0.062449342497424766, 0.0, 0.04784185846729974, 0.00719987886750484, 0.0021210108604666944, 0.013880924056191206, 0.008740367998849443, 0.002779212039376875, 0.0005919751045401866, 0.04353814679151618, 0.0, 0.0, 0.0, 0.0012586271359135738, 0.0010792310062803577, 0.0, 0.0, 0.023815234077451914, 0.0, 0.0050268721556727715, 0.009221971853182766, 0.004710753564566482, 0.0, 0.019474811422812478, 0.011012355089578551, 0.0013861324211603635, 0.008171365103956241]}],\n",
       "                        {\"autosize\": true, \"hovermode\": \"closest\", \"showlegend\": false, \"template\": {\"data\": {\"bar\": [{\"error_x\": {\"color\": \"#2a3f5f\"}, \"error_y\": {\"color\": \"#2a3f5f\"}, \"marker\": {\"line\": {\"color\": \"#E5ECF6\", \"width\": 0.5}}, \"type\": \"bar\"}], \"barpolar\": [{\"marker\": {\"line\": {\"color\": \"#E5ECF6\", \"width\": 0.5}}, \"type\": \"barpolar\"}], \"carpet\": [{\"aaxis\": {\"endlinecolor\": \"#2a3f5f\", \"gridcolor\": \"white\", \"linecolor\": \"white\", \"minorgridcolor\": \"white\", \"startlinecolor\": \"#2a3f5f\"}, \"baxis\": {\"endlinecolor\": \"#2a3f5f\", \"gridcolor\": \"white\", \"linecolor\": \"white\", \"minorgridcolor\": \"white\", \"startlinecolor\": \"#2a3f5f\"}, \"type\": \"carpet\"}], \"choropleth\": [{\"colorbar\": {\"outlinewidth\": 0, \"ticks\": \"\"}, \"type\": \"choropleth\"}], \"contour\": [{\"colorbar\": {\"outlinewidth\": 0, \"ticks\": \"\"}, \"colorscale\": [[0.0, \"#0d0887\"], [0.1111111111111111, \"#46039f\"], [0.2222222222222222, \"#7201a8\"], [0.3333333333333333, \"#9c179e\"], [0.4444444444444444, \"#bd3786\"], [0.5555555555555556, \"#d8576b\"], [0.6666666666666666, \"#ed7953\"], [0.7777777777777778, \"#fb9f3a\"], [0.8888888888888888, \"#fdca26\"], [1.0, \"#f0f921\"]], \"type\": \"contour\"}], \"contourcarpet\": [{\"colorbar\": {\"outlinewidth\": 0, \"ticks\": \"\"}, \"type\": \"contourcarpet\"}], \"heatmap\": [{\"colorbar\": {\"outlinewidth\": 0, \"ticks\": \"\"}, \"colorscale\": [[0.0, \"#0d0887\"], [0.1111111111111111, \"#46039f\"], [0.2222222222222222, \"#7201a8\"], [0.3333333333333333, \"#9c179e\"], [0.4444444444444444, \"#bd3786\"], [0.5555555555555556, \"#d8576b\"], [0.6666666666666666, \"#ed7953\"], [0.7777777777777778, \"#fb9f3a\"], [0.8888888888888888, \"#fdca26\"], [1.0, \"#f0f921\"]], \"type\": \"heatmap\"}], \"heatmapgl\": [{\"colorbar\": {\"outlinewidth\": 0, \"ticks\": \"\"}, \"colorscale\": [[0.0, \"#0d0887\"], [0.1111111111111111, \"#46039f\"], [0.2222222222222222, \"#7201a8\"], [0.3333333333333333, \"#9c179e\"], [0.4444444444444444, \"#bd3786\"], [0.5555555555555556, \"#d8576b\"], [0.6666666666666666, \"#ed7953\"], [0.7777777777777778, \"#fb9f3a\"], [0.8888888888888888, \"#fdca26\"], [1.0, \"#f0f921\"]], \"type\": \"heatmapgl\"}], \"histogram\": [{\"marker\": {\"colorbar\": {\"outlinewidth\": 0, \"ticks\": \"\"}}, \"type\": \"histogram\"}], \"histogram2d\": [{\"colorbar\": {\"outlinewidth\": 0, \"ticks\": \"\"}, \"colorscale\": [[0.0, \"#0d0887\"], [0.1111111111111111, \"#46039f\"], [0.2222222222222222, \"#7201a8\"], [0.3333333333333333, \"#9c179e\"], [0.4444444444444444, \"#bd3786\"], [0.5555555555555556, \"#d8576b\"], [0.6666666666666666, \"#ed7953\"], [0.7777777777777778, \"#fb9f3a\"], [0.8888888888888888, \"#fdca26\"], [1.0, \"#f0f921\"]], \"type\": \"histogram2d\"}], \"histogram2dcontour\": [{\"colorbar\": {\"outlinewidth\": 0, \"ticks\": \"\"}, \"colorscale\": [[0.0, \"#0d0887\"], [0.1111111111111111, \"#46039f\"], [0.2222222222222222, \"#7201a8\"], [0.3333333333333333, \"#9c179e\"], [0.4444444444444444, \"#bd3786\"], [0.5555555555555556, \"#d8576b\"], [0.6666666666666666, \"#ed7953\"], [0.7777777777777778, \"#fb9f3a\"], [0.8888888888888888, \"#fdca26\"], [1.0, \"#f0f921\"]], \"type\": \"histogram2dcontour\"}], \"mesh3d\": [{\"colorbar\": {\"outlinewidth\": 0, \"ticks\": \"\"}, \"type\": \"mesh3d\"}], \"parcoords\": [{\"line\": {\"colorbar\": {\"outlinewidth\": 0, \"ticks\": \"\"}}, \"type\": \"parcoords\"}], \"scatter\": [{\"marker\": {\"colorbar\": {\"outlinewidth\": 0, \"ticks\": \"\"}}, \"type\": \"scatter\"}], \"scatter3d\": [{\"line\": {\"colorbar\": {\"outlinewidth\": 0, \"ticks\": \"\"}}, \"marker\": {\"colorbar\": {\"outlinewidth\": 0, \"ticks\": \"\"}}, \"type\": \"scatter3d\"}], \"scattercarpet\": [{\"marker\": {\"colorbar\": {\"outlinewidth\": 0, \"ticks\": \"\"}}, \"type\": \"scattercarpet\"}], \"scattergeo\": [{\"marker\": {\"colorbar\": {\"outlinewidth\": 0, \"ticks\": \"\"}}, \"type\": \"scattergeo\"}], \"scattergl\": [{\"marker\": {\"colorbar\": {\"outlinewidth\": 0, \"ticks\": \"\"}}, \"type\": \"scattergl\"}], \"scattermapbox\": [{\"marker\": {\"colorbar\": {\"outlinewidth\": 0, \"ticks\": \"\"}}, \"type\": \"scattermapbox\"}], \"scatterpolar\": [{\"marker\": {\"colorbar\": {\"outlinewidth\": 0, \"ticks\": \"\"}}, \"type\": \"scatterpolar\"}], \"scatterpolargl\": [{\"marker\": {\"colorbar\": {\"outlinewidth\": 0, \"ticks\": \"\"}}, \"type\": \"scatterpolargl\"}], \"scatterternary\": [{\"marker\": {\"colorbar\": {\"outlinewidth\": 0, \"ticks\": \"\"}}, \"type\": \"scatterternary\"}], \"surface\": [{\"colorbar\": {\"outlinewidth\": 0, \"ticks\": \"\"}, \"colorscale\": [[0.0, \"#0d0887\"], [0.1111111111111111, \"#46039f\"], [0.2222222222222222, \"#7201a8\"], [0.3333333333333333, \"#9c179e\"], [0.4444444444444444, \"#bd3786\"], [0.5555555555555556, \"#d8576b\"], [0.6666666666666666, \"#ed7953\"], [0.7777777777777778, \"#fb9f3a\"], [0.8888888888888888, \"#fdca26\"], [1.0, \"#f0f921\"]], \"type\": \"surface\"}], \"table\": [{\"cells\": {\"fill\": {\"color\": \"#EBF0F8\"}, \"line\": {\"color\": \"white\"}}, \"header\": {\"fill\": {\"color\": \"#C8D4E3\"}, \"line\": {\"color\": \"white\"}}, \"type\": \"table\"}]}, \"layout\": {\"annotationdefaults\": {\"arrowcolor\": \"#2a3f5f\", \"arrowhead\": 0, \"arrowwidth\": 1}, \"colorscale\": {\"diverging\": [[0, \"#8e0152\"], [0.1, \"#c51b7d\"], [0.2, \"#de77ae\"], [0.3, \"#f1b6da\"], [0.4, \"#fde0ef\"], [0.5, \"#f7f7f7\"], [0.6, \"#e6f5d0\"], [0.7, \"#b8e186\"], [0.8, \"#7fbc41\"], [0.9, \"#4d9221\"], [1, \"#276419\"]], \"sequential\": [[0.0, \"#0d0887\"], [0.1111111111111111, \"#46039f\"], [0.2222222222222222, \"#7201a8\"], [0.3333333333333333, \"#9c179e\"], [0.4444444444444444, \"#bd3786\"], [0.5555555555555556, \"#d8576b\"], [0.6666666666666666, \"#ed7953\"], [0.7777777777777778, \"#fb9f3a\"], [0.8888888888888888, \"#fdca26\"], [1.0, \"#f0f921\"]], \"sequentialminus\": [[0.0, \"#0d0887\"], [0.1111111111111111, \"#46039f\"], [0.2222222222222222, \"#7201a8\"], [0.3333333333333333, \"#9c179e\"], [0.4444444444444444, \"#bd3786\"], [0.5555555555555556, \"#d8576b\"], [0.6666666666666666, \"#ed7953\"], [0.7777777777777778, \"#fb9f3a\"], [0.8888888888888888, \"#fdca26\"], [1.0, \"#f0f921\"]]}, \"colorway\": [\"#636efa\", \"#EF553B\", \"#00cc96\", \"#ab63fa\", \"#FFA15A\", \"#19d3f3\", \"#FF6692\", \"#B6E880\", \"#FF97FF\", \"#FECB52\"], \"font\": {\"color\": \"#2a3f5f\"}, \"geo\": {\"bgcolor\": \"white\", \"lakecolor\": \"white\", \"landcolor\": \"#E5ECF6\", \"showlakes\": true, \"showland\": true, \"subunitcolor\": \"white\"}, \"hoverlabel\": {\"align\": \"left\"}, \"hovermode\": \"closest\", \"mapbox\": {\"style\": \"light\"}, \"paper_bgcolor\": \"white\", \"plot_bgcolor\": \"#E5ECF6\", \"polar\": {\"angularaxis\": {\"gridcolor\": \"white\", \"linecolor\": \"white\", \"ticks\": \"\"}, \"bgcolor\": \"#E5ECF6\", \"radialaxis\": {\"gridcolor\": \"white\", \"linecolor\": \"white\", \"ticks\": \"\"}}, \"scene\": {\"xaxis\": {\"backgroundcolor\": \"#E5ECF6\", \"gridcolor\": \"white\", \"gridwidth\": 2, \"linecolor\": \"white\", \"showbackground\": true, \"ticks\": \"\", \"zerolinecolor\": \"white\"}, \"yaxis\": {\"backgroundcolor\": \"#E5ECF6\", \"gridcolor\": \"white\", \"gridwidth\": 2, \"linecolor\": \"white\", \"showbackground\": true, \"ticks\": \"\", \"zerolinecolor\": \"white\"}, \"zaxis\": {\"backgroundcolor\": \"#E5ECF6\", \"gridcolor\": \"white\", \"gridwidth\": 2, \"linecolor\": \"white\", \"showbackground\": true, \"ticks\": \"\", \"zerolinecolor\": \"white\"}}, \"shapedefaults\": {\"line\": {\"color\": \"#2a3f5f\"}}, \"ternary\": {\"aaxis\": {\"gridcolor\": \"white\", \"linecolor\": \"white\", \"ticks\": \"\"}, \"baxis\": {\"gridcolor\": \"white\", \"linecolor\": \"white\", \"ticks\": \"\"}, \"bgcolor\": \"#E5ECF6\", \"caxis\": {\"gridcolor\": \"white\", \"linecolor\": \"white\", \"ticks\": \"\"}}, \"title\": {\"x\": 0.05}, \"xaxis\": {\"automargin\": true, \"gridcolor\": \"white\", \"linecolor\": \"white\", \"ticks\": \"\", \"zerolinecolor\": \"white\", \"zerolinewidth\": 2}, \"yaxis\": {\"automargin\": true, \"gridcolor\": \"white\", \"linecolor\": \"white\", \"ticks\": \"\", \"zerolinecolor\": \"white\", \"zerolinewidth\": 2}}}, \"title\": {\"text\": \"Gradient boosting machine feature\"}, \"xaxis\": {\"showgrid\": false, \"showline\": false, \"ticklen\": 5, \"zeroline\": false}, \"yaxis\": {\"gridwidth\": 2, \"showgrid\": false, \"ticklen\": 5, \"title\": {\"text\": \"Feature Importance\"}, \"zeroline\": false}},\n",
       "                        {\"responsive\": true}\n",
       "                    ).then(function(){\n",
       "                            \n",
       "var gd = document.getElementById('296d13c0-5a9e-41c9-9437-16c7e9418f28');\n",
       "var x = new MutationObserver(function (mutations, observer) {{\n",
       "        var display = window.getComputedStyle(gd).display;\n",
       "        if (!display || display === 'none') {{\n",
       "            console.log([gd, 'removed!']);\n",
       "            Plotly.purge(gd);\n",
       "            observer.disconnect();\n",
       "        }}\n",
       "}});\n",
       "\n",
       "// Listen for the removal of the full notebook cells\n",
       "var notebookContainer = gd.closest('#notebook-container');\n",
       "if (notebookContainer) {{\n",
       "    x.observe(notebookContainer, {childList: true});\n",
       "}}\n",
       "\n",
       "// Listen for the clearing of the current output cell\n",
       "var outputEl = gd.closest('.output');\n",
       "if (outputEl) {{\n",
       "    x.observe(outputEl, {childList: true});\n",
       "}}\n",
       "\n",
       "                        })\n",
       "                };\n",
       "                });\n",
       "            </script>\n",
       "        </div>"
      ]
     },
     "metadata": {},
     "output_type": "display_data"
    }
   ],
   "source": [
    "#scatter\n",
    "trace=go.Scatter(\n",
    "        y=gb.feature_importances_,\n",
    "        x=feature,\n",
    "         mode='markers',\n",
    "         marker=dict(\n",
    "         sizemode='diameter',\n",
    "         sizeref=1,\n",
    "         size=13,\n",
    "         color=gb.feature_importances_,\n",
    "         colorscale='Portland',\n",
    "         showscale=True),\n",
    "         text=feature)\n",
    "data=[trace]\n",
    "\n",
    "layout=go.Layout(\n",
    "          autosize=True,\n",
    "        title='Gradient boosting machine feature',\n",
    "        hovermode='closest',\n",
    "         xaxis=dict(\n",
    "            ticklen=5,\n",
    "             showgrid=False,\n",
    "            zeroline=False,\n",
    "            showline=False),\n",
    "         yaxis=dict(\n",
    "               title='Feature Importance',\n",
    "               showgrid=False,\n",
    "                zeroline=False,\n",
    "                gridwidth=2,\n",
    "                ticklen=5,\n",
    "               ),\n",
    "    showlegend=False\n",
    ")\n",
    "\n",
    "fig=go.Figure(data=data,layout=layout)\n",
    "py.iplot(fig,filename='scatter56')"
   ]
  },
  {
   "cell_type": "code",
   "execution_count": 51,
   "metadata": {},
   "outputs": [
    {
     "data": {
      "application/vnd.plotly.v1+json": {
       "config": {
        "linkText": "Export to plot.ly",
        "plotlyServerURL": "https://plot.ly",
        "showLink": false
       },
       "data": [
        {
         "marker": {
          "color": [
           0,
           0,
           0,
           0,
           0,
           0,
           0,
           0,
           0,
           0,
           0,
           0,
           0.00020988810471068306,
           0.0005919751045401866,
           0.0006689364928991011,
           0.0009685810749682087,
           0.0010792310062803577,
           0.0012169041574328567,
           0.0012586271359135738,
           0.0013861324211603635,
           0.001843275575789341,
           0.0018973716229936572,
           0.0021210108604666944,
           0.002779212039376875,
           0.0028506472876231852,
           0.004231052429732838,
           0.004582821668631586,
           0.004620454318724679,
           0.00470202818067238,
           0.004710753564566482,
           0.0050268721556727715,
           0.0052222900190763795,
           0.0053630766272802725,
           0.005392524281344355,
           0.005614111127349748,
           0.0061236394237132565,
           0.006380204616702835,
           0.006465541686555663,
           0.006926652982982703,
           0.00719987886750484,
           0.00723094284483853,
           0.00799696056086617,
           0.008171365103956241,
           0.008334446732155725,
           0.008740367998849443,
           0.008804184344859559,
           0.008850690905828995,
           0.009221971853182766,
           0.009570401234350972,
           0.009858645131636513,
           0.010004322840405543,
           0.010831185670033484,
           0.011012355089578551,
           0.011538482596148616,
           0.011583028184569202,
           0.0117363878605301,
           0.01222369992622454,
           0.012782472221421287,
           0.013530361641331512,
           0.013535750690598435,
           0.013880924056191206,
           0.013897156075559955,
           0.01583357124519424,
           0.016605310220692674,
           0.01662926470213141,
           0.016772149604159924,
           0.016793112595182492,
           0.018080030328274425,
           0.01823280715189625,
           0.019474811422812478,
           0.019659584849139638,
           0.020011757674926377,
           0.020949635211842604,
           0.02188087417423894,
           0.022800598151117825,
           0.023092328399932416,
           0.023815234077451914,
           0.026412992506541836,
           0.03302147410199787,
           0.034971402971476315,
           0.03773408511831431,
           0.04353814679151618,
           0.04784185846729974,
           0.062449342497424766,
           0.08862982933865216
          ],
          "colorscale": [
           [
            0,
            "#440154"
           ],
           [
            0.1111111111111111,
            "#482878"
           ],
           [
            0.2222222222222222,
            "#3e4989"
           ],
           [
            0.3333333333333333,
            "#31688e"
           ],
           [
            0.4444444444444444,
            "#26828e"
           ],
           [
            0.5555555555555556,
            "#1f9e89"
           ],
           [
            0.6666666666666666,
            "#35b779"
           ],
           [
            0.7777777777777778,
            "#6ece58"
           ],
           [
            0.8888888888888888,
            "#b5de2b"
           ],
           [
            1,
            "#fde725"
           ]
          ],
          "reversescale": true
         },
         "name": "GB feature imp",
         "orientation": "h",
         "type": "bar",
         "x": [
          0,
          0,
          0,
          0,
          0,
          0,
          0,
          0,
          0,
          0,
          0,
          0,
          0.00020988810471068306,
          0.0005919751045401866,
          0.0006689364928991011,
          0.0009685810749682087,
          0.0010792310062803577,
          0.0012169041574328567,
          0.0012586271359135738,
          0.0013861324211603635,
          0.001843275575789341,
          0.0018973716229936572,
          0.0021210108604666944,
          0.002779212039376875,
          0.0028506472876231852,
          0.004231052429732838,
          0.004582821668631586,
          0.004620454318724679,
          0.00470202818067238,
          0.004710753564566482,
          0.0050268721556727715,
          0.0052222900190763795,
          0.0053630766272802725,
          0.005392524281344355,
          0.005614111127349748,
          0.0061236394237132565,
          0.006380204616702835,
          0.006465541686555663,
          0.006926652982982703,
          0.00719987886750484,
          0.00723094284483853,
          0.00799696056086617,
          0.008171365103956241,
          0.008334446732155725,
          0.008740367998849443,
          0.008804184344859559,
          0.008850690905828995,
          0.009221971853182766,
          0.009570401234350972,
          0.009858645131636513,
          0.010004322840405543,
          0.010831185670033484,
          0.011012355089578551,
          0.011538482596148616,
          0.011583028184569202,
          0.0117363878605301,
          0.01222369992622454,
          0.012782472221421287,
          0.013530361641331512,
          0.013535750690598435,
          0.013880924056191206,
          0.013897156075559955,
          0.01583357124519424,
          0.016605310220692674,
          0.01662926470213141,
          0.016772149604159924,
          0.016793112595182492,
          0.018080030328274425,
          0.01823280715189625,
          0.019474811422812478,
          0.019659584849139638,
          0.020011757674926377,
          0.020949635211842604,
          0.02188087417423894,
          0.022800598151117825,
          0.023092328399932416,
          0.023815234077451914,
          0.026412992506541836,
          0.03302147410199787,
          0.034971402971476315,
          0.03773408511831431,
          0.04353814679151618,
          0.04784185846729974,
          0.062449342497424766,
          0.08862982933865216
         ],
         "y": [
          "V46",
          "V50",
          "V53",
          "V56",
          "V60",
          "V69",
          "V70",
          "V71",
          "V74",
          "V75",
          "V77",
          "V81",
          "V48",
          "V67",
          "V49",
          "V54",
          "V73",
          "V51",
          "V72",
          "V84",
          "V2",
          "V45",
          "V63",
          "V66",
          "V3",
          "V52",
          "V12",
          "V29",
          "V11",
          "V80",
          "V78",
          "V21",
          "V20",
          "V8",
          "V41",
          "V24",
          "V10",
          "V27",
          "V33",
          "V62",
          "V26",
          "V55",
          "V85",
          "V6",
          "V65",
          "V34",
          "V38",
          "V79",
          "V39",
          "V58",
          "V4",
          "V32",
          "V83",
          "V14",
          "V44",
          "V57",
          "V19",
          "V13",
          "V31",
          "V30",
          "V64",
          "V37",
          "V7",
          "V25",
          "V36",
          "V35",
          "V42",
          "V15",
          "V5",
          "V82",
          "V18",
          "V40",
          "V17",
          "V28",
          "V23",
          "V22",
          "V76",
          "V9",
          "V1",
          "V43",
          "V16",
          "V68",
          "V61",
          "V59",
          "V47"
         ]
        }
       ],
       "layout": {
        "height": 2000,
        "template": {
         "data": {
          "bar": [
           {
            "error_x": {
             "color": "#2a3f5f"
            },
            "error_y": {
             "color": "#2a3f5f"
            },
            "marker": {
             "line": {
              "color": "#E5ECF6",
              "width": 0.5
             }
            },
            "type": "bar"
           }
          ],
          "barpolar": [
           {
            "marker": {
             "line": {
              "color": "#E5ECF6",
              "width": 0.5
             }
            },
            "type": "barpolar"
           }
          ],
          "carpet": [
           {
            "aaxis": {
             "endlinecolor": "#2a3f5f",
             "gridcolor": "white",
             "linecolor": "white",
             "minorgridcolor": "white",
             "startlinecolor": "#2a3f5f"
            },
            "baxis": {
             "endlinecolor": "#2a3f5f",
             "gridcolor": "white",
             "linecolor": "white",
             "minorgridcolor": "white",
             "startlinecolor": "#2a3f5f"
            },
            "type": "carpet"
           }
          ],
          "choropleth": [
           {
            "colorbar": {
             "outlinewidth": 0,
             "ticks": ""
            },
            "type": "choropleth"
           }
          ],
          "contour": [
           {
            "colorbar": {
             "outlinewidth": 0,
             "ticks": ""
            },
            "colorscale": [
             [
              0,
              "#0d0887"
             ],
             [
              0.1111111111111111,
              "#46039f"
             ],
             [
              0.2222222222222222,
              "#7201a8"
             ],
             [
              0.3333333333333333,
              "#9c179e"
             ],
             [
              0.4444444444444444,
              "#bd3786"
             ],
             [
              0.5555555555555556,
              "#d8576b"
             ],
             [
              0.6666666666666666,
              "#ed7953"
             ],
             [
              0.7777777777777778,
              "#fb9f3a"
             ],
             [
              0.8888888888888888,
              "#fdca26"
             ],
             [
              1,
              "#f0f921"
             ]
            ],
            "type": "contour"
           }
          ],
          "contourcarpet": [
           {
            "colorbar": {
             "outlinewidth": 0,
             "ticks": ""
            },
            "type": "contourcarpet"
           }
          ],
          "heatmap": [
           {
            "colorbar": {
             "outlinewidth": 0,
             "ticks": ""
            },
            "colorscale": [
             [
              0,
              "#0d0887"
             ],
             [
              0.1111111111111111,
              "#46039f"
             ],
             [
              0.2222222222222222,
              "#7201a8"
             ],
             [
              0.3333333333333333,
              "#9c179e"
             ],
             [
              0.4444444444444444,
              "#bd3786"
             ],
             [
              0.5555555555555556,
              "#d8576b"
             ],
             [
              0.6666666666666666,
              "#ed7953"
             ],
             [
              0.7777777777777778,
              "#fb9f3a"
             ],
             [
              0.8888888888888888,
              "#fdca26"
             ],
             [
              1,
              "#f0f921"
             ]
            ],
            "type": "heatmap"
           }
          ],
          "heatmapgl": [
           {
            "colorbar": {
             "outlinewidth": 0,
             "ticks": ""
            },
            "colorscale": [
             [
              0,
              "#0d0887"
             ],
             [
              0.1111111111111111,
              "#46039f"
             ],
             [
              0.2222222222222222,
              "#7201a8"
             ],
             [
              0.3333333333333333,
              "#9c179e"
             ],
             [
              0.4444444444444444,
              "#bd3786"
             ],
             [
              0.5555555555555556,
              "#d8576b"
             ],
             [
              0.6666666666666666,
              "#ed7953"
             ],
             [
              0.7777777777777778,
              "#fb9f3a"
             ],
             [
              0.8888888888888888,
              "#fdca26"
             ],
             [
              1,
              "#f0f921"
             ]
            ],
            "type": "heatmapgl"
           }
          ],
          "histogram": [
           {
            "marker": {
             "colorbar": {
              "outlinewidth": 0,
              "ticks": ""
             }
            },
            "type": "histogram"
           }
          ],
          "histogram2d": [
           {
            "colorbar": {
             "outlinewidth": 0,
             "ticks": ""
            },
            "colorscale": [
             [
              0,
              "#0d0887"
             ],
             [
              0.1111111111111111,
              "#46039f"
             ],
             [
              0.2222222222222222,
              "#7201a8"
             ],
             [
              0.3333333333333333,
              "#9c179e"
             ],
             [
              0.4444444444444444,
              "#bd3786"
             ],
             [
              0.5555555555555556,
              "#d8576b"
             ],
             [
              0.6666666666666666,
              "#ed7953"
             ],
             [
              0.7777777777777778,
              "#fb9f3a"
             ],
             [
              0.8888888888888888,
              "#fdca26"
             ],
             [
              1,
              "#f0f921"
             ]
            ],
            "type": "histogram2d"
           }
          ],
          "histogram2dcontour": [
           {
            "colorbar": {
             "outlinewidth": 0,
             "ticks": ""
            },
            "colorscale": [
             [
              0,
              "#0d0887"
             ],
             [
              0.1111111111111111,
              "#46039f"
             ],
             [
              0.2222222222222222,
              "#7201a8"
             ],
             [
              0.3333333333333333,
              "#9c179e"
             ],
             [
              0.4444444444444444,
              "#bd3786"
             ],
             [
              0.5555555555555556,
              "#d8576b"
             ],
             [
              0.6666666666666666,
              "#ed7953"
             ],
             [
              0.7777777777777778,
              "#fb9f3a"
             ],
             [
              0.8888888888888888,
              "#fdca26"
             ],
             [
              1,
              "#f0f921"
             ]
            ],
            "type": "histogram2dcontour"
           }
          ],
          "mesh3d": [
           {
            "colorbar": {
             "outlinewidth": 0,
             "ticks": ""
            },
            "type": "mesh3d"
           }
          ],
          "parcoords": [
           {
            "line": {
             "colorbar": {
              "outlinewidth": 0,
              "ticks": ""
             }
            },
            "type": "parcoords"
           }
          ],
          "scatter": [
           {
            "marker": {
             "colorbar": {
              "outlinewidth": 0,
              "ticks": ""
             }
            },
            "type": "scatter"
           }
          ],
          "scatter3d": [
           {
            "line": {
             "colorbar": {
              "outlinewidth": 0,
              "ticks": ""
             }
            },
            "marker": {
             "colorbar": {
              "outlinewidth": 0,
              "ticks": ""
             }
            },
            "type": "scatter3d"
           }
          ],
          "scattercarpet": [
           {
            "marker": {
             "colorbar": {
              "outlinewidth": 0,
              "ticks": ""
             }
            },
            "type": "scattercarpet"
           }
          ],
          "scattergeo": [
           {
            "marker": {
             "colorbar": {
              "outlinewidth": 0,
              "ticks": ""
             }
            },
            "type": "scattergeo"
           }
          ],
          "scattergl": [
           {
            "marker": {
             "colorbar": {
              "outlinewidth": 0,
              "ticks": ""
             }
            },
            "type": "scattergl"
           }
          ],
          "scattermapbox": [
           {
            "marker": {
             "colorbar": {
              "outlinewidth": 0,
              "ticks": ""
             }
            },
            "type": "scattermapbox"
           }
          ],
          "scatterpolar": [
           {
            "marker": {
             "colorbar": {
              "outlinewidth": 0,
              "ticks": ""
             }
            },
            "type": "scatterpolar"
           }
          ],
          "scatterpolargl": [
           {
            "marker": {
             "colorbar": {
              "outlinewidth": 0,
              "ticks": ""
             }
            },
            "type": "scatterpolargl"
           }
          ],
          "scatterternary": [
           {
            "marker": {
             "colorbar": {
              "outlinewidth": 0,
              "ticks": ""
             }
            },
            "type": "scatterternary"
           }
          ],
          "surface": [
           {
            "colorbar": {
             "outlinewidth": 0,
             "ticks": ""
            },
            "colorscale": [
             [
              0,
              "#0d0887"
             ],
             [
              0.1111111111111111,
              "#46039f"
             ],
             [
              0.2222222222222222,
              "#7201a8"
             ],
             [
              0.3333333333333333,
              "#9c179e"
             ],
             [
              0.4444444444444444,
              "#bd3786"
             ],
             [
              0.5555555555555556,
              "#d8576b"
             ],
             [
              0.6666666666666666,
              "#ed7953"
             ],
             [
              0.7777777777777778,
              "#fb9f3a"
             ],
             [
              0.8888888888888888,
              "#fdca26"
             ],
             [
              1,
              "#f0f921"
             ]
            ],
            "type": "surface"
           }
          ],
          "table": [
           {
            "cells": {
             "fill": {
              "color": "#EBF0F8"
             },
             "line": {
              "color": "white"
             }
            },
            "header": {
             "fill": {
              "color": "#C8D4E3"
             },
             "line": {
              "color": "white"
             }
            },
            "type": "table"
           }
          ]
         },
         "layout": {
          "annotationdefaults": {
           "arrowcolor": "#2a3f5f",
           "arrowhead": 0,
           "arrowwidth": 1
          },
          "colorscale": {
           "diverging": [
            [
             0,
             "#8e0152"
            ],
            [
             0.1,
             "#c51b7d"
            ],
            [
             0.2,
             "#de77ae"
            ],
            [
             0.3,
             "#f1b6da"
            ],
            [
             0.4,
             "#fde0ef"
            ],
            [
             0.5,
             "#f7f7f7"
            ],
            [
             0.6,
             "#e6f5d0"
            ],
            [
             0.7,
             "#b8e186"
            ],
            [
             0.8,
             "#7fbc41"
            ],
            [
             0.9,
             "#4d9221"
            ],
            [
             1,
             "#276419"
            ]
           ],
           "sequential": [
            [
             0,
             "#0d0887"
            ],
            [
             0.1111111111111111,
             "#46039f"
            ],
            [
             0.2222222222222222,
             "#7201a8"
            ],
            [
             0.3333333333333333,
             "#9c179e"
            ],
            [
             0.4444444444444444,
             "#bd3786"
            ],
            [
             0.5555555555555556,
             "#d8576b"
            ],
            [
             0.6666666666666666,
             "#ed7953"
            ],
            [
             0.7777777777777778,
             "#fb9f3a"
            ],
            [
             0.8888888888888888,
             "#fdca26"
            ],
            [
             1,
             "#f0f921"
            ]
           ],
           "sequentialminus": [
            [
             0,
             "#0d0887"
            ],
            [
             0.1111111111111111,
             "#46039f"
            ],
            [
             0.2222222222222222,
             "#7201a8"
            ],
            [
             0.3333333333333333,
             "#9c179e"
            ],
            [
             0.4444444444444444,
             "#bd3786"
            ],
            [
             0.5555555555555556,
             "#d8576b"
            ],
            [
             0.6666666666666666,
             "#ed7953"
            ],
            [
             0.7777777777777778,
             "#fb9f3a"
            ],
            [
             0.8888888888888888,
             "#fdca26"
            ],
            [
             1,
             "#f0f921"
            ]
           ]
          },
          "colorway": [
           "#636efa",
           "#EF553B",
           "#00cc96",
           "#ab63fa",
           "#FFA15A",
           "#19d3f3",
           "#FF6692",
           "#B6E880",
           "#FF97FF",
           "#FECB52"
          ],
          "font": {
           "color": "#2a3f5f"
          },
          "geo": {
           "bgcolor": "white",
           "lakecolor": "white",
           "landcolor": "#E5ECF6",
           "showlakes": true,
           "showland": true,
           "subunitcolor": "white"
          },
          "hoverlabel": {
           "align": "left"
          },
          "hovermode": "closest",
          "mapbox": {
           "style": "light"
          },
          "paper_bgcolor": "white",
          "plot_bgcolor": "#E5ECF6",
          "polar": {
           "angularaxis": {
            "gridcolor": "white",
            "linecolor": "white",
            "ticks": ""
           },
           "bgcolor": "#E5ECF6",
           "radialaxis": {
            "gridcolor": "white",
            "linecolor": "white",
            "ticks": ""
           }
          },
          "scene": {
           "xaxis": {
            "backgroundcolor": "#E5ECF6",
            "gridcolor": "white",
            "gridwidth": 2,
            "linecolor": "white",
            "showbackground": true,
            "ticks": "",
            "zerolinecolor": "white"
           },
           "yaxis": {
            "backgroundcolor": "#E5ECF6",
            "gridcolor": "white",
            "gridwidth": 2,
            "linecolor": "white",
            "showbackground": true,
            "ticks": "",
            "zerolinecolor": "white"
           },
           "zaxis": {
            "backgroundcolor": "#E5ECF6",
            "gridcolor": "white",
            "gridwidth": 2,
            "linecolor": "white",
            "showbackground": true,
            "ticks": "",
            "zerolinecolor": "white"
           }
          },
          "shapedefaults": {
           "line": {
            "color": "#2a3f5f"
           }
          },
          "ternary": {
           "aaxis": {
            "gridcolor": "white",
            "linecolor": "white",
            "ticks": ""
           },
           "baxis": {
            "gridcolor": "white",
            "linecolor": "white",
            "ticks": ""
           },
           "bgcolor": "#E5ECF6",
           "caxis": {
            "gridcolor": "white",
            "linecolor": "white",
            "ticks": ""
           }
          },
          "title": {
           "x": 0.05
          },
          "xaxis": {
           "automargin": true,
           "gridcolor": "white",
           "linecolor": "white",
           "ticks": "",
           "zerolinecolor": "white",
           "zerolinewidth": 2
          },
          "yaxis": {
           "automargin": true,
           "gridcolor": "white",
           "linecolor": "white",
           "ticks": "",
           "zerolinecolor": "white",
           "zerolinewidth": 2
          }
         }
        },
        "title": {
         "text": "Barplot of GB"
        },
        "width": 900,
        "yaxis": {
         "showgrid": false,
         "showline": false,
         "showticklabels": true
        }
       }
      },
      "text/html": [
       "<div>\n",
       "        \n",
       "        \n",
       "            <div id=\"e7ae134c-54af-40d3-910a-18615534e922\" class=\"plotly-graph-div\" style=\"height:2000px; width:900px;\"></div>\n",
       "            <script type=\"text/javascript\">\n",
       "                require([\"plotly\"], function(Plotly) {\n",
       "                    window.PLOTLYENV=window.PLOTLYENV || {};\n",
       "                    \n",
       "                if (document.getElementById(\"e7ae134c-54af-40d3-910a-18615534e922\")) {\n",
       "                    Plotly.newPlot(\n",
       "                        'e7ae134c-54af-40d3-910a-18615534e922',\n",
       "                        [{\"marker\": {\"color\": [0.0, 0.0, 0.0, 0.0, 0.0, 0.0, 0.0, 0.0, 0.0, 0.0, 0.0, 0.0, 0.00020988810471068306, 0.0005919751045401866, 0.0006689364928991011, 0.0009685810749682087, 0.0010792310062803577, 0.0012169041574328567, 0.0012586271359135738, 0.0013861324211603635, 0.001843275575789341, 0.0018973716229936572, 0.0021210108604666944, 0.002779212039376875, 0.0028506472876231852, 0.004231052429732838, 0.004582821668631586, 0.004620454318724679, 0.00470202818067238, 0.004710753564566482, 0.0050268721556727715, 0.0052222900190763795, 0.0053630766272802725, 0.005392524281344355, 0.005614111127349748, 0.0061236394237132565, 0.006380204616702835, 0.006465541686555663, 0.006926652982982703, 0.00719987886750484, 0.00723094284483853, 0.00799696056086617, 0.008171365103956241, 0.008334446732155725, 0.008740367998849443, 0.008804184344859559, 0.008850690905828995, 0.009221971853182766, 0.009570401234350972, 0.009858645131636513, 0.010004322840405543, 0.010831185670033484, 0.011012355089578551, 0.011538482596148616, 0.011583028184569202, 0.0117363878605301, 0.01222369992622454, 0.012782472221421287, 0.013530361641331512, 0.013535750690598435, 0.013880924056191206, 0.013897156075559955, 0.01583357124519424, 0.016605310220692674, 0.01662926470213141, 0.016772149604159924, 0.016793112595182492, 0.018080030328274425, 0.01823280715189625, 0.019474811422812478, 0.019659584849139638, 0.020011757674926377, 0.020949635211842604, 0.02188087417423894, 0.022800598151117825, 0.023092328399932416, 0.023815234077451914, 0.026412992506541836, 0.03302147410199787, 0.034971402971476315, 0.03773408511831431, 0.04353814679151618, 0.04784185846729974, 0.062449342497424766, 0.08862982933865216], \"colorscale\": [[0.0, \"#440154\"], [0.1111111111111111, \"#482878\"], [0.2222222222222222, \"#3e4989\"], [0.3333333333333333, \"#31688e\"], [0.4444444444444444, \"#26828e\"], [0.5555555555555556, \"#1f9e89\"], [0.6666666666666666, \"#35b779\"], [0.7777777777777778, \"#6ece58\"], [0.8888888888888888, \"#b5de2b\"], [1.0, \"#fde725\"]], \"reversescale\": true}, \"name\": \"GB feature imp\", \"orientation\": \"h\", \"type\": \"bar\", \"x\": [0.0, 0.0, 0.0, 0.0, 0.0, 0.0, 0.0, 0.0, 0.0, 0.0, 0.0, 0.0, 0.00020988810471068306, 0.0005919751045401866, 0.0006689364928991011, 0.0009685810749682087, 0.0010792310062803577, 0.0012169041574328567, 0.0012586271359135738, 0.0013861324211603635, 0.001843275575789341, 0.0018973716229936572, 0.0021210108604666944, 0.002779212039376875, 0.0028506472876231852, 0.004231052429732838, 0.004582821668631586, 0.004620454318724679, 0.00470202818067238, 0.004710753564566482, 0.0050268721556727715, 0.0052222900190763795, 0.0053630766272802725, 0.005392524281344355, 0.005614111127349748, 0.0061236394237132565, 0.006380204616702835, 0.006465541686555663, 0.006926652982982703, 0.00719987886750484, 0.00723094284483853, 0.00799696056086617, 0.008171365103956241, 0.008334446732155725, 0.008740367998849443, 0.008804184344859559, 0.008850690905828995, 0.009221971853182766, 0.009570401234350972, 0.009858645131636513, 0.010004322840405543, 0.010831185670033484, 0.011012355089578551, 0.011538482596148616, 0.011583028184569202, 0.0117363878605301, 0.01222369992622454, 0.012782472221421287, 0.013530361641331512, 0.013535750690598435, 0.013880924056191206, 0.013897156075559955, 0.01583357124519424, 0.016605310220692674, 0.01662926470213141, 0.016772149604159924, 0.016793112595182492, 0.018080030328274425, 0.01823280715189625, 0.019474811422812478, 0.019659584849139638, 0.020011757674926377, 0.020949635211842604, 0.02188087417423894, 0.022800598151117825, 0.023092328399932416, 0.023815234077451914, 0.026412992506541836, 0.03302147410199787, 0.034971402971476315, 0.03773408511831431, 0.04353814679151618, 0.04784185846729974, 0.062449342497424766, 0.08862982933865216], \"y\": [\"V46\", \"V50\", \"V53\", \"V56\", \"V60\", \"V69\", \"V70\", \"V71\", \"V74\", \"V75\", \"V77\", \"V81\", \"V48\", \"V67\", \"V49\", \"V54\", \"V73\", \"V51\", \"V72\", \"V84\", \"V2\", \"V45\", \"V63\", \"V66\", \"V3\", \"V52\", \"V12\", \"V29\", \"V11\", \"V80\", \"V78\", \"V21\", \"V20\", \"V8\", \"V41\", \"V24\", \"V10\", \"V27\", \"V33\", \"V62\", \"V26\", \"V55\", \"V85\", \"V6\", \"V65\", \"V34\", \"V38\", \"V79\", \"V39\", \"V58\", \"V4\", \"V32\", \"V83\", \"V14\", \"V44\", \"V57\", \"V19\", \"V13\", \"V31\", \"V30\", \"V64\", \"V37\", \"V7\", \"V25\", \"V36\", \"V35\", \"V42\", \"V15\", \"V5\", \"V82\", \"V18\", \"V40\", \"V17\", \"V28\", \"V23\", \"V22\", \"V76\", \"V9\", \"V1\", \"V43\", \"V16\", \"V68\", \"V61\", \"V59\", \"V47\"]}],\n",
       "                        {\"height\": 2000, \"template\": {\"data\": {\"bar\": [{\"error_x\": {\"color\": \"#2a3f5f\"}, \"error_y\": {\"color\": \"#2a3f5f\"}, \"marker\": {\"line\": {\"color\": \"#E5ECF6\", \"width\": 0.5}}, \"type\": \"bar\"}], \"barpolar\": [{\"marker\": {\"line\": {\"color\": \"#E5ECF6\", \"width\": 0.5}}, \"type\": \"barpolar\"}], \"carpet\": [{\"aaxis\": {\"endlinecolor\": \"#2a3f5f\", \"gridcolor\": \"white\", \"linecolor\": \"white\", \"minorgridcolor\": \"white\", \"startlinecolor\": \"#2a3f5f\"}, \"baxis\": {\"endlinecolor\": \"#2a3f5f\", \"gridcolor\": \"white\", \"linecolor\": \"white\", \"minorgridcolor\": \"white\", \"startlinecolor\": \"#2a3f5f\"}, \"type\": \"carpet\"}], \"choropleth\": [{\"colorbar\": {\"outlinewidth\": 0, \"ticks\": \"\"}, \"type\": \"choropleth\"}], \"contour\": [{\"colorbar\": {\"outlinewidth\": 0, \"ticks\": \"\"}, \"colorscale\": [[0.0, \"#0d0887\"], [0.1111111111111111, \"#46039f\"], [0.2222222222222222, \"#7201a8\"], [0.3333333333333333, \"#9c179e\"], [0.4444444444444444, \"#bd3786\"], [0.5555555555555556, \"#d8576b\"], [0.6666666666666666, \"#ed7953\"], [0.7777777777777778, \"#fb9f3a\"], [0.8888888888888888, \"#fdca26\"], [1.0, \"#f0f921\"]], \"type\": \"contour\"}], \"contourcarpet\": [{\"colorbar\": {\"outlinewidth\": 0, \"ticks\": \"\"}, \"type\": \"contourcarpet\"}], \"heatmap\": [{\"colorbar\": {\"outlinewidth\": 0, \"ticks\": \"\"}, \"colorscale\": [[0.0, \"#0d0887\"], [0.1111111111111111, \"#46039f\"], [0.2222222222222222, \"#7201a8\"], [0.3333333333333333, \"#9c179e\"], [0.4444444444444444, \"#bd3786\"], [0.5555555555555556, \"#d8576b\"], [0.6666666666666666, \"#ed7953\"], [0.7777777777777778, \"#fb9f3a\"], [0.8888888888888888, \"#fdca26\"], [1.0, \"#f0f921\"]], \"type\": \"heatmap\"}], \"heatmapgl\": [{\"colorbar\": {\"outlinewidth\": 0, \"ticks\": \"\"}, \"colorscale\": [[0.0, \"#0d0887\"], [0.1111111111111111, \"#46039f\"], [0.2222222222222222, \"#7201a8\"], [0.3333333333333333, \"#9c179e\"], [0.4444444444444444, \"#bd3786\"], [0.5555555555555556, \"#d8576b\"], [0.6666666666666666, \"#ed7953\"], [0.7777777777777778, \"#fb9f3a\"], [0.8888888888888888, \"#fdca26\"], [1.0, \"#f0f921\"]], \"type\": \"heatmapgl\"}], \"histogram\": [{\"marker\": {\"colorbar\": {\"outlinewidth\": 0, \"ticks\": \"\"}}, \"type\": \"histogram\"}], \"histogram2d\": [{\"colorbar\": {\"outlinewidth\": 0, \"ticks\": \"\"}, \"colorscale\": [[0.0, \"#0d0887\"], [0.1111111111111111, \"#46039f\"], [0.2222222222222222, \"#7201a8\"], [0.3333333333333333, \"#9c179e\"], [0.4444444444444444, \"#bd3786\"], [0.5555555555555556, \"#d8576b\"], [0.6666666666666666, \"#ed7953\"], [0.7777777777777778, \"#fb9f3a\"], [0.8888888888888888, \"#fdca26\"], [1.0, \"#f0f921\"]], \"type\": \"histogram2d\"}], \"histogram2dcontour\": [{\"colorbar\": {\"outlinewidth\": 0, \"ticks\": \"\"}, \"colorscale\": [[0.0, \"#0d0887\"], [0.1111111111111111, \"#46039f\"], [0.2222222222222222, \"#7201a8\"], [0.3333333333333333, \"#9c179e\"], [0.4444444444444444, \"#bd3786\"], [0.5555555555555556, \"#d8576b\"], [0.6666666666666666, \"#ed7953\"], [0.7777777777777778, \"#fb9f3a\"], [0.8888888888888888, \"#fdca26\"], [1.0, \"#f0f921\"]], \"type\": \"histogram2dcontour\"}], \"mesh3d\": [{\"colorbar\": {\"outlinewidth\": 0, \"ticks\": \"\"}, \"type\": \"mesh3d\"}], \"parcoords\": [{\"line\": {\"colorbar\": {\"outlinewidth\": 0, \"ticks\": \"\"}}, \"type\": \"parcoords\"}], \"scatter\": [{\"marker\": {\"colorbar\": {\"outlinewidth\": 0, \"ticks\": \"\"}}, \"type\": \"scatter\"}], \"scatter3d\": [{\"line\": {\"colorbar\": {\"outlinewidth\": 0, \"ticks\": \"\"}}, \"marker\": {\"colorbar\": {\"outlinewidth\": 0, \"ticks\": \"\"}}, \"type\": \"scatter3d\"}], \"scattercarpet\": [{\"marker\": {\"colorbar\": {\"outlinewidth\": 0, \"ticks\": \"\"}}, \"type\": \"scattercarpet\"}], \"scattergeo\": [{\"marker\": {\"colorbar\": {\"outlinewidth\": 0, \"ticks\": \"\"}}, \"type\": \"scattergeo\"}], \"scattergl\": [{\"marker\": {\"colorbar\": {\"outlinewidth\": 0, \"ticks\": \"\"}}, \"type\": \"scattergl\"}], \"scattermapbox\": [{\"marker\": {\"colorbar\": {\"outlinewidth\": 0, \"ticks\": \"\"}}, \"type\": \"scattermapbox\"}], \"scatterpolar\": [{\"marker\": {\"colorbar\": {\"outlinewidth\": 0, \"ticks\": \"\"}}, \"type\": \"scatterpolar\"}], \"scatterpolargl\": [{\"marker\": {\"colorbar\": {\"outlinewidth\": 0, \"ticks\": \"\"}}, \"type\": \"scatterpolargl\"}], \"scatterternary\": [{\"marker\": {\"colorbar\": {\"outlinewidth\": 0, \"ticks\": \"\"}}, \"type\": \"scatterternary\"}], \"surface\": [{\"colorbar\": {\"outlinewidth\": 0, \"ticks\": \"\"}, \"colorscale\": [[0.0, \"#0d0887\"], [0.1111111111111111, \"#46039f\"], [0.2222222222222222, \"#7201a8\"], [0.3333333333333333, \"#9c179e\"], [0.4444444444444444, \"#bd3786\"], [0.5555555555555556, \"#d8576b\"], [0.6666666666666666, \"#ed7953\"], [0.7777777777777778, \"#fb9f3a\"], [0.8888888888888888, \"#fdca26\"], [1.0, \"#f0f921\"]], \"type\": \"surface\"}], \"table\": [{\"cells\": {\"fill\": {\"color\": \"#EBF0F8\"}, \"line\": {\"color\": \"white\"}}, \"header\": {\"fill\": {\"color\": \"#C8D4E3\"}, \"line\": {\"color\": \"white\"}}, \"type\": \"table\"}]}, \"layout\": {\"annotationdefaults\": {\"arrowcolor\": \"#2a3f5f\", \"arrowhead\": 0, \"arrowwidth\": 1}, \"colorscale\": {\"diverging\": [[0, \"#8e0152\"], [0.1, \"#c51b7d\"], [0.2, \"#de77ae\"], [0.3, \"#f1b6da\"], [0.4, \"#fde0ef\"], [0.5, \"#f7f7f7\"], [0.6, \"#e6f5d0\"], [0.7, \"#b8e186\"], [0.8, \"#7fbc41\"], [0.9, \"#4d9221\"], [1, \"#276419\"]], \"sequential\": [[0.0, \"#0d0887\"], [0.1111111111111111, \"#46039f\"], [0.2222222222222222, \"#7201a8\"], [0.3333333333333333, \"#9c179e\"], [0.4444444444444444, \"#bd3786\"], [0.5555555555555556, \"#d8576b\"], [0.6666666666666666, \"#ed7953\"], [0.7777777777777778, \"#fb9f3a\"], [0.8888888888888888, \"#fdca26\"], [1.0, \"#f0f921\"]], \"sequentialminus\": [[0.0, \"#0d0887\"], [0.1111111111111111, \"#46039f\"], [0.2222222222222222, \"#7201a8\"], [0.3333333333333333, \"#9c179e\"], [0.4444444444444444, \"#bd3786\"], [0.5555555555555556, \"#d8576b\"], [0.6666666666666666, \"#ed7953\"], [0.7777777777777778, \"#fb9f3a\"], [0.8888888888888888, \"#fdca26\"], [1.0, \"#f0f921\"]]}, \"colorway\": [\"#636efa\", \"#EF553B\", \"#00cc96\", \"#ab63fa\", \"#FFA15A\", \"#19d3f3\", \"#FF6692\", \"#B6E880\", \"#FF97FF\", \"#FECB52\"], \"font\": {\"color\": \"#2a3f5f\"}, \"geo\": {\"bgcolor\": \"white\", \"lakecolor\": \"white\", \"landcolor\": \"#E5ECF6\", \"showlakes\": true, \"showland\": true, \"subunitcolor\": \"white\"}, \"hoverlabel\": {\"align\": \"left\"}, \"hovermode\": \"closest\", \"mapbox\": {\"style\": \"light\"}, \"paper_bgcolor\": \"white\", \"plot_bgcolor\": \"#E5ECF6\", \"polar\": {\"angularaxis\": {\"gridcolor\": \"white\", \"linecolor\": \"white\", \"ticks\": \"\"}, \"bgcolor\": \"#E5ECF6\", \"radialaxis\": {\"gridcolor\": \"white\", \"linecolor\": \"white\", \"ticks\": \"\"}}, \"scene\": {\"xaxis\": {\"backgroundcolor\": \"#E5ECF6\", \"gridcolor\": \"white\", \"gridwidth\": 2, \"linecolor\": \"white\", \"showbackground\": true, \"ticks\": \"\", \"zerolinecolor\": \"white\"}, \"yaxis\": {\"backgroundcolor\": \"#E5ECF6\", \"gridcolor\": \"white\", \"gridwidth\": 2, \"linecolor\": \"white\", \"showbackground\": true, \"ticks\": \"\", \"zerolinecolor\": \"white\"}, \"zaxis\": {\"backgroundcolor\": \"#E5ECF6\", \"gridcolor\": \"white\", \"gridwidth\": 2, \"linecolor\": \"white\", \"showbackground\": true, \"ticks\": \"\", \"zerolinecolor\": \"white\"}}, \"shapedefaults\": {\"line\": {\"color\": \"#2a3f5f\"}}, \"ternary\": {\"aaxis\": {\"gridcolor\": \"white\", \"linecolor\": \"white\", \"ticks\": \"\"}, \"baxis\": {\"gridcolor\": \"white\", \"linecolor\": \"white\", \"ticks\": \"\"}, \"bgcolor\": \"#E5ECF6\", \"caxis\": {\"gridcolor\": \"white\", \"linecolor\": \"white\", \"ticks\": \"\"}}, \"title\": {\"x\": 0.05}, \"xaxis\": {\"automargin\": true, \"gridcolor\": \"white\", \"linecolor\": \"white\", \"ticks\": \"\", \"zerolinecolor\": \"white\", \"zerolinewidth\": 2}, \"yaxis\": {\"automargin\": true, \"gridcolor\": \"white\", \"linecolor\": \"white\", \"ticks\": \"\", \"zerolinecolor\": \"white\", \"zerolinewidth\": 2}}}, \"title\": {\"text\": \"Barplot of GB\"}, \"width\": 900, \"yaxis\": {\"showgrid\": false, \"showline\": false, \"showticklabels\": true}},\n",
       "                        {\"responsive\": true}\n",
       "                    ).then(function(){\n",
       "                            \n",
       "var gd = document.getElementById('e7ae134c-54af-40d3-910a-18615534e922');\n",
       "var x = new MutationObserver(function (mutations, observer) {{\n",
       "        var display = window.getComputedStyle(gd).display;\n",
       "        if (!display || display === 'none') {{\n",
       "            console.log([gd, 'removed!']);\n",
       "            Plotly.purge(gd);\n",
       "            observer.disconnect();\n",
       "        }}\n",
       "}});\n",
       "\n",
       "// Listen for the removal of the full notebook cells\n",
       "var notebookContainer = gd.closest('#notebook-container');\n",
       "if (notebookContainer) {{\n",
       "    x.observe(notebookContainer, {childList: true});\n",
       "}}\n",
       "\n",
       "// Listen for the clearing of the current output cell\n",
       "var outputEl = gd.closest('.output');\n",
       "if (outputEl) {{\n",
       "    x.observe(outputEl, {childList: true});\n",
       "}}\n",
       "\n",
       "                        })\n",
       "                };\n",
       "                });\n",
       "            </script>\n",
       "        </div>"
      ]
     },
     "metadata": {},
     "output_type": "display_data"
    }
   ],
   "source": [
    "x,y=(list(x) for x in zip(*sorted(zip(gb.feature_importances_,feature)\n",
    "                                   ,reverse=False)))\n",
    "\n",
    "trace2 = go.Bar(\n",
    "    x=x,\n",
    "    y=y,\n",
    "    marker=dict(\n",
    "          color=x,\n",
    "           colorscale='Viridis',\n",
    "          reversescale= True),\n",
    "    name='GB feature imp',\n",
    "    orientation='h'\n",
    ")\n",
    "\n",
    "layout=dict(\n",
    "      title='Barplot of GB',\n",
    "    width=900, height=2000,\n",
    "     yaxis=dict(\n",
    "          showgrid=False,\n",
    "           showline=False,\n",
    "          showticklabels=True))\n",
    "data=[trace2]\n",
    "\n",
    "fig1=go.Figure(data=data)\n",
    "fig1['layout'].update(layout)\n",
    "py.iplot(fig1,filename='bars')"
   ]
  },
  {
   "cell_type": "markdown",
   "metadata": {},
   "source": [
    "## now we have seen that the majority of the variable are not giving value to our model"
   ]
  },
  {
   "cell_type": "code",
   "execution_count": 52,
   "metadata": {},
   "outputs": [
    {
     "name": "stdout",
     "output_type": "stream",
     "text": [
      "Requirement already satisfied: xgboost in c:\\users\\sanjay thaur\\anaconda3\\lib\\site-packages (0.90)\n",
      "Requirement already satisfied: numpy in c:\\users\\sanjay thaur\\anaconda3\\lib\\site-packages (from xgboost) (1.16.2)\n",
      "Requirement already satisfied: scipy in c:\\users\\sanjay thaur\\anaconda3\\lib\\site-packages (from xgboost) (1.2.1)\n"
     ]
    }
   ],
   "source": [
    "!pip install xgboost"
   ]
  },
  {
   "cell_type": "code",
   "execution_count": 53,
   "metadata": {},
   "outputs": [],
   "source": [
    "#let design our model"
   ]
  },
  {
   "cell_type": "code",
   "execution_count": 6,
   "metadata": {},
   "outputs": [],
   "source": [
    "X=train.drop(['V86'],1)\n",
    "Y=train['V86']"
   ]
  },
  {
   "cell_type": "code",
   "execution_count": 7,
   "metadata": {},
   "outputs": [
    {
     "name": "stdout",
     "output_type": "stream",
     "text": [
      "Train: [ 198  676  330 ... 5077 1170 5819] Test: [4487 3556 4140 ...  324 5288 1227]\n",
      "Train: [4551 3702 4902 ... 1991 3475 2466] Test: [5500 2653 3580 ...  629 3535  597]\n",
      "Train: [3864  933 2572 ...  355 3480 2703] Test: [ 975 3776 3537 ... 5065 3758 4289]\n",
      "Train: [3176 2279 4378 ... 3683  610 4675] Test: [5624 5664 4547 ... 1595 4613 3726]\n",
      "Train: [1353 4917 4039 ... 3484 4905 3130] Test: [4148 1827 5270 ... 5797  872 3128]\n",
      "---------------------------------------------------------------------------------------------------------------------------------------------------------------------------------------------------------------------------------------------------------------\n",
      "Label Distributions: \n",
      "\n",
      "[0.94030492 0.05969508]\n",
      "[0.93991416 0.06008584]\n"
     ]
    }
   ],
   "source": [
    "from sklearn.model_selection import train_test_split\n",
    "\n",
    "from sklearn.model_selection import StratifiedShuffleSplit\n",
    "sss = StratifiedShuffleSplit(n_splits=5, test_size=0.2, random_state=42)\n",
    "\n",
    "for train_index, test_index in sss.split(X, Y):\n",
    "    print(\"Train:\", train_index, \"Test:\", test_index)\n",
    "    actual_Xtrain, actual_Xtest = X.iloc[train_index], X.iloc[test_index]\n",
    "    actual_Ytrain, actual_Ytest = Y.iloc[train_index], Y.iloc[test_index]\n",
    "\n",
    "actual_Xtrain = actual_Xtrain.values\n",
    "actual_Xtest = actual_Xtest.values\n",
    "actual_Ytrain = actual_Ytrain.values\n",
    "actual_Ytest = actual_Ytest.values\n",
    "\n",
    "\n",
    "train_unique_label, train_counts_label = np.unique(actual_Ytrain, return_counts=True)\n",
    "test_unique_label, test_counts_label = np.unique(actual_Ytest, return_counts=True)\n",
    "print('---' * 85)\n",
    "\n",
    "print('Label Distributions: \\n')\n",
    "print(train_counts_label/ len(actual_Ytrain))\n",
    "print(test_counts_label/ len(actual_Ytest))"
   ]
  },
  {
   "cell_type": "markdown",
   "metadata": {},
   "source": [
    "** using gbm **"
   ]
  },
  {
   "cell_type": "code",
   "execution_count": 8,
   "metadata": {},
   "outputs": [],
   "source": [
    "from sklearn.ensemble import RandomForestClassifier,VotingClassifier\n",
    "from sklearn.linear_model import LogisticRegression\n",
    "from sklearn.svm import SVC"
   ]
  },
  {
   "cell_type": "code",
   "execution_count": 9,
   "metadata": {},
   "outputs": [],
   "source": [
    "log_clf=LogisticRegression()\n",
    "rnd_clf=RandomForestClassifier()\n",
    "svm_clf=SVC()"
   ]
  },
  {
   "cell_type": "code",
   "execution_count": 10,
   "metadata": {},
   "outputs": [
    {
     "name": "stderr",
     "output_type": "stream",
     "text": [
      "C:\\Users\\Sanjay Thaur\\Anaconda3\\lib\\site-packages\\sklearn\\linear_model\\logistic.py:433: FutureWarning: Default solver will be changed to 'lbfgs' in 0.22. Specify a solver to silence this warning.\n",
      "  FutureWarning)\n",
      "C:\\Users\\Sanjay Thaur\\Anaconda3\\lib\\site-packages\\sklearn\\ensemble\\forest.py:246: FutureWarning: The default value of n_estimators will change from 10 in version 0.20 to 100 in 0.22.\n",
      "  \"10 in version 0.20 to 100 in 0.22.\", FutureWarning)\n",
      "C:\\Users\\Sanjay Thaur\\Anaconda3\\lib\\site-packages\\sklearn\\svm\\base.py:196: FutureWarning: The default value of gamma will change from 'auto' to 'scale' in version 0.22 to account better for unscaled features. Set gamma explicitly to 'auto' or 'scale' to avoid this warning.\n",
      "  \"avoid this warning.\", FutureWarning)\n"
     ]
    },
    {
     "data": {
      "text/plain": [
       "VotingClassifier(estimators=[('lr', LogisticRegression(C=1.0, class_weight=None, dual=False, fit_intercept=True,\n",
       "          intercept_scaling=1, max_iter=100, multi_class='warn',\n",
       "          n_jobs=None, penalty='l2', random_state=None, solver='warn',\n",
       "          tol=0.0001, verbose=0, warm_start=False)), ('rf', RandomFo...f', max_iter=-1, probability=False, random_state=None,\n",
       "  shrinking=True, tol=0.001, verbose=False))],\n",
       "         flatten_transform=None, n_jobs=None, voting='hard', weights=None)"
      ]
     },
     "execution_count": 10,
     "metadata": {},
     "output_type": "execute_result"
    }
   ],
   "source": [
    "voting_clf=VotingClassifier(\n",
    "estimators=[('lr',log_clf),('rf',rnd_clf),('svc',svm_clf)],\n",
    "voting='hard')\n",
    "voting_clf.fit(actual_Xtrain,actual_Ytrain)"
   ]
  },
  {
   "cell_type": "code",
   "execution_count": 16,
   "metadata": {},
   "outputs": [
    {
     "name": "stderr",
     "output_type": "stream",
     "text": [
      "C:\\Users\\Sanjay Thaur\\Anaconda3\\lib\\site-packages\\sklearn\\linear_model\\logistic.py:433: FutureWarning: Default solver will be changed to 'lbfgs' in 0.22. Specify a solver to silence this warning.\n",
      "  FutureWarning)\n"
     ]
    },
    {
     "name": "stdout",
     "output_type": "stream",
     "text": [
      "0.017605633802816902\n",
      "0.06578947368421052\n"
     ]
    },
    {
     "name": "stderr",
     "output_type": "stream",
     "text": [
      "C:\\Users\\Sanjay Thaur\\Anaconda3\\lib\\site-packages\\sklearn\\svm\\base.py:196: FutureWarning: The default value of gamma will change from 'auto' to 'scale' in version 0.22 to account better for unscaled features. Set gamma explicitly to 'auto' or 'scale' to avoid this warning.\n",
      "  \"avoid this warning.\", FutureWarning)\n",
      "C:\\Users\\Sanjay Thaur\\Anaconda3\\lib\\site-packages\\sklearn\\metrics\\classification.py:1143: UndefinedMetricWarning: F-score is ill-defined and being set to 0.0 due to no predicted samples.\n",
      "  'precision', 'predicted', average, warn_for)\n",
      "C:\\Users\\Sanjay Thaur\\Anaconda3\\lib\\site-packages\\sklearn\\linear_model\\logistic.py:433: FutureWarning: Default solver will be changed to 'lbfgs' in 0.22. Specify a solver to silence this warning.\n",
      "  FutureWarning)\n"
     ]
    },
    {
     "name": "stdout",
     "output_type": "stream",
     "text": [
      "0.0\n"
     ]
    },
    {
     "name": "stderr",
     "output_type": "stream",
     "text": [
      "C:\\Users\\Sanjay Thaur\\Anaconda3\\lib\\site-packages\\sklearn\\svm\\base.py:196: FutureWarning: The default value of gamma will change from 'auto' to 'scale' in version 0.22 to account better for unscaled features. Set gamma explicitly to 'auto' or 'scale' to avoid this warning.\n",
      "  \"avoid this warning.\", FutureWarning)\n"
     ]
    },
    {
     "name": "stdout",
     "output_type": "stream",
     "text": [
      "0.0\n"
     ]
    },
    {
     "name": "stderr",
     "output_type": "stream",
     "text": [
      "C:\\Users\\Sanjay Thaur\\Anaconda3\\lib\\site-packages\\sklearn\\metrics\\classification.py:1143: UndefinedMetricWarning: F-score is ill-defined and being set to 0.0 due to no predicted samples.\n",
      "  'precision', 'predicted', average, warn_for)\n"
     ]
    }
   ],
   "source": [
    "from sklearn.metrics import fbeta_score\n",
    "for clf in (log_clf,rnd_clf,svm_clf,voting_clf):\n",
    "    clf.fit(actual_Xtrain,actual_Ytrain)\n",
    "    y_pred=clf.predict(actual_Xtest)\n",
    "    print(fbeta_score(actual_Ytest,y_pred,beta=2))"
   ]
  },
  {
   "cell_type": "code",
   "execution_count": null,
   "metadata": {},
   "outputs": [],
   "source": []
  },
  {
   "cell_type": "code",
   "execution_count": null,
   "metadata": {},
   "outputs": [],
   "source": []
  },
  {
   "cell_type": "code",
   "execution_count": null,
   "metadata": {},
   "outputs": [],
   "source": []
  },
  {
   "cell_type": "code",
   "execution_count": 56,
   "metadata": {},
   "outputs": [],
   "source": [
    "from sklearn.model_selection import RandomizedSearchCV"
   ]
  },
  {
   "cell_type": "code",
   "execution_count": 57,
   "metadata": {},
   "outputs": [],
   "source": [
    "from sklearn.ensemble import GradientBoostingClassifier"
   ]
  },
  {
   "cell_type": "code",
   "execution_count": 58,
   "metadata": {},
   "outputs": [],
   "source": [
    "gbm_params={'n_estimators':[50,100,200,500,700],            \n",
    "           'learning_rate': [0.01,.05,0.1,0.4,0.8,1],\n",
    "            'max_depth':[1,2,3,4,5,6],\n",
    "#             'min_samples_split':[2,5,10,20],\n",
    "#             'min_samples_leaf':[2,5,10,20],\n",
    "            'subsample':[0.5,0.8,1],\n",
    "            'max_features':[5,10,15,20,30,45]\n",
    "           }\n"
   ]
  },
  {
   "cell_type": "code",
   "execution_count": 59,
   "metadata": {},
   "outputs": [],
   "source": [
    "gbm=GradientBoostingClassifier()"
   ]
  },
  {
   "cell_type": "code",
   "execution_count": 60,
   "metadata": {},
   "outputs": [],
   "source": [
    "random_search=RandomizedSearchCV(gbm,scoring='roc_auc',param_distributions=gbm_params,\n",
    "                                 cv=5,n_iter=10,\n",
    "                                 n_jobs=-1)"
   ]
  },
  {
   "cell_type": "code",
   "execution_count": 61,
   "metadata": {},
   "outputs": [
    {
     "data": {
      "text/plain": [
       "RandomizedSearchCV(cv=5, error_score='raise-deprecating',\n",
       "          estimator=GradientBoostingClassifier(criterion='friedman_mse', init=None,\n",
       "              learning_rate=0.1, loss='deviance', max_depth=3,\n",
       "              max_features=None, max_leaf_nodes=None,\n",
       "              min_impurity_decrease=0.0, min_impurity_split=None,\n",
       "              min_samples_leaf=1, min_sampl...      subsample=1.0, tol=0.0001, validation_fraction=0.1,\n",
       "              verbose=0, warm_start=False),\n",
       "          fit_params=None, iid='warn', n_iter=10, n_jobs=-1,\n",
       "          param_distributions={'n_estimators': [50, 100, 200, 500, 700], 'learning_rate': [0.01, 0.05, 0.1, 0.4, 0.8, 1], 'max_depth': [1, 2, 3, 4, 5, 6], 'subsample': [0.5, 0.8, 1], 'max_features': [5, 10, 15, 20, 30, 45]},\n",
       "          pre_dispatch='2*n_jobs', random_state=None, refit=True,\n",
       "          return_train_score='warn', scoring='roc_auc', verbose=0)"
      ]
     },
     "execution_count": 61,
     "metadata": {},
     "output_type": "execute_result"
    }
   ],
   "source": [
    "random_search.fit(actual_Xtrain,actual_Ytrain)"
   ]
  },
  {
   "cell_type": "code",
   "execution_count": 62,
   "metadata": {},
   "outputs": [],
   "source": [
    "def report(results, n_top=3):\n",
    "    for i in range(1, n_top + 1):\n",
    "        candidates = np.flatnonzero(results['rank_test_score'] == i)\n",
    "        for candidate in candidates:\n",
    "            print(\"Model with rank: {0}\".format(i))\n",
    "            print(\"Mean validation score: {0:.3f} (std: {1:.5f})\".format(\n",
    "                  results['mean_test_score'][candidate],\n",
    "                  results['std_test_score'][candidate]))\n",
    "            print(\"Parameters: {0}\".format(results['params'][candidate]))\n",
    "            print(\"\")"
   ]
  },
  {
   "cell_type": "code",
   "execution_count": 63,
   "metadata": {},
   "outputs": [
    {
     "name": "stdout",
     "output_type": "stream",
     "text": [
      "Model with rank: 1\n",
      "Mean validation score: 0.751 (std: 0.02518)\n",
      "Parameters: {'subsample': 0.5, 'n_estimators': 50, 'max_features': 30, 'max_depth': 1, 'learning_rate': 0.4}\n",
      "\n",
      "Model with rank: 2\n",
      "Mean validation score: 0.739 (std: 0.01911)\n",
      "Parameters: {'subsample': 0.5, 'n_estimators': 200, 'max_features': 10, 'max_depth': 5, 'learning_rate': 0.05}\n",
      "\n",
      "Model with rank: 3\n",
      "Mean validation score: 0.735 (std: 0.02967)\n",
      "Parameters: {'subsample': 0.8, 'n_estimators': 100, 'max_features': 45, 'max_depth': 1, 'learning_rate': 1}\n",
      "\n",
      "Model with rank: 4\n",
      "Mean validation score: 0.724 (std: 0.02266)\n",
      "Parameters: {'subsample': 0.8, 'n_estimators': 100, 'max_features': 20, 'max_depth': 6, 'learning_rate': 0.1}\n",
      "\n",
      "Model with rank: 5\n",
      "Mean validation score: 0.688 (std: 0.03041)\n",
      "Parameters: {'subsample': 1, 'n_estimators': 200, 'max_features': 45, 'max_depth': 6, 'learning_rate': 0.4}\n",
      "\n"
     ]
    }
   ],
   "source": [
    "report(random_search.cv_results_,5)"
   ]
  },
  {
   "cell_type": "code",
   "execution_count": 64,
   "metadata": {},
   "outputs": [
    {
     "data": {
      "text/plain": [
       "{'subsample': 0.5,\n",
       " 'n_estimators': 50,\n",
       " 'max_features': 30,\n",
       " 'max_depth': 1,\n",
       " 'learning_rate': 0.4}"
      ]
     },
     "execution_count": 64,
     "metadata": {},
     "output_type": "execute_result"
    }
   ],
   "source": [
    "random_search.best_params_"
   ]
  },
  {
   "cell_type": "code",
   "execution_count": 65,
   "metadata": {},
   "outputs": [
    {
     "data": {
      "text/plain": [
       "GradientBoostingClassifier(criterion='friedman_mse', init=None,\n",
       "              learning_rate=0.4, loss='deviance', max_depth=1,\n",
       "              max_features=30, max_leaf_nodes=None,\n",
       "              min_impurity_decrease=0.0, min_impurity_split=None,\n",
       "              min_samples_leaf=1, min_samples_split=2,\n",
       "              min_weight_fraction_leaf=0.0, n_estimators=50,\n",
       "              n_iter_no_change=None, presort='auto', random_state=None,\n",
       "              subsample=0.5, tol=0.0001, validation_fraction=0.1,\n",
       "              verbose=0, warm_start=False)"
      ]
     },
     "execution_count": 65,
     "metadata": {},
     "output_type": "execute_result"
    }
   ],
   "source": [
    "random_search.best_estimator_"
   ]
  },
  {
   "cell_type": "code",
   "execution_count": 66,
   "metadata": {},
   "outputs": [],
   "source": [
    "rand_best=random_search.best_estimator_"
   ]
  },
  {
   "cell_type": "code",
   "execution_count": 70,
   "metadata": {},
   "outputs": [],
   "source": [
    "predict_gbm=rand_best.predict(actual_Xtest)"
   ]
  },
  {
   "cell_type": "code",
   "execution_count": 71,
   "metadata": {},
   "outputs": [],
   "source": [
    "from sklearn.metrics import roc_auc_score"
   ]
  },
  {
   "cell_type": "code",
   "execution_count": 72,
   "metadata": {},
   "outputs": [
    {
     "data": {
      "text/plain": [
       "0.5705627705627706"
      ]
     },
     "execution_count": 72,
     "metadata": {},
     "output_type": "execute_result"
    }
   ],
   "source": [
    "roc_auc_score(predict_gbm,actual_Ytest)"
   ]
  },
  {
   "cell_type": "markdown",
   "metadata": {},
   "source": [
    "### using xgboost now"
   ]
  },
  {
   "cell_type": "code",
   "execution_count": 78,
   "metadata": {},
   "outputs": [],
   "source": [
    "xgb_params = {  \n",
    "                \"learning_rate\":[0.01,0.05,0.08,0.1,0.3],\n",
    "                \"gamma\":[i/10.0 for i in range(0,5)],\n",
    "                \"max_depth\": [2,3,4,5,6,7,8],\n",
    "                \"min_child_weight\":[1,2,5,10],\n",
    "                \"max_delta_step\":[0,1,2,5,10],\n",
    "                \"subsample\":[i/10.0 for i in range(5,10)],\n",
    "                \"colsample_bytree\":[i/10.0 for i in range(5,10)],\n",
    "                \"colsample_bylevel\":[i/10.0 for i in range(5,10)],\n",
    "                \"reg_lambda\":[1e-5, 1e-2, 0.1, 1, 100], \n",
    "                \"reg_alpha\":[1e-5, 1e-2, 0.1, 1, 100],\n",
    "                \"scale_pos_weight\":[1,2,3,4,5,6,7,8,9],\n",
    "                \"n_estimators\":[100,250,350,500,700]\n",
    "             }"
   ]
  },
  {
   "cell_type": "code",
   "execution_count": 79,
   "metadata": {},
   "outputs": [],
   "source": [
    "import xgboost as xgbp"
   ]
  },
  {
   "cell_type": "code",
   "execution_count": 80,
   "metadata": {},
   "outputs": [],
   "source": [
    "xgb=xgbp.XGBClassifier(objective='binary:logistic')"
   ]
  },
  {
   "cell_type": "code",
   "execution_count": 81,
   "metadata": {},
   "outputs": [],
   "source": [
    "random_search=RandomizedSearchCV(xgb,n_jobs=-1,cv=5,n_iter=10,scoring='roc_auc',\n",
    "                                 param_distributions=xgb_params)"
   ]
  },
  {
   "cell_type": "code",
   "execution_count": 82,
   "metadata": {},
   "outputs": [
    {
     "data": {
      "text/plain": [
       "RandomizedSearchCV(cv=5, error_score='raise-deprecating',\n",
       "          estimator=XGBClassifier(base_score=0.5, booster='gbtree', colsample_bylevel=1,\n",
       "       colsample_bynode=1, colsample_bytree=1, gamma=0, learning_rate=0.1,\n",
       "       max_delta_step=0, max_depth=3, min_child_weight=1, missing=None,\n",
       "       n_estimators=100, n_jobs=1, nthread=None,\n",
       "       objective='binary:logistic', random_state=0, reg_alpha=0,\n",
       "       reg_lambda=1, scale_pos_weight=1, seed=None, silent=None,\n",
       "       subsample=1, verbosity=1),\n",
       "          fit_params=None, iid='warn', n_iter=10, n_jobs=-1,\n",
       "          param_distributions={'learning_rate': [0.01, 0.05, 0.08, 0.1, 0.3], 'gamma': [0.0, 0.1, 0.2, 0.3, 0.4], 'max_depth': [2, 3, 4, 5, 6, 7, 8], 'min_child_weight': [1, 2, 5, 10], 'max_delta_step': [0, 1, 2, 5, 10], 'subsample': [0.5, 0.6, 0.7, 0.8, 0.9], 'colsample_bytree': [0.5, 0.6, 0.7, 0.8, 0.9], 'c...1, 100], 'scale_pos_weight': [1, 2, 3, 4, 5, 6, 7, 8, 9], 'n_estimators': [100, 250, 350, 500, 700]},\n",
       "          pre_dispatch='2*n_jobs', random_state=None, refit=True,\n",
       "          return_train_score='warn', scoring='roc_auc', verbose=0)"
      ]
     },
     "execution_count": 82,
     "metadata": {},
     "output_type": "execute_result"
    }
   ],
   "source": [
    "random_search.fit(actual_Xtrain,actual_Ytrain)"
   ]
  },
  {
   "cell_type": "code",
   "execution_count": null,
   "metadata": {},
   "outputs": [],
   "source": []
  },
  {
   "cell_type": "code",
   "execution_count": 85,
   "metadata": {},
   "outputs": [],
   "source": [
    "xgbest=random_search.best_estimator_"
   ]
  },
  {
   "cell_type": "code",
   "execution_count": 86,
   "metadata": {},
   "outputs": [
    {
     "data": {
      "text/plain": [
       "{'subsample': 0.8,\n",
       " 'scale_pos_weight': 7,\n",
       " 'reg_lambda': 1e-05,\n",
       " 'reg_alpha': 0.1,\n",
       " 'n_estimators': 500,\n",
       " 'min_child_weight': 2,\n",
       " 'max_depth': 4,\n",
       " 'max_delta_step': 0,\n",
       " 'learning_rate': 0.01,\n",
       " 'gamma': 0.1,\n",
       " 'colsample_bytree': 0.5,\n",
       " 'colsample_bylevel': 0.7}"
      ]
     },
     "execution_count": 86,
     "metadata": {},
     "output_type": "execute_result"
    }
   ],
   "source": [
    "random_search.best_params_"
   ]
  },
  {
   "cell_type": "code",
   "execution_count": 87,
   "metadata": {},
   "outputs": [],
   "source": [
    "xgpred=xgbest.predict(actual_Xtest)"
   ]
  },
  {
   "cell_type": "code",
   "execution_count": 94,
   "metadata": {},
   "outputs": [
    {
     "data": {
      "text/plain": [
       "0.5919258373205741"
      ]
     },
     "execution_count": 94,
     "metadata": {},
     "output_type": "execute_result"
    }
   ],
   "source": [
    "roc_auc_score(xgpred,actual_Ytest)"
   ]
  },
  {
   "cell_type": "code",
   "execution_count": 95,
   "metadata": {},
   "outputs": [],
   "source": [
    "df_val_test=pd.DataFrame(list(zip(actual_Ytest,xgpred)),columns=['real','predicted'])"
   ]
  },
  {
   "cell_type": "code",
   "execution_count": 97,
   "metadata": {},
   "outputs": [
    {
     "data": {
      "text/html": [
       "<div>\n",
       "<style scoped>\n",
       "    .dataframe tbody tr th:only-of-type {\n",
       "        vertical-align: middle;\n",
       "    }\n",
       "\n",
       "    .dataframe tbody tr th {\n",
       "        vertical-align: top;\n",
       "    }\n",
       "\n",
       "    .dataframe thead th {\n",
       "        text-align: right;\n",
       "    }\n",
       "</style>\n",
       "<table border=\"1\" class=\"dataframe\">\n",
       "  <thead>\n",
       "    <tr style=\"text-align: right;\">\n",
       "      <th>predicted</th>\n",
       "      <th>0</th>\n",
       "      <th>1</th>\n",
       "      <th>All</th>\n",
       "    </tr>\n",
       "    <tr>\n",
       "      <th>real</th>\n",
       "      <th></th>\n",
       "      <th></th>\n",
       "      <th></th>\n",
       "    </tr>\n",
       "  </thead>\n",
       "  <tbody>\n",
       "    <tr>\n",
       "      <th>0</th>\n",
       "      <td>1002</td>\n",
       "      <td>93</td>\n",
       "      <td>1095</td>\n",
       "    </tr>\n",
       "    <tr>\n",
       "      <th>1</th>\n",
       "      <td>43</td>\n",
       "      <td>27</td>\n",
       "      <td>70</td>\n",
       "    </tr>\n",
       "    <tr>\n",
       "      <th>All</th>\n",
       "      <td>1045</td>\n",
       "      <td>120</td>\n",
       "      <td>1165</td>\n",
       "    </tr>\n",
       "  </tbody>\n",
       "</table>\n",
       "</div>"
      ],
      "text/plain": [
       "predicted     0    1   All\n",
       "real                      \n",
       "0          1002   93  1095\n",
       "1            43   27    70\n",
       "All        1045  120  1165"
      ]
     },
     "execution_count": 97,
     "metadata": {},
     "output_type": "execute_result"
    }
   ],
   "source": [
    "pd.crosstab(df_val_test['real'],df_val_test['predicted'],margins=True)"
   ]
  },
  {
   "cell_type": "code",
   "execution_count": 98,
   "metadata": {},
   "outputs": [],
   "source": [
    "from sklearn.metrics import fbeta_score"
   ]
  },
  {
   "cell_type": "code",
   "execution_count": 100,
   "metadata": {},
   "outputs": [
    {
     "data": {
      "text/plain": [
       "0.33749999999999997"
      ]
     },
     "execution_count": 100,
     "metadata": {},
     "output_type": "execute_result"
    }
   ],
   "source": [
    "fbeta_score(actual_Ytest,xgpred,beta=2)"
   ]
  },
  {
   "cell_type": "code",
   "execution_count": 101,
   "metadata": {},
   "outputs": [],
   "source": [
    "#now applying this on whole training data set"
   ]
  },
  {
   "cell_type": "code",
   "execution_count": 102,
   "metadata": {},
   "outputs": [
    {
     "data": {
      "text/plain": [
       "XGBClassifier(base_score=0.5, booster='gbtree', colsample_bylevel=0.7,\n",
       "       colsample_bynode=1, colsample_bytree=0.5, gamma=0.1,\n",
       "       learning_rate=0.01, max_delta_step=0, max_depth=4,\n",
       "       min_child_weight=2, missing=None, n_estimators=500, n_jobs=1,\n",
       "       nthread=None, objective='binary:logistic', random_state=0,\n",
       "       reg_alpha=0.1, reg_lambda=1e-05, scale_pos_weight=7, seed=None,\n",
       "       silent=None, subsample=0.8, verbosity=1)"
      ]
     },
     "execution_count": 102,
     "metadata": {},
     "output_type": "execute_result"
    }
   ],
   "source": [
    "xgbest.fit(X,Y)"
   ]
  },
  {
   "cell_type": "code",
   "execution_count": 103,
   "metadata": {},
   "outputs": [],
   "source": [
    "xgpred_test=xgbest.predict(test)"
   ]
  },
  {
   "cell_type": "code",
   "execution_count": 104,
   "metadata": {},
   "outputs": [
    {
     "data": {
      "text/plain": [
       "array([0, 1, 0, ..., 0, 0, 0], dtype=int64)"
      ]
     },
     "execution_count": 104,
     "metadata": {},
     "output_type": "execute_result"
    }
   ],
   "source": [
    "xgpred_test"
   ]
  },
  {
   "cell_type": "code",
   "execution_count": 114,
   "metadata": {},
   "outputs": [],
   "source": [
    "predicts=pd.DataFrame(xgpred_test,columns=['V86'])"
   ]
  },
  {
   "cell_type": "code",
   "execution_count": 116,
   "metadata": {},
   "outputs": [
    {
     "data": {
      "text/plain": [
       "0    3649\n",
       "1     351\n",
       "Name: V86, dtype: int64"
      ]
     },
     "execution_count": 116,
     "metadata": {},
     "output_type": "execute_result"
    }
   ],
   "source": [
    "predicts['V86'].value_counts()"
   ]
  },
  {
   "cell_type": "code",
   "execution_count": 117,
   "metadata": {},
   "outputs": [],
   "source": [
    "predicts.to_csv('Amit_Thakur_P2_part2.csv')"
   ]
  },
  {
   "cell_type": "code",
   "execution_count": null,
   "metadata": {},
   "outputs": [],
   "source": []
  }
 ],
 "metadata": {
  "kernelspec": {
   "display_name": "Python 3",
   "language": "python",
   "name": "python3"
  },
  "language_info": {
   "codemirror_mode": {
    "name": "ipython",
    "version": 3
   },
   "file_extension": ".py",
   "mimetype": "text/x-python",
   "name": "python",
   "nbconvert_exporter": "python",
   "pygments_lexer": "ipython3",
   "version": "3.7.3"
  }
 },
 "nbformat": 4,
 "nbformat_minor": 2
}
